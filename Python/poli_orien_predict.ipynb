{
 "cells": [
  {
   "cell_type": "code",
   "execution_count": 1,
   "id": "5008b495",
   "metadata": {},
   "outputs": [
    {
     "name": "stderr",
     "output_type": "stream",
     "text": [
      "Using TensorFlow backend.\n"
     ]
    }
   ],
   "source": [
    "import pandas as pd\n",
    "import re\n",
    "import os\n",
    "import numpy as np\n",
    "import gensim\n",
    "import pickle\n",
    "from nltk.corpus import stopwords\n",
    "from nltk.stem import SnowballStemmer\n",
    "import matplotlib.pyplot as plt\n",
    "from sklearn.model_selection import train_test_split\n",
    "from keras.preprocessing.text import Tokenizer\n",
    "from keras.preprocessing.sequence import pad_sequences\n",
    "from sklearn.preprocessing import LabelEncoder\n",
    "from sklearn.metrics import f1_score\n",
    "from keras.layers import Activation, Dense, Dropout, Embedding, Flatten, Convolution1D, MaxPooling1D, LSTM\n",
    "from keras.layers import Input, Conv1D, MaxPool1D, Bidirectional, GRU\n",
    "from keras.models import Sequential, Model, load_model\n"
   ]
  },
  {
   "cell_type": "code",
   "execution_count": 2,
   "id": "8e644fc0",
   "metadata": {},
   "outputs": [],
   "source": [
    "from Attention import AttentionWithContext\n"
   ]
  },
  {
   "cell_type": "code",
   "execution_count": 3,
   "id": "bd5299f7",
   "metadata": {},
   "outputs": [],
   "source": [
    "def preprocess(text, remove_stop_words = False, stem=True):\n",
    "    # remove link\n",
    "    text = re.sub(r\"(http?\\://|https?\\://|www)\\S+\", \" \", str(text).lower()).strip()\n",
    "    # remove newlines\n",
    "    text = re.sub(r'\\n', ' ', text)\n",
    "    # remove puctuations and special characters\n",
    "    text = re.sub(r'\\W+', ' ', text)\n",
    "    # Substituting multiple spaces with single space\n",
    "    text = re.sub(r'\\s+', ' ', text, flags=re.I)\n",
    "    # remove first space\n",
    "    text = re.sub(r'^\\s+', '', text)\n",
    "    # Removing prefixed 'b'\n",
    "    text = re.sub(r'^b\\s+', '', text)\n",
    "    \n",
    "    if remove_stop_words or stem:\n",
    "        tokens = []\n",
    "        for token in text.split():\n",
    "            if remove_stop_words:\n",
    "                if token not in stop_words:\n",
    "                    if stem:\n",
    "                        tokens.append(stemmer.stem(token))\n",
    "                    else:\n",
    "                        tokens.append(token)\n",
    "            else:\n",
    "                if stem:\n",
    "                    tokens.append(stemmer.stem(token))\n",
    "                else:\n",
    "                    tokens.append(token)\n",
    "        return(\" \".join(tokens))\n",
    "    else:\n",
    "        return(text)"
   ]
  },
  {
   "cell_type": "code",
   "execution_count": 4,
   "id": "f67dada9",
   "metadata": {},
   "outputs": [],
   "source": [
    "model = load_model(\"../models/cong_politician_2020-3-12-2021-5-28_balanced_pre-w2v.h5\",\n",
    "                   custom_objects={'AttentionWithContext': AttentionWithContext})"
   ]
  },
  {
   "cell_type": "code",
   "execution_count": 5,
   "id": "0bcfd791",
   "metadata": {},
   "outputs": [],
   "source": [
    "#df = pd.read_csv(\"../data/test_user200_2021-05-30.csv\", encoding = \"UTF-8\")\n",
    "#df = pd.read_csv(\"../data/test_movie_star_1-300_text.csv\", encoding = \"UTF-8\")\n",
    "#df = pd.read_csv(\"../../dissertation/data/election2020_seed_users_tweets_20210131-20210601_1-5000_text.csv\", encoding = \"UTF-8\")\n",
    "#df = pd.read_csv(\"../../dissertation/data/election2020_seed_users_tweets_20210131-20210601_5001-10000_text.csv\", encoding = \"UTF-8\")\n",
    "#df = pd.read_csv(\"../../dissertation/data/election2020_seed_users_tweets_20210131-20210601_10001-15000_text.csv\", encoding = \"UTF-8\")\n",
    "#df = pd.read_csv(\"../../dissertation/data/election2020_seed_users_tweets_20210131-20210601_15001-20000_text.csv\", encoding = \"UTF-8\")\n",
    "#df = pd.read_csv(\"../../dissertation/data/cong_politician_tweets_20210211-20210528_mention_tweets1_text.csv\", encoding = \"UTF-8\")\n",
    "#df = pd.read_csv(\"../../dissertation/data/cong_politician_tweets_20210211-20210528_mention_tweets2_text.csv\", encoding = \"UTF-8\")\n",
    "df = pd.read_csv(\"../data/test_users_from_profile_text.csv\", encoding = \"UTF-8\")\n",
    "\n"
   ]
  },
  {
   "cell_type": "code",
   "execution_count": 10,
   "id": "10d822da",
   "metadata": {},
   "outputs": [
    {
     "data": {
      "text/plain": [
       "(457833, 5)"
      ]
     },
     "execution_count": 10,
     "metadata": {},
     "output_type": "execute_result"
    }
   ],
   "source": [
    "df.shape"
   ]
  },
  {
   "cell_type": "code",
   "execution_count": 64,
   "id": "727e0d24",
   "metadata": {},
   "outputs": [
    {
     "data": {
      "text/plain": [
       "67"
      ]
     },
     "execution_count": 64,
     "metadata": {},
     "output_type": "execute_result"
    }
   ],
   "source": [
    "df['Party'].isna().sum()"
   ]
  },
  {
   "cell_type": "code",
   "execution_count": 66,
   "id": "9657e9dc",
   "metadata": {},
   "outputs": [],
   "source": [
    "## drop NAs\n",
    "df = df[df['Party'].notna()]"
   ]
  },
  {
   "cell_type": "code",
   "execution_count": 7,
   "id": "85f35565",
   "metadata": {},
   "outputs": [
    {
     "name": "stdout",
     "output_type": "stream",
     "text": [
      "CPU times: user 9.84 s, sys: 8.99 ms, total: 9.85 s\n",
      "Wall time: 9.9 s\n"
     ]
    }
   ],
   "source": [
    "%%time\n",
    "df.text = df.text.apply(lambda x: preprocess(x, remove_stop_words = False, stem=False))"
   ]
  },
  {
   "cell_type": "code",
   "execution_count": 15,
   "id": "3308ee69",
   "metadata": {},
   "outputs": [
    {
     "data": {
      "text/plain": [
       "''"
      ]
     },
     "execution_count": 15,
     "metadata": {},
     "output_type": "execute_result"
    }
   ],
   "source": [
    "df.text[8]"
   ]
  },
  {
   "cell_type": "code",
   "execution_count": 9,
   "id": "97a33de3",
   "metadata": {},
   "outputs": [],
   "source": [
    "## drop NAs\n",
    "df = df[df['text'].notna()]"
   ]
  },
  {
   "cell_type": "code",
   "execution_count": 11,
   "id": "299a1e96",
   "metadata": {},
   "outputs": [],
   "source": [
    "tokenizer=pickle.load(open(\"../models/cong_politician_2020-3-12-2021-5-28_balanced_pre-w2v_tokenizer.pkl\", \"rb\"))"
   ]
  },
  {
   "cell_type": "code",
   "execution_count": 11,
   "id": "141a1300",
   "metadata": {},
   "outputs": [],
   "source": [
    "encoder=pickle.load(open(\"../models/cong_politician_2020-3-12-2021-5-28_balanced_pre-w2v_y-encoder.pkl\", \"rb\"))"
   ]
  },
  {
   "cell_type": "code",
   "execution_count": 12,
   "id": "6f9eae0d",
   "metadata": {},
   "outputs": [],
   "source": [
    "SEQUENCE_LENGTH = 50\n",
    "X = pad_sequences(tokenizer.texts_to_sequences(df.text), maxlen=SEQUENCE_LENGTH)"
   ]
  },
  {
   "cell_type": "code",
   "execution_count": null,
   "id": "c77c5011",
   "metadata": {},
   "outputs": [],
   "source": [
    "#y_true = encoder.transform(df.Party.tolist())"
   ]
  },
  {
   "cell_type": "code",
   "execution_count": 13,
   "id": "abd76310",
   "metadata": {},
   "outputs": [
    {
     "name": "stdout",
     "output_type": "stream",
     "text": [
      "457833/457833 [==============================] - 31s 68us/step\n"
     ]
    }
   ],
   "source": [
    "BATCH_SIZE = 512\n",
    "y_proba = model.predict(X, verbose=1, batch_size=BATCH_SIZE)"
   ]
  },
  {
   "cell_type": "code",
   "execution_count": 32,
   "id": "233628b6",
   "metadata": {},
   "outputs": [],
   "source": [
    "y_pred = (y_proba > 0.5).astype(\"int32\")\n",
    "#f1s = f1_score(y_true, y_pred, average='binary')\n",
    "#print(f1s)"
   ]
  },
  {
   "cell_type": "code",
   "execution_count": 45,
   "id": "773d6ec2",
   "metadata": {},
   "outputs": [
    {
     "data": {
      "image/png": "[encoded data removed]",
      "text/plain": [
       "<Figure size 432x288 with 2 Axes>"
      ]
     },
     "metadata": {
      "needs_background": "light"
     },
     "output_type": "display_data"
    }
   ],
   "source": [
    "from sklearn.metrics import confusion_matrix\n",
    "from mlxtend.plotting import plot_confusion_matrix\n",
    "matrix = confusion_matrix(y_true, y_pred)\n",
    "fig, ax = plot_confusion_matrix(conf_mat=matrix,\n",
    "                                show_absolute=True,\n",
    "                                show_normed=True,\n",
    "                                colorbar=True)\n",
    "plt.show()"
   ]
  },
  {
   "cell_type": "code",
   "execution_count": 33,
   "id": "cff94fae",
   "metadata": {},
   "outputs": [],
   "source": [
    "y_pred_label = encoder.inverse_transform(y_pred)"
   ]
  },
  {
   "cell_type": "code",
   "execution_count": 14,
   "id": "206dd530",
   "metadata": {},
   "outputs": [
    {
     "data": {
      "text/plain": [
       "array([[0.91602826],\n",
       "       [0.9664179 ],\n",
       "       [0.97640646],\n",
       "       [0.9900273 ],\n",
       "       [0.71237254],\n",
       "       [0.8271517 ],\n",
       "       [0.172019  ],\n",
       "       [0.10229272],\n",
       "       [0.5635608 ],\n",
       "       [0.9996426 ]], dtype=float32)"
      ]
     },
     "execution_count": 14,
     "metadata": {},
     "output_type": "execute_result"
    }
   ],
   "source": [
    "y_proba[0:10]"
   ]
  },
  {
   "cell_type": "code",
   "execution_count": 16,
   "id": "7a196443",
   "metadata": {},
   "outputs": [],
   "source": [
    "## remove nested lists\n",
    "y_proba2 = [ item for elem in y_proba for item in elem]"
   ]
  },
  {
   "cell_type": "code",
   "execution_count": 17,
   "id": "77cfb902",
   "metadata": {},
   "outputs": [],
   "source": [
    "#pred = pd.DataFrame(data=zip(y_proba2, y_pred_label))\n",
    "pred = pd.DataFrame(data=y_proba2)"
   ]
  },
  {
   "cell_type": "code",
   "execution_count": 18,
   "id": "c5f8bc19",
   "metadata": {},
   "outputs": [],
   "source": [
    "#pred.columns = ['pred_proba', 'pred_label']\n",
    "pred.columns = ['pred_proba']"
   ]
  },
  {
   "cell_type": "code",
   "execution_count": 19,
   "id": "7e361a71",
   "metadata": {},
   "outputs": [
    {
     "data": {
      "text/plain": [
       "(457833, 1)"
      ]
     },
     "execution_count": 19,
     "metadata": {},
     "output_type": "execute_result"
    }
   ],
   "source": [
    "pred.shape"
   ]
  },
  {
   "cell_type": "code",
   "execution_count": 20,
   "id": "a6592b03",
   "metadata": {},
   "outputs": [],
   "source": [
    "df.reset_index(drop=True, inplace=True)\n",
    "pred.reset_index(drop=True, inplace=True)"
   ]
  },
  {
   "cell_type": "code",
   "execution_count": 21,
   "id": "691a35a5",
   "metadata": {},
   "outputs": [],
   "source": [
    "df2 = pd.concat([df[[\"user_id\", \"screen_name\", \"status_id\"]], pred], axis=1)"
   ]
  },
  {
   "cell_type": "code",
   "execution_count": 22,
   "id": "e5501c04",
   "metadata": {},
   "outputs": [
    {
     "data": {
      "text/html": [
       "<div>\n",
       "<style scoped>\n",
       "    .dataframe tbody tr th:only-of-type {\n",
       "        vertical-align: middle;\n",
       "    }\n",
       "\n",
       "    .dataframe tbody tr th {\n",
       "        vertical-align: top;\n",
       "    }\n",
       "\n",
       "    .dataframe thead th {\n",
       "        text-align: right;\n",
       "    }\n",
       "</style>\n",
       "<table border=\"1\" class=\"dataframe\">\n",
       "  <thead>\n",
       "    <tr style=\"text-align: right;\">\n",
       "      <th></th>\n",
       "      <th>user_id</th>\n",
       "      <th>screen_name</th>\n",
       "      <th>status_id</th>\n",
       "      <th>pred_proba</th>\n",
       "    </tr>\n",
       "  </thead>\n",
       "  <tbody>\n",
       "    <tr>\n",
       "      <th>0</th>\n",
       "      <td>x1007330705049780224</td>\n",
       "      <td>andres_glr</td>\n",
       "      <td>x1356121939241218057</td>\n",
       "      <td>0.916028</td>\n",
       "    </tr>\n",
       "    <tr>\n",
       "      <th>1</th>\n",
       "      <td>x1007330705049780224</td>\n",
       "      <td>andres_glr</td>\n",
       "      <td>x1356121601486499840</td>\n",
       "      <td>0.966418</td>\n",
       "    </tr>\n",
       "    <tr>\n",
       "      <th>2</th>\n",
       "      <td>x1007330705049780224</td>\n",
       "      <td>andres_glr</td>\n",
       "      <td>x1356120365605515264</td>\n",
       "      <td>0.976406</td>\n",
       "    </tr>\n",
       "    <tr>\n",
       "      <th>3</th>\n",
       "      <td>x1007330705049780224</td>\n",
       "      <td>andres_glr</td>\n",
       "      <td>x1356119784069476358</td>\n",
       "      <td>0.990027</td>\n",
       "    </tr>\n",
       "    <tr>\n",
       "      <th>4</th>\n",
       "      <td>x1007330705049780224</td>\n",
       "      <td>andres_glr</td>\n",
       "      <td>x1356119630725701632</td>\n",
       "      <td>0.712373</td>\n",
       "    </tr>\n",
       "    <tr>\n",
       "      <th>...</th>\n",
       "      <td>...</td>\n",
       "      <td>...</td>\n",
       "      <td>...</td>\n",
       "      <td>...</td>\n",
       "    </tr>\n",
       "    <tr>\n",
       "      <th>457828</th>\n",
       "      <td>x506654741</td>\n",
       "      <td>56mick</td>\n",
       "      <td>x1396067510995324932</td>\n",
       "      <td>0.931018</td>\n",
       "    </tr>\n",
       "    <tr>\n",
       "      <th>457829</th>\n",
       "      <td>x506654741</td>\n",
       "      <td>56mick</td>\n",
       "      <td>x1395810746295062532</td>\n",
       "      <td>0.332138</td>\n",
       "    </tr>\n",
       "    <tr>\n",
       "      <th>457830</th>\n",
       "      <td>x506654741</td>\n",
       "      <td>56mick</td>\n",
       "      <td>x1395803014062084097</td>\n",
       "      <td>0.199596</td>\n",
       "    </tr>\n",
       "    <tr>\n",
       "      <th>457831</th>\n",
       "      <td>x506654741</td>\n",
       "      <td>56mick</td>\n",
       "      <td>x1395802234202566662</td>\n",
       "      <td>0.582100</td>\n",
       "    </tr>\n",
       "    <tr>\n",
       "      <th>457832</th>\n",
       "      <td>x506654741</td>\n",
       "      <td>56mick</td>\n",
       "      <td>x1394523801455583236</td>\n",
       "      <td>0.994845</td>\n",
       "    </tr>\n",
       "  </tbody>\n",
       "</table>\n",
       "<p>457833 rows × 4 columns</p>\n",
       "</div>"
      ],
      "text/plain": [
       "                     user_id screen_name             status_id  pred_proba\n",
       "0       x1007330705049780224  andres_glr  x1356121939241218057    0.916028\n",
       "1       x1007330705049780224  andres_glr  x1356121601486499840    0.966418\n",
       "2       x1007330705049780224  andres_glr  x1356120365605515264    0.976406\n",
       "3       x1007330705049780224  andres_glr  x1356119784069476358    0.990027\n",
       "4       x1007330705049780224  andres_glr  x1356119630725701632    0.712373\n",
       "...                      ...         ...                   ...         ...\n",
       "457828            x506654741      56mick  x1396067510995324932    0.931018\n",
       "457829            x506654741      56mick  x1395810746295062532    0.332138\n",
       "457830            x506654741      56mick  x1395803014062084097    0.199596\n",
       "457831            x506654741      56mick  x1395802234202566662    0.582100\n",
       "457832            x506654741      56mick  x1394523801455583236    0.994845\n",
       "\n",
       "[457833 rows x 4 columns]"
      ]
     },
     "execution_count": 22,
     "metadata": {},
     "output_type": "execute_result"
    }
   ],
   "source": [
    "df2"
   ]
  },
  {
   "cell_type": "code",
   "execution_count": 23,
   "id": "9cb4dada",
   "metadata": {},
   "outputs": [],
   "source": [
    "#df2.to_csv(\"../data/test_movie_star_1-300_text_pred.csv\" ,index = False)\n",
    "#df2.to_csv(\"../../dissertation/data/election2020_seed_users_tweets_20210131-20210601_1-5000_party_proba.csv\" ,index = False)\n",
    "#df2.to_csv(\"../../dissertation/data/election2020_seed_users_tweets_20210131-20210601_5001-10000_party_proba.csv\" ,index = False)\n",
    "#df2.to_csv(\"../../dissertation/data/election2020_seed_users_tweets_20210131-20210601_10001-15000_party_proba.csv\" ,index = False)\n",
    "#df2.to_csv(\"../../dissertation/data/election2020_seed_users_tweets_20210131-20210601_15001-20000_party_proba.csv\" ,index = False)\n",
    "#df2.to_csv(\"../../dissertation/data/cong_politician_tweets_20210211-20210528_mention_tweets1_party_proba.csv\" ,index = False)\n",
    "#df2.to_csv(\"../../dissertation/data/cong_politician_tweets_20210211-20210528_mention_tweets2_party_proba.csv\" ,index = False)\n",
    "df2.to_csv(\"../data/test_users_from_profile_party_proba.csv\" ,index = False)\n"
   ]
  },
  {
   "cell_type": "code",
   "execution_count": null,
   "id": "56a81b49",
   "metadata": {},
   "outputs": [],
   "source": []
  }
 ],
 "metadata": {
  "kernelspec": {
   "display_name": "Python 3",
   "language": "python",
   "name": "python3"
  },
  "language_info": {
   "codemirror_mode": {
    "name": "ipython",
    "version": 3
   },
   "file_extension": ".py",
   "mimetype": "text/x-python",
   "name": "python",
   "nbconvert_exporter": "python",
   "pygments_lexer": "ipython3",
   "version": "3.7.5"
  }
 },
 "nbformat": 4,
 "nbformat_minor": 5
}
