{
 "cells": [
  {
   "cell_type": "markdown",
   "metadata": {},
   "source": [
    "Source code:\n",
    "https://stackabuse.com/text-classification-with-python-and-scikit-learn/\n",
    "\n",
    "\n",
    "One theory is that boosting is somewhat susceptible to incorrectly labeled data, and the datasets we use in deep learning are simply not as high of quality.\n",
    "https://www.reddit.com/r/MachineLearning/comments/40noim/why_is_boosting_unpopular_in_deep_learning/\n",
    "\n",
    "There's a description in in the middle of the page of what it is used for. I haven't put any cycles into investigating the theory, but it seems they are implying it achieves essentially the same results as using more nodes in a single larger model. The advantage [they claim] is in speed of model fitting.\n",
    "https://stats.stackexchange.com/questions/185616/boosting-neural-networks\n",
    "\n",
    "\n",
    "As a network trains, it naturally learns some concepts faster than others and this leads to it specializing in some classes. If you have a balanced set, this is prevented from getting too severe as it is forced to adjust its weights to all the classes evenly. If your set is unbalanced, the biases towards the common classes are allowed to grow and you get a predictor that can only recognize a subset of the classes well.\n",
    "Boosting saves the day by making sure no classes get left behind. It observes which training samples are suffering from persistently high losses and ‘boosts’ those samples so more attention is paid to them. In practical terms this means multiplying the loss of these samples, so the weights of the network are adjusted more to correct these samples than the rest of the samples.\n",
    "https://medium.com/@cjbellew/why-boosted-neural-networks-are-the-best-88380bc17708\n"
   ]
  },
  {
   "cell_type": "code",
   "execution_count": null,
   "metadata": {},
   "outputs": [],
   "source": [
    "##Unable to allocate array with shape and data type:\n",
    "\n",
    "(base) lingshu@lingshu-Aspire-TC-885:~$ cat /proc/sys/vm/overcommit_memory\n",
    "0\n",
    "(base) lingshu@lingshu-Aspire-TC-885:~$ echo 1 > /proc/sys/vm/overcommit_memory\n",
    "bash: /proc/sys/vm/overcommit_memory: Permission denied\n",
    "(base) lingshu@lingshu-Aspire-TC-885:~$ sudo -i\n",
    "[sudo] password for lingshu: \n",
    "root@lingshu-Aspire-TC-885:~# echo 1 > /proc/sys/vm/overcommit_memory\n",
    "root@lingshu-Aspire-TC-885:~# cat /proc/sys/vm/overcommit_memory\n",
    "1"
   ]
  },
  {
   "cell_type": "code",
   "execution_count": 1,
   "metadata": {},
   "outputs": [
    {
     "name": "stderr",
     "output_type": "stream",
     "text": [
      "[nltk_data] Downloading package stopwords to\n",
      "[nltk_data]     /home/lingshu/nltk_data...\n",
      "[nltk_data]   Package stopwords is already up-to-date!\n"
     ]
    }
   ],
   "source": [
    "import numpy as np\n",
    "import pandas as pd\n",
    "import re\n",
    "import nltk\n",
    "from sklearn.datasets import load_files\n",
    "from sklearn.ensemble import AdaBoostClassifier\n",
    "nltk.download('stopwords')\n",
    "import pickle\n",
    "from nltk.corpus import stopwords\n",
    "from sklearn.metrics import confusion_matrix, accuracy_score\n",
    "import matplotlib.pyplot as plt\n",
    "import itertools\n",
    "from nltk.stem import SnowballStemmer"
   ]
  },
  {
   "cell_type": "code",
   "execution_count": 11,
   "metadata": {},
   "outputs": [],
   "source": [
    "# read full dataset\n",
    "df = pd.read_csv(\"./data/cong_politician_tweets.csv\", encoding = \"ISO-8859-1\")\n",
    "#print(df.head(5))"
   ]
  },
  {
   "cell_type": "code",
   "execution_count": 12,
   "metadata": {},
   "outputs": [],
   "source": [
    "df = df.sample(500000, random_state=234)\n",
    "df.to_csv(\"./data/cong_politician_tweets500000.csv\")"
   ]
  },
  {
   "cell_type": "code",
   "execution_count": 2,
   "metadata": {},
   "outputs": [
    {
     "name": "stderr",
     "output_type": "stream",
     "text": [
      "/home/lingshu/anaconda3/envs/my_env/lib/python3.7/site-packages/IPython/core/interactiveshell.py:3051: DtypeWarning: Columns (0,7,11,12,14,15,16,18,77,78,79,80,81,84,87) have mixed types. Specify dtype option on import or set low_memory=False.\n",
      "  interactivity=interactivity, compiler=compiler, result=result)\n"
     ]
    }
   ],
   "source": [
    "# read sample dataset\n",
    "df = pd.read_csv(\"./data/cong_politician_tweets200000.csv\", encoding = \"ISO-8859-1\")"
   ]
  },
  {
   "cell_type": "code",
   "execution_count": 299,
   "metadata": {},
   "outputs": [
    {
     "name": "stdout",
     "output_type": "stream",
     "text": [
      "   Unnamed: 0  type                                             review label  \\\n",
      "0           0  test  Once again Mr. Costner has dragged out a movie...   neg   \n",
      "1           1  test  This is an example of why the majority of acti...   neg   \n",
      "2           2  test  First of all I hate those moronic rappers, who...   neg   \n",
      "3           3  test  Not even the Beatles could write songs everyon...   neg   \n",
      "4           4  test  Brass pictures (movies is not a fitting word f...   neg   \n",
      "\n",
      "          file  \n",
      "0      0_2.txt  \n",
      "1  10000_4.txt  \n",
      "2  10001_1.txt  \n",
      "3  10002_3.txt  \n",
      "4  10003_3.txt  \n"
     ]
    }
   ],
   "source": [
    "print(df.head(5))"
   ]
  },
  {
   "cell_type": "code",
   "execution_count": 13,
   "metadata": {},
   "outputs": [
    {
     "data": {
      "text/plain": [
       "D    276011\n",
       "R    223989\n",
       "Name: party, dtype: int64"
      ]
     },
     "execution_count": 13,
     "metadata": {},
     "output_type": "execute_result"
    }
   ],
   "source": [
    "df['party'].value_counts()"
   ]
  },
  {
   "cell_type": "code",
   "execution_count": 5,
   "metadata": {},
   "outputs": [
    {
     "data": {
      "text/plain": [
       "0.5528284809926144"
      ]
     },
     "execution_count": 5,
     "metadata": {},
     "output_type": "execute_result"
    }
   ],
   "source": [
    "995010/(995010+804843)"
   ]
  },
  {
   "cell_type": "code",
   "execution_count": 10,
   "metadata": {},
   "outputs": [
    {
     "data": {
      "text/plain": [
       "1799853"
      ]
     },
     "execution_count": 10,
     "metadata": {},
     "output_type": "execute_result"
    }
   ],
   "source": [
    "995010+804843"
   ]
  },
  {
   "cell_type": "markdown",
   "metadata": {},
   "source": [
    "df['weights'] = np.where(df['label'] == 'pos', .2, .8)\n",
    "sample_df = df.sample(frac= .9, random_state=111, weights='weights')\n",
    "\n",
    "sample_df['label'].value_counts()"
   ]
  },
  {
   "cell_type": "code",
   "execution_count": 3,
   "metadata": {},
   "outputs": [],
   "source": [
    "df['party'] = df['party'].map({'D':0, 'R':1})"
   ]
  },
  {
   "cell_type": "code",
   "execution_count": 4,
   "metadata": {},
   "outputs": [],
   "source": [
    "X = df.text\n",
    "y = df.party"
   ]
  },
  {
   "cell_type": "markdown",
   "metadata": {},
   "source": [
    "import nltk\n",
    "nltk.download('wordnet')"
   ]
  },
  {
   "cell_type": "code",
   "execution_count": 5,
   "metadata": {},
   "outputs": [],
   "source": [
    "documents = []\n",
    "\n",
    "from nltk.stem import WordNetLemmatizer\n",
    "#nltk.download('wordnet')\n",
    "\n",
    "stemmer = WordNetLemmatizer()\n",
    "\n",
    "for sen in range(0, len(X)):\n",
    "    # Remove all the special characters\n",
    "    document = re.sub(r'\\W', ' ', str(X[sen]))\n",
    "\n",
    "    # remove all single characters\n",
    "    document = re.sub(r'\\s+[a-zA-Z]\\s+', ' ', document)\n",
    "    \n",
    "    # Remove single characters from the start\n",
    "    document = re.sub(r'\\^[a-zA-Z]\\s+', ' ', document) \n",
    "    \n",
    "    # Substituting multiple spaces with single space\n",
    "    document = re.sub(r'\\s+', ' ', document, flags=re.I)\n",
    "    \n",
    "    # Removing prefixed 'b'\n",
    "    document = re.sub(r'^b\\s+', '', document)\n",
    "    \n",
    "    # Converting to Lowercase\n",
    "    document = document.lower()\n",
    "    \n",
    "    # Lemmatization\n",
    "    document = document.split()\n",
    "\n",
    "    document = [stemmer.lemmatize(word) for word in document]\n",
    "    document = ' '.join(document)\n",
    "    \n",
    "    documents.append(document)"
   ]
  },
  {
   "cell_type": "code",
   "execution_count": 37,
   "metadata": {},
   "outputs": [],
   "source": [
    "## bag of words\n",
    "from sklearn.feature_extraction.text import CountVectorizer\n",
    "vectorizer = CountVectorizer(max_features=1500, min_df=5, max_df=0.7, stop_words=stopwords.words('english'))\n",
    "X = vectorizer.fit_transform(documents).toarray()"
   ]
  },
  {
   "cell_type": "code",
   "execution_count": 1,
   "metadata": {},
   "outputs": [
    {
     "ename": "NameError",
     "evalue": "name 'X' is not defined",
     "output_type": "error",
     "traceback": [
      "\u001b[0;31m---------------------------------------------------------------------------\u001b[0m",
      "\u001b[0;31mNameError\u001b[0m                                 Traceback (most recent call last)",
      "\u001b[0;32m<ipython-input-1-94cb9ce28558>\u001b[0m in \u001b[0;36m<module>\u001b[0;34m\u001b[0m\n\u001b[0;32m----> 1\u001b[0;31m \u001b[0mprint\u001b[0m\u001b[0;34m(\u001b[0m\u001b[0mX\u001b[0m\u001b[0;34m.\u001b[0m\u001b[0mshape\u001b[0m\u001b[0;34m)\u001b[0m\u001b[0;34m\u001b[0m\u001b[0;34m\u001b[0m\u001b[0m\n\u001b[0m",
      "\u001b[0;31mNameError\u001b[0m: name 'X' is not defined"
     ]
    }
   ],
   "source": [
    "print(X.shape)"
   ]
  },
  {
   "cell_type": "code",
   "execution_count": 7,
   "metadata": {},
   "outputs": [],
   "source": [
    "## TFID vector\n",
    "from sklearn.feature_extraction.text import TfidfVectorizer\n",
    "tfidfconverter = TfidfVectorizer(max_features=5000, min_df=5, max_df=0.7, stop_words=stopwords.words('english'))\n",
    "X = tfidfconverter.fit_transform(documents).toarray()"
   ]
  },
  {
   "cell_type": "code",
   "execution_count": 97,
   "metadata": {},
   "outputs": [
    {
     "name": "stdout",
     "output_type": "stream",
     "text": [
      "(30001, 3000)\n",
      "[[0. 0. 0. ... 0. 0. 0.]\n",
      " [0. 0. 0. ... 0. 0. 0.]\n",
      " [0. 0. 0. ... 0. 0. 0.]\n",
      " ...\n",
      " [0. 0. 0. ... 0. 0. 0.]\n",
      " [0. 0. 0. ... 0. 0. 0.]\n",
      " [0. 0. 0. ... 0. 0. 0.]]\n"
     ]
    }
   ],
   "source": [
    "print(X.shape)\n",
    "print(X)"
   ]
  },
  {
   "cell_type": "code",
   "execution_count": 8,
   "metadata": {},
   "outputs": [
    {
     "ename": "MemoryError",
     "evalue": "Unable to allocate array with shape (199997, 5000) and data type float64",
     "output_type": "error",
     "traceback": [
      "\u001b[0;31m---------------------------------------------------------------------------\u001b[0m",
      "\u001b[0;31mMemoryError\u001b[0m                               Traceback (most recent call last)",
      "\u001b[0;32m<ipython-input-8-15e6e5e5a4db>\u001b[0m in \u001b[0;36m<module>\u001b[0;34m\u001b[0m\n\u001b[0;32m----> 1\u001b[0;31m \u001b[0mX\u001b[0m \u001b[0;34m=\u001b[0m \u001b[0mX\u001b[0m\u001b[0;34m[\u001b[0m\u001b[0my\u001b[0m\u001b[0;34m.\u001b[0m\u001b[0mnotna\u001b[0m\u001b[0;34m(\u001b[0m\u001b[0;34m)\u001b[0m\u001b[0;34m]\u001b[0m\u001b[0;34m\u001b[0m\u001b[0;34m\u001b[0m\u001b[0m\n\u001b[0m\u001b[1;32m      2\u001b[0m \u001b[0my\u001b[0m \u001b[0;34m=\u001b[0m \u001b[0my\u001b[0m\u001b[0;34m[\u001b[0m\u001b[0my\u001b[0m\u001b[0;34m.\u001b[0m\u001b[0mnotna\u001b[0m\u001b[0;34m(\u001b[0m\u001b[0;34m)\u001b[0m\u001b[0;34m]\u001b[0m\u001b[0;34m\u001b[0m\u001b[0;34m\u001b[0m\u001b[0m\n",
      "\u001b[0;31mMemoryError\u001b[0m: Unable to allocate array with shape (199997, 5000) and data type float64"
     ]
    }
   ],
   "source": [
    "X = X[y.notna()]\n",
    "y = y[y.notna()]"
   ]
  },
  {
   "cell_type": "code",
   "execution_count": 104,
   "metadata": {},
   "outputs": [
    {
     "data": {
      "text/plain": [
       "(29999, 3000)"
      ]
     },
     "execution_count": 104,
     "metadata": {},
     "output_type": "execute_result"
    }
   ],
   "source": [
    "X.shape"
   ]
  },
  {
   "cell_type": "code",
   "execution_count": 9,
   "metadata": {},
   "outputs": [
    {
     "ename": "MemoryError",
     "evalue": "Unable to allocate array with shape (160002, 5000) and data type float64",
     "output_type": "error",
     "traceback": [
      "\u001b[0;31m---------------------------------------------------------------------------\u001b[0m",
      "\u001b[0;31mMemoryError\u001b[0m                               Traceback (most recent call last)",
      "\u001b[0;32m<ipython-input-9-9be94ad8e484>\u001b[0m in \u001b[0;36m<module>\u001b[0;34m\u001b[0m\n\u001b[1;32m      1\u001b[0m \u001b[0;32mfrom\u001b[0m \u001b[0msklearn\u001b[0m\u001b[0;34m.\u001b[0m\u001b[0mmodel_selection\u001b[0m \u001b[0;32mimport\u001b[0m \u001b[0mtrain_test_split\u001b[0m\u001b[0;34m\u001b[0m\u001b[0;34m\u001b[0m\u001b[0m\n\u001b[0;32m----> 2\u001b[0;31m \u001b[0mX_train\u001b[0m\u001b[0;34m,\u001b[0m \u001b[0mX_test\u001b[0m\u001b[0;34m,\u001b[0m \u001b[0my_train\u001b[0m\u001b[0;34m,\u001b[0m \u001b[0my_test\u001b[0m \u001b[0;34m=\u001b[0m \u001b[0mtrain_test_split\u001b[0m\u001b[0;34m(\u001b[0m\u001b[0mX\u001b[0m\u001b[0;34m,\u001b[0m \u001b[0my\u001b[0m\u001b[0;34m,\u001b[0m \u001b[0mtest_size\u001b[0m\u001b[0;34m=\u001b[0m\u001b[0;36m1\u001b[0m\u001b[0;34m-\u001b[0m\u001b[0;36m0.8\u001b[0m\u001b[0;34m,\u001b[0m \u001b[0mrandom_state\u001b[0m\u001b[0;34m=\u001b[0m\u001b[0;36m42\u001b[0m\u001b[0;34m)\u001b[0m\u001b[0;34m\u001b[0m\u001b[0;34m\u001b[0m\u001b[0m\n\u001b[0m\u001b[1;32m      3\u001b[0m \u001b[0mprint\u001b[0m\u001b[0;34m(\u001b[0m\u001b[0;34m\"TRAIN size:\"\u001b[0m\u001b[0;34m,\u001b[0m \u001b[0mlen\u001b[0m\u001b[0;34m(\u001b[0m\u001b[0mX_train\u001b[0m\u001b[0;34m)\u001b[0m\u001b[0;34m)\u001b[0m\u001b[0;34m\u001b[0m\u001b[0;34m\u001b[0m\u001b[0m\n\u001b[1;32m      4\u001b[0m \u001b[0mprint\u001b[0m\u001b[0;34m(\u001b[0m\u001b[0;34m\"TEST size:\"\u001b[0m\u001b[0;34m,\u001b[0m \u001b[0mlen\u001b[0m\u001b[0;34m(\u001b[0m\u001b[0mX_test\u001b[0m\u001b[0;34m)\u001b[0m\u001b[0;34m)\u001b[0m\u001b[0;34m\u001b[0m\u001b[0;34m\u001b[0m\u001b[0m\n",
      "\u001b[0;32m~/anaconda3/envs/my_env/lib/python3.7/site-packages/sklearn/model_selection/_split.py\u001b[0m in \u001b[0;36mtrain_test_split\u001b[0;34m(*arrays, **options)\u001b[0m\n\u001b[1;32m   2144\u001b[0m \u001b[0;34m\u001b[0m\u001b[0m\n\u001b[1;32m   2145\u001b[0m     return list(chain.from_iterable((_safe_indexing(a, train),\n\u001b[0;32m-> 2146\u001b[0;31m                                      _safe_indexing(a, test)) for a in arrays))\n\u001b[0m\u001b[1;32m   2147\u001b[0m \u001b[0;34m\u001b[0m\u001b[0m\n\u001b[1;32m   2148\u001b[0m \u001b[0;34m\u001b[0m\u001b[0m\n",
      "\u001b[0;32m~/anaconda3/envs/my_env/lib/python3.7/site-packages/sklearn/model_selection/_split.py\u001b[0m in \u001b[0;36m<genexpr>\u001b[0;34m(.0)\u001b[0m\n\u001b[1;32m   2144\u001b[0m \u001b[0;34m\u001b[0m\u001b[0m\n\u001b[1;32m   2145\u001b[0m     return list(chain.from_iterable((_safe_indexing(a, train),\n\u001b[0;32m-> 2146\u001b[0;31m                                      _safe_indexing(a, test)) for a in arrays))\n\u001b[0m\u001b[1;32m   2147\u001b[0m \u001b[0;34m\u001b[0m\u001b[0m\n\u001b[1;32m   2148\u001b[0m \u001b[0;34m\u001b[0m\u001b[0m\n",
      "\u001b[0;32m~/anaconda3/envs/my_env/lib/python3.7/site-packages/sklearn/utils/__init__.py\u001b[0m in \u001b[0;36m_safe_indexing\u001b[0;34m(X, indices, axis)\u001b[0m\n\u001b[1;32m    411\u001b[0m         \u001b[0;32mreturn\u001b[0m \u001b[0m_pandas_indexing\u001b[0m\u001b[0;34m(\u001b[0m\u001b[0mX\u001b[0m\u001b[0;34m,\u001b[0m \u001b[0mindices\u001b[0m\u001b[0;34m,\u001b[0m \u001b[0mindices_dtype\u001b[0m\u001b[0;34m,\u001b[0m \u001b[0maxis\u001b[0m\u001b[0;34m=\u001b[0m\u001b[0maxis\u001b[0m\u001b[0;34m)\u001b[0m\u001b[0;34m\u001b[0m\u001b[0;34m\u001b[0m\u001b[0m\n\u001b[1;32m    412\u001b[0m     \u001b[0;32melif\u001b[0m \u001b[0mhasattr\u001b[0m\u001b[0;34m(\u001b[0m\u001b[0mX\u001b[0m\u001b[0;34m,\u001b[0m \u001b[0;34m\"shape\"\u001b[0m\u001b[0;34m)\u001b[0m\u001b[0;34m:\u001b[0m\u001b[0;34m\u001b[0m\u001b[0;34m\u001b[0m\u001b[0m\n\u001b[0;32m--> 413\u001b[0;31m         \u001b[0;32mreturn\u001b[0m \u001b[0m_array_indexing\u001b[0m\u001b[0;34m(\u001b[0m\u001b[0mX\u001b[0m\u001b[0;34m,\u001b[0m \u001b[0mindices\u001b[0m\u001b[0;34m,\u001b[0m \u001b[0mindices_dtype\u001b[0m\u001b[0;34m,\u001b[0m \u001b[0maxis\u001b[0m\u001b[0;34m=\u001b[0m\u001b[0maxis\u001b[0m\u001b[0;34m)\u001b[0m\u001b[0;34m\u001b[0m\u001b[0;34m\u001b[0m\u001b[0m\n\u001b[0m\u001b[1;32m    414\u001b[0m     \u001b[0;32melse\u001b[0m\u001b[0;34m:\u001b[0m\u001b[0;34m\u001b[0m\u001b[0;34m\u001b[0m\u001b[0m\n\u001b[1;32m    415\u001b[0m         \u001b[0;32mreturn\u001b[0m \u001b[0m_list_indexing\u001b[0m\u001b[0;34m(\u001b[0m\u001b[0mX\u001b[0m\u001b[0;34m,\u001b[0m \u001b[0mindices\u001b[0m\u001b[0;34m,\u001b[0m \u001b[0mindices_dtype\u001b[0m\u001b[0;34m)\u001b[0m\u001b[0;34m\u001b[0m\u001b[0;34m\u001b[0m\u001b[0m\n",
      "\u001b[0;32m~/anaconda3/envs/my_env/lib/python3.7/site-packages/sklearn/utils/__init__.py\u001b[0m in \u001b[0;36m_array_indexing\u001b[0;34m(array, key, key_dtype, axis)\u001b[0m\n\u001b[1;32m    197\u001b[0m     \u001b[0;32mif\u001b[0m \u001b[0misinstance\u001b[0m\u001b[0;34m(\u001b[0m\u001b[0mkey\u001b[0m\u001b[0;34m,\u001b[0m \u001b[0mtuple\u001b[0m\u001b[0;34m)\u001b[0m\u001b[0;34m:\u001b[0m\u001b[0;34m\u001b[0m\u001b[0;34m\u001b[0m\u001b[0m\n\u001b[1;32m    198\u001b[0m         \u001b[0mkey\u001b[0m \u001b[0;34m=\u001b[0m \u001b[0mlist\u001b[0m\u001b[0;34m(\u001b[0m\u001b[0mkey\u001b[0m\u001b[0;34m)\u001b[0m\u001b[0;34m\u001b[0m\u001b[0;34m\u001b[0m\u001b[0m\n\u001b[0;32m--> 199\u001b[0;31m     \u001b[0;32mreturn\u001b[0m \u001b[0marray\u001b[0m\u001b[0;34m[\u001b[0m\u001b[0mkey\u001b[0m\u001b[0;34m]\u001b[0m \u001b[0;32mif\u001b[0m \u001b[0maxis\u001b[0m \u001b[0;34m==\u001b[0m \u001b[0;36m0\u001b[0m \u001b[0;32melse\u001b[0m \u001b[0marray\u001b[0m\u001b[0;34m[\u001b[0m\u001b[0;34m:\u001b[0m\u001b[0;34m,\u001b[0m \u001b[0mkey\u001b[0m\u001b[0;34m]\u001b[0m\u001b[0;34m\u001b[0m\u001b[0;34m\u001b[0m\u001b[0m\n\u001b[0m\u001b[1;32m    200\u001b[0m \u001b[0;34m\u001b[0m\u001b[0m\n\u001b[1;32m    201\u001b[0m \u001b[0;34m\u001b[0m\u001b[0m\n",
      "\u001b[0;31mMemoryError\u001b[0m: Unable to allocate array with shape (160002, 5000) and data type float64"
     ]
    }
   ],
   "source": [
    "from sklearn.model_selection import train_test_split\n",
    "X_train, X_test, y_train, y_test = train_test_split(X, y, test_size=1-0.8, random_state=42)\n",
    "print(\"TRAIN size:\", len(X_train))\n",
    "print(\"TEST size:\", len(X_test))"
   ]
  },
  {
   "cell_type": "code",
   "execution_count": 35,
   "metadata": {},
   "outputs": [
    {
     "data": {
      "text/plain": [
       "LogisticRegression(C=1.0, class_weight=None, dual=False, fit_intercept=True,\n",
       "                   intercept_scaling=1, l1_ratio=None, max_iter=400,\n",
       "                   multi_class='auto', n_jobs=None, penalty='l2',\n",
       "                   random_state=0, solver='lbfgs', tol=0.0001, verbose=0,\n",
       "                   warm_start=False)"
      ]
     },
     "execution_count": 35,
     "metadata": {},
     "output_type": "execute_result"
    }
   ],
   "source": [
    "from sklearn.linear_model import LogisticRegression\n",
    "lgt = LogisticRegression(random_state=0, solver='lbfgs', max_iter = 400)\n",
    "lgt.fit(X_train, y_train)"
   ]
  },
  {
   "cell_type": "code",
   "execution_count": 36,
   "metadata": {},
   "outputs": [
    {
     "name": "stdout",
     "output_type": "stream",
     "text": [
      "0.8342014250593774\n",
      "0.7576666666666667\n"
     ]
    }
   ],
   "source": [
    "print(lgt.score(X_train, y_train))\n",
    "print(lgt.score(X_test, y_test))"
   ]
  },
  {
   "cell_type": "code",
   "execution_count": 108,
   "metadata": {},
   "outputs": [
    {
     "data": {
      "text/plain": [
       "AdaBoostClassifier(algorithm='SAMME.R',\n",
       "                   base_estimator=LogisticRegression(C=1.0, class_weight=None,\n",
       "                                                     dual=False,\n",
       "                                                     fit_intercept=True,\n",
       "                                                     intercept_scaling=1,\n",
       "                                                     l1_ratio=None,\n",
       "                                                     max_iter=400,\n",
       "                                                     multi_class='auto',\n",
       "                                                     n_jobs=None, penalty='l2',\n",
       "                                                     random_state=0,\n",
       "                                                     solver='lbfgs', tol=0.0001,\n",
       "                                                     verbose=0,\n",
       "                                                     warm_start=False),\n",
       "                   learning_rate=1.0, n_estimators=500, random_state=None)"
      ]
     },
     "execution_count": 108,
     "metadata": {},
     "output_type": "execute_result"
    }
   ],
   "source": [
    "from sklearn.ensemble import AdaBoostClassifier\n",
    "blg = AdaBoostClassifier(LogisticRegression(random_state=0, solver='lbfgs', \n",
    "                                            max_iter = 400),\n",
    "                         algorithm=\"SAMME.R\",\n",
    "                         n_estimators=500)\n",
    "\n",
    "blg.fit(X_train, y_train)"
   ]
  },
  {
   "cell_type": "code",
   "execution_count": 109,
   "metadata": {},
   "outputs": [
    {
     "name": "stdout",
     "output_type": "stream",
     "text": [
      "0.6244010167090296\n",
      "0.6123333333333333\n"
     ]
    }
   ],
   "source": [
    "print(blg.score(X_train, y_train))\n",
    "print(blg.score(X_test, y_test))"
   ]
  },
  {
   "cell_type": "code",
   "execution_count": 110,
   "metadata": {},
   "outputs": [
    {
     "data": {
      "text/plain": [
       "RandomForestClassifier(bootstrap=True, ccp_alpha=0.0, class_weight=None,\n",
       "                       criterion='gini', max_depth=None, max_features='auto',\n",
       "                       max_leaf_nodes=None, max_samples=None,\n",
       "                       min_impurity_decrease=0.0, min_impurity_split=None,\n",
       "                       min_samples_leaf=1, min_samples_split=2,\n",
       "                       min_weight_fraction_leaf=0.0, n_estimators=100,\n",
       "                       n_jobs=None, oob_score=False, random_state=0, verbose=0,\n",
       "                       warm_start=False)"
      ]
     },
     "execution_count": 110,
     "metadata": {},
     "output_type": "execute_result"
    }
   ],
   "source": [
    "from sklearn.ensemble import RandomForestClassifier\n",
    "classifier = RandomForestClassifier(n_estimators=100, random_state=0)\n",
    "classifier.fit(X_train, y_train) "
   ]
  },
  {
   "cell_type": "code",
   "execution_count": 111,
   "metadata": {},
   "outputs": [
    {
     "name": "stdout",
     "output_type": "stream",
     "text": [
      "0.991582982624276\n",
      "0.6976666666666667\n"
     ]
    }
   ],
   "source": [
    "print(classifier.score(X_train, y_train))\n",
    "print(classifier.score(X_test, y_test))"
   ]
  },
  {
   "cell_type": "code",
   "execution_count": 112,
   "metadata": {},
   "outputs": [
    {
     "data": {
      "text/plain": [
       "SVC(C=1.0, break_ties=False, cache_size=200, class_weight=None, coef0=0.0,\n",
       "    decision_function_shape='ovr', degree=3, gamma='auto', kernel='rbf',\n",
       "    max_iter=-1, probability=False, random_state=None, shrinking=True,\n",
       "    tol=0.001, verbose=False)"
      ]
     },
     "execution_count": 112,
     "metadata": {},
     "output_type": "execute_result"
    }
   ],
   "source": [
    "from sklearn.svm import SVC\n",
    "svmclf = SVC(gamma='auto')\n",
    "svmclf.fit(X_train, y_train) "
   ]
  },
  {
   "cell_type": "code",
   "execution_count": 113,
   "metadata": {},
   "outputs": [
    {
     "name": "stdout",
     "output_type": "stream",
     "text": [
      "0.5517729905412726\n",
      "0.5471666666666667\n"
     ]
    }
   ],
   "source": [
    "print(svmclf.score(X_train, y_train))\n",
    "print(svmclf.score(X_test, y_test))"
   ]
  },
  {
   "cell_type": "markdown",
   "metadata": {},
   "source": [
    "Neural network"
   ]
  },
  {
   "cell_type": "code",
   "execution_count": 16,
   "metadata": {},
   "outputs": [
    {
     "name": "stderr",
     "output_type": "stream",
     "text": [
      "Using TensorFlow backend.\n"
     ]
    }
   ],
   "source": [
    "from keras.models import Sequential\n",
    "from keras.layers import Activation, Dense, Dropout, Embedding, Flatten, Conv1D, MaxPooling1D, LSTM, LeakyReLU\n",
    "from keras import utils\n",
    "from keras.callbacks import ReduceLROnPlateau, EarlyStopping"
   ]
  },
  {
   "cell_type": "code",
   "execution_count": 17,
   "metadata": {},
   "outputs": [
    {
     "name": "stdout",
     "output_type": "stream",
     "text": [
      "1.15.0\n"
     ]
    }
   ],
   "source": [
    "from keras.wrappers.scikit_learn import KerasRegressor\n",
    "from keras.wrappers.scikit_learn import KerasClassifier\n",
    "import keras\n",
    "\n",
    "import tensorflow as tf; print(tf.__version__)"
   ]
  },
  {
   "cell_type": "code",
   "execution_count": 18,
   "metadata": {},
   "outputs": [
    {
     "name": "stdout",
     "output_type": "stream",
     "text": [
      "WARNING:tensorflow:From /home/lingshu/anaconda3/envs/my_env/lib/python3.7/site-packages/keras/backend/tensorflow_backend.py:74: The name tf.get_default_graph is deprecated. Please use tf.compat.v1.get_default_graph instead.\n",
      "\n",
      "WARNING:tensorflow:From /home/lingshu/anaconda3/envs/my_env/lib/python3.7/site-packages/keras/backend/tensorflow_backend.py:517: The name tf.placeholder is deprecated. Please use tf.compat.v1.placeholder instead.\n",
      "\n",
      "WARNING:tensorflow:From /home/lingshu/anaconda3/envs/my_env/lib/python3.7/site-packages/keras/backend/tensorflow_backend.py:4138: The name tf.random_uniform is deprecated. Please use tf.random.uniform instead.\n",
      "\n",
      "WARNING:tensorflow:From /home/lingshu/anaconda3/envs/my_env/lib/python3.7/site-packages/keras/backend/tensorflow_backend.py:133: The name tf.placeholder_with_default is deprecated. Please use tf.compat.v1.placeholder_with_default instead.\n",
      "\n",
      "WARNING:tensorflow:From /home/lingshu/anaconda3/envs/my_env/lib/python3.7/site-packages/keras/backend/tensorflow_backend.py:3445: calling dropout (from tensorflow.python.ops.nn_ops) with keep_prob is deprecated and will be removed in a future version.\n",
      "Instructions for updating:\n",
      "Please use `rate` instead of `keep_prob`. Rate should be set to `rate = 1 - keep_prob`.\n",
      "_________________________________________________________________\n",
      "Layer (type)                 Output Shape              Param #   \n",
      "=================================================================\n",
      "dense_1 (Dense)              (None, 16)                16016     \n",
      "_________________________________________________________________\n",
      "dropout_1 (Dropout)          (None, 16)                0         \n",
      "_________________________________________________________________\n",
      "dense_2 (Dense)              (None, 1)                 17        \n",
      "=================================================================\n",
      "Total params: 16,033\n",
      "Trainable params: 16,033\n",
      "Non-trainable params: 0\n",
      "_________________________________________________________________\n"
     ]
    }
   ],
   "source": [
    "model = Sequential()\n",
    "model.add(Dense(16, input_shape=(1000,), activation = 'relu'))\n",
    "#model.add(LeakyReLU(alpha=0.3))\n",
    "#model.add(Dropout(rate = 0.2))\n",
    "#model.add(Dense(16))\n",
    "#model.add(LeakyReLU(alpha=0.3))\n",
    "model.add(Dropout(rate = 0.2))\n",
    "model.add(Dense(1, activation='sigmoid'))\n",
    "\n",
    "model.summary()"
   ]
  },
  {
   "cell_type": "code",
   "execution_count": 19,
   "metadata": {},
   "outputs": [
    {
     "name": "stdout",
     "output_type": "stream",
     "text": [
      "WARNING:tensorflow:From /home/lingshu/anaconda3/envs/my_env/lib/python3.7/site-packages/keras/optimizers.py:790: The name tf.train.Optimizer is deprecated. Please use tf.compat.v1.train.Optimizer instead.\n",
      "\n",
      "WARNING:tensorflow:From /home/lingshu/anaconda3/envs/my_env/lib/python3.7/site-packages/keras/backend/tensorflow_backend.py:3376: The name tf.log is deprecated. Please use tf.math.log instead.\n",
      "\n",
      "WARNING:tensorflow:From /home/lingshu/anaconda3/envs/my_env/lib/python3.7/site-packages/tensorflow_core/python/ops/nn_impl.py:183: where (from tensorflow.python.ops.array_ops) is deprecated and will be removed in a future version.\n",
      "Instructions for updating:\n",
      "Use tf.where in 2.0, which has the same broadcast rule as np.where\n"
     ]
    }
   ],
   "source": [
    "model.compile(loss='binary_crossentropy',\n",
    "              optimizer=\"adam\",\n",
    "              metrics=['accuracy'])"
   ]
  },
  {
   "cell_type": "code",
   "execution_count": 20,
   "metadata": {},
   "outputs": [],
   "source": [
    "callbacks = [ ReduceLROnPlateau(monitor='val_loss', patience=5, cooldown=0),\n",
    "              EarlyStopping(monitor='val_acc', min_delta=1e-4, patience=5)]"
   ]
  },
  {
   "cell_type": "code",
   "execution_count": 21,
   "metadata": {},
   "outputs": [
    {
     "name": "stdout",
     "output_type": "stream",
     "text": [
      "WARNING:tensorflow:From /home/lingshu/anaconda3/envs/my_env/lib/python3.7/site-packages/keras/backend/tensorflow_backend.py:986: The name tf.assign_add is deprecated. Please use tf.compat.v1.assign_add instead.\n",
      "\n",
      "WARNING:tensorflow:From /home/lingshu/anaconda3/envs/my_env/lib/python3.7/site-packages/keras/backend/tensorflow_backend.py:973: The name tf.assign is deprecated. Please use tf.compat.v1.assign instead.\n",
      "\n",
      "WARNING:tensorflow:From /home/lingshu/anaconda3/envs/my_env/lib/python3.7/site-packages/keras/backend/tensorflow_backend.py:2741: The name tf.Session is deprecated. Please use tf.compat.v1.Session instead.\n",
      "\n",
      "Train on 25200 samples, validate on 2800 samples\n",
      "Epoch 1/30\n",
      "WARNING:tensorflow:From /home/lingshu/anaconda3/envs/my_env/lib/python3.7/site-packages/keras/backend/tensorflow_backend.py:174: The name tf.get_default_session is deprecated. Please use tf.compat.v1.get_default_session instead.\n",
      "\n",
      "WARNING:tensorflow:From /home/lingshu/anaconda3/envs/my_env/lib/python3.7/site-packages/keras/backend/tensorflow_backend.py:181: The name tf.ConfigProto is deprecated. Please use tf.compat.v1.ConfigProto instead.\n",
      "\n",
      "WARNING:tensorflow:From /home/lingshu/anaconda3/envs/my_env/lib/python3.7/site-packages/keras/backend/tensorflow_backend.py:190: The name tf.global_variables is deprecated. Please use tf.compat.v1.global_variables instead.\n",
      "\n",
      "WARNING:tensorflow:From /home/lingshu/anaconda3/envs/my_env/lib/python3.7/site-packages/keras/backend/tensorflow_backend.py:199: The name tf.is_variable_initialized is deprecated. Please use tf.compat.v1.is_variable_initialized instead.\n",
      "\n",
      "WARNING:tensorflow:From /home/lingshu/anaconda3/envs/my_env/lib/python3.7/site-packages/keras/backend/tensorflow_backend.py:206: The name tf.variables_initializer is deprecated. Please use tf.compat.v1.variables_initializer instead.\n",
      "\n",
      "25200/25200 [==============================] - 12s 488us/step - loss: 0.6118 - acc: 0.7085 - val_loss: 0.5987 - val_acc: 0.7143\n",
      "Epoch 2/30\n",
      "25200/25200 [==============================] - 1s 36us/step - loss: 0.6008 - acc: 0.7131 - val_loss: 0.5990 - val_acc: 0.7143\n",
      "Epoch 3/30\n",
      "25200/25200 [==============================] - 1s 40us/step - loss: 0.5958 - acc: 0.7131 - val_loss: 0.6000 - val_acc: 0.7143\n",
      "Epoch 4/30\n",
      "25200/25200 [==============================] - 1s 37us/step - loss: 0.5910 - acc: 0.7132 - val_loss: 0.6019 - val_acc: 0.7143\n",
      "Epoch 5/30\n",
      "25200/25200 [==============================] - 1s 38us/step - loss: 0.5830 - acc: 0.7141 - val_loss: 0.6050 - val_acc: 0.7143\n",
      "Epoch 6/30\n",
      "25200/25200 [==============================] - 1s 36us/step - loss: 0.5759 - acc: 0.7182 - val_loss: 0.6091 - val_acc: 0.7096\n",
      "Epoch 7/30\n",
      "25200/25200 [==============================] - 1s 36us/step - loss: 0.5663 - acc: 0.7252 - val_loss: 0.6134 - val_acc: 0.7071\n",
      "Epoch 8/30\n",
      "25200/25200 [==============================] - 1s 37us/step - loss: 0.5573 - acc: 0.7335 - val_loss: 0.6171 - val_acc: 0.7054\n",
      "Epoch 9/30\n",
      "25200/25200 [==============================] - 1s 38us/step - loss: 0.5486 - acc: 0.7414 - val_loss: 0.6225 - val_acc: 0.6986\n",
      "Epoch 10/30\n",
      "25200/25200 [==============================] - 1s 37us/step - loss: 0.5382 - acc: 0.7485 - val_loss: 0.6249 - val_acc: 0.6975\n",
      "Epoch 11/30\n",
      "25200/25200 [==============================] - 1s 37us/step - loss: 0.5312 - acc: 0.7516 - val_loss: 0.6306 - val_acc: 0.6857\n",
      "Epoch 12/30\n",
      "25200/25200 [==============================] - 1s 37us/step - loss: 0.5214 - acc: 0.7614 - val_loss: 0.6334 - val_acc: 0.6936\n",
      "Epoch 13/30\n",
      "25200/25200 [==============================] - 1s 37us/step - loss: 0.5130 - acc: 0.7677 - val_loss: 0.6380 - val_acc: 0.6796\n",
      "Epoch 14/30\n",
      "25200/25200 [==============================] - 1s 38us/step - loss: 0.5046 - acc: 0.7725 - val_loss: 0.6415 - val_acc: 0.6821\n",
      "Epoch 15/30\n",
      "25200/25200 [==============================] - 1s 37us/step - loss: 0.4980 - acc: 0.7769 - val_loss: 0.6477 - val_acc: 0.6646\n",
      "Epoch 16/30\n",
      "25200/25200 [==============================] - 1s 39us/step - loss: 0.4901 - acc: 0.7826 - val_loss: 0.6530 - val_acc: 0.6646\n",
      "Epoch 17/30\n",
      "25200/25200 [==============================] - 1s 39us/step - loss: 0.4826 - acc: 0.7871 - val_loss: 0.6555 - val_acc: 0.6661\n",
      "Epoch 18/30\n",
      "25200/25200 [==============================] - 1s 38us/step - loss: 0.4781 - acc: 0.7903 - val_loss: 0.6632 - val_acc: 0.6632\n",
      "Epoch 19/30\n",
      "25200/25200 [==============================] - 1s 37us/step - loss: 0.4699 - acc: 0.7958 - val_loss: 0.6639 - val_acc: 0.6643\n",
      "Epoch 20/30\n",
      "25200/25200 [==============================] - 1s 37us/step - loss: 0.4656 - acc: 0.7972 - val_loss: 0.6722 - val_acc: 0.6496\n",
      "Epoch 21/30\n",
      "25200/25200 [==============================] - 1s 37us/step - loss: 0.4597 - acc: 0.8031 - val_loss: 0.6758 - val_acc: 0.6607\n",
      "Epoch 22/30\n",
      "25200/25200 [==============================] - 1s 38us/step - loss: 0.4561 - acc: 0.8042 - val_loss: 0.6771 - val_acc: 0.6561\n",
      "Epoch 23/30\n",
      "25200/25200 [==============================] - 1s 37us/step - loss: 0.4504 - acc: 0.8066 - val_loss: 0.6873 - val_acc: 0.6496\n",
      "Epoch 24/30\n",
      "25200/25200 [==============================] - 1s 38us/step - loss: 0.4460 - acc: 0.8100 - val_loss: 0.6931 - val_acc: 0.6554\n",
      "Epoch 25/30\n",
      "25200/25200 [==============================] - 1s 37us/step - loss: 0.4389 - acc: 0.8140 - val_loss: 0.7007 - val_acc: 0.6468\n",
      "Epoch 26/30\n",
      "25200/25200 [==============================] - 1s 37us/step - loss: 0.4351 - acc: 0.8181 - val_loss: 0.7006 - val_acc: 0.6500\n",
      "Epoch 27/30\n",
      "25200/25200 [==============================] - 1s 35us/step - loss: 0.4317 - acc: 0.8188 - val_loss: 0.7070 - val_acc: 0.6482\n",
      "Epoch 28/30\n",
      "25200/25200 [==============================] - 1s 37us/step - loss: 0.4286 - acc: 0.8197 - val_loss: 0.7103 - val_acc: 0.6461\n",
      "Epoch 29/30\n",
      "25200/25200 [==============================] - 1s 38us/step - loss: 0.4234 - acc: 0.8231 - val_loss: 0.7186 - val_acc: 0.6429\n",
      "Epoch 30/30\n",
      "25200/25200 [==============================] - 1s 37us/step - loss: 0.4209 - acc: 0.8237 - val_loss: 0.7196 - val_acc: 0.6429\n",
      "CPU times: user 44.5 s, sys: 2.85 s, total: 47.4 s\n",
      "Wall time: 40 s\n"
     ]
    }
   ],
   "source": [
    "%%time\n",
    "history = model.fit(X_train, y_train,\n",
    "                    batch_size=50,\n",
    "                    epochs=30,\n",
    "                    validation_split=0.1,\n",
    "                    verbose=1)\n",
    "                    #callbacks=callbacks)"
   ]
  },
  {
   "cell_type": "code",
   "execution_count": 22,
   "metadata": {},
   "outputs": [
    {
     "name": "stdout",
     "output_type": "stream",
     "text": [
      "28000/28000 [==============================] - 0s 14us/step\n",
      "7000/7000 [==============================] - 0s 13us/step\n",
      "\n",
      "Train accuracy: 0.8309999952891043\n",
      "Train Loss: 0.409773025794753\n",
      "\n",
      "Test accuracy: 0.6568571493029595\n",
      "Test Loss: 0.7025244402033942\n",
      "CPU times: user 758 ms, sys: 50.8 ms, total: 809 ms\n",
      "Wall time: 479 ms\n"
     ]
    }
   ],
   "source": [
    "%%time\n",
    "score1 = model.evaluate(X_train, y_train, batch_size = 50)\n",
    "score2 = model.evaluate(X_test, y_test, batch_size = 50)\n",
    "print()\n",
    "print(\"Train accuracy:\",score1[1])\n",
    "print(\"Train Loss:\",score1[0])\n",
    "print()\n",
    "print(\"Test accuracy:\",score2[1])\n",
    "print(\"Test Loss:\",score2[0])"
   ]
  },
  {
   "cell_type": "code",
   "execution_count": 23,
   "metadata": {},
   "outputs": [
    {
     "data": {
      "image/png": "[encoded data removed]",
      "text/plain": [
       "<Figure size 432x288 with 1 Axes>"
      ]
     },
     "metadata": {
      "needs_background": "light"
     },
     "output_type": "display_data"
    },
    {
     "data": {
      "image/png": "[encoded data removed]",
      "text/plain": [
       "<Figure size 432x288 with 1 Axes>"
      ]
     },
     "metadata": {
      "needs_background": "light"
     },
     "output_type": "display_data"
    }
   ],
   "source": [
    "acc = history.history['acc']\n",
    "val_acc = history.history['val_acc']\n",
    "loss = history.history['loss']\n",
    "val_loss = history.history['val_loss']\n",
    " \n",
    "epochs = range(len(acc))\n",
    " \n",
    "plt.plot(epochs, acc, 'b', label='Training acc')\n",
    "plt.plot(epochs, val_acc, 'r', label='Validation acc')\n",
    "plt.title('Training and validation accuracy')\n",
    "plt.legend()\n",
    " \n",
    "plt.figure()\n",
    " \n",
    "plt.plot(epochs, loss, 'b', label='Training loss')\n",
    "plt.plot(epochs, val_loss, 'r', label='Validation loss')\n",
    "plt.title('Training and validation loss')\n",
    "plt.legend()\n",
    " \n",
    "plt.show()"
   ]
  },
  {
   "cell_type": "markdown",
   "metadata": {},
   "source": [
    "Neural network with boosting"
   ]
  },
  {
   "cell_type": "code",
   "execution_count": 24,
   "metadata": {},
   "outputs": [],
   "source": [
    "def nnmodel():\n",
    "    model = Sequential()\n",
    "    model.add(Dense(16, input_shape=(1000,), activation='relu'))\n",
    "    #model.add(LeakyReLU(alpha=0.3))\n",
    "    model.add(Dropout(rate = 0.2))\n",
    "    model.add(Dense(1, activation='sigmoid'))\n",
    "    model.compile(loss= 'binary_crossentropy', optimizer=\"adam\", metrics=['accuracy'])\n",
    "    \n",
    "    return(model)\n",
    "    "
   ]
  },
  {
   "cell_type": "code",
   "execution_count": 25,
   "metadata": {},
   "outputs": [],
   "source": [
    "callbacks = [ReduceLROnPlateau(monitor='val_loss', patience=5, cooldown=0), EarlyStopping(monitor='val_acc', min_delta=1e-4, patience=5)]"
   ]
  },
  {
   "cell_type": "code",
   "execution_count": 28,
   "metadata": {},
   "outputs": [],
   "source": [
    "nn_estimator = KerasClassifier(build_fn= nnmodel, \n",
    "                               epochs=30, batch_size=50,\n",
    "                               validation_split=0.1,\n",
    "                               verbose=0)\n",
    "\n",
    "#validation_split=0.1,\n",
    "\n",
    "bnn = AdaBoostClassifier(base_estimator = nn_estimator, \n",
    "                         n_estimators = 500, random_state=0, algorithm='SAMME.R') "
   ]
  },
  {
   "cell_type": "markdown",
   "metadata": {},
   "source": [
    "nn_estimator.fit(X_train, y_train)\n",
    "nn_estimator.score(X_train, y_train)\n",
    "nn_estimator.score(X_test, y_test)"
   ]
  },
  {
   "cell_type": "code",
   "execution_count": 29,
   "metadata": {},
   "outputs": [
    {
     "name": "stdout",
     "output_type": "stream",
     "text": [
      "CPU times: user 18h 54min 55s, sys: 24min 33s, total: 19h 19min 29s\n",
      "Wall time: 15h 59min 56s\n"
     ]
    }
   ],
   "source": [
    "%%time\n",
    "bnn_results = bnn.fit(X_train, y_train)"
   ]
  },
  {
   "cell_type": "code",
   "execution_count": 30,
   "metadata": {},
   "outputs": [
    {
     "name": "stdout",
     "output_type": "stream",
     "text": [
      "0.9663571428571428\n",
      "0.6868571428571428\n"
     ]
    }
   ],
   "source": [
    "print(bnn_results.score(X_train, y_train))\n",
    "print(bnn_results.score(X_test, y_test))\n"
   ]
  },
  {
   "cell_type": "code",
   "execution_count": 31,
   "metadata": {},
   "outputs": [
    {
     "data": {
      "text/plain": [
       "['boostednn_imbalanced_imdb.joblib']"
      ]
     },
     "execution_count": 31,
     "metadata": {},
     "output_type": "execute_result"
    }
   ],
   "source": [
    "#save sklearn model\n",
    "from joblib import dump, load\n",
    "dump(bnn_results, 'boostednn_imbalanced_imdb.joblib') "
   ]
  },
  {
   "cell_type": "code",
   "execution_count": 32,
   "metadata": {},
   "outputs": [],
   "source": [
    "bnn_acc_train = np.zeros((500,))\n",
    "for i, y_pred in enumerate(bnn.staged_predict(X_train)):\n",
    "    bnn_acc_train[i] = accuracy_score(y_true = y_train, y_pred = y_pred)\n",
    "    \n",
    "bnn_acc_test = np.zeros((500,))\n",
    "for i, y_pred in enumerate(bnn.staged_predict(X_test)):\n",
    "    bnn_acc_test[i] = accuracy_score(y_true = y_test, y_pred = y_pred)"
   ]
  },
  {
   "cell_type": "code",
   "execution_count": 33,
   "metadata": {},
   "outputs": [
    {
     "data": {
      "text/plain": [
       "<matplotlib.legend.Legend at 0x7f6ee44843d0>"
      ]
     },
     "execution_count": 33,
     "metadata": {},
     "output_type": "execute_result"
    },
    {
     "data": {
      "image/png": "[encoded data removed]",
      "text/plain": [
       "<Figure size 432x288 with 1 Axes>"
      ]
     },
     "metadata": {
      "needs_background": "light"
     },
     "output_type": "display_data"
    }
   ],
   "source": [
    "bnn_base_train = np.full((500,), score1[1])\n",
    "bnn_base_test = np.full((500,), score2[1])\n",
    "\n",
    "fig = plt.figure()\n",
    "ax = fig.add_subplot(111)\n",
    "\n",
    "ax.plot(np.arange(500) + 1, bnn_acc_train,\n",
    "       label = \"AdaBoost Train Accuracy\",\n",
    "       color = \"blue\")\n",
    "\n",
    "ax.plot(np.arange(500) + 1, bnn_acc_test,\n",
    "       label = \"AdaBoost Test Accuracy\",\n",
    "       color = \"red\")\n",
    "\n",
    "ax.plot(np.arange(500) + 1, bnn_base_train,\n",
    "       label = \"BaseModel Train Accuracy\",\n",
    "       color = \"green\", linestyle = \"dashed\")\n",
    "\n",
    "ax.plot(np.arange(500) + 1, bnn_base_test,\n",
    "       label = \"BaseModel Test Accuracy\",\n",
    "       color = \"black\", linestyle = \"dashed\")\n",
    "\n",
    "#ax.title('Training and test accuracy of boosting and base model')\n",
    "ax.legend(loc=\"center right\")\n"
   ]
  },
  {
   "cell_type": "code",
   "execution_count": 34,
   "metadata": {},
   "outputs": [],
   "source": [
    "def plot_confusion_matrix(cm, classes,\n",
    "                          title='Confusion matrix',\n",
    "                          cmap=plt.cm.Blues):\n",
    "    \"\"\"\n",
    "    This function prints and plots the confusion matrix.\n",
    "    Normalization can be applied by setting `normalize=True`.\n",
    "    \"\"\"\n",
    "\n",
    "    cm = cm.astype('float') / cm.sum(axis=1)[:, np.newaxis]\n",
    "\n",
    "    plt.imshow(cm, interpolation='nearest', cmap=cmap)\n",
    "    plt.title(title, fontsize=22)\n",
    "    plt.colorbar()\n",
    "    tick_marks = np.arange(len(classes))\n",
    "    plt.xticks(tick_marks, classes, rotation=90, fontsize=20)\n",
    "    plt.yticks(tick_marks, classes, fontsize=20)\n",
    "\n",
    "    fmt = '.2f'\n",
    "    thresh = cm.max() / 2.\n",
    "    for i, j in itertools.product(range(cm.shape[0]), range(cm.shape[1])):\n",
    "        plt.text(j, i, format(cm[i, j], fmt), fontsize=18,\n",
    "                 horizontalalignment=\"center\",\n",
    "                 color=\"white\" if cm[i, j] > thresh else \"black\")\n",
    "\n",
    "    plt.ylabel('True label', fontsize=20)\n",
    "    plt.xlabel('Predicted label', fontsize=20)"
   ]
  },
  {
   "cell_type": "code",
   "execution_count": 35,
   "metadata": {},
   "outputs": [],
   "source": [
    "def decode_sentiment(score, include_neutral=True):\n",
    "    if include_neutral:        \n",
    "        label = NEUTRAL\n",
    "        if score <= SENTIMENT_THRESHOLDS[0]:\n",
    "            label = NEGATIVE\n",
    "        elif score >= SENTIMENT_THRESHOLDS[1]:\n",
    "            label = POSITIVE\n",
    "\n",
    "        return label\n",
    "    else:\n",
    "        return 0 if score < 0.5 else 1"
   ]
  },
  {
   "cell_type": "code",
   "execution_count": 36,
   "metadata": {},
   "outputs": [
    {
     "data": {
      "image/png": "[encoded data removed]",
      "text/plain": [
       "<Figure size 432x432 with 2 Axes>"
      ]
     },
     "metadata": {
      "needs_background": "light"
     },
     "output_type": "display_data"
    }
   ],
   "source": [
    "# unboosted logistic\n",
    "lgt_yy_pred = lgt.predict(X_test)\n",
    "lgt_matrix = confusion_matrix(y_test, lgt_yy_pred)\n",
    "plt.figure(figsize=(6,6))\n",
    "plot_confusion_matrix(lgt_matrix, classes=y_train.unique(), title=\"Confusion matrix\")\n",
    "plt.show()"
   ]
  },
  {
   "cell_type": "code",
   "execution_count": 481,
   "metadata": {},
   "outputs": [
    {
     "data": {
      "image/png": "[encoded data removed]",
      "text/plain": [
       "<Figure size 432x432 with 2 Axes>"
      ]
     },
     "metadata": {
      "needs_background": "light"
     },
     "output_type": "display_data"
    }
   ],
   "source": [
    "# boosted logistic\n",
    "blg_yy_pred = blg.predict(X_test)\n",
    "blg_matrix = confusion_matrix(y_test, blg_yy_pred)\n",
    "plt.figure(figsize=(6,6))\n",
    "plot_confusion_matrix(blg_matrix, classes=y_train.unique(), title=\"Confusion matrix\")\n",
    "plt.show()"
   ]
  },
  {
   "cell_type": "code",
   "execution_count": 39,
   "metadata": {},
   "outputs": [
    {
     "name": "stdout",
     "output_type": "stream",
     "text": [
      "CPU times: user 11.9 s, sys: 84.7 ms, total: 12 s\n",
      "Wall time: 11.9 s\n"
     ]
    }
   ],
   "source": [
    "%%time\n",
    "nn_yy_pred = model.predict(X_test)\n",
    "y_pred_1d = []\n",
    "y_test_1d = list(y_test)\n",
    "scores = nn_yy_pred\n",
    "y_pred_1d = [decode_sentiment(score, include_neutral=False) for score in nn_yy_pred]"
   ]
  },
  {
   "cell_type": "code",
   "execution_count": 40,
   "metadata": {},
   "outputs": [
    {
     "data": {
      "image/png": "[encoded data removed]",
      "text/plain": [
       "<Figure size 432x432 with 2 Axes>"
      ]
     },
     "metadata": {
      "needs_background": "light"
     },
     "output_type": "display_data"
    }
   ],
   "source": [
    "\n",
    "\n",
    "nn_matrix = confusion_matrix(y_test, y_pred_1d)\n",
    "plt.figure(figsize=(6,6))\n",
    "plot_confusion_matrix(nn_matrix, classes=y_train.unique(), title=\"Confusion matrix\")\n",
    "plt.show()"
   ]
  },
  {
   "cell_type": "code",
   "execution_count": 37,
   "metadata": {},
   "outputs": [
    {
     "data": {
      "image/png": "[encoded data removed]",
      "text/plain": [
       "<Figure size 432x432 with 2 Axes>"
      ]
     },
     "metadata": {
      "needs_background": "light"
     },
     "output_type": "display_data"
    }
   ],
   "source": [
    "bnn_yy_pred = bnn.predict(X_test)\n",
    "\n",
    "bnn_matrix = confusion_matrix(y_test, bnn_yy_pred)\n",
    "plt.figure(figsize=(6,6))\n",
    "plot_confusion_matrix(bnn_matrix, classes=y_train.unique(), title=\"Confusion matrix\")\n",
    "plt.show()"
   ]
  },
  {
   "cell_type": "code",
   "execution_count": null,
   "metadata": {},
   "outputs": [],
   "source": [
    "# load sklearn model\n",
    "#clf = load('boostednn_balanced_data.joblib') "
   ]
  },
  {
   "cell_type": "code",
   "execution_count": null,
   "metadata": {},
   "outputs": [],
   "source": []
  },
  {
   "cell_type": "code",
   "execution_count": 294,
   "metadata": {},
   "outputs": [
    {
     "data": {
      "text/plain": [
       "dict_keys(['epochs', 'batch_size', 'verbose', 'build_fn'])"
      ]
     },
     "execution_count": 294,
     "metadata": {},
     "output_type": "execute_result"
    }
   ],
   "source": [
    "nn_estimator.get_params().keys()"
   ]
  },
  {
   "cell_type": "markdown",
   "metadata": {},
   "source": [
    "# use glove"
   ]
  },
  {
   "cell_type": "code",
   "execution_count": 41,
   "metadata": {},
   "outputs": [],
   "source": [
    "from keras.preprocessing.text import Tokenizer\n",
    "from keras.preprocessing.sequence import pad_sequences\n",
    "from keras.layers import Activation, Dense, Dropout, Embedding, Flatten, Convolution1D, MaxPooling1D, LSTM\n",
    "from keras.layers import Input, Conv1D, MaxPool1D, Bidirectional, GRU\n",
    "from keras.models import Sequential, Model"
   ]
  },
  {
   "cell_type": "code",
   "execution_count": null,
   "metadata": {},
   "outputs": [],
   "source": []
  },
  {
   "cell_type": "code",
   "execution_count": 42,
   "metadata": {},
   "outputs": [],
   "source": [
    "import csv\n",
    "\n",
    "words = pd.read_csv(\"../sentiment/glove.twitter.27B.200d.txt\", sep=\" \", index_col=0, header=None, quoting=csv.QUOTE_NONE)"
   ]
  },
  {
   "cell_type": "code",
   "execution_count": 43,
   "metadata": {},
   "outputs": [],
   "source": [
    "glove_words = list(words.index)"
   ]
  },
  {
   "cell_type": "code",
   "execution_count": 44,
   "metadata": {},
   "outputs": [],
   "source": [
    "df_train, df_test = train_test_split(df, test_size=1-0.8, random_state=42)"
   ]
  },
  {
   "cell_type": "code",
   "execution_count": 45,
   "metadata": {},
   "outputs": [
    {
     "name": "stdout",
     "output_type": "stream",
     "text": [
      "[('the', 1), ('a', 2), ('and', 3), ('of', 4), ('to', 5), ('is', 6), ('br', 7), ('in', 8), ('i', 9), ('it', 10)]\n",
      "Total words 94048\n",
      "CPU times: user 4.11 s, sys: 26.7 ms, total: 4.13 s\n",
      "Wall time: 4.18 s\n"
     ]
    }
   ],
   "source": [
    "%%time\n",
    "tokenizer = Tokenizer()\n",
    "tokenizer.fit_on_texts(df_train.review)\n",
    "print(list(tokenizer.word_index.items())[0:10])\n",
    "\n",
    "vocab_size = len(tokenizer.word_index) + 1\n",
    "print(\"Total words\", vocab_size)"
   ]
  },
  {
   "cell_type": "code",
   "execution_count": 46,
   "metadata": {},
   "outputs": [
    {
     "name": "stdout",
     "output_type": "stream",
     "text": [
      "(94048, 200)\n",
      "200\n",
      "[-1.9555e-01  2.4593e-01  2.8642e-01  6.9040e-02  9.7236e-02 -1.1472e-01\n",
      " -9.3261e-02 -2.4212e-01 -1.7315e-01 -5.2265e-01 -1.7606e-01  8.8441e-02\n",
      " -1.3740e+00  7.5817e-02 -5.4895e-02 -2.7249e-01 -3.9062e-01 -6.0248e-01\n",
      " -8.4906e-01  1.2079e-01  1.0347e-01  2.8514e-01  5.9581e-02  6.9788e-02\n",
      "  9.2949e-03  1.2609e+00  2.2246e-01  3.6331e-01  6.2964e-01 -2.2033e-01\n",
      "  1.1765e-01 -1.6778e-01 -3.1076e-01  7.9073e-02  1.2395e-01 -9.5940e-02\n",
      "  1.8736e-01 -5.6612e-02  6.3339e-01  6.3070e-01  9.0257e-03  2.0244e-01\n",
      "  3.4550e-01  2.7613e-01  3.4946e-02 -4.2677e-02 -1.4358e-01  4.1667e-01\n",
      "  7.7393e-02  6.3789e-02 -1.0028e-01  4.9936e-02 -2.6797e-01 -8.0136e-02\n",
      "  6.6586e-02  5.3841e-01  3.2489e-03 -4.5248e-01  8.4208e-02  3.0577e-01\n",
      "  1.3845e-01  1.0177e-01 -1.5826e-01  1.2483e-01  2.4240e-01 -1.4201e-01\n",
      " -2.0281e-01 -8.6975e-02  1.7893e-01 -2.0039e-01 -5.3439e-02 -1.1037e-01\n",
      " -5.7431e-01 -2.1188e-01  3.6272e-01  4.0426e-01 -8.0378e-02 -2.0270e-01\n",
      " -1.9664e-01 -6.9863e-03  1.0013e+00  4.2572e-01 -3.6735e-01  2.3155e-02\n",
      " -2.2052e-01 -6.2252e-01  5.4975e-01 -1.7430e-01 -8.2760e-03  1.6797e-02\n",
      "  3.0317e-01  3.5353e-01  2.0098e-01 -1.5850e-01  6.1402e-02  2.1356e-01\n",
      " -6.9368e-03  1.1912e-01 -2.1575e-01  3.0512e-01  1.1438e-01  5.9075e-01\n",
      " -3.2528e-01  2.0649e-03  1.0965e-02 -2.4150e-01  6.8192e-02  5.6939e-01\n",
      " -6.9054e-01  4.9084e-02  3.5471e-01  9.1692e-02 -3.7596e-01  6.6004e-02\n",
      " -7.0376e-01  6.3000e-02  3.3255e-02 -1.6463e-01  6.5070e-02  2.8337e-01\n",
      "  2.3176e-01 -1.6083e-01  1.9212e-01 -2.2468e-02  3.2634e-01 -1.5453e-01\n",
      " -4.1282e-02  2.7831e-01  4.2909e-01  2.7071e-02 -1.0406e-01 -3.5683e-01\n",
      "  6.1960e-02  1.1718e-01 -3.1523e-01  1.3917e-01  4.8506e-01  1.2913e-01\n",
      " -2.3399e-01 -2.0305e-01 -2.7850e-01  2.1716e-01 -1.0515e-02 -2.8924e-01\n",
      "  5.6822e-01  5.9904e-01 -2.6796e-01  3.6130e-01 -3.9097e-01  3.3183e-01\n",
      "  1.2464e-01 -2.9607e-01 -6.3213e+00 -1.3929e-01 -6.5003e-01  4.1299e-01\n",
      "  3.0736e-01 -5.4492e-01  1.0597e-01  3.0342e-01 -5.0081e-01  7.9856e-02\n",
      " -1.6201e-01  7.6367e-02  1.1448e-01 -5.8165e-01 -2.0486e-01  1.0440e-02\n",
      "  3.7695e-01  3.1687e-01 -7.4055e-02 -2.0793e-01 -1.4410e-01  7.6292e-01\n",
      " -3.5586e-01 -3.3097e-01  1.6930e-01  2.6215e-01 -1.0050e-02  3.6314e-01\n",
      "  2.6680e-01 -2.7371e-01 -1.3666e-01 -7.8512e-02 -1.5523e-01 -7.0596e-01\n",
      "  3.8744e-02 -3.1300e-01 -5.6217e-01  2.7646e-01 -2.9130e-01  2.0785e-01\n",
      " -2.7477e-01  4.1507e-01 -2.1394e-01  7.3714e-02  2.6933e-01  3.7320e-01\n",
      "  2.9992e-02  3.9402e-01]\n"
     ]
    }
   ],
   "source": [
    "## glove\n",
    "embedding_matrix = np.zeros((vocab_size, 200)) #Return a new array of given shape and type, filled with zeros.\n",
    "for word, i in tokenizer.word_index.items():\n",
    "  if word in glove_words:\n",
    "    embedding_matrix[i] = words.loc[word]\n",
    "print(embedding_matrix.shape)\n",
    "print(len(embedding_matrix[0]))\n",
    "print(embedding_matrix[17,])"
   ]
  },
  {
   "cell_type": "code",
   "execution_count": 47,
   "metadata": {},
   "outputs": [
    {
     "name": "stdout",
     "output_type": "stream",
     "text": [
      "This is the worst piece of crap I have seen recently. There is nothing good about this movie. The plot is plain stupid, dialogs don't make any sense, humorous scenes never heard anything about the real humor. Actors just don't play, the worse they don't even try. The script itself is somewhat which is in the same league with Ed Wood and Uwe Boll. There is only one good thing in this flick, the fights. They are well choreographed as one would expect of the Hong Kong guys, and are the only reason to watch Prince of the Sun. Although I believe the fights are just supposed to fill the empty space so that the screenwriter didn't have to bother thinking about the storyline. However, this weak and absurd plot may prevent you from watching it to the end. Avoid it unless you are fan of the dragon lady Cynthia Rothrock.\n",
      "[11, 6, 1, 185, 402, 4, 463, 9, 24, 107, 1115, 44, 6, 142, 49, 42, 11, 14, 1, 102, 6, 928, 290, 3021, 79, 85, 93, 281, 2072, 130, 112, 566, 207, 42, 1, 153, 483, 149, 38, 79, 310, 1, 348, 31, 79, 53, 344, 1, 197, 394, 6, 710, 64, 6, 8, 1, 165, 2860, 17, 1227, 1591, 3, 3668, 3100, 44, 6, 58, 27, 49, 138, 8, 11, 440, 1, 1875, 31, 23, 73, 4629, 16, 27, 55, 526, 4, 1, 3445, 2415, 415, 3, 23, 1, 58, 254, 5, 105, 2555, 4, 1, 2478, 287, 9, 248, 1, 1875, 23, 38, 368, 5, 2038, 1, 1862, 696, 33, 12, 1, 2470, 146, 24, 5, 1039, 490, 42, 1, 722, 198, 11, 706, 3, 1544, 102, 220, 3362, 22, 36, 145, 10, 5, 1, 126, 617, 10, 728, 22, 23, 343, 4, 1, 2754, 794, 9424, 28653]\n",
      "CPU times: user 6.64 s, sys: 0 ns, total: 6.64 s\n",
      "Wall time: 6.62 s\n"
     ]
    }
   ],
   "source": [
    "%%time\n",
    "print(list(df_train.review)[0])\n",
    "print(tokenizer.texts_to_sequences(df_train.review)[0]) # transform to numerical labels\n",
    "\n",
    "\n",
    "x_train = pad_sequences(tokenizer.texts_to_sequences(df_train.review), maxlen=100) # pad a window to a same lenght\n",
    "x_test = pad_sequences(tokenizer.texts_to_sequences(df_test.review), maxlen=100)\n"
   ]
  },
  {
   "cell_type": "code",
   "execution_count": 48,
   "metadata": {},
   "outputs": [],
   "source": [
    "embedding_layer = Embedding(vocab_size, 200, weights=[embedding_matrix], input_length=100, trainable=False)"
   ]
  },
  {
   "cell_type": "code",
   "execution_count": 49,
   "metadata": {},
   "outputs": [
    {
     "name": "stdout",
     "output_type": "stream",
     "text": [
      "_________________________________________________________________\n",
      "Layer (type)                 Output Shape              Param #   \n",
      "=================================================================\n",
      "input_1 (InputLayer)         (None, 100)               0         \n",
      "_________________________________________________________________\n",
      "embedding_1 (Embedding)      (None, 100, 200)          18809600  \n",
      "_________________________________________________________________\n",
      "dropout_502 (Dropout)        (None, 100, 200)          0         \n",
      "_________________________________________________________________\n",
      "bidirectional_1 (Bidirection (None, 200)               240800    \n",
      "_________________________________________________________________\n",
      "dense_1003 (Dense)           (None, 32)                6432      \n",
      "_________________________________________________________________\n",
      "dense_1004 (Dense)           (None, 1)                 33        \n",
      "=================================================================\n",
      "Total params: 19,056,865\n",
      "Trainable params: 247,265\n",
      "Non-trainable params: 18,809,600\n",
      "_________________________________________________________________\n"
     ]
    }
   ],
   "source": [
    "main_input = Input(shape=(100,), dtype='float64')\n",
    "embed = embedding_layer(main_input)\n",
    "drop = Dropout(0.3)(embed)\n",
    "#rnn1 = Bidirectional(LSTM(100, return_sequences = True, dropout=0.2, recurrent_dropout=0.1))(drop)\n",
    "rnn2 = Bidirectional(LSTM(100, dropout=0.2, recurrent_dropout=0.1))(drop)\n",
    "dense = Dense(32)(rnn2)\n",
    "main_output = Dense(1, activation='sigmoid')(dense)\n",
    "rnnm = Model(inputs = main_input, outputs = main_output)\n",
    "rnnm.summary()"
   ]
  },
  {
   "cell_type": "code",
   "execution_count": 50,
   "metadata": {},
   "outputs": [],
   "source": [
    "rnnm.compile(loss='binary_crossentropy',\n",
    "              optimizer=\"adam\",\n",
    "              metrics=['accuracy'])\n",
    "\n",
    "callbacks = [ ReduceLROnPlateau(monitor='val_loss', patience=5, cooldown=0),\n",
    "              EarlyStopping(monitor='val_acc', min_delta=1e-4, patience=5)]"
   ]
  },
  {
   "cell_type": "code",
   "execution_count": 51,
   "metadata": {},
   "outputs": [
    {
     "name": "stdout",
     "output_type": "stream",
     "text": [
      "Train on 25200 samples, validate on 2800 samples\n",
      "Epoch 1/30\n",
      "25200/25200 [==============================] - 109s 4ms/step - loss: 0.4874 - acc: 0.7725 - val_loss: 0.4068 - val_acc: 0.8246\n",
      "Epoch 2/30\n",
      "25200/25200 [==============================] - 80s 3ms/step - loss: 0.3933 - acc: 0.8218 - val_loss: 0.3391 - val_acc: 0.8539\n",
      "Epoch 3/30\n",
      "25200/25200 [==============================] - 80s 3ms/step - loss: 0.3539 - acc: 0.8431 - val_loss: 0.3173 - val_acc: 0.8721\n",
      "Epoch 4/30\n",
      "25200/25200 [==============================] - 80s 3ms/step - loss: 0.3333 - acc: 0.8532 - val_loss: 0.3153 - val_acc: 0.8643\n",
      "Epoch 5/30\n",
      "25200/25200 [==============================] - 80s 3ms/step - loss: 0.3186 - acc: 0.8600 - val_loss: 0.3255 - val_acc: 0.8596\n",
      "Epoch 6/30\n",
      "25200/25200 [==============================] - 80s 3ms/step - loss: 0.2995 - acc: 0.8694 - val_loss: 0.2913 - val_acc: 0.8771\n",
      "Epoch 7/30\n",
      "25200/25200 [==============================] - 80s 3ms/step - loss: 0.2897 - acc: 0.8754 - val_loss: 0.3313 - val_acc: 0.8607\n",
      "Epoch 8/30\n",
      "25200/25200 [==============================] - 80s 3ms/step - loss: 0.2752 - acc: 0.8831 - val_loss: 0.2987 - val_acc: 0.8779\n",
      "Epoch 9/30\n",
      "25200/25200 [==============================] - 80s 3ms/step - loss: 0.2584 - acc: 0.8902 - val_loss: 0.2900 - val_acc: 0.8714\n",
      "Epoch 10/30\n",
      "25200/25200 [==============================] - 80s 3ms/step - loss: 0.2429 - acc: 0.8976 - val_loss: 0.2924 - val_acc: 0.8761\n",
      "Epoch 11/30\n",
      "25200/25200 [==============================] - 80s 3ms/step - loss: 0.2290 - acc: 0.9049 - val_loss: 0.2983 - val_acc: 0.8779\n",
      "Epoch 12/30\n",
      "25200/25200 [==============================] - 80s 3ms/step - loss: 0.2139 - acc: 0.9108 - val_loss: 0.2980 - val_acc: 0.8768\n",
      "Epoch 13/30\n",
      "25200/25200 [==============================] - 80s 3ms/step - loss: 0.2007 - acc: 0.9171 - val_loss: 0.3182 - val_acc: 0.8746\n",
      "CPU times: user 31min 57s, sys: 2min 10s, total: 34min 7s\n",
      "Wall time: 17min 53s\n"
     ]
    }
   ],
   "source": [
    "%%time\n",
    "history = rnnm.fit(x_train, y_train,\n",
    "                    batch_size=50,\n",
    "                    epochs=30,\n",
    "                    validation_split=0.1,\n",
    "                    verbose=1,\n",
    "                    callbacks=callbacks)"
   ]
  },
  {
   "cell_type": "code",
   "execution_count": 52,
   "metadata": {},
   "outputs": [
    {
     "name": "stdout",
     "output_type": "stream",
     "text": [
      "7000/7000 [==============================] - 8s 1ms/step\n",
      "\n",
      "ACCURACY: 0.867857140302658\n",
      "LOSS: 0.34438453763723376\n",
      "CPU times: user 16.5 s, sys: 2.11 s, total: 18.7 s\n",
      "Wall time: 7.87 s\n"
     ]
    }
   ],
   "source": [
    "%%time\n",
    "score = rnnm.evaluate(x_test, y_test, batch_size=50)\n",
    "print()\n",
    "print(\"ACCURACY:\",score[1])\n",
    "print(\"LOSS:\",score[0])"
   ]
  },
  {
   "cell_type": "code",
   "execution_count": null,
   "metadata": {},
   "outputs": [],
   "source": []
  }
 ],
 "metadata": {
  "kernelspec": {
   "display_name": "Python 3",
   "language": "python",
   "name": "python3"
  },
  "language_info": {
   "codemirror_mode": {
    "name": "ipython",
    "version": 3
   },
   "file_extension": ".py",
   "mimetype": "text/x-python",
   "name": "python",
   "nbconvert_exporter": "python",
   "pygments_lexer": "ipython3",
   "version": "3.7.5"
  }
 },
 "nbformat": 4,
 "nbformat_minor": 2
}
