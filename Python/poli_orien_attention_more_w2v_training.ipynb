{
 "cells": [
  {
   "cell_type": "code",
   "execution_count": 1,
   "id": "da55880e",
   "metadata": {},
   "outputs": [
    {
     "name": "stderr",
     "output_type": "stream",
     "text": [
      "Using TensorFlow backend.\n"
     ]
    }
   ],
   "source": [
    "import pandas as pd\n",
    "import re\n",
    "import os\n",
    "import numpy as np\n",
    "import gensim\n",
    "from nltk.corpus import stopwords\n",
    "from  nltk.stem import SnowballStemmer\n",
    "import matplotlib.pyplot as plt\n",
    "from sklearn.model_selection import train_test_split\n",
    "from keras.preprocessing.text import Tokenizer\n",
    "from keras.preprocessing.sequence import pad_sequences\n",
    "from sklearn.preprocessing import LabelEncoder\n",
    "from sklearn.metrics import f1_score\n",
    "from keras.layers import Activation, Dense, Dropout, Embedding, Flatten, Convolution1D, MaxPooling1D, LSTM\n",
    "from keras.layers import Input, Conv1D, MaxPool1D, Bidirectional, GRU\n",
    "from keras.models import Sequential, Model\n",
    "from keras.layers.merge import concatenate\n",
    "from keras.callbacks import ReduceLROnPlateau, EarlyStopping"
   ]
  },
  {
   "cell_type": "code",
   "execution_count": 2,
   "id": "a3a5caec",
   "metadata": {},
   "outputs": [],
   "source": [
    "stop_words = stopwords.words(\"english\")\n",
    "stemmer = SnowballStemmer(\"english\")"
   ]
  },
  {
   "cell_type": "code",
   "execution_count": 3,
   "id": "85766045",
   "metadata": {},
   "outputs": [],
   "source": [
    "def preprocess(text, remove_stop_words = False, stem=True):\n",
    "    # remove link\n",
    "    text = re.sub(r\"(http?\\://|https?\\://|www)\\S+\", \" \", str(text).lower()).strip()\n",
    "    # remove newlines\n",
    "    text = re.sub(r'\\n', ' ', text)\n",
    "    # remove puctuations and special characters\n",
    "    text = re.sub(r'\\W+', ' ', text)\n",
    "    # Substituting multiple spaces with single space\n",
    "    text = re.sub(r'\\s+', ' ', text, flags=re.I)\n",
    "    # remove first space\n",
    "    text = re.sub(r'^\\s+', '', text)\n",
    "    # Removing prefixed 'b'\n",
    "    text = re.sub(r'^b\\s+', '', text)\n",
    "    \n",
    "    if remove_stop_words or stem:\n",
    "        tokens = []\n",
    "        for token in text.split():\n",
    "            if remove_stop_words:\n",
    "                if token not in stop_words:\n",
    "                    if stem:\n",
    "                        tokens.append(stemmer.stem(token))\n",
    "                    else:\n",
    "                        tokens.append(token)\n",
    "            else:\n",
    "                if stem:\n",
    "                    tokens.append(stemmer.stem(token))\n",
    "                else:\n",
    "                    tokens.append(token)\n",
    "        return(\" \".join(tokens))\n",
    "    else:\n",
    "        return(text)"
   ]
  },
  {
   "cell_type": "code",
   "execution_count": 4,
   "id": "575eeb65",
   "metadata": {},
   "outputs": [],
   "source": [
    "def get_w2v_model(embedding_dim = 200, window_size=5, save_vectors = False, path = None):\n",
    "    w2v_model = gensim.models.word2vec.Word2Vec(size=embedding_dim, \n",
    "                                                window=window_size, \n",
    "                                                min_count=10, \n",
    "                                                workers=8)\n",
    "    w2v_model.build_vocab(documents)\n",
    "    words = w2v_model.wv.vocab.keys()\n",
    "    w2v_model.train(documents, total_examples=len(documents), epochs=64)\n",
    "    if save_vectors:\n",
    "        w2v_model.save(path)\n",
    "        \n",
    "    return(w2v_model)"
   ]
  },
  {
   "cell_type": "code",
   "execution_count": 5,
   "id": "1b52e86e",
   "metadata": {},
   "outputs": [],
   "source": [
    "def get_embedding_matrix(method = \"word2vec\", has_model=False, embedding_dim=200, save_vectors=False, path=None):\n",
    "    if method == \"word2vec\":\n",
    "        if not has_model:\n",
    "            w2v_model = gensim.models.word2vec.Word2Vec(size=embedding_dim, \n",
    "                                                    window=7, \n",
    "                                                    min_count=10, \n",
    "                                                    workers=8)\n",
    "            w2v_model.build_vocab(documents)\n",
    "            words = w2v_model.wv.vocab.keys()\n",
    "            w2v_model.train(documents, total_examples=len(documents), epochs=32)\n",
    "            if save_vectors:\n",
    "                w2v_model.save(path)\n",
    "        \n",
    "        embedding_matrix = np.zeros((vocab_size, embedding_dim)) #Return a new array of given shape and type, filled with zeros.\n",
    "        for word, i in tokenizer.word_index.items():\n",
    "            if word in w2v_model.wv:\n",
    "                embedding_matrix[i] = w2v_model.wv[word]\n",
    "    \n",
    "    if method == \"glove\":\n",
    "        #https://www.kaggle.com/hamishdickson/bidirectional-lstm-in-keras-with-glove-embeddings\n",
    "        embeddings_index = {}\n",
    "        f = open(path, encoding='UTF-8')\n",
    "        for line in f:\n",
    "            values = line.split()\n",
    "            word = values[0] ## The first entry is the word\n",
    "            coefs = np.asarray(values[1:], dtype='float32') ## These are the vecotrs representing the embedding for the word\n",
    "            embeddings_index[word] = coefs\n",
    "        f.close()\n",
    "\n",
    "        #max_features = 50000\n",
    "        max_features = vocab_size - 1\n",
    "        num_words = min(max_features, vocab_size - 1) + 1\n",
    "        #print(num_words)\n",
    "\n",
    "        # first create a matrix of zeros, this is our embedding matrix\n",
    "        embedding_matrix = np.zeros((num_words, embedding_dim))\n",
    "\n",
    "        # for each word in out tokenizer lets try to find that work in our w2v model\n",
    "        for word, i in tokenizer.word_index.items():\n",
    "            if i > max_features:\n",
    "                continue\n",
    "            embedding_vector = embeddings_index.get(word)\n",
    "            if embedding_vector is not None:\n",
    "                # we found the word - add that words vector to the matrix\n",
    "                embedding_matrix[i] = embedding_vector\n",
    "            #else:\n",
    "                # doesn't exist, assign a random vector\n",
    "            #    embedding_matrix[i] = np.random.randn(embedding_dim)\n",
    "    \n",
    "    return(embedding_matrix)"
   ]
  },
  {
   "cell_type": "code",
   "execution_count": 6,
   "id": "b00068a9",
   "metadata": {},
   "outputs": [],
   "source": [
    "#https://towardsdatascience.com/nlp-learning-series-part-3-attention-cnn-and-what-not-for-text-classification-4313930ed566\n",
    "from keras.engine.topology import Layer\n",
    "from keras import initializers, regularizers, constraints, optimizers, layers\n",
    "import keras.backend as K\n",
    "def dot_product(x, kernel):\n",
    "    \"\"\"\n",
    "    Wrapper for dot product operation, in order to be compatible with both\n",
    "    Theano and Tensorflow\n",
    "    Args:\n",
    "        x (): input\n",
    "        kernel (): weights\n",
    "    Returns:\n",
    "    \"\"\"\n",
    "    if K.backend() == 'tensorflow':\n",
    "        return K.squeeze(K.dot(x, K.expand_dims(kernel)), axis=-1)\n",
    "    else:\n",
    "        return K.dot(x, kernel)\n",
    "    \n",
    "\n",
    "class AttentionWithContext(Layer):\n",
    "    \"\"\"\n",
    "    Attention operation, with a context/query vector, for temporal data.\n",
    "    Supports Masking.\n",
    "    Follows the work of Yang et al. [https://www.cs.cmu.edu/~diyiy/docs/naacl16.pdf]\n",
    "    \"Hierarchical Attention Networks for Document Classification\"\n",
    "    by using a context vector to assist the attention\n",
    "    # Input shape\n",
    "        3D tensor with shape: `(samples, steps, features)`.\n",
    "    # Output shape\n",
    "        2D tensor with shape: `(samples, features)`.\n",
    "    How to use:\n",
    "    Just put it on top of an RNN Layer (GRU/LSTM/SimpleRNN) with return_sequences=True.\n",
    "    The dimensions are inferred based on the output shape of the RNN.\n",
    "    Note: The layer has been tested with Keras 2.0.6\n",
    "    Example:\n",
    "        model.add(LSTM(64, return_sequences=True))\n",
    "        model.add(AttentionWithContext())\n",
    "        # next add a Dense layer (for classification/regression) or whatever...\n",
    "    \"\"\"\n",
    "\n",
    "    def __init__(self,\n",
    "                 W_regularizer=None, u_regularizer=None, b_regularizer=None,\n",
    "                 W_constraint=None, u_constraint=None, b_constraint=None,\n",
    "                 bias=True, **kwargs):\n",
    "\n",
    "        self.supports_masking = True\n",
    "        self.init = initializers.get('glorot_uniform')\n",
    "\n",
    "        self.W_regularizer = regularizers.get(W_regularizer)\n",
    "        self.u_regularizer = regularizers.get(u_regularizer)\n",
    "        self.b_regularizer = regularizers.get(b_regularizer)\n",
    "\n",
    "        self.W_constraint = constraints.get(W_constraint)\n",
    "        self.u_constraint = constraints.get(u_constraint)\n",
    "        self.b_constraint = constraints.get(b_constraint)\n",
    "\n",
    "        self.bias = bias\n",
    "        super(AttentionWithContext, self).__init__(**kwargs)\n",
    "\n",
    "    def build(self, input_shape):\n",
    "        assert len(input_shape) == 3\n",
    "\n",
    "        self.W = self.add_weight(shape=(input_shape[-1], input_shape[-1],),\n",
    "                                 initializer=self.init,\n",
    "                                 name='{}_W'.format(self.name),\n",
    "                                 regularizer=self.W_regularizer,\n",
    "                                 constraint=self.W_constraint)\n",
    "        if self.bias:\n",
    "            self.b = self.add_weight(shape=(input_shape[-1],),\n",
    "                                     initializer='zero',\n",
    "                                     name='{}_b'.format(self.name),\n",
    "                                     regularizer=self.b_regularizer,\n",
    "                                     constraint=self.b_constraint)\n",
    "\n",
    "        self.u = self.add_weight(shape=(input_shape[-1],),\n",
    "                                 initializer=self.init,\n",
    "                                 name='{}_u'.format(self.name),\n",
    "                                 regularizer=self.u_regularizer,\n",
    "                                 constraint=self.u_constraint)\n",
    "\n",
    "        super(AttentionWithContext, self).build(input_shape)\n",
    "\n",
    "    def compute_mask(self, input, input_mask=None):\n",
    "        # do not pass the mask to the next layers\n",
    "        return None\n",
    "\n",
    "    def call(self, x, mask=None):\n",
    "        uit = dot_product(x, self.W)\n",
    "\n",
    "        if self.bias:\n",
    "            uit += self.b\n",
    "\n",
    "        uit = K.tanh(uit)\n",
    "        ait = dot_product(uit, self.u)\n",
    "\n",
    "        a = K.exp(ait)\n",
    "\n",
    "        # apply mask after the exp. will be re-normalized next\n",
    "        if mask is not None:\n",
    "            # Cast the mask to floatX to avoid float64 upcasting in theano\n",
    "            a *= K.cast(mask, K.floatx())\n",
    "\n",
    "        # in some cases especially in the early stages of training the sum may be almost zero\n",
    "        # and this results in NaN's. A workaround is to add a very small positive number ε to the sum.\n",
    "        # a /= K.cast(K.sum(a, axis=1, keepdims=True), K.floatx())\n",
    "        a /= K.cast(K.sum(a, axis=1, keepdims=True) + K.epsilon(), K.floatx())\n",
    "\n",
    "        a = K.expand_dims(a)\n",
    "        weighted_input = x * a\n",
    "        return K.sum(weighted_input, axis=1)\n",
    "\n",
    "    def compute_output_shape(self, input_shape):\n",
    "        return input_shape[0], input_shape[-1]"
   ]
  },
  {
   "cell_type": "markdown",
   "id": "f03a95ae",
   "metadata": {},
   "source": [
    "## W2V training data"
   ]
  },
  {
   "cell_type": "code",
   "execution_count": 7,
   "id": "d06980a2",
   "metadata": {},
   "outputs": [],
   "source": [
    "## W2V training data\n",
    "rt = pd.read_csv(\"../data/w2v_training_data_conpoli&elect_seeduser1-5000.csv\", encoding = \"UTF-8\")"
   ]
  },
  {
   "cell_type": "code",
   "execution_count": 8,
   "id": "e5fa062f",
   "metadata": {},
   "outputs": [
    {
     "name": "stdout",
     "output_type": "stream",
     "text": [
      "CPU times: user 2min 7s, sys: 476 ms, total: 2min 7s\n",
      "Wall time: 2min 7s\n"
     ]
    }
   ],
   "source": [
    "%%time\n",
    "rt.text = rt.text.apply(lambda x: preprocess(x, remove_stop_words = False, stem=False))"
   ]
  },
  {
   "cell_type": "code",
   "execution_count": 9,
   "id": "3f79ad0c",
   "metadata": {},
   "outputs": [],
   "source": [
    "documents = [_text.split() for _text in rt.text] "
   ]
  },
  {
   "cell_type": "code",
   "execution_count": null,
   "id": "504bad0a",
   "metadata": {},
   "outputs": [],
   "source": [
    "w2v_model = get_w2v_model(embedding_dim = 200, window_size=5, \n",
    "                          save_vectors = True, \n",
    "                          path = \"../models/w2v_training_data_conpoli&elect_seeduser1-5000_not-stem_win5.w2v\")"
   ]
  },
  {
   "cell_type": "code",
   "execution_count": 17,
   "id": "1c20823c",
   "metadata": {},
   "outputs": [],
   "source": [
    "del [rt]"
   ]
  },
  {
   "cell_type": "markdown",
   "id": "4dbb2be0",
   "metadata": {},
   "source": [
    "## Model training"
   ]
  },
  {
   "cell_type": "code",
   "execution_count": 7,
   "id": "ed37fc18",
   "metadata": {},
   "outputs": [],
   "source": [
    "df = pd.read_csv(\"../data/cong_politician_tweets_2020-3-12-2021-5-28_text_party_balanced.csv\", encoding = \"UTF-8\")"
   ]
  },
  {
   "cell_type": "code",
   "execution_count": 7,
   "id": "1de59e50",
   "metadata": {},
   "outputs": [
    {
     "data": {
      "text/plain": [
       "R    1252460\n",
       "D    1252460\n",
       "Name: party, dtype: int64"
      ]
     },
     "execution_count": 7,
     "metadata": {},
     "output_type": "execute_result"
    }
   ],
   "source": [
    "## check labels\n",
    "df['party'].value_counts()"
   ]
  },
  {
   "cell_type": "code",
   "execution_count": 9,
   "id": "299cc24d",
   "metadata": {},
   "outputs": [
    {
     "data": {
      "text/plain": [
       "0"
      ]
     },
     "execution_count": 9,
     "metadata": {},
     "output_type": "execute_result"
    }
   ],
   "source": [
    "## check NAs\n",
    "df['party'].isna().sum()"
   ]
  },
  {
   "cell_type": "code",
   "execution_count": 10,
   "id": "45bd24b2",
   "metadata": {},
   "outputs": [],
   "source": [
    "## drop NAs\n",
    "df = df[df['party'].notna()]"
   ]
  },
  {
   "cell_type": "code",
   "execution_count": 11,
   "id": "02abfb1c",
   "metadata": {},
   "outputs": [
    {
     "name": "stdout",
     "output_type": "stream",
     "text": [
      "CPU times: user 1min 4s, sys: 198 ms, total: 1min 5s\n",
      "Wall time: 1min 5s\n"
     ]
    }
   ],
   "source": [
    "%%time\n",
    "df.text = df.text.apply(lambda x: preprocess(x, remove_stop_words = False, stem=False))"
   ]
  },
  {
   "cell_type": "code",
   "execution_count": 8,
   "id": "a30b271d",
   "metadata": {},
   "outputs": [],
   "source": [
    "df_train, df_test = train_test_split(df, test_size= 0.2, random_state = 42)"
   ]
  },
  {
   "cell_type": "code",
   "execution_count": 9,
   "id": "773b459d",
   "metadata": {},
   "outputs": [
    {
     "name": "stdout",
     "output_type": "stream",
     "text": [
      "[('the', 1), ('to', 2), ('and', 3), ('of', 4), ('in', 5), ('a', 6), ('for', 7), ('s', 8), ('is', 9), ('i', 10)]\n",
      "Total words 395687\n",
      "CPU times: user 41.8 s, sys: 47.1 ms, total: 41.9 s\n",
      "Wall time: 41.9 s\n"
     ]
    }
   ],
   "source": [
    "%%time\n",
    "## use all words\n",
    "tokenizer = Tokenizer()\n",
    "tokenizer.fit_on_texts(df_train.text)\n",
    "print(list(tokenizer.word_index.items())[0:10])\n",
    "\n",
    "vocab_size = len(tokenizer.word_index) + 1\n",
    "print(\"Total words\", vocab_size)"
   ]
  },
  {
   "cell_type": "code",
   "execution_count": 18,
   "id": "afb631aa",
   "metadata": {},
   "outputs": [
    {
     "name": "stdout",
     "output_type": "stream",
     "text": [
      "CPU times: user 48.5 s, sys: 381 ms, total: 48.9 s\n",
      "Wall time: 48.8 s\n"
     ]
    }
   ],
   "source": [
    "%%time\n",
    "#print(tokenizer.texts_to_sequences(df.text)[0:5]) # transform to numerical labels\n",
    "SEQUENCE_LENGTH = 50\n",
    "X_train = pad_sequences(tokenizer.texts_to_sequences(df_train.text), maxlen=SEQUENCE_LENGTH) # pad a window to a same lenght\n",
    "X_test = pad_sequences(tokenizer.texts_to_sequences(df_test.text), maxlen=SEQUENCE_LENGTH)"
   ]
  },
  {
   "cell_type": "code",
   "execution_count": 11,
   "id": "433cbf59",
   "metadata": {},
   "outputs": [
    {
     "name": "stdout",
     "output_type": "stream",
     "text": [
      "{0, 1}\n",
      "[[1]\n",
      " [1]\n",
      " [0]\n",
      " [0]\n",
      " [1]]\n",
      "y_train (2003936, 1)\n",
      "y_test (500984, 1)\n"
     ]
    }
   ],
   "source": [
    "encoder = LabelEncoder()\n",
    "encoder.fit(df_train.party.tolist())\n",
    "\n",
    "y_train = encoder.transform(df_train.party.tolist()) # transform non-numerical data to numerical labels\n",
    "y_test = encoder.transform(df_test.party.tolist())\n",
    "\n",
    "ylist = list(y_train)\n",
    "print(set(ylist))\n",
    "\n",
    "y_train = y_train.reshape(-1,1) # -1 means unknown\n",
    "y_test = y_test.reshape(-1,1)\n",
    "\n",
    "print(y_train[0:5])\n",
    "print(\"y_train\",y_train.shape)\n",
    "print(\"y_test\",y_test.shape)"
   ]
  },
  {
   "cell_type": "code",
   "execution_count": 22,
   "id": "1f501e7c",
   "metadata": {},
   "outputs": [],
   "source": [
    "w2v_model = gensim.models.Word2Vec.load(\"../models/w2v_training_data_conpoli&elect_seeduser1-5000_not-stem_win5.w2v\")"
   ]
  },
  {
   "cell_type": "code",
   "execution_count": 24,
   "id": "43d4ef79",
   "metadata": {},
   "outputs": [],
   "source": [
    "embedding_matrix = np.zeros((vocab_size, 200)) #Return a new array of given shape and type, filled with zeros.\n",
    "for word, i in tokenizer.word_index.items():\n",
    "    if word in w2v_model.wv:\n",
    "        embedding_matrix[i] = w2v_model.wv[word]"
   ]
  },
  {
   "cell_type": "code",
   "execution_count": 25,
   "id": "e81538e9",
   "metadata": {},
   "outputs": [],
   "source": [
    "embedding_layer = Embedding(vocab_size, 200, weights=[embedding_matrix], input_length=SEQUENCE_LENGTH, trainable=False)"
   ]
  },
  {
   "cell_type": "code",
   "execution_count": 35,
   "id": "d44708c5",
   "metadata": {},
   "outputs": [],
   "source": [
    "from keras.layers import CuDNNLSTM, Activation, CuDNNGRU, Conv1D\n",
    "inp = Input(shape=(SEQUENCE_LENGTH,))\n",
    "x = embedding_layer(inp)\n",
    "x = Bidirectional(LSTM(200, return_sequences=True, dropout=0.2, recurrent_dropout=0.1))(x)\n",
    "#x = Bidirectional(CuDNNLSTM(64, return_sequences=True))(x)\n",
    "x = AttentionWithContext(name='attention_vec')(x)\n",
    "x = Dense(64, activation=\"relu\")(x)\n",
    "#x = Dropout(0.2)(x)\n",
    "x = Dense(1, activation=\"sigmoid\")(x)\n",
    "model = Model(inputs=inp, outputs=x)\n",
    "model.compile(loss='binary_crossentropy', optimizer='adam', metrics=['accuracy'])"
   ]
  },
  {
   "cell_type": "code",
   "execution_count": 36,
   "id": "6f614a7f",
   "metadata": {},
   "outputs": [
    {
     "name": "stdout",
     "output_type": "stream",
     "text": [
      "Model: \"model_2\"\n",
      "_________________________________________________________________\n",
      "Layer (type)                 Output Shape              Param #   \n",
      "=================================================================\n",
      "input_2 (InputLayer)         (None, 50)                0         \n",
      "_________________________________________________________________\n",
      "embedding_1 (Embedding)      (None, 50, 200)           79137400  \n",
      "_________________________________________________________________\n",
      "bidirectional_2 (Bidirection (None, 50, 400)           641600    \n",
      "_________________________________________________________________\n",
      "attention_vec (AttentionWith (None, 400)               160800    \n",
      "_________________________________________________________________\n",
      "dense_3 (Dense)              (None, 64)                25664     \n",
      "_________________________________________________________________\n",
      "dense_4 (Dense)              (None, 1)                 65        \n",
      "=================================================================\n",
      "Total params: 79,965,529\n",
      "Trainable params: 828,129\n",
      "Non-trainable params: 79,137,400\n",
      "_________________________________________________________________\n"
     ]
    }
   ],
   "source": [
    "model.summary()\n",
    "callbacks = [ ReduceLROnPlateau(monitor='val_loss', patience=5, cooldown=0),\n",
    "              EarlyStopping(monitor='val_accuracy', min_delta=1e-4, patience=5)]"
   ]
  },
  {
   "cell_type": "code",
   "execution_count": 37,
   "id": "7a1b2d3c",
   "metadata": {},
   "outputs": [
    {
     "name": "stdout",
     "output_type": "stream",
     "text": [
      "Train on 1803542 samples, validate on 200394 samples\n",
      "Epoch 1/64\n",
      "1803542/1803542 [==============================] - 305s 169us/step - loss: 0.3678 - accuracy: 0.8224 - val_loss: 0.3137 - val_accuracy: 0.8522\n",
      "Epoch 2/64\n",
      "1803542/1803542 [==============================] - 303s 168us/step - loss: 0.3175 - accuracy: 0.8490 - val_loss: 0.2978 - val_accuracy: 0.8603\n",
      "Epoch 3/64\n",
      "1803542/1803542 [==============================] - 305s 169us/step - loss: 0.3035 - accuracy: 0.8565 - val_loss: 0.2920 - val_accuracy: 0.8631\n",
      "Epoch 4/64\n",
      "1803542/1803542 [==============================] - 305s 169us/step - loss: 0.2953 - accuracy: 0.8607 - val_loss: 0.2874 - val_accuracy: 0.8662\n",
      "Epoch 5/64\n",
      "1803542/1803542 [==============================] - 308s 171us/step - loss: 0.2895 - accuracy: 0.8635 - val_loss: 0.2853 - val_accuracy: 0.8671\n",
      "Epoch 6/64\n",
      "1803542/1803542 [==============================] - 309s 171us/step - loss: 0.2851 - accuracy: 0.8658 - val_loss: 0.2813 - val_accuracy: 0.8694\n",
      "Epoch 7/64\n",
      "1803542/1803542 [==============================] - 310s 172us/step - loss: 0.2820 - accuracy: 0.8676 - val_loss: 0.2806 - val_accuracy: 0.8695\n",
      "Epoch 8/64\n",
      "1803542/1803542 [==============================] - 311s 173us/step - loss: 0.2795 - accuracy: 0.8690 - val_loss: 0.2803 - val_accuracy: 0.8695\n",
      "Epoch 9/64\n",
      "1803542/1803542 [==============================] - 312s 173us/step - loss: 0.2771 - accuracy: 0.8703 - val_loss: 0.2794 - val_accuracy: 0.8705\n",
      "Epoch 10/64\n",
      "1803542/1803542 [==============================] - 313s 174us/step - loss: 0.2757 - accuracy: 0.8712 - val_loss: 0.2825 - val_accuracy: 0.8703\n",
      "Epoch 11/64\n",
      "1803542/1803542 [==============================] - 314s 174us/step - loss: 0.2734 - accuracy: 0.8721 - val_loss: 0.2791 - val_accuracy: 0.8718\n",
      "Epoch 12/64\n",
      "1803542/1803542 [==============================] - 315s 175us/step - loss: 0.2721 - accuracy: 0.8729 - val_loss: 0.2777 - val_accuracy: 0.8722\n",
      "Epoch 13/64\n",
      "1803542/1803542 [==============================] - 316s 175us/step - loss: 0.2708 - accuracy: 0.8736 - val_loss: 0.2776 - val_accuracy: 0.8726\n",
      "Epoch 14/64\n",
      "1803542/1803542 [==============================] - 318s 176us/step - loss: 0.2696 - accuracy: 0.8741 - val_loss: 0.2784 - val_accuracy: 0.8730\n",
      "Epoch 15/64\n",
      "1803542/1803542 [==============================] - 319s 177us/step - loss: 0.2687 - accuracy: 0.8745 - val_loss: 0.2776 - val_accuracy: 0.8727\n",
      "Epoch 16/64\n",
      "1803542/1803542 [==============================] - 320s 177us/step - loss: 0.2679 - accuracy: 0.8750 - val_loss: 0.2811 - val_accuracy: 0.8718\n",
      "Epoch 17/64\n",
      "1803542/1803542 [==============================] - 320s 177us/step - loss: 0.2669 - accuracy: 0.8757 - val_loss: 0.2779 - val_accuracy: 0.8729\n",
      "Epoch 18/64\n",
      "1803542/1803542 [==============================] - 320s 178us/step - loss: 0.2662 - accuracy: 0.8761 - val_loss: 0.2768 - val_accuracy: 0.8727\n",
      "Epoch 19/64\n",
      "1803542/1803542 [==============================] - 321s 178us/step - loss: 0.2654 - accuracy: 0.8762 - val_loss: 0.2787 - val_accuracy: 0.8731\n",
      "CPU times: user 2h 8min 57s, sys: 13min 12s, total: 2h 22min 10s\n",
      "Wall time: 1h 39min 6s\n"
     ]
    }
   ],
   "source": [
    "%%time\n",
    "BATCH_SIZE = 512\n",
    "history = model.fit(X_train, y_train,\n",
    "                    batch_size=BATCH_SIZE,\n",
    "                    epochs = 64,\n",
    "                    validation_split=0.1,\n",
    "                    verbose=1,\n",
    "                    callbacks=callbacks)"
   ]
  },
  {
   "cell_type": "code",
   "execution_count": 38,
   "id": "af04f285",
   "metadata": {},
   "outputs": [
    {
     "name": "stdout",
     "output_type": "stream",
     "text": [
      "500984/500984 [==============================] - 33s 65us/step\n",
      "500984/500984 [==============================] - 31s 62us/step\n",
      "\n",
      "ACCURACY: 0.8741896152496338\n",
      "LOSS: 0.2760573265236447\n",
      "F1 Score: 0.8764808133621542\n",
      "CPU times: user 1min 23s, sys: 6.41 s, total: 1min 29s\n",
      "Wall time: 1min 4s\n"
     ]
    }
   ],
   "source": [
    "%%time\n",
    "y_proba = model.predict(X_test, verbose=1, batch_size=BATCH_SIZE)\n",
    "y_pred = (y_proba > 0.5).astype(\"int32\")\n",
    "score = model.evaluate(X_test, y_test, batch_size=BATCH_SIZE)\n",
    "f1s = f1_score(y_test, y_pred, average='binary')\n",
    "print()\n",
    "print(\"ACCURACY:\",score[1])\n",
    "print(\"LOSS:\",score[0])\n",
    "print(\"F1 Score:\",f1s)"
   ]
  },
  {
   "cell_type": "code",
   "execution_count": 39,
   "id": "f84397e6",
   "metadata": {},
   "outputs": [],
   "source": [
    "y_pred = (y_proba > 0.5).astype(\"int32\")"
   ]
  },
  {
   "cell_type": "code",
   "execution_count": 71,
   "id": "d1bfe360",
   "metadata": {},
   "outputs": [],
   "source": [
    "f1s = f1_score(y_test, y_pred, average='binary')"
   ]
  },
  {
   "cell_type": "code",
   "execution_count": 72,
   "id": "28410fd8",
   "metadata": {},
   "outputs": [
    {
     "data": {
      "text/plain": [
       "(array([0, 1]), array([88555, 71442]))"
      ]
     },
     "execution_count": 72,
     "metadata": {},
     "output_type": "execute_result"
    }
   ],
   "source": [
    "np.unique(y_train, return_counts=True)"
   ]
  },
  {
   "cell_type": "code",
   "execution_count": 31,
   "id": "f59fabb1",
   "metadata": {},
   "outputs": [
    {
     "name": "stderr",
     "output_type": "stream",
     "text": [
      "/home/lingshu/.local/lib/python3.7/site-packages/ipykernel_launcher.py:12: DataConversionWarning: A column-vector y was passed when a 1d array was expected. Please change the shape of y to (n_samples,), for example using ravel().\n",
      "  if sys.path[0] == '':\n"
     ]
    }
   ],
   "source": [
    "from sklearn.metrics import roc_curve\n",
    "#y_proba = model.predict(X_test, verbose=1, batch_size=8000)\n",
    "y_pred_keras = y_proba.ravel()\n",
    "fpr_keras, tpr_keras, thresholds_keras = roc_curve(y_test, y_pred_keras)\n",
    "\n",
    "from sklearn.metrics import auc\n",
    "auc_keras = auc(fpr_keras, tpr_keras)\n",
    "\n",
    "from sklearn.ensemble import RandomForestClassifier\n",
    "# Supervised transformation based on random forests\n",
    "rf = RandomForestClassifier(max_depth=3, n_estimators=10)\n",
    "rf.fit(X_train, y_train)\n",
    "\n",
    "y_pred_rf = rf.predict_proba(X_test)[:, 1]\n",
    "fpr_rf, tpr_rf, thresholds_rf = roc_curve(y_test, y_pred_rf)\n",
    "auc_rf = auc(fpr_rf, tpr_rf)"
   ]
  },
  {
   "cell_type": "code",
   "execution_count": 34,
   "id": "5e112c1e",
   "metadata": {},
   "outputs": [
    {
     "data": {
      "image/png": "[encoded data removed]",
      "text/plain": [
       "<Figure size 432x288 with 1 Axes>"
      ]
     },
     "metadata": {
      "needs_background": "light"
     },
     "output_type": "display_data"
    }
   ],
   "source": [
    "plt.figure(1)\n",
    "plt.plot([0, 1], [0, 1], 'k--')\n",
    "plt.plot(fpr_keras, tpr_keras, label='NN (area = {:.3f})'.format(auc_keras))\n",
    "plt.plot(fpr_rf, tpr_rf, label='RF (area = {:.3f})'.format(auc_rf))\n",
    "plt.xlabel('False positive rate')\n",
    "plt.ylabel('True positive rate')\n",
    "plt.title('ROC curve')\n",
    "plt.legend(loc='best')\n",
    "plt.show()\n",
    "# Zoom in view of the upper left corner."
   ]
  },
  {
   "cell_type": "code",
   "execution_count": 12,
   "id": "9722da3f",
   "metadata": {},
   "outputs": [],
   "source": [
    "#model.save(\"../models/cong_politician_2020-3-12-2021-5-28_balanced_pre-w2v.h5\")\n",
    "import pickle\n",
    "#pickle.dump(tokenizer, open(\"../models/cong_politician_2020-3-12-2021-5-28_balanced_pre-w2v_tokenizer.pkl\", \"wb\"), protocol=0)\n",
    "pickle.dump(encoder, open(\"../models/cong_politician_2020-3-12-2021-5-28_balanced_pre-w2v_y-encoder.pkl\", \"wb\"), protocol=0)"
   ]
  },
  {
   "cell_type": "markdown",
   "id": "f0700d86",
   "metadata": {},
   "source": [
    "## Get Attention Weights\n",
    "https://stackoverflow.com/questions/52152054/keras-how-to-display-attention-weights-in-lstm-model"
   ]
  },
  {
   "cell_type": "code",
   "execution_count": 76,
   "id": "04fe5fc2",
   "metadata": {},
   "outputs": [
    {
     "name": "stdout",
     "output_type": "stream",
     "text": [
      "3\n"
     ]
    }
   ],
   "source": [
    "g = model.layers[3].get_config()\n",
    "layer_weights = model.layers[3].get_weights()\n",
    "print(len(layer_weights))\n",
    "\n",
    "new_model = Model(inputs=model.input, outputs=model.layers[2].output)\n",
    "output_before_att = new_model.predict(X_test) #extract layer output"
   ]
  },
  {
   "cell_type": "code",
   "execution_count": 78,
   "id": "42cef0be",
   "metadata": {},
   "outputs": [],
   "source": [
    "eij = np.tanh(np.dot(output_before_att, layer_weights[0]) + layer_weights[1]) #Eq.(5) in the paper\n",
    "eij = np.dot(eij, layer_weights[2]) #Eq.(6)\n",
    "eij = eij.reshape((eij.shape[0], eij.shape[1])) # reshape the vector\n",
    "ai = np.exp(eij) #Eq.(6)\n",
    "weights = ai / np.sum(ai) # Eq.(6)"
   ]
  },
  {
   "cell_type": "code",
   "execution_count": 84,
   "id": "b7a97f82",
   "metadata": {},
   "outputs": [],
   "source": [
    "key_list = list(tokenizer.word_index.keys())\n",
    "val_list = list(tokenizer.word_index.values())\n",
    "\n",
    "index_list = []\n",
    "words_list = []\n",
    "weights_list = []\n",
    "for t in range(len(X_test)):\n",
    "    for i in range(len(X_test[t])):\n",
    "        if X_test[t][i] != 0:\n",
    "            index_list.append(X_test[t][i])\n",
    "            words_list.append(key_list[val_list.index(X_test[t][i])])\n",
    "            weights_list.append(weights[t][i])"
   ]
  },
  {
   "cell_type": "code",
   "execution_count": 82,
   "id": "d63cfc58",
   "metadata": {},
   "outputs": [
    {
     "data": {
      "text/plain": [
       "array([[    0,     0,     0,     0,     0,     0,     0,     0,     0,\n",
       "            0,     0,     0,     0,     0,     0,     0,     0,     0,\n",
       "            0,     0,     0,     0,     0,     0,     0,     0,     0,\n",
       "            0,     0,     0,     0,     0,     0,  4027,    14,    36,\n",
       "           25,     7,   368,     2,    73,     1,   431,    14,    50,\n",
       "            2,    73,    17,   461,    65],\n",
       "       [    0,     0,     0,     0,     0,     0,     0,     0,     0,\n",
       "            0,     0,     0,     0,     0,     0,     0,     0,     0,\n",
       "            0,     0,     0,     0,    26,   664,   178,   480,    47,\n",
       "         5859,     3,   664,   178,   480,     7,  2586,    85,   664,\n",
       "          178,   480,     2,    64,   296,     2,   542,   136,     1,\n",
       "         1902,    31,    46,    26,   235],\n",
       "       [    0,     0,     0,     0,     0,     0,     0,     0,     0,\n",
       "            0,     0,     0,     0,     0,     0,     0,     0,     0,\n",
       "            0,     0,     0,     0,     0,     0,     0,     0,     0,\n",
       "            0,     0,     0,     0,    73,   403,     6,    29,     8,\n",
       "         2346,   115,    16,   561,  4866,    39,   798,     8,  3303,\n",
       "         1114,   197,   285,     5,    68],\n",
       "       [    0,     0,     0,     0,     0,     0,     0,     0,     0,\n",
       "            0,     0,     0,     0,     0,     0,     0,     0,     0,\n",
       "            0,     0,     0,  3435,   410,   163,    60,    22,    82,\n",
       "           16,  2900,   954,    13, 46472,    75,   108,  1130,    11,\n",
       "          333,     2,   208,   246,    45,   243,     2,   832,    15,\n",
       "           93,   249,    14,    55, 18263],\n",
       "       [    0,     0,     0,     0,     0,     0,     0,     0,     0,\n",
       "            0,     0,     0,     0,     0,     0,     0,     0,     0,\n",
       "            0,     0,     0,     0,     0,     0,     0,     0,     0,\n",
       "            0,     0,     0,     0,     0,     0,     0,     0,     0,\n",
       "            0,     0,     0,     0,     0,     0,     0,     0,     0,\n",
       "            0,     0,     0,     0,     0]], dtype=int32)"
      ]
     },
     "execution_count": 82,
     "metadata": {},
     "output_type": "execute_result"
    }
   ],
   "source": [
    "X_test[0:5]"
   ]
  },
  {
   "cell_type": "code",
   "execution_count": 83,
   "id": "2c087f68",
   "metadata": {},
   "outputs": [
    {
     "data": {
      "text/plain": [
       "93"
      ]
     },
     "execution_count": 83,
     "metadata": {},
     "output_type": "execute_result"
    }
   ],
   "source": [
    "df.groupby(['Animal']).mean()"
   ]
  }
 ],
 "metadata": {
  "kernelspec": {
   "display_name": "Python 3",
   "language": "python",
   "name": "python3"
  },
  "language_info": {
   "codemirror_mode": {
    "name": "ipython",
    "version": 3
   },
   "file_extension": ".py",
   "mimetype": "text/x-python",
   "name": "python",
   "nbconvert_exporter": "python",
   "pygments_lexer": "ipython3",
   "version": "3.7.5"
  }
 },
 "nbformat": 4,
 "nbformat_minor": 5
}
