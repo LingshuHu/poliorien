{
 "cells": [
  {
   "cell_type": "code",
   "execution_count": 1,
   "metadata": {},
   "outputs": [
    {
     "name": "stderr",
     "output_type": "stream",
     "text": [
      "Using TensorFlow backend.\n"
     ]
    }
   ],
   "source": [
    "# DataFrame\n",
    "import pandas as pd\n",
    "\n",
    "# Matplot\n",
    "import matplotlib.pyplot as plt\n",
    "%matplotlib inline\n",
    "\n",
    "# Scikit-learn\n",
    "from sklearn.model_selection import train_test_split\n",
    "from sklearn.preprocessing import LabelEncoder\n",
    "from sklearn.metrics import confusion_matrix, classification_report, accuracy_score\n",
    "from sklearn.manifold import TSNE\n",
    "from sklearn.feature_extraction.text import TfidfVectorizer\n",
    "\n",
    "# Keras\n",
    "from keras.preprocessing.text import Tokenizer\n",
    "from keras.preprocessing.sequence import pad_sequences\n",
    "from keras.models import Sequential, Model\n",
    "from keras.layers import Activation, Dense, Dropout, Embedding, Flatten, Convolution1D, MaxPooling1D, LSTM\n",
    "from keras.layers import Input, Conv1D, MaxPool1D, Bidirectional, GRU\n",
    "from keras.layers.merge import concatenate\n",
    "from keras import utils\n",
    "from keras.callbacks import ReduceLROnPlateau, EarlyStopping\n",
    "\n",
    "# nltk\n",
    "import nltk\n",
    "from nltk.corpus import stopwords\n",
    "from  nltk.stem import SnowballStemmer\n",
    "\n",
    "# Word2vec\n",
    "import gensim\n",
    "\n",
    "# Utility\n",
    "import re\n",
    "import numpy as np\n",
    "import os\n",
    "from collections import Counter\n",
    "import logging\n",
    "import time\n",
    "import pickle\n",
    "import itertools\n",
    "\n",
    "# Set log\n",
    "logging.basicConfig(format='%(asctime)s : %(levelname)s : %(message)s', level=logging.INFO)"
   ]
  },
  {
   "cell_type": "code",
   "execution_count": 2,
   "metadata": {},
   "outputs": [],
   "source": [
    "# DATASET\n",
    "#DATASET_COLUMNS = [\"target\", \"ids\", \"date\", \"flag\", \"user\", \"text\"]\n",
    "DATASET_ENCODING = \"ISO-8859-1\"\n",
    "TRAIN_SIZE = 0.8\n",
    "\n",
    "# TEXT CLENAING\n",
    "TEXT_CLEANING_RE = \"https?:\\S+|http?:\\S\"\n",
    "\n",
    "# WORD2VEC \n",
    "W2V_SIZE = 200\n",
    "W2V_WINDOW = 7\n",
    "W2V_EPOCH = 32\n",
    "W2V_MIN_COUNT = 5\n",
    "\n",
    "# KERAS\n",
    "SEQUENCE_LENGTH = 50\n",
    "EPOCHS = 32\n",
    "BATCH_SIZE = 256\n",
    "\n",
    "# SENTIMENT\n",
    "POSITIVE = \"POSITIVE\"\n",
    "NEGATIVE = \"NEGATIVE\"\n",
    "NEUTRAL = \"NEUTRAL\"\n",
    "SENTIMENT_THRESHOLDS = (0.4, 0.7)\n",
    "\n",
    "# EXPORT\n",
    "KERAS_MODEL = \"model.h5\"\n",
    "WORD2VEC_MODEL = \"model.w2v\"\n",
    "TOKENIZER_MODEL = \"tokenizer.pkl\"\n",
    "ENCODER_MODEL = \"encoder.pkl\""
   ]
  },
  {
   "cell_type": "code",
   "execution_count": 3,
   "metadata": {},
   "outputs": [
    {
     "name": "stdout",
     "output_type": "stream",
     "text": [
      "Open file: .\\data\\cong_politician_tweets.csv\n"
     ]
    },
    {
     "name": "stderr",
     "output_type": "stream",
     "text": [
      "C:\\Users\\Lingshu\\.conda\\envs\\my_env\\lib\\site-packages\\IPython\\core\\interactiveshell.py:3063: DtypeWarning: Columns (17,62,63,64,65,66,67,96) have mixed types.Specify dtype option on import or set low_memory=False.\n",
      "  interactivity=interactivity, compiler=compiler, result=result)\n"
     ]
    }
   ],
   "source": [
    "# read dataset\n",
    "dataset_filename = os.listdir(\"./data\")[0]\n",
    "dataset_path = os.path.join(\".\",\"data\",\"cong_politician_tweets.csv\")\n",
    "print(\"Open file:\", dataset_path)\n",
    "df = pd.read_csv(dataset_path, encoding =\"ISO-8859-1\")\n",
    "#print(df.head(5))"
   ]
  },
  {
   "cell_type": "code",
   "execution_count": 127,
   "metadata": {},
   "outputs": [
    {
     "name": "stderr",
     "output_type": "stream",
     "text": [
      "C:\\Users\\Lingshu\\.conda\\envs\\my_env\\lib\\site-packages\\IPython\\core\\interactiveshell.py:3063: DtypeWarning: Columns (0,7,11,12,18,77,78,79,80,81,84,87) have mixed types.Specify dtype option on import or set low_memory=False.\n",
      "  interactivity=interactivity, compiler=compiler, result=result)\n"
     ]
    }
   ],
   "source": [
    "df = pd.read_csv(\"./data/cong_politician_tweets30000.csv\", encoding = \"ISO-8859-1\")"
   ]
  },
  {
   "cell_type": "code",
   "execution_count": 10,
   "metadata": {},
   "outputs": [],
   "source": [
    "df['party'] = df['party'].map({'D':0, 'R':1})"
   ]
  },
  {
   "cell_type": "code",
   "execution_count": 262,
   "metadata": {},
   "outputs": [
    {
     "data": {
      "text/plain": [
       "0"
      ]
     },
     "execution_count": 262,
     "metadata": {},
     "output_type": "execute_result"
    }
   ],
   "source": [
    "df.party[1]"
   ]
  },
  {
   "cell_type": "code",
   "execution_count": 173,
   "metadata": {},
   "outputs": [
    {
     "data": {
      "text/plain": [
       "Text(0.5, 1.0, 'Dataset labels distribuition')"
      ]
     },
     "execution_count": 173,
     "metadata": {},
     "output_type": "execute_result"
    },
    {
     "data": {
      "image/png": "[encoded data removed]",
      "text/plain": [
       "<Figure size 216x288 with 1 Axes>"
      ]
     },
     "metadata": {
      "needs_background": "light"
     },
     "output_type": "display_data"
    }
   ],
   "source": [
    "target_cnt = Counter(df.party)\n",
    "\n",
    "plt.figure(figsize=(3,4))\n",
    "plt.bar(target_cnt.keys(), target_cnt.values())\n",
    "plt.title(\"Dataset labels distribuition\")"
   ]
  },
  {
   "cell_type": "markdown",
   "metadata": {},
   "source": [
    "Pre-Process dataset"
   ]
  },
  {
   "cell_type": "code",
   "execution_count": 4,
   "metadata": {},
   "outputs": [],
   "source": [
    "## do not remove stop words\n",
    "\n",
    "def preprocess(text, stem=False):\n",
    "    # Remove link\n",
    "    text = re.sub(TEXT_CLEANING_RE, ' ', str(text).lower()).strip()\n",
    "    text = re.sub(r\"@\", \"@ \", text)\n",
    "    text = re.sub(r\"#\", \"# \", text)\n",
    "    return(text)"
   ]
  },
  {
   "cell_type": "code",
   "execution_count": 5,
   "metadata": {},
   "outputs": [
    {
     "name": "stdout",
     "output_type": "stream",
     "text": [
      "Wall time: 8.08 s\n"
     ]
    }
   ],
   "source": [
    "%%time\n",
    "df.text = df.text.apply(lambda x: preprocess(x))"
   ]
  },
  {
   "cell_type": "code",
   "execution_count": 13,
   "metadata": {},
   "outputs": [
    {
     "data": {
      "text/plain": [
       "0          iâve lived with stage 4 endometriosis for ye...\n",
       "1          \"to be a woman, talking about what disadvantag...\n",
       "2          <u+2764><u+fe0f> heâs my best friend and weâ...\n",
       "3          1 in 10 women suffer from endometriosis.\\r\\n\\r...\n",
       "4          good morning to @ abby4iowa who's inspiring me...\n",
       "                                 ...                        \n",
       "1796931    mt @ vkritzer: i'm proud to have helped elect ...\n",
       "1796932    to help in the fight to end the # nsa's mass s...\n",
       "1796933    here's becca in the stadium waiting for the ra...\n",
       "1796934    happy 21st anniversary to the # fmla! by helpi...\n",
       "1796935    marshawn lynch is sitting on the hood of the f...\n",
       "Name: text, Length: 1796936, dtype: object"
      ]
     },
     "execution_count": 13,
     "metadata": {},
     "output_type": "execute_result"
    }
   ],
   "source": [
    "df.text"
   ]
  },
  {
   "cell_type": "code",
   "execution_count": 7,
   "metadata": {},
   "outputs": [],
   "source": [
    "df = df[df.party.notna()]"
   ]
  },
  {
   "cell_type": "markdown",
   "metadata": {},
   "source": [
    "Split train and test"
   ]
  },
  {
   "cell_type": "code",
   "execution_count": 8,
   "metadata": {},
   "outputs": [
    {
     "name": "stdout",
     "output_type": "stream",
     "text": [
      "TRAIN size: 1437548\n",
      "TEST size: 359388\n"
     ]
    }
   ],
   "source": [
    "df_train, df_test = train_test_split(df, test_size=1-TRAIN_SIZE, random_state=42)\n",
    "print(\"TRAIN size:\", len(df_train))\n",
    "print(\"TEST size:\", len(df_test))"
   ]
  },
  {
   "cell_type": "markdown",
   "metadata": {},
   "source": [
    "Word2Vec"
   ]
  },
  {
   "cell_type": "code",
   "execution_count": 3,
   "metadata": {},
   "outputs": [
    {
     "name": "stderr",
     "output_type": "stream",
     "text": [
      "2020-04-03 00:16:52,052 : INFO : loading Word2Vec object from model.w2v\n",
      "2020-04-03 00:16:52,502 : INFO : loading wv recursively from model.w2v.wv.* with mmap=None\n",
      "2020-04-03 00:16:52,502 : INFO : loading vectors from model.w2v.wv.vectors.npy with mmap=None\n",
      "2020-04-03 00:16:53,243 : INFO : setting ignored attribute vectors_norm to None\n",
      "2020-04-03 00:16:53,243 : INFO : loading vocabulary recursively from model.w2v.vocabulary.* with mmap=None\n",
      "2020-04-03 00:16:53,243 : INFO : loading trainables recursively from model.w2v.trainables.* with mmap=None\n",
      "2020-04-03 00:16:53,243 : INFO : loading syn1neg from model.w2v.trainables.syn1neg.npy with mmap=None\n",
      "2020-04-03 00:16:53,979 : INFO : setting ignored attribute cum_table to None\n",
      "2020-04-03 00:16:53,979 : INFO : loaded model.w2v\n"
     ]
    }
   ],
   "source": [
    "w2v_model = gensim.models.Word2Vec.load(\"model.w2v\")"
   ]
  },
  {
   "cell_type": "code",
   "execution_count": 62,
   "metadata": {},
   "outputs": [
    {
     "name": "stdout",
     "output_type": "stream",
     "text": [
      "['I’ve', 'lived', 'with', 'Stage', '4', 'endometriosis', 'for', 'years,', 'and', 'I’m', 'so', 'proud', 'of', '@', 'Abby4Iowa', 'for', 'sharing', 'her', 'story.', 'We', 'stand', 'together', 'with', '@', 'endofound', 'to', 'call', 'for', 'more', 'research', 'on', 'the', 'disease', 'that', 'affect', '1', 'in', '10', 'woman', '&amp;', 'cost', 'our', 'country', '$78', 'billion', 'a', 'year.', '#', 'UpEndo']\n",
      "Wall time: 11.1 s\n"
     ]
    }
   ],
   "source": [
    "%%time\n",
    "## this one works better\n",
    "documents = [_text.split() for _text in df.text] ## what's the purpose here?\n",
    "print(documents[0])"
   ]
  },
  {
   "cell_type": "code",
   "execution_count": 61,
   "metadata": {},
   "outputs": [
    {
     "ename": "KeyboardInterrupt",
     "evalue": "",
     "output_type": "error",
     "traceback": [
      "\u001b[1;31m---------------------------------------------------------------------------\u001b[0m",
      "\u001b[1;31mKeyboardInterrupt\u001b[0m                         Traceback (most recent call last)",
      "\u001b[1;32m<ipython-input-61-8903fb3166f4>\u001b[0m in \u001b[0;36m<module>\u001b[1;34m\u001b[0m\n\u001b[0;32m      1\u001b[0m \u001b[1;32mfrom\u001b[0m \u001b[0mnltk\u001b[0m\u001b[1;33m.\u001b[0m\u001b[0mtokenize\u001b[0m \u001b[1;32mimport\u001b[0m \u001b[0mTweetTokenizer\u001b[0m\u001b[1;33m\u001b[0m\u001b[1;33m\u001b[0m\u001b[0m\n\u001b[0;32m      2\u001b[0m \u001b[0mtweet_tokenizer\u001b[0m \u001b[1;33m=\u001b[0m \u001b[0mTweetTokenizer\u001b[0m\u001b[1;33m(\u001b[0m\u001b[1;33m)\u001b[0m\u001b[1;33m\u001b[0m\u001b[1;33m\u001b[0m\u001b[0m\n\u001b[1;32m----> 3\u001b[1;33m \u001b[0mdocuments\u001b[0m \u001b[1;33m=\u001b[0m \u001b[1;33m[\u001b[0m\u001b[0mtweet_tokenizer\u001b[0m\u001b[1;33m.\u001b[0m\u001b[0mtokenize\u001b[0m\u001b[1;33m(\u001b[0m\u001b[0mstr\u001b[0m\u001b[1;33m(\u001b[0m\u001b[0msent\u001b[0m\u001b[1;33m)\u001b[0m\u001b[1;33m)\u001b[0m \u001b[1;32mfor\u001b[0m \u001b[0msent\u001b[0m \u001b[1;32min\u001b[0m \u001b[0mdf_train\u001b[0m\u001b[1;33m.\u001b[0m\u001b[0mtext\u001b[0m\u001b[1;33m]\u001b[0m\u001b[1;33m\u001b[0m\u001b[1;33m\u001b[0m\u001b[0m\n\u001b[0m\u001b[0;32m      4\u001b[0m \u001b[1;33m\u001b[0m\u001b[0m\n\u001b[0;32m      5\u001b[0m \u001b[0mprint\u001b[0m\u001b[1;33m(\u001b[0m\u001b[0mdocuments\u001b[0m\u001b[1;33m[\u001b[0m\u001b[1;36m0\u001b[0m\u001b[1;33m:\u001b[0m\u001b[1;36m10\u001b[0m\u001b[1;33m]\u001b[0m\u001b[1;33m)\u001b[0m\u001b[1;33m\u001b[0m\u001b[1;33m\u001b[0m\u001b[0m\n",
      "\u001b[1;32m<ipython-input-61-8903fb3166f4>\u001b[0m in \u001b[0;36m<listcomp>\u001b[1;34m(.0)\u001b[0m\n\u001b[0;32m      1\u001b[0m \u001b[1;32mfrom\u001b[0m \u001b[0mnltk\u001b[0m\u001b[1;33m.\u001b[0m\u001b[0mtokenize\u001b[0m \u001b[1;32mimport\u001b[0m \u001b[0mTweetTokenizer\u001b[0m\u001b[1;33m\u001b[0m\u001b[1;33m\u001b[0m\u001b[0m\n\u001b[0;32m      2\u001b[0m \u001b[0mtweet_tokenizer\u001b[0m \u001b[1;33m=\u001b[0m \u001b[0mTweetTokenizer\u001b[0m\u001b[1;33m(\u001b[0m\u001b[1;33m)\u001b[0m\u001b[1;33m\u001b[0m\u001b[1;33m\u001b[0m\u001b[0m\n\u001b[1;32m----> 3\u001b[1;33m \u001b[0mdocuments\u001b[0m \u001b[1;33m=\u001b[0m \u001b[1;33m[\u001b[0m\u001b[0mtweet_tokenizer\u001b[0m\u001b[1;33m.\u001b[0m\u001b[0mtokenize\u001b[0m\u001b[1;33m(\u001b[0m\u001b[0mstr\u001b[0m\u001b[1;33m(\u001b[0m\u001b[0msent\u001b[0m\u001b[1;33m)\u001b[0m\u001b[1;33m)\u001b[0m \u001b[1;32mfor\u001b[0m \u001b[0msent\u001b[0m \u001b[1;32min\u001b[0m \u001b[0mdf_train\u001b[0m\u001b[1;33m.\u001b[0m\u001b[0mtext\u001b[0m\u001b[1;33m]\u001b[0m\u001b[1;33m\u001b[0m\u001b[1;33m\u001b[0m\u001b[0m\n\u001b[0m\u001b[0;32m      4\u001b[0m \u001b[1;33m\u001b[0m\u001b[0m\n\u001b[0;32m      5\u001b[0m \u001b[0mprint\u001b[0m\u001b[1;33m(\u001b[0m\u001b[0mdocuments\u001b[0m\u001b[1;33m[\u001b[0m\u001b[1;36m0\u001b[0m\u001b[1;33m:\u001b[0m\u001b[1;36m10\u001b[0m\u001b[1;33m]\u001b[0m\u001b[1;33m)\u001b[0m\u001b[1;33m\u001b[0m\u001b[1;33m\u001b[0m\u001b[0m\n",
      "\u001b[1;32m~\\.conda\\envs\\my_env\\lib\\site-packages\\nltk\\tokenize\\casual.py\u001b[0m in \u001b[0;36mtokenize\u001b[1;34m(self, text)\u001b[0m\n\u001b[0;32m    299\u001b[0m         \u001b[0mwords\u001b[0m \u001b[1;33m=\u001b[0m \u001b[0mWORD_RE\u001b[0m\u001b[1;33m.\u001b[0m\u001b[0mfindall\u001b[0m\u001b[1;33m(\u001b[0m\u001b[0msafe_text\u001b[0m\u001b[1;33m)\u001b[0m\u001b[1;33m\u001b[0m\u001b[1;33m\u001b[0m\u001b[0m\n\u001b[0;32m    300\u001b[0m         \u001b[1;31m# Possibly alter the case, but avoid changing emoticons like :D into :d:\u001b[0m\u001b[1;33m\u001b[0m\u001b[1;33m\u001b[0m\u001b[1;33m\u001b[0m\u001b[0m\n\u001b[1;32m--> 301\u001b[1;33m         \u001b[1;32mif\u001b[0m \u001b[1;32mnot\u001b[0m \u001b[0mself\u001b[0m\u001b[1;33m.\u001b[0m\u001b[0mpreserve_case\u001b[0m\u001b[1;33m:\u001b[0m\u001b[1;33m\u001b[0m\u001b[1;33m\u001b[0m\u001b[0m\n\u001b[0m\u001b[0;32m    302\u001b[0m             words = list(\n\u001b[0;32m    303\u001b[0m                 \u001b[0mmap\u001b[0m\u001b[1;33m(\u001b[0m\u001b[1;33m(\u001b[0m\u001b[1;32mlambda\u001b[0m \u001b[0mx\u001b[0m\u001b[1;33m:\u001b[0m \u001b[0mx\u001b[0m \u001b[1;32mif\u001b[0m \u001b[0mEMOTICON_RE\u001b[0m\u001b[1;33m.\u001b[0m\u001b[0msearch\u001b[0m\u001b[1;33m(\u001b[0m\u001b[0mx\u001b[0m\u001b[1;33m)\u001b[0m \u001b[1;32melse\u001b[0m \u001b[0mx\u001b[0m\u001b[1;33m.\u001b[0m\u001b[0mlower\u001b[0m\u001b[1;33m(\u001b[0m\u001b[1;33m)\u001b[0m\u001b[1;33m)\u001b[0m\u001b[1;33m,\u001b[0m \u001b[0mwords\u001b[0m\u001b[1;33m)\u001b[0m\u001b[1;33m\u001b[0m\u001b[1;33m\u001b[0m\u001b[0m\n",
      "\u001b[1;31mKeyboardInterrupt\u001b[0m: "
     ]
    }
   ],
   "source": [
    "from nltk.tokenize import TweetTokenizer\n",
    "tweet_tokenizer = TweetTokenizer()\n",
    "documents = [tweet_tokenizer.tokenize(str(sent)) for sent in df_train.text]\n",
    "\n",
    "print(documents[0:10])"
   ]
  },
  {
   "cell_type": "code",
   "execution_count": 63,
   "metadata": {},
   "outputs": [],
   "source": [
    "w2v_model = gensim.models.word2vec.Word2Vec(size=W2V_SIZE, \n",
    "                                            window=W2V_WINDOW, \n",
    "                                            min_count=W2V_MIN_COUNT, \n",
    "                                            workers=8)"
   ]
  },
  {
   "cell_type": "code",
   "execution_count": 64,
   "metadata": {
    "scrolled": true
   },
   "outputs": [
    {
     "name": "stderr",
     "output_type": "stream",
     "text": [
      "2020-03-31 21:53:39,293 : INFO : collecting all words and their counts\n",
      "2020-03-31 21:53:39,293 : INFO : PROGRESS: at sentence #0, processed 0 words, keeping 0 word types\n",
      "2020-03-31 21:53:39,340 : INFO : PROGRESS: at sentence #10000, processed 274513 words, keeping 31949 word types\n",
      "2020-03-31 21:53:39,387 : INFO : PROGRESS: at sentence #20000, processed 506641 words, keeping 47665 word types\n",
      "2020-03-31 21:53:39,437 : INFO : PROGRESS: at sentence #30000, processed 757971 words, keeping 62458 word types\n",
      "2020-03-31 21:53:39,495 : INFO : PROGRESS: at sentence #40000, processed 1030090 words, keeping 77192 word types\n",
      "2020-03-31 21:53:39,555 : INFO : PROGRESS: at sentence #50000, processed 1290244 words, keeping 89807 word types\n",
      "2020-03-31 21:53:39,601 : INFO : PROGRESS: at sentence #60000, processed 1557779 words, keeping 101064 word types\n",
      "2020-03-31 21:53:39,642 : INFO : PROGRESS: at sentence #70000, processed 1780992 words, keeping 110795 word types\n",
      "2020-03-31 21:53:39,709 : INFO : PROGRESS: at sentence #80000, processed 2062175 words, keeping 119724 word types\n",
      "2020-03-31 21:53:39,749 : INFO : PROGRESS: at sentence #90000, processed 2286884 words, keeping 129202 word types\n",
      "2020-03-31 21:53:39,798 : INFO : PROGRESS: at sentence #100000, processed 2520047 words, keeping 140232 word types\n",
      "2020-03-31 21:53:39,860 : INFO : PROGRESS: at sentence #110000, processed 2817250 words, keeping 148214 word types\n",
      "2020-03-31 21:53:39,903 : INFO : PROGRESS: at sentence #120000, processed 3029986 words, keeping 157879 word types\n",
      "2020-03-31 21:53:39,948 : INFO : PROGRESS: at sentence #130000, processed 3259971 words, keeping 167814 word types\n",
      "2020-03-31 21:53:40,030 : INFO : PROGRESS: at sentence #140000, processed 3562714 words, keeping 176100 word types\n",
      "2020-03-31 21:53:40,088 : INFO : PROGRESS: at sentence #150000, processed 3853582 words, keeping 183885 word types\n",
      "2020-03-31 21:53:40,143 : INFO : PROGRESS: at sentence #160000, processed 4107022 words, keeping 191856 word types\n",
      "2020-03-31 21:53:40,198 : INFO : PROGRESS: at sentence #170000, processed 4321054 words, keeping 201391 word types\n",
      "2020-03-31 21:53:40,238 : INFO : PROGRESS: at sentence #180000, processed 4568951 words, keeping 210133 word types\n",
      "2020-03-31 21:53:40,300 : INFO : PROGRESS: at sentence #190000, processed 4822331 words, keeping 218518 word types\n",
      "2020-03-31 21:53:40,343 : INFO : PROGRESS: at sentence #200000, processed 5064041 words, keeping 225001 word types\n",
      "2020-03-31 21:53:40,404 : INFO : PROGRESS: at sentence #210000, processed 5302877 words, keeping 231129 word types\n",
      "2020-03-31 21:53:40,451 : INFO : PROGRESS: at sentence #220000, processed 5536480 words, keeping 237781 word types\n",
      "2020-03-31 21:53:40,497 : INFO : PROGRESS: at sentence #230000, processed 5775483 words, keeping 244315 word types\n",
      "2020-03-31 21:53:40,558 : INFO : PROGRESS: at sentence #240000, processed 6001114 words, keeping 251539 word types\n",
      "2020-03-31 21:53:40,616 : INFO : PROGRESS: at sentence #250000, processed 6233646 words, keeping 259599 word types\n",
      "2020-03-31 21:53:40,665 : INFO : PROGRESS: at sentence #260000, processed 6461734 words, keeping 266492 word types\n",
      "2020-03-31 21:53:40,729 : INFO : PROGRESS: at sentence #270000, processed 6708668 words, keeping 273230 word types\n",
      "2020-03-31 21:53:40,775 : INFO : PROGRESS: at sentence #280000, processed 6954816 words, keeping 280244 word types\n",
      "2020-03-31 21:53:40,830 : INFO : PROGRESS: at sentence #290000, processed 7207854 words, keeping 287809 word types\n",
      "2020-03-31 21:53:40,888 : INFO : PROGRESS: at sentence #300000, processed 7485020 words, keeping 293615 word types\n",
      "2020-03-31 21:53:40,935 : INFO : PROGRESS: at sentence #310000, processed 7707765 words, keeping 301037 word types\n",
      "2020-03-31 21:53:40,990 : INFO : PROGRESS: at sentence #320000, processed 7980841 words, keeping 307243 word types\n",
      "2020-03-31 21:53:41,044 : INFO : PROGRESS: at sentence #330000, processed 8233918 words, keeping 312830 word types\n",
      "2020-03-31 21:53:41,107 : INFO : PROGRESS: at sentence #340000, processed 8523523 words, keeping 319363 word types\n",
      "2020-03-31 21:53:41,160 : INFO : PROGRESS: at sentence #350000, processed 8759630 words, keeping 325392 word types\n",
      "2020-03-31 21:53:41,221 : INFO : PROGRESS: at sentence #360000, processed 9019748 words, keeping 332876 word types\n",
      "2020-03-31 21:53:41,271 : INFO : PROGRESS: at sentence #370000, processed 9238176 words, keeping 340573 word types\n",
      "2020-03-31 21:53:41,326 : INFO : PROGRESS: at sentence #380000, processed 9464615 words, keeping 345708 word types\n",
      "2020-03-31 21:53:41,391 : INFO : PROGRESS: at sentence #390000, processed 9725778 words, keeping 350673 word types\n",
      "2020-03-31 21:53:41,423 : INFO : PROGRESS: at sentence #400000, processed 9947197 words, keeping 355559 word types\n",
      "2020-03-31 21:53:41,476 : INFO : PROGRESS: at sentence #410000, processed 10151516 words, keeping 363088 word types\n",
      "2020-03-31 21:53:41,530 : INFO : PROGRESS: at sentence #420000, processed 10407713 words, keeping 368549 word types\n",
      "2020-03-31 21:53:41,574 : INFO : PROGRESS: at sentence #430000, processed 10655927 words, keeping 373417 word types\n",
      "2020-03-31 21:53:41,639 : INFO : PROGRESS: at sentence #440000, processed 10914242 words, keeping 379057 word types\n",
      "2020-03-31 21:53:41,701 : INFO : PROGRESS: at sentence #450000, processed 11224860 words, keeping 384041 word types\n",
      "2020-03-31 21:53:41,750 : INFO : PROGRESS: at sentence #460000, processed 11461181 words, keeping 390485 word types\n",
      "2020-03-31 21:53:41,787 : INFO : PROGRESS: at sentence #470000, processed 11708269 words, keeping 396019 word types\n",
      "2020-03-31 21:53:41,843 : INFO : PROGRESS: at sentence #480000, processed 11953350 words, keeping 401082 word types\n",
      "2020-03-31 21:53:41,909 : INFO : PROGRESS: at sentence #490000, processed 12210724 words, keeping 407255 word types\n",
      "2020-03-31 21:53:41,955 : INFO : PROGRESS: at sentence #500000, processed 12452951 words, keeping 413702 word types\n",
      "2020-03-31 21:53:41,994 : INFO : PROGRESS: at sentence #510000, processed 12701739 words, keeping 418843 word types\n",
      "2020-03-31 21:53:42,061 : INFO : PROGRESS: at sentence #520000, processed 13001470 words, keeping 423588 word types\n",
      "2020-03-31 21:53:42,108 : INFO : PROGRESS: at sentence #530000, processed 13249004 words, keeping 428386 word types\n",
      "2020-03-31 21:53:42,171 : INFO : PROGRESS: at sentence #540000, processed 13568778 words, keeping 433009 word types\n",
      "2020-03-31 21:53:42,225 : INFO : PROGRESS: at sentence #550000, processed 13819921 words, keeping 438852 word types\n",
      "2020-03-31 21:53:42,272 : INFO : PROGRESS: at sentence #560000, processed 14075835 words, keeping 443107 word types\n",
      "2020-03-31 21:53:42,318 : INFO : PROGRESS: at sentence #570000, processed 14331576 words, keeping 448139 word types\n",
      "2020-03-31 21:53:42,365 : INFO : PROGRESS: at sentence #580000, processed 14544095 words, keeping 453509 word types\n",
      "2020-03-31 21:53:42,419 : INFO : PROGRESS: at sentence #590000, processed 14774781 words, keeping 458476 word types\n",
      "2020-03-31 21:53:42,451 : INFO : PROGRESS: at sentence #600000, processed 15000298 words, keeping 464506 word types\n",
      "2020-03-31 21:53:42,513 : INFO : PROGRESS: at sentence #610000, processed 15255139 words, keeping 469584 word types\n",
      "2020-03-31 21:53:42,555 : INFO : PROGRESS: at sentence #620000, processed 15477280 words, keeping 476474 word types\n",
      "2020-03-31 21:53:42,609 : INFO : PROGRESS: at sentence #630000, processed 15726992 words, keeping 481783 word types\n",
      "2020-03-31 21:53:42,660 : INFO : PROGRESS: at sentence #640000, processed 15953515 words, keeping 487245 word types\n",
      "2020-03-31 21:53:42,714 : INFO : PROGRESS: at sentence #650000, processed 16200330 words, keeping 493133 word types\n",
      "2020-03-31 21:53:42,771 : INFO : PROGRESS: at sentence #660000, processed 16465296 words, keeping 499619 word types\n",
      "2020-03-31 21:53:42,802 : INFO : PROGRESS: at sentence #670000, processed 16694003 words, keeping 504114 word types\n",
      "2020-03-31 21:53:42,858 : INFO : PROGRESS: at sentence #680000, processed 16922586 words, keeping 509268 word types\n",
      "2020-03-31 21:53:42,907 : INFO : PROGRESS: at sentence #690000, processed 17157693 words, keeping 514704 word types\n",
      "2020-03-31 21:53:42,944 : INFO : PROGRESS: at sentence #700000, processed 17398946 words, keeping 519839 word types\n"
     ]
    },
    {
     "name": "stderr",
     "output_type": "stream",
     "text": [
      "2020-03-31 21:53:43,012 : INFO : PROGRESS: at sentence #710000, processed 17644605 words, keeping 525157 word types\n",
      "2020-03-31 21:53:43,059 : INFO : PROGRESS: at sentence #720000, processed 17913697 words, keeping 528798 word types\n",
      "2020-03-31 21:53:43,118 : INFO : PROGRESS: at sentence #730000, processed 18186806 words, keeping 533871 word types\n",
      "2020-03-31 21:53:43,162 : INFO : PROGRESS: at sentence #740000, processed 18460455 words, keeping 538221 word types\n",
      "2020-03-31 21:53:43,217 : INFO : PROGRESS: at sentence #750000, processed 18675956 words, keeping 544678 word types\n",
      "2020-03-31 21:53:43,261 : INFO : PROGRESS: at sentence #760000, processed 18907663 words, keeping 551466 word types\n",
      "2020-03-31 21:53:43,318 : INFO : PROGRESS: at sentence #770000, processed 19160964 words, keeping 556551 word types\n",
      "2020-03-31 21:53:43,378 : INFO : PROGRESS: at sentence #780000, processed 19453162 words, keeping 562643 word types\n",
      "2020-03-31 21:53:43,425 : INFO : PROGRESS: at sentence #790000, processed 19753411 words, keeping 568404 word types\n",
      "2020-03-31 21:53:43,485 : INFO : PROGRESS: at sentence #800000, processed 20051855 words, keeping 573033 word types\n",
      "2020-03-31 21:53:43,532 : INFO : PROGRESS: at sentence #810000, processed 20276192 words, keeping 576643 word types\n",
      "2020-03-31 21:53:43,582 : INFO : PROGRESS: at sentence #820000, processed 20536068 words, keeping 581488 word types\n",
      "2020-03-31 21:53:43,636 : INFO : PROGRESS: at sentence #830000, processed 20746238 words, keeping 586306 word types\n",
      "2020-03-31 21:53:43,675 : INFO : PROGRESS: at sentence #840000, processed 20987126 words, keeping 591822 word types\n",
      "2020-03-31 21:53:43,721 : INFO : PROGRESS: at sentence #850000, processed 21205413 words, keeping 595525 word types\n",
      "2020-03-31 21:53:43,775 : INFO : PROGRESS: at sentence #860000, processed 21423176 words, keeping 600954 word types\n",
      "2020-03-31 21:53:43,822 : INFO : PROGRESS: at sentence #870000, processed 21681162 words, keeping 605222 word types\n",
      "2020-03-31 21:53:43,870 : INFO : PROGRESS: at sentence #880000, processed 21929633 words, keeping 609239 word types\n",
      "2020-03-31 21:53:43,920 : INFO : PROGRESS: at sentence #890000, processed 22175835 words, keeping 614477 word types\n",
      "2020-03-31 21:53:43,967 : INFO : PROGRESS: at sentence #900000, processed 22408097 words, keeping 619016 word types\n",
      "2020-03-31 21:53:44,035 : INFO : PROGRESS: at sentence #910000, processed 22687230 words, keeping 623996 word types\n",
      "2020-03-31 21:53:44,082 : INFO : PROGRESS: at sentence #920000, processed 22961294 words, keeping 627753 word types\n",
      "2020-03-31 21:53:44,130 : INFO : PROGRESS: at sentence #930000, processed 23201457 words, keeping 632726 word types\n",
      "2020-03-31 21:53:44,185 : INFO : PROGRESS: at sentence #940000, processed 23471085 words, keeping 637272 word types\n",
      "2020-03-31 21:53:44,240 : INFO : PROGRESS: at sentence #950000, processed 23680708 words, keeping 641564 word types\n",
      "2020-03-31 21:53:44,289 : INFO : PROGRESS: at sentence #960000, processed 23939985 words, keeping 645008 word types\n",
      "2020-03-31 21:53:44,343 : INFO : PROGRESS: at sentence #970000, processed 24208541 words, keeping 649100 word types\n",
      "2020-03-31 21:53:44,393 : INFO : PROGRESS: at sentence #980000, processed 24448548 words, keeping 652923 word types\n",
      "2020-03-31 21:53:44,440 : INFO : PROGRESS: at sentence #990000, processed 24687901 words, keeping 657619 word types\n",
      "2020-03-31 21:53:44,493 : INFO : PROGRESS: at sentence #1000000, processed 24906279 words, keeping 661260 word types\n",
      "2020-03-31 21:53:44,541 : INFO : PROGRESS: at sentence #1010000, processed 25207593 words, keeping 667387 word types\n",
      "2020-03-31 21:53:44,593 : INFO : PROGRESS: at sentence #1020000, processed 25463880 words, keeping 671087 word types\n",
      "2020-03-31 21:53:44,663 : INFO : PROGRESS: at sentence #1030000, processed 25756213 words, keeping 676189 word types\n",
      "2020-03-31 21:53:44,717 : INFO : PROGRESS: at sentence #1040000, processed 26036648 words, keeping 684017 word types\n",
      "2020-03-31 21:53:44,783 : INFO : PROGRESS: at sentence #1050000, processed 26314703 words, keeping 687931 word types\n",
      "2020-03-31 21:53:44,843 : INFO : PROGRESS: at sentence #1060000, processed 26605023 words, keeping 693665 word types\n",
      "2020-03-31 21:53:44,897 : INFO : PROGRESS: at sentence #1070000, processed 26902066 words, keeping 697732 word types\n",
      "2020-03-31 21:53:44,983 : INFO : PROGRESS: at sentence #1080000, processed 27174745 words, keeping 702354 word types\n",
      "2020-03-31 21:53:45,036 : INFO : PROGRESS: at sentence #1090000, processed 27419565 words, keeping 706624 word types\n",
      "2020-03-31 21:53:45,088 : INFO : PROGRESS: at sentence #1100000, processed 27673143 words, keeping 710188 word types\n",
      "2020-03-31 21:53:45,134 : INFO : PROGRESS: at sentence #1110000, processed 27925627 words, keeping 713234 word types\n",
      "2020-03-31 21:53:45,183 : INFO : PROGRESS: at sentence #1120000, processed 28165855 words, keeping 718198 word types\n",
      "2020-03-31 21:53:45,231 : INFO : PROGRESS: at sentence #1130000, processed 28396318 words, keeping 721932 word types\n",
      "2020-03-31 21:53:45,277 : INFO : PROGRESS: at sentence #1140000, processed 28653915 words, keeping 726025 word types\n",
      "2020-03-31 21:53:45,327 : INFO : PROGRESS: at sentence #1150000, processed 28879751 words, keeping 729977 word types\n",
      "2020-03-31 21:53:45,378 : INFO : PROGRESS: at sentence #1160000, processed 29096333 words, keeping 734302 word types\n",
      "2020-03-31 21:53:45,421 : INFO : PROGRESS: at sentence #1170000, processed 29321813 words, keeping 738353 word types\n",
      "2020-03-31 21:53:45,470 : INFO : PROGRESS: at sentence #1180000, processed 29608539 words, keeping 742105 word types\n",
      "2020-03-31 21:53:45,539 : INFO : PROGRESS: at sentence #1190000, processed 29887723 words, keeping 746475 word types\n",
      "2020-03-31 21:53:45,571 : INFO : PROGRESS: at sentence #1200000, processed 30105326 words, keeping 749851 word types\n",
      "2020-03-31 21:53:45,625 : INFO : PROGRESS: at sentence #1210000, processed 30354432 words, keeping 753571 word types\n",
      "2020-03-31 21:53:45,679 : INFO : PROGRESS: at sentence #1220000, processed 30610813 words, keeping 757430 word types\n",
      "2020-03-31 21:53:45,741 : INFO : PROGRESS: at sentence #1230000, processed 30884041 words, keeping 762088 word types\n",
      "2020-03-31 21:53:45,788 : INFO : PROGRESS: at sentence #1240000, processed 31126793 words, keeping 766806 word types\n",
      "2020-03-31 21:53:45,832 : INFO : PROGRESS: at sentence #1250000, processed 31396584 words, keeping 770411 word types\n",
      "2020-03-31 21:53:45,886 : INFO : PROGRESS: at sentence #1260000, processed 31654116 words, keeping 773034 word types\n",
      "2020-03-31 21:53:45,940 : INFO : PROGRESS: at sentence #1270000, processed 31940258 words, keeping 778649 word types\n",
      "2020-03-31 21:53:45,994 : INFO : PROGRESS: at sentence #1280000, processed 32144838 words, keeping 782736 word types\n",
      "2020-03-31 21:53:46,045 : INFO : PROGRESS: at sentence #1290000, processed 32394745 words, keeping 786496 word types\n",
      "2020-03-31 21:53:46,076 : INFO : PROGRESS: at sentence #1300000, processed 32597021 words, keeping 790610 word types\n",
      "2020-03-31 21:53:46,145 : INFO : PROGRESS: at sentence #1310000, processed 32898453 words, keeping 793670 word types\n",
      "2020-03-31 21:53:46,194 : INFO : PROGRESS: at sentence #1320000, processed 33178728 words, keeping 798763 word types\n",
      "2020-03-31 21:53:46,261 : INFO : PROGRESS: at sentence #1330000, processed 33465860 words, keeping 801893 word types\n",
      "2020-03-31 21:53:46,302 : INFO : PROGRESS: at sentence #1340000, processed 33683332 words, keeping 805071 word types\n",
      "2020-03-31 21:53:46,342 : INFO : PROGRESS: at sentence #1350000, processed 33923409 words, keeping 810342 word types\n",
      "2020-03-31 21:53:46,410 : INFO : PROGRESS: at sentence #1360000, processed 34216683 words, keeping 814045 word types\n",
      "2020-03-31 21:53:46,458 : INFO : PROGRESS: at sentence #1370000, processed 34495108 words, keeping 817330 word types\n",
      "2020-03-31 21:53:46,507 : INFO : PROGRESS: at sentence #1380000, processed 34717822 words, keeping 822286 word types\n",
      "2020-03-31 21:53:46,557 : INFO : PROGRESS: at sentence #1390000, processed 34991996 words, keeping 826971 word types\n",
      "2020-03-31 21:53:46,604 : INFO : PROGRESS: at sentence #1400000, processed 35254537 words, keeping 831308 word types\n",
      "2020-03-31 21:53:46,655 : INFO : PROGRESS: at sentence #1410000, processed 35489778 words, keeping 834441 word types\n"
     ]
    },
    {
     "name": "stderr",
     "output_type": "stream",
     "text": [
      "2020-03-31 21:53:46,687 : INFO : PROGRESS: at sentence #1420000, processed 35677247 words, keeping 837272 word types\n",
      "2020-03-31 21:53:46,741 : INFO : PROGRESS: at sentence #1430000, processed 35916762 words, keeping 840786 word types\n",
      "2020-03-31 21:53:46,780 : INFO : PROGRESS: at sentence #1440000, processed 36150319 words, keeping 844017 word types\n",
      "2020-03-31 21:53:46,841 : INFO : PROGRESS: at sentence #1450000, processed 36391880 words, keeping 848298 word types\n",
      "2020-03-31 21:53:46,888 : INFO : PROGRESS: at sentence #1460000, processed 36631607 words, keeping 852074 word types\n",
      "2020-03-31 21:53:46,935 : INFO : PROGRESS: at sentence #1470000, processed 36861489 words, keeping 856851 word types\n",
      "2020-03-31 21:53:46,982 : INFO : PROGRESS: at sentence #1480000, processed 37126344 words, keeping 861133 word types\n",
      "2020-03-31 21:53:47,030 : INFO : PROGRESS: at sentence #1490000, processed 37390470 words, keeping 865177 word types\n",
      "2020-03-31 21:53:47,091 : INFO : PROGRESS: at sentence #1500000, processed 37689753 words, keeping 869416 word types\n",
      "2020-03-31 21:53:47,144 : INFO : PROGRESS: at sentence #1510000, processed 37965076 words, keeping 872363 word types\n",
      "2020-03-31 21:53:47,208 : INFO : PROGRESS: at sentence #1520000, processed 38242013 words, keeping 877306 word types\n",
      "2020-03-31 21:53:47,263 : INFO : PROGRESS: at sentence #1530000, processed 38478325 words, keeping 880988 word types\n",
      "2020-03-31 21:53:47,311 : INFO : PROGRESS: at sentence #1540000, processed 38732262 words, keeping 884719 word types\n",
      "2020-03-31 21:53:47,358 : INFO : PROGRESS: at sentence #1550000, processed 38947070 words, keeping 889022 word types\n",
      "2020-03-31 21:53:47,399 : INFO : PROGRESS: at sentence #1560000, processed 39200921 words, keeping 893177 word types\n",
      "2020-03-31 21:53:47,468 : INFO : PROGRESS: at sentence #1570000, processed 39476978 words, keeping 896798 word types\n",
      "2020-03-31 21:53:47,522 : INFO : PROGRESS: at sentence #1580000, processed 39772446 words, keeping 901103 word types\n",
      "2020-03-31 21:53:47,576 : INFO : PROGRESS: at sentence #1590000, processed 40048796 words, keeping 905060 word types\n",
      "2020-03-31 21:53:47,626 : INFO : PROGRESS: at sentence #1600000, processed 40324759 words, keeping 909363 word types\n",
      "2020-03-31 21:53:47,691 : INFO : PROGRESS: at sentence #1610000, processed 40603970 words, keeping 913091 word types\n",
      "2020-03-31 21:53:47,740 : INFO : PROGRESS: at sentence #1620000, processed 40846432 words, keeping 917386 word types\n",
      "2020-03-31 21:53:47,776 : INFO : PROGRESS: at sentence #1630000, processed 41068296 words, keeping 921443 word types\n",
      "2020-03-31 21:53:47,839 : INFO : PROGRESS: at sentence #1640000, processed 41334830 words, keeping 925119 word types\n",
      "2020-03-31 21:53:47,878 : INFO : PROGRESS: at sentence #1650000, processed 41550390 words, keeping 928549 word types\n",
      "2020-03-31 21:53:47,921 : INFO : PROGRESS: at sentence #1660000, processed 41774243 words, keeping 931636 word types\n",
      "2020-03-31 21:53:47,965 : INFO : PROGRESS: at sentence #1670000, processed 41989380 words, keeping 934752 word types\n",
      "2020-03-31 21:53:48,012 : INFO : PROGRESS: at sentence #1680000, processed 42196109 words, keeping 938456 word types\n",
      "2020-03-31 21:53:48,058 : INFO : PROGRESS: at sentence #1690000, processed 42410708 words, keeping 941662 word types\n",
      "2020-03-31 21:53:48,104 : INFO : PROGRESS: at sentence #1700000, processed 42679868 words, keeping 945859 word types\n",
      "2020-03-31 21:53:48,156 : INFO : PROGRESS: at sentence #1710000, processed 42919469 words, keeping 950398 word types\n",
      "2020-03-31 21:53:48,206 : INFO : PROGRESS: at sentence #1720000, processed 43160372 words, keeping 955073 word types\n",
      "2020-03-31 21:53:48,253 : INFO : PROGRESS: at sentence #1730000, processed 43373397 words, keeping 958611 word types\n",
      "2020-03-31 21:53:48,292 : INFO : PROGRESS: at sentence #1740000, processed 43618928 words, keeping 962499 word types\n",
      "2020-03-31 21:53:48,330 : INFO : PROGRESS: at sentence #1750000, processed 43813728 words, keeping 966595 word types\n",
      "2020-03-31 21:53:48,377 : INFO : PROGRESS: at sentence #1760000, processed 44031938 words, keeping 969798 word types\n",
      "2020-03-31 21:53:48,429 : INFO : PROGRESS: at sentence #1770000, processed 44243716 words, keeping 973221 word types\n",
      "2020-03-31 21:53:48,460 : INFO : PROGRESS: at sentence #1780000, processed 44450860 words, keeping 976881 word types\n",
      "2020-03-31 21:53:48,520 : INFO : PROGRESS: at sentence #1790000, processed 44690086 words, keeping 981496 word types\n",
      "2020-03-31 21:53:48,553 : INFO : collected 985150 word types from a corpus of 44832010 raw words and 1796936 sentences\n",
      "2020-03-31 21:53:48,557 : INFO : Loading a fresh vocabulary\n",
      "2020-03-31 21:53:49,061 : INFO : effective_min_count=5 retains 178058 unique words (18% of original 985150, drops 807092)\n",
      "2020-03-31 21:53:49,061 : INFO : effective_min_count=5 leaves 43671889 word corpus (97% of original 44832010, drops 1160121)\n",
      "2020-03-31 21:53:49,598 : INFO : deleting the raw counts dictionary of 985150 items\n",
      "2020-03-31 21:53:49,613 : INFO : sample=0.001 downsamples 33 most-common words\n",
      "2020-03-31 21:53:49,613 : INFO : downsampling leaves estimated 34706266 word corpus (79.5% of prior 43671889)\n",
      "2020-03-31 21:53:50,128 : INFO : estimated required memory for 178058 words and 200 dimensions: 373921800 bytes\n",
      "2020-03-31 21:53:50,128 : INFO : resetting layer weights\n"
     ]
    }
   ],
   "source": [
    "w2v_model.build_vocab(documents)"
   ]
  },
  {
   "cell_type": "code",
   "execution_count": 65,
   "metadata": {},
   "outputs": [
    {
     "name": "stdout",
     "output_type": "stream",
     "text": [
      "Vocab size 178058\n"
     ]
    }
   ],
   "source": [
    "words_w = w2v_model.wv.vocab.keys()\n",
    "#print(len(w2v_model.wv[\"u\"]))\n",
    "#print(list(w2v_model.wv.vocab.items())[0:5])\n",
    "vocab_size = len(words_w)\n",
    "print(\"Vocab size\", vocab_size)"
   ]
  },
  {
   "cell_type": "code",
   "execution_count": 66,
   "metadata": {},
   "outputs": [
    {
     "name": "stderr",
     "output_type": "stream",
     "text": [
      "2020-03-31 21:55:37,506 : INFO : training model with 8 workers on 178058 vocabulary and 200 features, using sg=0 hs=0 sample=0.001 negative=5 window=7\n",
      "2020-03-31 21:55:39,056 : INFO : EPOCH 1 - PROGRESS: at 2.59% examples, 923722 words/s, in_qsize 14, out_qsize 1\n",
      "2020-03-31 21:55:40,085 : INFO : EPOCH 1 - PROGRESS: at 6.00% examples, 1052529 words/s, in_qsize 13, out_qsize 2\n",
      "2020-03-31 21:55:41,087 : INFO : EPOCH 1 - PROGRESS: at 9.37% examples, 1093881 words/s, in_qsize 16, out_qsize 0\n",
      "2020-03-31 21:55:42,117 : INFO : EPOCH 1 - PROGRESS: at 12.93% examples, 1110449 words/s, in_qsize 13, out_qsize 2\n",
      "2020-03-31 21:55:43,132 : INFO : EPOCH 1 - PROGRESS: at 16.58% examples, 1133137 words/s, in_qsize 15, out_qsize 0\n",
      "2020-03-31 21:55:44,134 : INFO : EPOCH 1 - PROGRESS: at 19.94% examples, 1143586 words/s, in_qsize 15, out_qsize 0\n",
      "2020-03-31 21:55:45,143 : INFO : EPOCH 1 - PROGRESS: at 23.72% examples, 1152006 words/s, in_qsize 15, out_qsize 0\n",
      "2020-03-31 21:55:46,149 : INFO : EPOCH 1 - PROGRESS: at 26.96% examples, 1153865 words/s, in_qsize 16, out_qsize 1\n",
      "2020-03-31 21:55:47,149 : INFO : EPOCH 1 - PROGRESS: at 30.11% examples, 1157577 words/s, in_qsize 13, out_qsize 2\n",
      "2020-03-31 21:55:48,156 : INFO : EPOCH 1 - PROGRESS: at 33.63% examples, 1158458 words/s, in_qsize 14, out_qsize 1\n",
      "2020-03-31 21:55:49,165 : INFO : EPOCH 1 - PROGRESS: at 37.05% examples, 1156724 words/s, in_qsize 12, out_qsize 3\n",
      "2020-03-31 21:55:50,169 : INFO : EPOCH 1 - PROGRESS: at 40.57% examples, 1160283 words/s, in_qsize 15, out_qsize 0\n",
      "2020-03-31 21:55:51,181 : INFO : EPOCH 1 - PROGRESS: at 43.85% examples, 1160519 words/s, in_qsize 15, out_qsize 0\n",
      "2020-03-31 21:55:52,181 : INFO : EPOCH 1 - PROGRESS: at 47.45% examples, 1162965 words/s, in_qsize 13, out_qsize 2\n",
      "2020-03-31 21:55:53,203 : INFO : EPOCH 1 - PROGRESS: at 50.87% examples, 1164623 words/s, in_qsize 15, out_qsize 0\n",
      "2020-03-31 21:55:54,209 : INFO : EPOCH 1 - PROGRESS: at 54.32% examples, 1166680 words/s, in_qsize 16, out_qsize 1\n",
      "2020-03-31 21:55:55,222 : INFO : EPOCH 1 - PROGRESS: at 57.55% examples, 1165208 words/s, in_qsize 14, out_qsize 1\n",
      "2020-03-31 21:55:56,220 : INFO : EPOCH 1 - PROGRESS: at 60.67% examples, 1168366 words/s, in_qsize 15, out_qsize 0\n",
      "2020-03-31 21:55:57,227 : INFO : EPOCH 1 - PROGRESS: at 64.21% examples, 1169266 words/s, in_qsize 15, out_qsize 0\n",
      "2020-03-31 21:55:58,222 : INFO : EPOCH 1 - PROGRESS: at 67.56% examples, 1168566 words/s, in_qsize 15, out_qsize 0\n",
      "2020-03-31 21:55:59,242 : INFO : EPOCH 1 - PROGRESS: at 70.80% examples, 1168109 words/s, in_qsize 12, out_qsize 3\n",
      "2020-03-31 21:56:00,248 : INFO : EPOCH 1 - PROGRESS: at 74.09% examples, 1168282 words/s, in_qsize 12, out_qsize 3\n",
      "2020-03-31 21:56:01,264 : INFO : EPOCH 1 - PROGRESS: at 77.46% examples, 1168713 words/s, in_qsize 15, out_qsize 0\n",
      "2020-03-31 21:56:02,266 : INFO : EPOCH 1 - PROGRESS: at 81.11% examples, 1169546 words/s, in_qsize 13, out_qsize 2\n",
      "2020-03-31 21:56:03,281 : INFO : EPOCH 1 - PROGRESS: at 84.30% examples, 1169124 words/s, in_qsize 14, out_qsize 1\n",
      "2020-03-31 21:56:04,291 : INFO : EPOCH 1 - PROGRESS: at 87.63% examples, 1168665 words/s, in_qsize 14, out_qsize 1\n",
      "2020-03-31 21:56:05,292 : INFO : EPOCH 1 - PROGRESS: at 90.84% examples, 1168803 words/s, in_qsize 15, out_qsize 0\n",
      "2020-03-31 21:56:06,304 : INFO : EPOCH 1 - PROGRESS: at 94.45% examples, 1167670 words/s, in_qsize 14, out_qsize 1\n",
      "2020-03-31 21:56:07,306 : INFO : EPOCH 1 - PROGRESS: at 98.19% examples, 1167658 words/s, in_qsize 15, out_qsize 0\n",
      "2020-03-31 21:56:07,769 : INFO : worker thread finished; awaiting finish of 7 more threads\n",
      "2020-03-31 21:56:07,799 : INFO : worker thread finished; awaiting finish of 6 more threads\n",
      "2020-03-31 21:56:07,803 : INFO : worker thread finished; awaiting finish of 5 more threads\n",
      "2020-03-31 21:56:07,807 : INFO : worker thread finished; awaiting finish of 4 more threads\n",
      "2020-03-31 21:56:07,807 : INFO : worker thread finished; awaiting finish of 3 more threads\n",
      "2020-03-31 21:56:07,807 : INFO : worker thread finished; awaiting finish of 2 more threads\n",
      "2020-03-31 21:56:07,815 : INFO : worker thread finished; awaiting finish of 1 more threads\n",
      "2020-03-31 21:56:07,815 : INFO : worker thread finished; awaiting finish of 0 more threads\n",
      "2020-03-31 21:56:07,815 : INFO : EPOCH - 1 : training on 44832010 raw words (34704934 effective words) took 29.8s, 1166126 effective words/s\n",
      "2020-03-31 21:56:08,818 : INFO : EPOCH 2 - PROGRESS: at 3.18% examples, 1152594 words/s, in_qsize 14, out_qsize 1\n",
      "2020-03-31 21:56:09,816 : INFO : EPOCH 2 - PROGRESS: at 6.73% examples, 1179267 words/s, in_qsize 14, out_qsize 1\n",
      "2020-03-31 21:56:10,826 : INFO : EPOCH 2 - PROGRESS: at 10.10% examples, 1183211 words/s, in_qsize 14, out_qsize 1\n",
      "2020-03-31 21:56:11,835 : INFO : EPOCH 2 - PROGRESS: at 13.81% examples, 1194030 words/s, in_qsize 15, out_qsize 0\n",
      "2020-03-31 21:56:12,853 : INFO : EPOCH 2 - PROGRESS: at 17.36% examples, 1196479 words/s, in_qsize 14, out_qsize 1\n",
      "2020-03-31 21:56:13,858 : INFO : EPOCH 2 - PROGRESS: at 20.85% examples, 1198718 words/s, in_qsize 16, out_qsize 0\n",
      "2020-03-31 21:56:14,861 : INFO : EPOCH 2 - PROGRESS: at 24.46% examples, 1196195 words/s, in_qsize 12, out_qsize 3\n",
      "2020-03-31 21:56:15,873 : INFO : EPOCH 2 - PROGRESS: at 27.75% examples, 1194592 words/s, in_qsize 15, out_qsize 0\n",
      "2020-03-31 21:56:16,880 : INFO : EPOCH 2 - PROGRESS: at 31.02% examples, 1199113 words/s, in_qsize 15, out_qsize 0\n",
      "2020-03-31 21:56:17,885 : INFO : EPOCH 2 - PROGRESS: at 34.64% examples, 1195390 words/s, in_qsize 15, out_qsize 0\n",
      "2020-03-31 21:56:18,911 : INFO : EPOCH 2 - PROGRESS: at 38.15% examples, 1190712 words/s, in_qsize 14, out_qsize 1\n",
      "2020-03-31 21:56:19,918 : INFO : EPOCH 2 - PROGRESS: at 41.45% examples, 1187170 words/s, in_qsize 14, out_qsize 1\n",
      "2020-03-31 21:56:20,930 : INFO : EPOCH 2 - PROGRESS: at 44.59% examples, 1185086 words/s, in_qsize 14, out_qsize 1\n",
      "2020-03-31 21:56:21,958 : INFO : EPOCH 2 - PROGRESS: at 48.33% examples, 1184305 words/s, in_qsize 14, out_qsize 1\n",
      "2020-03-31 21:56:22,951 : INFO : EPOCH 2 - PROGRESS: at 51.67% examples, 1183496 words/s, in_qsize 14, out_qsize 1\n",
      "2020-03-31 21:56:23,976 : INFO : EPOCH 2 - PROGRESS: at 55.17% examples, 1184395 words/s, in_qsize 14, out_qsize 1\n",
      "2020-03-31 21:56:24,977 : INFO : EPOCH 2 - PROGRESS: at 58.21% examples, 1182164 words/s, in_qsize 16, out_qsize 2\n",
      "2020-03-31 21:56:25,983 : INFO : EPOCH 2 - PROGRESS: at 61.36% examples, 1182474 words/s, in_qsize 15, out_qsize 0\n",
      "2020-03-31 21:56:26,992 : INFO : EPOCH 2 - PROGRESS: at 65.09% examples, 1183686 words/s, in_qsize 11, out_qsize 4\n",
      "2020-03-31 21:56:27,999 : INFO : EPOCH 2 - PROGRESS: at 68.42% examples, 1184074 words/s, in_qsize 13, out_qsize 1\n",
      "2020-03-31 21:56:29,011 : INFO : EPOCH 2 - PROGRESS: at 71.85% examples, 1184354 words/s, in_qsize 15, out_qsize 0\n",
      "2020-03-31 21:56:30,017 : INFO : EPOCH 2 - PROGRESS: at 75.10% examples, 1183323 words/s, in_qsize 15, out_qsize 0\n",
      "2020-03-31 21:56:31,022 : INFO : EPOCH 2 - PROGRESS: at 78.42% examples, 1183346 words/s, in_qsize 15, out_qsize 0\n",
      "2020-03-31 21:56:32,039 : INFO : EPOCH 2 - PROGRESS: at 82.03% examples, 1181924 words/s, in_qsize 12, out_qsize 3\n",
      "2020-03-31 21:56:33,045 : INFO : EPOCH 2 - PROGRESS: at 85.20% examples, 1182059 words/s, in_qsize 15, out_qsize 0\n",
      "2020-03-31 21:56:34,038 : INFO : EPOCH 2 - PROGRESS: at 88.47% examples, 1182053 words/s, in_qsize 15, out_qsize 0\n",
      "2020-03-31 21:56:35,067 : INFO : EPOCH 2 - PROGRESS: at 91.90% examples, 1182290 words/s, in_qsize 14, out_qsize 1\n",
      "2020-03-31 21:56:36,085 : INFO : EPOCH 2 - PROGRESS: at 95.78% examples, 1183394 words/s, in_qsize 15, out_qsize 0\n",
      "2020-03-31 21:56:37,082 : INFO : EPOCH 2 - PROGRESS: at 99.69% examples, 1183278 words/s, in_qsize 11, out_qsize 0\n",
      "2020-03-31 21:56:37,115 : INFO : worker thread finished; awaiting finish of 7 more threads\n",
      "2020-03-31 21:56:37,125 : INFO : worker thread finished; awaiting finish of 6 more threads\n",
      "2020-03-31 21:56:37,125 : INFO : worker thread finished; awaiting finish of 5 more threads\n",
      "2020-03-31 21:56:37,139 : INFO : worker thread finished; awaiting finish of 4 more threads\n",
      "2020-03-31 21:56:37,151 : INFO : worker thread finished; awaiting finish of 3 more threads\n",
      "2020-03-31 21:56:37,155 : INFO : worker thread finished; awaiting finish of 2 more threads\n"
     ]
    },
    {
     "name": "stderr",
     "output_type": "stream",
     "text": [
      "2020-03-31 21:56:37,167 : INFO : worker thread finished; awaiting finish of 1 more threads\n",
      "2020-03-31 21:56:37,171 : INFO : worker thread finished; awaiting finish of 0 more threads\n",
      "2020-03-31 21:56:37,171 : INFO : EPOCH - 2 : training on 44832010 raw words (34709765 effective words) took 29.4s, 1182583 effective words/s\n",
      "2020-03-31 21:56:38,189 : INFO : EPOCH 3 - PROGRESS: at 3.32% examples, 1179249 words/s, in_qsize 13, out_qsize 2\n",
      "2020-03-31 21:56:39,216 : INFO : EPOCH 3 - PROGRESS: at 7.04% examples, 1207360 words/s, in_qsize 11, out_qsize 4\n",
      "2020-03-31 21:56:40,224 : INFO : EPOCH 3 - PROGRESS: at 10.34% examples, 1197387 words/s, in_qsize 14, out_qsize 1\n",
      "2020-03-31 21:56:41,226 : INFO : EPOCH 3 - PROGRESS: at 13.93% examples, 1193273 words/s, in_qsize 15, out_qsize 0\n",
      "2020-03-31 21:56:42,256 : INFO : EPOCH 3 - PROGRESS: at 17.43% examples, 1190057 words/s, in_qsize 15, out_qsize 0\n",
      "2020-03-31 21:56:43,257 : INFO : EPOCH 3 - PROGRESS: at 20.90% examples, 1191476 words/s, in_qsize 14, out_qsize 1\n",
      "2020-03-31 21:56:44,282 : INFO : EPOCH 3 - PROGRESS: at 24.53% examples, 1191326 words/s, in_qsize 12, out_qsize 3\n",
      "2020-03-31 21:56:45,293 : INFO : EPOCH 3 - PROGRESS: at 27.85% examples, 1189430 words/s, in_qsize 15, out_qsize 0\n",
      "2020-03-31 21:56:46,289 : INFO : EPOCH 3 - PROGRESS: at 30.92% examples, 1187641 words/s, in_qsize 14, out_qsize 1\n",
      "2020-03-31 21:56:47,304 : INFO : EPOCH 3 - PROGRESS: at 34.58% examples, 1186681 words/s, in_qsize 14, out_qsize 1\n",
      "2020-03-31 21:56:48,315 : INFO : EPOCH 3 - PROGRESS: at 38.18% examples, 1186965 words/s, in_qsize 16, out_qsize 0\n",
      "2020-03-31 21:56:49,315 : INFO : EPOCH 3 - PROGRESS: at 41.50% examples, 1185291 words/s, in_qsize 14, out_qsize 1\n",
      "2020-03-31 21:56:50,329 : INFO : EPOCH 3 - PROGRESS: at 44.71% examples, 1183420 words/s, in_qsize 13, out_qsize 2\n",
      "2020-03-31 21:56:51,352 : INFO : EPOCH 3 - PROGRESS: at 48.50% examples, 1185555 words/s, in_qsize 13, out_qsize 2\n",
      "2020-03-31 21:56:52,361 : INFO : EPOCH 3 - PROGRESS: at 51.97% examples, 1188184 words/s, in_qsize 15, out_qsize 0\n",
      "2020-03-31 21:56:53,367 : INFO : EPOCH 3 - PROGRESS: at 55.63% examples, 1190610 words/s, in_qsize 15, out_qsize 0\n",
      "2020-03-31 21:56:54,371 : INFO : EPOCH 3 - PROGRESS: at 58.68% examples, 1190924 words/s, in_qsize 14, out_qsize 1\n",
      "2020-03-31 21:56:55,369 : INFO : EPOCH 3 - PROGRESS: at 61.86% examples, 1189873 words/s, in_qsize 14, out_qsize 1\n",
      "2020-03-31 21:56:56,384 : INFO : EPOCH 3 - PROGRESS: at 65.50% examples, 1189862 words/s, in_qsize 11, out_qsize 4\n",
      "2020-03-31 21:56:57,387 : INFO : EPOCH 3 - PROGRESS: at 68.84% examples, 1189672 words/s, in_qsize 13, out_qsize 2\n",
      "2020-03-31 21:56:58,407 : INFO : EPOCH 3 - PROGRESS: at 72.40% examples, 1189700 words/s, in_qsize 15, out_qsize 0\n",
      "2020-03-31 21:56:59,410 : INFO : EPOCH 3 - PROGRESS: at 75.43% examples, 1187967 words/s, in_qsize 14, out_qsize 1\n",
      "2020-03-31 21:57:00,434 : INFO : EPOCH 3 - PROGRESS: at 78.81% examples, 1185539 words/s, in_qsize 16, out_qsize 1\n",
      "2020-03-31 21:57:01,447 : INFO : EPOCH 3 - PROGRESS: at 82.44% examples, 1185827 words/s, in_qsize 14, out_qsize 1\n",
      "2020-03-31 21:57:02,475 : INFO : EPOCH 3 - PROGRESS: at 85.76% examples, 1186179 words/s, in_qsize 16, out_qsize 0\n",
      "2020-03-31 21:57:03,480 : INFO : EPOCH 3 - PROGRESS: at 89.01% examples, 1186326 words/s, in_qsize 15, out_qsize 0\n",
      "2020-03-31 21:57:04,483 : INFO : EPOCH 3 - PROGRESS: at 92.49% examples, 1186036 words/s, in_qsize 14, out_qsize 1\n",
      "2020-03-31 21:57:05,490 : INFO : EPOCH 3 - PROGRESS: at 96.21% examples, 1185109 words/s, in_qsize 14, out_qsize 1\n",
      "2020-03-31 21:57:06,442 : INFO : worker thread finished; awaiting finish of 7 more threads\n",
      "2020-03-31 21:57:06,473 : INFO : worker thread finished; awaiting finish of 6 more threads\n",
      "2020-03-31 21:57:06,473 : INFO : worker thread finished; awaiting finish of 5 more threads\n",
      "2020-03-31 21:57:06,473 : INFO : worker thread finished; awaiting finish of 4 more threads\n",
      "2020-03-31 21:57:06,476 : INFO : worker thread finished; awaiting finish of 3 more threads\n",
      "2020-03-31 21:57:06,476 : INFO : worker thread finished; awaiting finish of 2 more threads\n",
      "2020-03-31 21:57:06,480 : INFO : worker thread finished; awaiting finish of 1 more threads\n",
      "2020-03-31 21:57:06,480 : INFO : worker thread finished; awaiting finish of 0 more threads\n",
      "2020-03-31 21:57:06,480 : INFO : EPOCH - 3 : training on 44832010 raw words (34707344 effective words) took 29.3s, 1184608 effective words/s\n",
      "2020-03-31 21:57:07,488 : INFO : EPOCH 4 - PROGRESS: at 3.38% examples, 1208304 words/s, in_qsize 15, out_qsize 0\n",
      "2020-03-31 21:57:08,496 : INFO : EPOCH 4 - PROGRESS: at 6.99% examples, 1214326 words/s, in_qsize 15, out_qsize 0\n",
      "2020-03-31 21:57:09,504 : INFO : EPOCH 4 - PROGRESS: at 10.36% examples, 1209557 words/s, in_qsize 14, out_qsize 1\n",
      "2020-03-31 21:57:10,511 : INFO : EPOCH 4 - PROGRESS: at 14.03% examples, 1209627 words/s, in_qsize 15, out_qsize 0\n",
      "2020-03-31 21:57:11,521 : INFO : EPOCH 4 - PROGRESS: at 17.52% examples, 1206028 words/s, in_qsize 13, out_qsize 2\n",
      "2020-03-31 21:57:12,532 : INFO : EPOCH 4 - PROGRESS: at 21.05% examples, 1205465 words/s, in_qsize 14, out_qsize 1\n",
      "2020-03-31 21:57:13,541 : INFO : EPOCH 4 - PROGRESS: at 24.60% examples, 1202693 words/s, in_qsize 15, out_qsize 0\n",
      "2020-03-31 21:57:14,541 : INFO : EPOCH 4 - PROGRESS: at 27.93% examples, 1200814 words/s, in_qsize 15, out_qsize 0\n",
      "2020-03-31 21:57:15,549 : INFO : EPOCH 4 - PROGRESS: at 31.17% examples, 1201711 words/s, in_qsize 14, out_qsize 1\n",
      "2020-03-31 21:57:16,553 : INFO : EPOCH 4 - PROGRESS: at 34.84% examples, 1199613 words/s, in_qsize 15, out_qsize 0\n",
      "2020-03-31 21:57:17,564 : INFO : EPOCH 4 - PROGRESS: at 38.44% examples, 1199885 words/s, in_qsize 15, out_qsize 0\n",
      "2020-03-31 21:57:18,568 : INFO : EPOCH 4 - PROGRESS: at 41.78% examples, 1198432 words/s, in_qsize 15, out_qsize 0\n",
      "2020-03-31 21:57:19,591 : INFO : EPOCH 4 - PROGRESS: at 45.16% examples, 1199418 words/s, in_qsize 14, out_qsize 1\n",
      "2020-03-31 21:57:20,587 : INFO : EPOCH 4 - PROGRESS: at 48.84% examples, 1199437 words/s, in_qsize 14, out_qsize 1\n",
      "2020-03-31 21:57:21,616 : INFO : EPOCH 4 - PROGRESS: at 52.24% examples, 1198450 words/s, in_qsize 13, out_qsize 2\n",
      "2020-03-31 21:57:22,617 : INFO : EPOCH 4 - PROGRESS: at 55.78% examples, 1198974 words/s, in_qsize 14, out_qsize 1\n",
      "2020-03-31 21:57:23,639 : INFO : EPOCH 4 - PROGRESS: at 58.92% examples, 1198771 words/s, in_qsize 13, out_qsize 2\n",
      "2020-03-31 21:57:24,662 : INFO : EPOCH 4 - PROGRESS: at 62.36% examples, 1199702 words/s, in_qsize 15, out_qsize 0\n",
      "2020-03-31 21:57:25,676 : INFO : EPOCH 4 - PROGRESS: at 65.96% examples, 1199809 words/s, in_qsize 15, out_qsize 0\n",
      "2020-03-31 21:57:26,698 : INFO : EPOCH 4 - PROGRESS: at 69.41% examples, 1198169 words/s, in_qsize 11, out_qsize 4\n",
      "2020-03-31 21:57:27,716 : INFO : EPOCH 4 - PROGRESS: at 72.84% examples, 1199014 words/s, in_qsize 14, out_qsize 1\n",
      "2020-03-31 21:57:28,710 : INFO : EPOCH 4 - PROGRESS: at 75.96% examples, 1197967 words/s, in_qsize 16, out_qsize 0\n",
      "2020-03-31 21:57:29,712 : INFO : EPOCH 4 - PROGRESS: at 79.69% examples, 1198872 words/s, in_qsize 13, out_qsize 2\n",
      "2020-03-31 21:57:30,728 : INFO : EPOCH 4 - PROGRESS: at 83.15% examples, 1198492 words/s, in_qsize 15, out_qsize 0\n",
      "2020-03-31 21:57:31,741 : INFO : EPOCH 4 - PROGRESS: at 86.56% examples, 1197909 words/s, in_qsize 14, out_qsize 1\n",
      "2020-03-31 21:57:32,760 : INFO : EPOCH 4 - PROGRESS: at 89.65% examples, 1197485 words/s, in_qsize 14, out_qsize 1\n",
      "2020-03-31 21:57:33,759 : INFO : EPOCH 4 - PROGRESS: at 93.47% examples, 1197874 words/s, in_qsize 15, out_qsize 0\n",
      "2020-03-31 21:57:34,761 : INFO : EPOCH 4 - PROGRESS: at 97.14% examples, 1197352 words/s, in_qsize 14, out_qsize 1\n",
      "2020-03-31 21:57:35,437 : INFO : worker thread finished; awaiting finish of 7 more threads\n",
      "2020-03-31 21:57:35,458 : INFO : worker thread finished; awaiting finish of 6 more threads\n",
      "2020-03-31 21:57:35,458 : INFO : worker thread finished; awaiting finish of 5 more threads\n",
      "2020-03-31 21:57:35,458 : INFO : worker thread finished; awaiting finish of 4 more threads\n",
      "2020-03-31 21:57:35,467 : INFO : worker thread finished; awaiting finish of 3 more threads\n",
      "2020-03-31 21:57:35,467 : INFO : worker thread finished; awaiting finish of 2 more threads\n",
      "2020-03-31 21:57:35,467 : INFO : worker thread finished; awaiting finish of 1 more threads\n"
     ]
    },
    {
     "name": "stderr",
     "output_type": "stream",
     "text": [
      "2020-03-31 21:57:35,467 : INFO : worker thread finished; awaiting finish of 0 more threads\n",
      "2020-03-31 21:57:35,467 : INFO : EPOCH - 4 : training on 44832010 raw words (34710098 effective words) took 29.0s, 1197633 effective words/s\n",
      "2020-03-31 21:57:36,476 : INFO : EPOCH 5 - PROGRESS: at 3.38% examples, 1211296 words/s, in_qsize 15, out_qsize 0\n",
      "2020-03-31 21:57:37,498 : INFO : EPOCH 5 - PROGRESS: at 6.84% examples, 1192363 words/s, in_qsize 15, out_qsize 0\n",
      "2020-03-31 21:57:38,488 : INFO : EPOCH 5 - PROGRESS: at 10.30% examples, 1203005 words/s, in_qsize 15, out_qsize 0\n",
      "2020-03-31 21:57:39,500 : INFO : EPOCH 5 - PROGRESS: at 13.86% examples, 1193697 words/s, in_qsize 13, out_qsize 2\n",
      "2020-03-31 21:57:40,512 : INFO : EPOCH 5 - PROGRESS: at 17.36% examples, 1194648 words/s, in_qsize 14, out_qsize 1\n",
      "2020-03-31 21:57:41,515 : INFO : EPOCH 5 - PROGRESS: at 20.79% examples, 1194075 words/s, in_qsize 15, out_qsize 0\n",
      "2020-03-31 21:57:42,525 : INFO : EPOCH 5 - PROGRESS: at 24.39% examples, 1192313 words/s, in_qsize 14, out_qsize 1\n",
      "2020-03-31 21:57:43,525 : INFO : EPOCH 5 - PROGRESS: at 27.63% examples, 1191072 words/s, in_qsize 14, out_qsize 1\n",
      "2020-03-31 21:57:44,527 : INFO : EPOCH 5 - PROGRESS: at 30.82% examples, 1190693 words/s, in_qsize 15, out_qsize 0\n",
      "2020-03-31 21:57:45,533 : INFO : EPOCH 5 - PROGRESS: at 34.46% examples, 1189241 words/s, in_qsize 15, out_qsize 0\n",
      "2020-03-31 21:57:46,540 : INFO : EPOCH 5 - PROGRESS: at 37.95% examples, 1187684 words/s, in_qsize 15, out_qsize 0\n",
      "2020-03-31 21:57:47,536 : INFO : EPOCH 5 - PROGRESS: at 41.23% examples, 1186195 words/s, in_qsize 14, out_qsize 1\n",
      "2020-03-31 21:57:48,543 : INFO : EPOCH 5 - PROGRESS: at 44.50% examples, 1186056 words/s, in_qsize 13, out_qsize 2\n",
      "2020-03-31 21:57:49,560 : INFO : EPOCH 5 - PROGRESS: at 48.21% examples, 1185434 words/s, in_qsize 15, out_qsize 0\n",
      "2020-03-31 21:57:50,552 : INFO : EPOCH 5 - PROGRESS: at 51.58% examples, 1186001 words/s, in_qsize 14, out_qsize 1\n",
      "2020-03-31 21:57:51,572 : INFO : EPOCH 5 - PROGRESS: at 55.04% examples, 1185941 words/s, in_qsize 16, out_qsize 1\n",
      "2020-03-31 21:57:52,572 : INFO : EPOCH 5 - PROGRESS: at 58.23% examples, 1186959 words/s, in_qsize 16, out_qsize 0\n",
      "2020-03-31 21:57:53,572 : INFO : EPOCH 5 - PROGRESS: at 61.44% examples, 1187820 words/s, in_qsize 15, out_qsize 0\n",
      "2020-03-31 21:57:54,576 : INFO : EPOCH 5 - PROGRESS: at 65.18% examples, 1189431 words/s, in_qsize 15, out_qsize 0\n",
      "2020-03-31 21:57:55,586 : INFO : EPOCH 5 - PROGRESS: at 68.42% examples, 1188154 words/s, in_qsize 15, out_qsize 0\n",
      "2020-03-31 21:57:56,591 : INFO : EPOCH 5 - PROGRESS: at 71.87% examples, 1189102 words/s, in_qsize 14, out_qsize 1\n",
      "2020-03-31 21:57:57,598 : INFO : EPOCH 5 - PROGRESS: at 75.21% examples, 1188340 words/s, in_qsize 14, out_qsize 1\n",
      "2020-03-31 21:57:58,619 : INFO : EPOCH 5 - PROGRESS: at 78.62% examples, 1188867 words/s, in_qsize 14, out_qsize 1\n",
      "2020-03-31 21:57:59,623 : INFO : EPOCH 5 - PROGRESS: at 82.34% examples, 1189722 words/s, in_qsize 14, out_qsize 1\n",
      "2020-03-31 21:58:00,638 : INFO : EPOCH 5 - PROGRESS: at 85.54% examples, 1189341 words/s, in_qsize 13, out_qsize 2\n",
      "2020-03-31 21:58:01,653 : INFO : EPOCH 5 - PROGRESS: at 88.83% examples, 1188926 words/s, in_qsize 15, out_qsize 0\n",
      "2020-03-31 21:58:02,656 : INFO : EPOCH 5 - PROGRESS: at 92.02% examples, 1186488 words/s, in_qsize 14, out_qsize 1\n",
      "2020-03-31 21:58:03,681 : INFO : EPOCH 5 - PROGRESS: at 96.02% examples, 1187691 words/s, in_qsize 14, out_qsize 1\n",
      "2020-03-31 21:58:04,638 : INFO : worker thread finished; awaiting finish of 7 more threads\n",
      "2020-03-31 21:58:04,658 : INFO : worker thread finished; awaiting finish of 6 more threads\n",
      "2020-03-31 21:58:04,658 : INFO : worker thread finished; awaiting finish of 5 more threads\n",
      "2020-03-31 21:58:04,662 : INFO : worker thread finished; awaiting finish of 4 more threads\n",
      "2020-03-31 21:58:04,668 : INFO : worker thread finished; awaiting finish of 3 more threads\n",
      "2020-03-31 21:58:04,668 : INFO : worker thread finished; awaiting finish of 2 more threads\n",
      "2020-03-31 21:58:04,671 : INFO : worker thread finished; awaiting finish of 1 more threads\n",
      "2020-03-31 21:58:04,679 : INFO : worker thread finished; awaiting finish of 0 more threads\n",
      "2020-03-31 21:58:04,679 : INFO : EPOCH - 5 : training on 44832010 raw words (34706331 effective words) took 29.2s, 1188449 effective words/s\n",
      "2020-03-31 21:58:05,680 : INFO : EPOCH 6 - PROGRESS: at 3.37% examples, 1212231 words/s, in_qsize 15, out_qsize 0\n",
      "2020-03-31 21:58:06,686 : INFO : EPOCH 6 - PROGRESS: at 6.81% examples, 1196864 words/s, in_qsize 15, out_qsize 0\n",
      "2020-03-31 21:58:07,703 : INFO : EPOCH 6 - PROGRESS: at 9.94% examples, 1160102 words/s, in_qsize 15, out_qsize 0\n",
      "2020-03-31 21:58:08,719 : INFO : EPOCH 6 - PROGRESS: at 13.35% examples, 1153045 words/s, in_qsize 13, out_qsize 2\n",
      "2020-03-31 21:58:09,733 : INFO : EPOCH 6 - PROGRESS: at 16.81% examples, 1154328 words/s, in_qsize 14, out_qsize 1\n",
      "2020-03-31 21:58:10,734 : INFO : EPOCH 6 - PROGRESS: at 20.20% examples, 1161032 words/s, in_qsize 14, out_qsize 1\n",
      "2020-03-31 21:58:11,751 : INFO : EPOCH 6 - PROGRESS: at 23.88% examples, 1165164 words/s, in_qsize 15, out_qsize 0\n",
      "2020-03-31 21:58:12,766 : INFO : EPOCH 6 - PROGRESS: at 27.09% examples, 1161900 words/s, in_qsize 14, out_qsize 1\n",
      "2020-03-31 21:58:13,764 : INFO : EPOCH 6 - PROGRESS: at 30.32% examples, 1168011 words/s, in_qsize 14, out_qsize 1\n",
      "2020-03-31 21:58:14,769 : INFO : EPOCH 6 - PROGRESS: at 33.77% examples, 1164595 words/s, in_qsize 14, out_qsize 1\n",
      "2020-03-31 21:58:15,784 : INFO : EPOCH 6 - PROGRESS: at 37.29% examples, 1163774 words/s, in_qsize 16, out_qsize 4\n",
      "2020-03-31 21:58:16,791 : INFO : EPOCH 6 - PROGRESS: at 40.63% examples, 1163527 words/s, in_qsize 15, out_qsize 0\n",
      "2020-03-31 21:58:17,801 : INFO : EPOCH 6 - PROGRESS: at 43.91% examples, 1163732 words/s, in_qsize 14, out_qsize 1\n",
      "2020-03-31 21:58:18,808 : INFO : EPOCH 6 - PROGRESS: at 47.50% examples, 1165069 words/s, in_qsize 15, out_qsize 0\n",
      "2020-03-31 21:58:19,807 : INFO : EPOCH 6 - PROGRESS: at 50.91% examples, 1167263 words/s, in_qsize 15, out_qsize 0\n",
      "2020-03-31 21:58:20,818 : INFO : EPOCH 6 - PROGRESS: at 54.36% examples, 1168560 words/s, in_qsize 14, out_qsize 1\n",
      "2020-03-31 21:58:21,847 : INFO : EPOCH 6 - PROGRESS: at 57.72% examples, 1170147 words/s, in_qsize 15, out_qsize 0\n",
      "2020-03-31 21:58:22,844 : INFO : EPOCH 6 - PROGRESS: at 60.77% examples, 1170887 words/s, in_qsize 15, out_qsize 0\n",
      "2020-03-31 21:58:23,856 : INFO : EPOCH 6 - PROGRESS: at 64.28% examples, 1170921 words/s, in_qsize 15, out_qsize 0\n",
      "2020-03-31 21:58:24,862 : INFO : EPOCH 6 - PROGRESS: at 67.74% examples, 1171557 words/s, in_qsize 15, out_qsize 0\n",
      "2020-03-31 21:58:25,867 : INFO : EPOCH 6 - PROGRESS: at 71.11% examples, 1173524 words/s, in_qsize 15, out_qsize 0\n",
      "2020-03-31 21:58:26,878 : INFO : EPOCH 6 - PROGRESS: at 74.48% examples, 1173972 words/s, in_qsize 15, out_qsize 0\n",
      "2020-03-31 21:58:27,887 : INFO : EPOCH 6 - PROGRESS: at 77.75% examples, 1174350 words/s, in_qsize 13, out_qsize 2\n",
      "2020-03-31 21:58:28,894 : INFO : EPOCH 6 - PROGRESS: at 81.44% examples, 1174987 words/s, in_qsize 16, out_qsize 0\n",
      "2020-03-31 21:58:29,890 : INFO : EPOCH 6 - PROGRESS: at 84.66% examples, 1175288 words/s, in_qsize 14, out_qsize 1\n",
      "2020-03-31 21:58:30,917 : INFO : EPOCH 6 - PROGRESS: at 88.11% examples, 1176937 words/s, in_qsize 15, out_qsize 0\n",
      "2020-03-31 21:58:31,911 : INFO : EPOCH 6 - PROGRESS: at 91.43% examples, 1177341 words/s, in_qsize 14, out_qsize 1\n",
      "2020-03-31 21:58:32,924 : INFO : EPOCH 6 - PROGRESS: at 95.26% examples, 1177872 words/s, in_qsize 15, out_qsize 0\n",
      "2020-03-31 21:58:33,925 : INFO : EPOCH 6 - PROGRESS: at 99.08% examples, 1176913 words/s, in_qsize 14, out_qsize 1\n",
      "2020-03-31 21:58:34,110 : INFO : worker thread finished; awaiting finish of 7 more threads\n",
      "2020-03-31 21:58:34,135 : INFO : worker thread finished; awaiting finish of 6 more threads\n",
      "2020-03-31 21:58:34,176 : INFO : worker thread finished; awaiting finish of 5 more threads\n",
      "2020-03-31 21:58:34,176 : INFO : worker thread finished; awaiting finish of 4 more threads\n",
      "2020-03-31 21:58:34,180 : INFO : worker thread finished; awaiting finish of 3 more threads\n",
      "2020-03-31 21:58:34,180 : INFO : worker thread finished; awaiting finish of 2 more threads\n"
     ]
    },
    {
     "name": "stderr",
     "output_type": "stream",
     "text": [
      "2020-03-31 21:58:34,180 : INFO : worker thread finished; awaiting finish of 1 more threads\n",
      "2020-03-31 21:58:34,188 : INFO : worker thread finished; awaiting finish of 0 more threads\n",
      "2020-03-31 21:58:34,188 : INFO : EPOCH - 6 : training on 44832010 raw words (34707920 effective words) took 29.5s, 1176424 effective words/s\n",
      "2020-03-31 21:58:35,192 : INFO : EPOCH 7 - PROGRESS: at 3.39% examples, 1220656 words/s, in_qsize 15, out_qsize 0\n",
      "2020-03-31 21:58:36,200 : INFO : EPOCH 7 - PROGRESS: at 6.90% examples, 1206579 words/s, in_qsize 14, out_qsize 1\n",
      "2020-03-31 21:58:37,211 : INFO : EPOCH 7 - PROGRESS: at 10.31% examples, 1203460 words/s, in_qsize 15, out_qsize 0\n",
      "2020-03-31 21:58:38,214 : INFO : EPOCH 7 - PROGRESS: at 13.99% examples, 1206591 words/s, in_qsize 15, out_qsize 0\n",
      "2020-03-31 21:58:39,239 : INFO : EPOCH 7 - PROGRESS: at 17.43% examples, 1197246 words/s, in_qsize 13, out_qsize 2\n",
      "2020-03-31 21:58:40,250 : INFO : EPOCH 7 - PROGRESS: at 21.05% examples, 1204636 words/s, in_qsize 15, out_qsize 0\n",
      "2020-03-31 21:58:41,267 : INFO : EPOCH 7 - PROGRESS: at 24.57% examples, 1198714 words/s, in_qsize 15, out_qsize 0\n",
      "2020-03-31 21:58:42,269 : INFO : EPOCH 7 - PROGRESS: at 27.94% examples, 1199356 words/s, in_qsize 14, out_qsize 1\n",
      "2020-03-31 21:58:43,285 : INFO : EPOCH 7 - PROGRESS: at 31.16% examples, 1199976 words/s, in_qsize 14, out_qsize 1\n",
      "2020-03-31 21:58:44,285 : INFO : EPOCH 7 - PROGRESS: at 34.91% examples, 1199454 words/s, in_qsize 15, out_qsize 0\n",
      "2020-03-31 21:58:45,299 : INFO : EPOCH 7 - PROGRESS: at 38.48% examples, 1198179 words/s, in_qsize 16, out_qsize 0\n",
      "2020-03-31 21:58:46,300 : INFO : EPOCH 7 - PROGRESS: at 41.82% examples, 1195953 words/s, in_qsize 12, out_qsize 3\n",
      "2020-03-31 21:58:47,328 : INFO : EPOCH 7 - PROGRESS: at 45.08% examples, 1194856 words/s, in_qsize 15, out_qsize 0\n",
      "2020-03-31 21:58:48,337 : INFO : EPOCH 7 - PROGRESS: at 48.77% examples, 1194164 words/s, in_qsize 15, out_qsize 0\n",
      "2020-03-31 21:58:49,360 : INFO : EPOCH 7 - PROGRESS: at 52.19% examples, 1194461 words/s, in_qsize 14, out_qsize 1\n",
      "2020-03-31 21:58:50,358 : INFO : EPOCH 7 - PROGRESS: at 55.64% examples, 1192064 words/s, in_qsize 14, out_qsize 1\n",
      "2020-03-31 21:58:51,363 : INFO : EPOCH 7 - PROGRESS: at 58.71% examples, 1192469 words/s, in_qsize 13, out_qsize 2\n",
      "2020-03-31 21:58:52,392 : INFO : EPOCH 7 - PROGRESS: at 61.87% examples, 1190192 words/s, in_qsize 13, out_qsize 2\n",
      "2020-03-31 21:58:53,393 : INFO : EPOCH 7 - PROGRESS: at 65.62% examples, 1193273 words/s, in_qsize 15, out_qsize 0\n",
      "2020-03-31 21:58:54,398 : INFO : EPOCH 7 - PROGRESS: at 68.94% examples, 1191882 words/s, in_qsize 15, out_qsize 0\n",
      "2020-03-31 21:58:55,394 : INFO : EPOCH 7 - PROGRESS: at 72.35% examples, 1190219 words/s, in_qsize 13, out_qsize 2\n",
      "2020-03-31 21:58:56,395 : INFO : EPOCH 7 - PROGRESS: at 75.44% examples, 1189869 words/s, in_qsize 14, out_qsize 1\n",
      "2020-03-31 21:58:57,404 : INFO : EPOCH 7 - PROGRESS: at 79.04% examples, 1190547 words/s, in_qsize 16, out_qsize 0\n",
      "2020-03-31 21:58:58,401 : INFO : EPOCH 7 - PROGRESS: at 82.56% examples, 1190249 words/s, in_qsize 15, out_qsize 0\n",
      "2020-03-31 21:58:59,406 : INFO : EPOCH 7 - PROGRESS: at 85.86% examples, 1190949 words/s, in_qsize 14, out_qsize 1\n",
      "2020-03-31 21:59:00,412 : INFO : EPOCH 7 - PROGRESS: at 88.94% examples, 1188995 words/s, in_qsize 15, out_qsize 0\n",
      "2020-03-31 21:59:01,423 : INFO : EPOCH 7 - PROGRESS: at 92.13% examples, 1185795 words/s, in_qsize 15, out_qsize 0\n",
      "2020-03-31 21:59:02,441 : INFO : EPOCH 7 - PROGRESS: at 95.78% examples, 1184072 words/s, in_qsize 15, out_qsize 0\n",
      "2020-03-31 21:59:03,449 : INFO : EPOCH 7 - PROGRESS: at 99.60% examples, 1182525 words/s, in_qsize 14, out_qsize 1\n",
      "2020-03-31 21:59:03,508 : INFO : worker thread finished; awaiting finish of 7 more threads\n",
      "2020-03-31 21:59:03,521 : INFO : worker thread finished; awaiting finish of 6 more threads\n",
      "2020-03-31 21:59:03,533 : INFO : worker thread finished; awaiting finish of 5 more threads\n",
      "2020-03-31 21:59:03,537 : INFO : worker thread finished; awaiting finish of 4 more threads\n",
      "2020-03-31 21:59:03,545 : INFO : worker thread finished; awaiting finish of 3 more threads\n",
      "2020-03-31 21:59:03,545 : INFO : worker thread finished; awaiting finish of 2 more threads\n",
      "2020-03-31 21:59:03,549 : INFO : worker thread finished; awaiting finish of 1 more threads\n",
      "2020-03-31 21:59:03,561 : INFO : worker thread finished; awaiting finish of 0 more threads\n",
      "2020-03-31 21:59:03,565 : INFO : EPOCH - 7 : training on 44832010 raw words (34707556 effective words) took 29.4s, 1181874 effective words/s\n",
      "2020-03-31 21:59:04,621 : INFO : EPOCH 8 - PROGRESS: at 3.32% examples, 1186673 words/s, in_qsize 13, out_qsize 2\n",
      "2020-03-31 21:59:05,640 : INFO : EPOCH 8 - PROGRESS: at 6.75% examples, 1160317 words/s, in_qsize 15, out_qsize 0\n",
      "2020-03-31 21:59:06,662 : INFO : EPOCH 8 - PROGRESS: at 10.05% examples, 1159452 words/s, in_qsize 14, out_qsize 1\n",
      "2020-03-31 21:59:07,678 : INFO : EPOCH 8 - PROGRESS: at 13.51% examples, 1156173 words/s, in_qsize 15, out_qsize 0\n",
      "2020-03-31 21:59:08,670 : INFO : EPOCH 8 - PROGRESS: at 17.04% examples, 1166735 words/s, in_qsize 14, out_qsize 1\n",
      "2020-03-31 21:59:09,685 : INFO : EPOCH 8 - PROGRESS: at 20.43% examples, 1169567 words/s, in_qsize 15, out_qsize 0\n",
      "2020-03-31 21:59:10,693 : INFO : EPOCH 8 - PROGRESS: at 24.03% examples, 1167710 words/s, in_qsize 15, out_qsize 0\n",
      "2020-03-31 21:59:11,694 : INFO : EPOCH 8 - PROGRESS: at 27.21% examples, 1165068 words/s, in_qsize 15, out_qsize 0\n",
      "2020-03-31 21:59:12,720 : INFO : EPOCH 8 - PROGRESS: at 30.49% examples, 1171225 words/s, in_qsize 15, out_qsize 0\n",
      "2020-03-31 21:59:13,722 : INFO : EPOCH 8 - PROGRESS: at 34.10% examples, 1172029 words/s, in_qsize 15, out_qsize 0\n",
      "2020-03-31 21:59:14,747 : INFO : EPOCH 8 - PROGRESS: at 37.65% examples, 1170801 words/s, in_qsize 12, out_qsize 3\n",
      "2020-03-31 21:59:15,753 : INFO : EPOCH 8 - PROGRESS: at 41.00% examples, 1170914 words/s, in_qsize 14, out_qsize 1\n",
      "2020-03-31 21:59:16,756 : INFO : EPOCH 8 - PROGRESS: at 44.30% examples, 1173551 words/s, in_qsize 15, out_qsize 0\n",
      "2020-03-31 21:59:17,766 : INFO : EPOCH 8 - PROGRESS: at 48.00% examples, 1173312 words/s, in_qsize 15, out_qsize 0\n",
      "2020-03-31 21:59:18,758 : INFO : EPOCH 8 - PROGRESS: at 51.29% examples, 1173632 words/s, in_qsize 15, out_qsize 0\n",
      "2020-03-31 21:59:19,776 : INFO : EPOCH 8 - PROGRESS: at 54.76% examples, 1174394 words/s, in_qsize 14, out_qsize 1\n",
      "2020-03-31 21:59:20,787 : INFO : EPOCH 8 - PROGRESS: at 57.91% examples, 1174106 words/s, in_qsize 15, out_qsize 0\n",
      "2020-03-31 21:59:21,788 : INFO : EPOCH 8 - PROGRESS: at 61.00% examples, 1173947 words/s, in_qsize 14, out_qsize 1\n",
      "2020-03-31 21:59:22,795 : INFO : EPOCH 8 - PROGRESS: at 64.66% examples, 1175436 words/s, in_qsize 14, out_qsize 1\n",
      "2020-03-31 21:59:23,807 : INFO : EPOCH 8 - PROGRESS: at 68.11% examples, 1177019 words/s, in_qsize 14, out_qsize 1\n",
      "2020-03-31 21:59:24,818 : INFO : EPOCH 8 - PROGRESS: at 71.56% examples, 1177709 words/s, in_qsize 14, out_qsize 1\n",
      "2020-03-31 21:59:25,810 : INFO : EPOCH 8 - PROGRESS: at 74.74% examples, 1176750 words/s, in_qsize 14, out_qsize 1\n",
      "2020-03-31 21:59:26,820 : INFO : EPOCH 8 - PROGRESS: at 78.03% examples, 1177215 words/s, in_qsize 14, out_qsize 1\n",
      "2020-03-31 21:59:27,836 : INFO : EPOCH 8 - PROGRESS: at 81.78% examples, 1177465 words/s, in_qsize 14, out_qsize 1\n",
      "2020-03-31 21:59:28,834 : INFO : EPOCH 8 - PROGRESS: at 84.99% examples, 1178181 words/s, in_qsize 14, out_qsize 1\n",
      "2020-03-31 21:59:29,843 : INFO : EPOCH 8 - PROGRESS: at 88.34% examples, 1179176 words/s, in_qsize 15, out_qsize 0\n",
      "2020-03-31 21:59:30,852 : INFO : EPOCH 8 - PROGRESS: at 91.72% examples, 1179698 words/s, in_qsize 14, out_qsize 1\n",
      "2020-03-31 21:59:31,868 : INFO : EPOCH 8 - PROGRESS: at 95.55% examples, 1180324 words/s, in_qsize 15, out_qsize 0\n",
      "2020-03-31 21:59:32,891 : INFO : EPOCH 8 - PROGRESS: at 99.48% examples, 1180278 words/s, in_qsize 14, out_qsize 1\n",
      "2020-03-31 21:59:32,985 : INFO : worker thread finished; awaiting finish of 7 more threads\n",
      "2020-03-31 21:59:32,985 : INFO : worker thread finished; awaiting finish of 6 more threads\n",
      "2020-03-31 21:59:32,985 : INFO : worker thread finished; awaiting finish of 5 more threads\n",
      "2020-03-31 21:59:32,999 : INFO : worker thread finished; awaiting finish of 4 more threads\n"
     ]
    },
    {
     "name": "stderr",
     "output_type": "stream",
     "text": [
      "2020-03-31 21:59:33,005 : INFO : worker thread finished; awaiting finish of 3 more threads\n",
      "2020-03-31 21:59:33,009 : INFO : worker thread finished; awaiting finish of 2 more threads\n",
      "2020-03-31 21:59:33,009 : INFO : worker thread finished; awaiting finish of 1 more threads\n",
      "2020-03-31 21:59:33,021 : INFO : worker thread finished; awaiting finish of 0 more threads\n",
      "2020-03-31 21:59:33,021 : INFO : EPOCH - 8 : training on 44832010 raw words (34706511 effective words) took 29.4s, 1179923 effective words/s\n",
      "2020-03-31 21:59:34,032 : INFO : EPOCH 9 - PROGRESS: at 3.37% examples, 1213345 words/s, in_qsize 14, out_qsize 1\n",
      "2020-03-31 21:59:35,030 : INFO : EPOCH 9 - PROGRESS: at 6.93% examples, 1217923 words/s, in_qsize 13, out_qsize 2\n",
      "2020-03-31 21:59:36,051 : INFO : EPOCH 9 - PROGRESS: at 10.38% examples, 1210706 words/s, in_qsize 12, out_qsize 3\n",
      "2020-03-31 21:59:37,056 : INFO : EPOCH 9 - PROGRESS: at 14.02% examples, 1209612 words/s, in_qsize 14, out_qsize 1\n",
      "2020-03-31 21:59:38,071 : INFO : EPOCH 9 - PROGRESS: at 17.59% examples, 1207687 words/s, in_qsize 14, out_qsize 1\n",
      "2020-03-31 21:59:39,064 : INFO : EPOCH 9 - PROGRESS: at 21.03% examples, 1204979 words/s, in_qsize 15, out_qsize 0\n",
      "2020-03-31 21:59:40,073 : INFO : EPOCH 9 - PROGRESS: at 24.49% examples, 1197749 words/s, in_qsize 15, out_qsize 0\n",
      "2020-03-31 21:59:41,135 : INFO : EPOCH 9 - PROGRESS: at 27.65% examples, 1184728 words/s, in_qsize 15, out_qsize 9\n",
      "2020-03-31 21:59:42,131 : INFO : EPOCH 9 - PROGRESS: at 30.98% examples, 1190034 words/s, in_qsize 14, out_qsize 1\n",
      "2020-03-31 21:59:43,156 : INFO : EPOCH 9 - PROGRESS: at 34.54% examples, 1184444 words/s, in_qsize 13, out_qsize 2\n",
      "2020-03-31 21:59:44,169 : INFO : EPOCH 9 - PROGRESS: at 38.00% examples, 1180409 words/s, in_qsize 15, out_qsize 0\n",
      "2020-03-31 21:59:45,179 : INFO : EPOCH 9 - PROGRESS: at 41.20% examples, 1176491 words/s, in_qsize 14, out_qsize 1\n",
      "2020-03-31 21:59:46,197 : INFO : EPOCH 9 - PROGRESS: at 44.41% examples, 1175362 words/s, in_qsize 15, out_qsize 0\n",
      "2020-03-31 21:59:47,191 : INFO : EPOCH 9 - PROGRESS: at 48.07% examples, 1174104 words/s, in_qsize 15, out_qsize 0\n",
      "2020-03-31 21:59:48,211 : INFO : EPOCH 9 - PROGRESS: at 51.34% examples, 1173340 words/s, in_qsize 14, out_qsize 1\n",
      "2020-03-31 21:59:49,200 : INFO : EPOCH 9 - PROGRESS: at 54.81% examples, 1175457 words/s, in_qsize 14, out_qsize 1\n",
      "2020-03-31 21:59:50,222 : INFO : EPOCH 9 - PROGRESS: at 57.98% examples, 1174883 words/s, in_qsize 14, out_qsize 1\n",
      "2020-03-31 21:59:51,228 : INFO : EPOCH 9 - PROGRESS: at 61.10% examples, 1174810 words/s, in_qsize 14, out_qsize 1\n",
      "2020-03-31 21:59:52,220 : INFO : EPOCH 9 - PROGRESS: at 64.59% examples, 1173665 words/s, in_qsize 15, out_qsize 0\n",
      "2020-03-31 21:59:53,233 : INFO : EPOCH 9 - PROGRESS: at 67.87% examples, 1172530 words/s, in_qsize 15, out_qsize 0\n",
      "2020-03-31 21:59:54,231 : INFO : EPOCH 9 - PROGRESS: at 71.07% examples, 1171184 words/s, in_qsize 14, out_qsize 1\n",
      "2020-03-31 21:59:55,232 : INFO : EPOCH 9 - PROGRESS: at 74.26% examples, 1169997 words/s, in_qsize 15, out_qsize 0\n",
      "2020-03-31 21:59:56,252 : INFO : EPOCH 9 - PROGRESS: at 77.49% examples, 1169064 words/s, in_qsize 14, out_qsize 1\n",
      "2020-03-31 21:59:57,256 : INFO : EPOCH 9 - PROGRESS: at 81.08% examples, 1168393 words/s, in_qsize 12, out_qsize 3\n",
      "2020-03-31 21:59:58,263 : INFO : EPOCH 9 - PROGRESS: at 84.24% examples, 1168683 words/s, in_qsize 15, out_qsize 0\n",
      "2020-03-31 21:59:59,270 : INFO : EPOCH 9 - PROGRESS: at 87.52% examples, 1167206 words/s, in_qsize 13, out_qsize 2\n",
      "2020-03-31 22:00:00,272 : INFO : EPOCH 9 - PROGRESS: at 90.61% examples, 1166965 words/s, in_qsize 15, out_qsize 0\n",
      "2020-03-31 22:00:01,270 : INFO : EPOCH 9 - PROGRESS: at 94.27% examples, 1166391 words/s, in_qsize 15, out_qsize 0\n",
      "2020-03-31 22:00:02,280 : INFO : EPOCH 9 - PROGRESS: at 97.85% examples, 1164723 words/s, in_qsize 13, out_qsize 2\n",
      "2020-03-31 22:00:02,764 : INFO : worker thread finished; awaiting finish of 7 more threads\n",
      "2020-03-31 22:00:02,780 : INFO : worker thread finished; awaiting finish of 6 more threads\n",
      "2020-03-31 22:00:02,799 : INFO : worker thread finished; awaiting finish of 5 more threads\n",
      "2020-03-31 22:00:02,799 : INFO : worker thread finished; awaiting finish of 4 more threads\n",
      "2020-03-31 22:00:02,799 : INFO : worker thread finished; awaiting finish of 3 more threads\n",
      "2020-03-31 22:00:02,803 : INFO : worker thread finished; awaiting finish of 2 more threads\n",
      "2020-03-31 22:00:02,803 : INFO : worker thread finished; awaiting finish of 1 more threads\n",
      "2020-03-31 22:00:02,807 : INFO : worker thread finished; awaiting finish of 0 more threads\n",
      "2020-03-31 22:00:02,807 : INFO : EPOCH - 9 : training on 44832010 raw words (34708601 effective words) took 29.8s, 1165638 effective words/s\n",
      "2020-03-31 22:00:03,815 : INFO : EPOCH 10 - PROGRESS: at 3.29% examples, 1184256 words/s, in_qsize 15, out_qsize 0\n",
      "2020-03-31 22:00:04,834 : INFO : EPOCH 10 - PROGRESS: at 6.78% examples, 1178247 words/s, in_qsize 14, out_qsize 1\n",
      "2020-03-31 22:00:05,851 : INFO : EPOCH 10 - PROGRESS: at 10.14% examples, 1175734 words/s, in_qsize 14, out_qsize 1\n",
      "2020-03-31 22:00:06,864 : INFO : EPOCH 10 - PROGRESS: at 13.68% examples, 1173281 words/s, in_qsize 15, out_qsize 0\n",
      "2020-03-31 22:00:07,876 : INFO : EPOCH 10 - PROGRESS: at 16.94% examples, 1160669 words/s, in_qsize 16, out_qsize 0\n",
      "2020-03-31 22:00:08,889 : INFO : EPOCH 10 - PROGRESS: at 20.33% examples, 1163121 words/s, in_qsize 14, out_qsize 1\n",
      "2020-03-31 22:00:09,885 : INFO : EPOCH 10 - PROGRESS: at 23.85% examples, 1161512 words/s, in_qsize 14, out_qsize 1\n",
      "2020-03-31 22:00:10,905 : INFO : EPOCH 10 - PROGRESS: at 27.06% examples, 1159878 words/s, in_qsize 15, out_qsize 0\n",
      "2020-03-31 22:00:11,914 : INFO : EPOCH 10 - PROGRESS: at 30.22% examples, 1161320 words/s, in_qsize 14, out_qsize 1\n",
      "2020-03-31 22:00:12,913 : INFO : EPOCH 10 - PROGRESS: at 33.75% examples, 1161940 words/s, in_qsize 15, out_qsize 0\n",
      "2020-03-31 22:00:13,910 : INFO : EPOCH 10 - PROGRESS: at 37.27% examples, 1162666 words/s, in_qsize 13, out_qsize 2\n",
      "2020-03-31 22:00:14,914 : INFO : EPOCH 10 - PROGRESS: at 40.73% examples, 1166475 words/s, in_qsize 15, out_qsize 0\n",
      "2020-03-31 22:00:15,933 : INFO : EPOCH 10 - PROGRESS: at 43.99% examples, 1165863 words/s, in_qsize 15, out_qsize 0\n",
      "2020-03-31 22:00:16,947 : INFO : EPOCH 10 - PROGRESS: at 47.53% examples, 1164171 words/s, in_qsize 16, out_qsize 1\n",
      "2020-03-31 22:00:17,953 : INFO : EPOCH 10 - PROGRESS: at 50.88% examples, 1164839 words/s, in_qsize 15, out_qsize 0\n",
      "2020-03-31 22:00:18,954 : INFO : EPOCH 10 - PROGRESS: at 54.30% examples, 1166612 words/s, in_qsize 14, out_qsize 1\n",
      "2020-03-31 22:00:19,955 : INFO : EPOCH 10 - PROGRESS: at 57.60% examples, 1167259 words/s, in_qsize 14, out_qsize 1\n",
      "2020-03-31 22:00:20,965 : INFO : EPOCH 10 - PROGRESS: at 60.64% examples, 1168472 words/s, in_qsize 14, out_qsize 1\n",
      "2020-03-31 22:00:21,994 : INFO : EPOCH 10 - PROGRESS: at 64.31% examples, 1170604 words/s, in_qsize 15, out_qsize 0\n",
      "2020-03-31 22:00:22,998 : INFO : EPOCH 10 - PROGRESS: at 67.77% examples, 1171473 words/s, in_qsize 14, out_qsize 1\n",
      "2020-03-31 22:00:23,988 : INFO : EPOCH 10 - PROGRESS: at 71.02% examples, 1171840 words/s, in_qsize 14, out_qsize 1\n",
      "2020-03-31 22:00:24,997 : INFO : EPOCH 10 - PROGRESS: at 74.24% examples, 1170923 words/s, in_qsize 15, out_qsize 0\n",
      "2020-03-31 22:00:26,011 : INFO : EPOCH 10 - PROGRESS: at 77.53% examples, 1170532 words/s, in_qsize 14, out_qsize 1\n",
      "2020-03-31 22:00:27,020 : INFO : EPOCH 10 - PROGRESS: at 81.12% examples, 1169731 words/s, in_qsize 15, out_qsize 0\n",
      "2020-03-31 22:00:28,049 : INFO : EPOCH 10 - PROGRESS: at 84.19% examples, 1167588 words/s, in_qsize 13, out_qsize 2\n",
      "2020-03-31 22:00:29,049 : INFO : EPOCH 10 - PROGRESS: at 87.54% examples, 1167093 words/s, in_qsize 14, out_qsize 1\n",
      "2020-03-31 22:00:30,049 : INFO : EPOCH 10 - PROGRESS: at 90.77% examples, 1167627 words/s, in_qsize 14, out_qsize 1\n",
      "2020-03-31 22:00:31,078 : INFO : EPOCH 10 - PROGRESS: at 94.42% examples, 1167344 words/s, in_qsize 16, out_qsize 0\n",
      "2020-03-31 22:00:32,073 : INFO : EPOCH 10 - PROGRESS: at 98.13% examples, 1166996 words/s, in_qsize 15, out_qsize 0\n",
      "2020-03-31 22:00:32,523 : INFO : worker thread finished; awaiting finish of 7 more threads\n",
      "2020-03-31 22:00:32,548 : INFO : worker thread finished; awaiting finish of 6 more threads\n"
     ]
    },
    {
     "name": "stderr",
     "output_type": "stream",
     "text": [
      "2020-03-31 22:00:32,554 : INFO : worker thread finished; awaiting finish of 5 more threads\n",
      "2020-03-31 22:00:32,554 : INFO : worker thread finished; awaiting finish of 4 more threads\n",
      "2020-03-31 22:00:32,565 : INFO : worker thread finished; awaiting finish of 3 more threads\n",
      "2020-03-31 22:00:32,565 : INFO : worker thread finished; awaiting finish of 2 more threads\n",
      "2020-03-31 22:00:32,565 : INFO : worker thread finished; awaiting finish of 1 more threads\n",
      "2020-03-31 22:00:32,573 : INFO : worker thread finished; awaiting finish of 0 more threads\n",
      "2020-03-31 22:00:32,573 : INFO : EPOCH - 10 : training on 44832010 raw words (34704198 effective words) took 29.8s, 1166172 effective words/s\n",
      "2020-03-31 22:00:33,573 : INFO : EPOCH 11 - PROGRESS: at 3.25% examples, 1170952 words/s, in_qsize 14, out_qsize 1\n",
      "2020-03-31 22:00:34,606 : INFO : EPOCH 11 - PROGRESS: at 6.76% examples, 1171319 words/s, in_qsize 15, out_qsize 0\n",
      "2020-03-31 22:00:35,627 : INFO : EPOCH 11 - PROGRESS: at 10.18% examples, 1176040 words/s, in_qsize 12, out_qsize 3\n",
      "2020-03-31 22:00:36,640 : INFO : EPOCH 11 - PROGRESS: at 13.81% examples, 1178028 words/s, in_qsize 15, out_qsize 0\n",
      "2020-03-31 22:00:37,653 : INFO : EPOCH 11 - PROGRESS: at 17.37% examples, 1186684 words/s, in_qsize 15, out_qsize 0\n",
      "2020-03-31 22:00:38,665 : INFO : EPOCH 11 - PROGRESS: at 20.98% examples, 1193738 words/s, in_qsize 14, out_qsize 1\n",
      "2020-03-31 22:00:39,687 : INFO : EPOCH 11 - PROGRESS: at 24.59% examples, 1194324 words/s, in_qsize 15, out_qsize 0\n",
      "2020-03-31 22:00:40,687 : INFO : EPOCH 11 - PROGRESS: at 27.91% examples, 1192493 words/s, in_qsize 14, out_qsize 1\n",
      "2020-03-31 22:00:41,688 : INFO : EPOCH 11 - PROGRESS: at 31.00% examples, 1191188 words/s, in_qsize 15, out_qsize 0\n",
      "2020-03-31 22:00:42,693 : INFO : EPOCH 11 - PROGRESS: at 34.59% examples, 1188369 words/s, in_qsize 15, out_qsize 0\n",
      "2020-03-31 22:00:43,690 : INFO : EPOCH 11 - PROGRESS: at 38.26% examples, 1190226 words/s, in_qsize 14, out_qsize 1\n",
      "2020-03-31 22:00:44,702 : INFO : EPOCH 11 - PROGRESS: at 41.66% examples, 1190503 words/s, in_qsize 15, out_qsize 0\n",
      "2020-03-31 22:00:45,711 : INFO : EPOCH 11 - PROGRESS: at 44.85% examples, 1188889 words/s, in_qsize 15, out_qsize 0\n",
      "2020-03-31 22:00:46,708 : INFO : EPOCH 11 - PROGRESS: at 48.53% examples, 1189671 words/s, in_qsize 15, out_qsize 0\n",
      "2020-03-31 22:00:47,714 : INFO : EPOCH 11 - PROGRESS: at 51.83% examples, 1188110 words/s, in_qsize 15, out_qsize 0\n",
      "2020-03-31 22:00:48,710 : INFO : EPOCH 11 - PROGRESS: at 55.18% examples, 1185851 words/s, in_qsize 15, out_qsize 0\n",
      "2020-03-31 22:00:49,727 : INFO : EPOCH 11 - PROGRESS: at 58.32% examples, 1185762 words/s, in_qsize 15, out_qsize 0\n",
      "2020-03-31 22:00:50,731 : INFO : EPOCH 11 - PROGRESS: at 61.49% examples, 1185432 words/s, in_qsize 15, out_qsize 0\n",
      "2020-03-31 22:00:51,724 : INFO : EPOCH 11 - PROGRESS: at 65.23% examples, 1187322 words/s, in_qsize 15, out_qsize 0\n",
      "2020-03-31 22:00:52,741 : INFO : EPOCH 11 - PROGRESS: at 68.58% examples, 1186959 words/s, in_qsize 13, out_qsize 2\n",
      "2020-03-31 22:00:53,767 : INFO : EPOCH 11 - PROGRESS: at 72.02% examples, 1187364 words/s, in_qsize 14, out_qsize 1\n",
      "2020-03-31 22:00:54,776 : INFO : EPOCH 11 - PROGRESS: at 75.29% examples, 1186940 words/s, in_qsize 13, out_qsize 2\n",
      "2020-03-31 22:00:55,771 : INFO : EPOCH 11 - PROGRESS: at 78.68% examples, 1187143 words/s, in_qsize 14, out_qsize 1\n",
      "2020-03-31 22:00:56,782 : INFO : EPOCH 11 - PROGRESS: at 82.32% examples, 1187272 words/s, in_qsize 15, out_qsize 2\n",
      "2020-03-31 22:00:57,788 : INFO : EPOCH 11 - PROGRESS: at 85.63% examples, 1188194 words/s, in_qsize 13, out_qsize 2\n",
      "2020-03-31 22:00:58,794 : INFO : EPOCH 11 - PROGRESS: at 88.93% examples, 1188717 words/s, in_qsize 15, out_qsize 0\n",
      "2020-03-31 22:00:59,807 : INFO : EPOCH 11 - PROGRESS: at 92.37% examples, 1187511 words/s, in_qsize 14, out_qsize 1\n",
      "2020-03-31 22:01:00,813 : INFO : EPOCH 11 - PROGRESS: at 96.10% examples, 1187263 words/s, in_qsize 15, out_qsize 0\n",
      "2020-03-31 22:01:01,752 : INFO : worker thread finished; awaiting finish of 7 more threads\n",
      "2020-03-31 22:01:01,776 : INFO : worker thread finished; awaiting finish of 6 more threads\n",
      "2020-03-31 22:01:01,797 : INFO : worker thread finished; awaiting finish of 5 more threads\n",
      "2020-03-31 22:01:01,797 : INFO : worker thread finished; awaiting finish of 4 more threads\n",
      "2020-03-31 22:01:01,797 : INFO : worker thread finished; awaiting finish of 3 more threads\n",
      "2020-03-31 22:01:01,797 : INFO : worker thread finished; awaiting finish of 2 more threads\n",
      "2020-03-31 22:01:01,818 : INFO : worker thread finished; awaiting finish of 1 more threads\n",
      "2020-03-31 22:01:01,825 : INFO : EPOCH 11 - PROGRESS: at 100.00% examples, 1186776 words/s, in_qsize 0, out_qsize 1\n",
      "2020-03-31 22:01:01,825 : INFO : worker thread finished; awaiting finish of 0 more threads\n",
      "2020-03-31 22:01:01,825 : INFO : EPOCH - 11 : training on 44832010 raw words (34706663 effective words) took 29.2s, 1186713 effective words/s\n",
      "2020-03-31 22:01:02,836 : INFO : EPOCH 12 - PROGRESS: at 3.37% examples, 1215192 words/s, in_qsize 15, out_qsize 0\n",
      "2020-03-31 22:01:03,839 : INFO : EPOCH 12 - PROGRESS: at 6.92% examples, 1206603 words/s, in_qsize 11, out_qsize 4\n",
      "2020-03-31 22:01:04,856 : INFO : EPOCH 12 - PROGRESS: at 10.28% examples, 1199147 words/s, in_qsize 15, out_qsize 0\n",
      "2020-03-31 22:01:05,863 : INFO : EPOCH 12 - PROGRESS: at 13.90% examples, 1195151 words/s, in_qsize 15, out_qsize 0\n",
      "2020-03-31 22:01:06,863 : INFO : EPOCH 12 - PROGRESS: at 17.30% examples, 1188130 words/s, in_qsize 15, out_qsize 0\n",
      "2020-03-31 22:01:07,877 : INFO : EPOCH 12 - PROGRESS: at 20.66% examples, 1186254 words/s, in_qsize 15, out_qsize 0\n",
      "2020-03-31 22:01:08,876 : INFO : EPOCH 12 - PROGRESS: at 24.37% examples, 1190441 words/s, in_qsize 14, out_qsize 1\n",
      "2020-03-31 22:01:09,895 : INFO : EPOCH 12 - PROGRESS: at 27.76% examples, 1191778 words/s, in_qsize 14, out_qsize 1\n",
      "2020-03-31 22:01:10,911 : INFO : EPOCH 12 - PROGRESS: at 30.88% examples, 1190029 words/s, in_qsize 13, out_qsize 2\n",
      "2020-03-31 22:01:11,913 : INFO : EPOCH 12 - PROGRESS: at 34.57% examples, 1190488 words/s, in_qsize 15, out_qsize 0\n",
      "2020-03-31 22:01:12,924 : INFO : EPOCH 12 - PROGRESS: at 38.13% examples, 1189033 words/s, in_qsize 15, out_qsize 0\n",
      "2020-03-31 22:01:13,924 : INFO : EPOCH 12 - PROGRESS: at 41.41% examples, 1186867 words/s, in_qsize 14, out_qsize 1\n",
      "2020-03-31 22:01:14,942 : INFO : EPOCH 12 - PROGRESS: at 44.58% examples, 1184934 words/s, in_qsize 14, out_qsize 1\n",
      "2020-03-31 22:01:15,942 : INFO : EPOCH 12 - PROGRESS: at 48.25% examples, 1183199 words/s, in_qsize 14, out_qsize 1\n",
      "2020-03-31 22:01:16,961 : INFO : EPOCH 12 - PROGRESS: at 51.55% examples, 1181744 words/s, in_qsize 15, out_qsize 0\n",
      "2020-03-31 22:01:17,969 : INFO : EPOCH 12 - PROGRESS: at 55.03% examples, 1182106 words/s, in_qsize 15, out_qsize 0\n",
      "2020-03-31 22:01:18,971 : INFO : EPOCH 12 - PROGRESS: at 58.13% examples, 1181456 words/s, in_qsize 13, out_qsize 2\n",
      "2020-03-31 22:01:19,975 : INFO : EPOCH 12 - PROGRESS: at 61.34% examples, 1183220 words/s, in_qsize 15, out_qsize 0\n",
      "2020-03-31 22:01:20,965 : INFO : EPOCH 12 - PROGRESS: at 64.99% examples, 1183720 words/s, in_qsize 14, out_qsize 1\n",
      "2020-03-31 22:01:21,978 : INFO : EPOCH 12 - PROGRESS: at 68.39% examples, 1184631 words/s, in_qsize 14, out_qsize 1\n",
      "2020-03-31 22:01:22,988 : INFO : EPOCH 12 - PROGRESS: at 71.82% examples, 1185720 words/s, in_qsize 14, out_qsize 1\n",
      "2020-03-31 22:01:23,984 : INFO : EPOCH 12 - PROGRESS: at 75.21% examples, 1186863 words/s, in_qsize 14, out_qsize 1\n",
      "2020-03-31 22:01:24,991 : INFO : EPOCH 12 - PROGRESS: at 78.48% examples, 1186315 words/s, in_qsize 14, out_qsize 1\n",
      "2020-03-31 22:01:26,009 : INFO : EPOCH 12 - PROGRESS: at 82.06% examples, 1184556 words/s, in_qsize 15, out_qsize 0\n",
      "2020-03-31 22:01:27,009 : INFO : EPOCH 12 - PROGRESS: at 85.36% examples, 1185417 words/s, in_qsize 14, out_qsize 1\n",
      "2020-03-31 22:01:28,023 : INFO : EPOCH 12 - PROGRESS: at 88.67% examples, 1186015 words/s, in_qsize 15, out_qsize 0\n",
      "2020-03-31 22:01:29,033 : INFO : EPOCH 12 - PROGRESS: at 92.02% examples, 1185443 words/s, in_qsize 14, out_qsize 1\n",
      "2020-03-31 22:01:30,035 : INFO : EPOCH 12 - PROGRESS: at 95.76% examples, 1185154 words/s, in_qsize 15, out_qsize 0\n",
      "2020-03-31 22:01:31,036 : INFO : EPOCH 12 - PROGRESS: at 99.66% examples, 1184835 words/s, in_qsize 11, out_qsize 1\n"
     ]
    },
    {
     "name": "stderr",
     "output_type": "stream",
     "text": [
      "2020-03-31 22:01:31,060 : INFO : worker thread finished; awaiting finish of 7 more threads\n",
      "2020-03-31 22:01:31,092 : INFO : worker thread finished; awaiting finish of 6 more threads\n",
      "2020-03-31 22:01:31,107 : INFO : worker thread finished; awaiting finish of 5 more threads\n",
      "2020-03-31 22:01:31,114 : INFO : worker thread finished; awaiting finish of 4 more threads\n",
      "2020-03-31 22:01:31,118 : INFO : worker thread finished; awaiting finish of 3 more threads\n",
      "2020-03-31 22:01:31,122 : INFO : worker thread finished; awaiting finish of 2 more threads\n",
      "2020-03-31 22:01:31,126 : INFO : worker thread finished; awaiting finish of 1 more threads\n",
      "2020-03-31 22:01:31,130 : INFO : worker thread finished; awaiting finish of 0 more threads\n",
      "2020-03-31 22:01:31,130 : INFO : EPOCH - 12 : training on 44832010 raw words (34702426 effective words) took 29.3s, 1184564 effective words/s\n",
      "2020-03-31 22:01:32,142 : INFO : EPOCH 13 - PROGRESS: at 3.43% examples, 1229333 words/s, in_qsize 14, out_qsize 1\n",
      "2020-03-31 22:01:33,147 : INFO : EPOCH 13 - PROGRESS: at 7.17% examples, 1235512 words/s, in_qsize 14, out_qsize 1\n",
      "2020-03-31 22:01:34,151 : INFO : EPOCH 13 - PROGRESS: at 10.49% examples, 1226700 words/s, in_qsize 15, out_qsize 0\n",
      "2020-03-31 22:01:35,148 : INFO : EPOCH 13 - PROGRESS: at 14.08% examples, 1214639 words/s, in_qsize 15, out_qsize 0\n",
      "2020-03-31 22:01:36,168 : INFO : EPOCH 13 - PROGRESS: at 17.52% examples, 1206004 words/s, in_qsize 14, out_qsize 1\n",
      "2020-03-31 22:01:37,169 : INFO : EPOCH 13 - PROGRESS: at 20.97% examples, 1204027 words/s, in_qsize 14, out_qsize 1\n",
      "2020-03-31 22:01:38,175 : INFO : EPOCH 13 - PROGRESS: at 24.56% examples, 1203016 words/s, in_qsize 14, out_qsize 1\n",
      "2020-03-31 22:01:39,175 : INFO : EPOCH 13 - PROGRESS: at 27.96% examples, 1205011 words/s, in_qsize 15, out_qsize 0\n",
      "2020-03-31 22:01:40,178 : INFO : EPOCH 13 - PROGRESS: at 31.07% examples, 1202016 words/s, in_qsize 14, out_qsize 1\n",
      "2020-03-31 22:01:41,190 : INFO : EPOCH 13 - PROGRESS: at 34.82% examples, 1200918 words/s, in_qsize 15, out_qsize 0\n",
      "2020-03-31 22:01:42,195 : INFO : EPOCH 13 - PROGRESS: at 38.33% examples, 1197766 words/s, in_qsize 13, out_qsize 2\n",
      "2020-03-31 22:01:43,202 : INFO : EPOCH 13 - PROGRESS: at 41.79% examples, 1198527 words/s, in_qsize 13, out_qsize 2\n",
      "2020-03-31 22:01:44,232 : INFO : EPOCH 13 - PROGRESS: at 45.10% examples, 1198915 words/s, in_qsize 14, out_qsize 1\n",
      "2020-03-31 22:01:45,240 : INFO : EPOCH 13 - PROGRESS: at 48.83% examples, 1199733 words/s, in_qsize 14, out_qsize 1\n",
      "2020-03-31 22:01:46,254 : INFO : EPOCH 13 - PROGRESS: at 52.33% examples, 1200843 words/s, in_qsize 15, out_qsize 0\n",
      "2020-03-31 22:01:47,261 : INFO : EPOCH 13 - PROGRESS: at 55.84% examples, 1200909 words/s, in_qsize 15, out_qsize 0\n",
      "2020-03-31 22:01:48,288 : INFO : EPOCH 13 - PROGRESS: at 58.95% examples, 1199396 words/s, in_qsize 16, out_qsize 1\n",
      "2020-03-31 22:01:49,302 : INFO : EPOCH 13 - PROGRESS: at 62.36% examples, 1200043 words/s, in_qsize 15, out_qsize 0\n",
      "2020-03-31 22:01:50,309 : INFO : EPOCH 13 - PROGRESS: at 65.84% examples, 1197594 words/s, in_qsize 14, out_qsize 1\n",
      "2020-03-31 22:01:51,334 : INFO : EPOCH 13 - PROGRESS: at 69.24% examples, 1195564 words/s, in_qsize 15, out_qsize 0\n",
      "2020-03-31 22:01:52,342 : INFO : EPOCH 13 - PROGRESS: at 72.57% examples, 1194405 words/s, in_qsize 13, out_qsize 2\n",
      "2020-03-31 22:01:53,353 : INFO : EPOCH 13 - PROGRESS: at 75.77% examples, 1194436 words/s, in_qsize 12, out_qsize 3\n",
      "2020-03-31 22:01:54,368 : INFO : EPOCH 13 - PROGRESS: at 79.45% examples, 1194370 words/s, in_qsize 14, out_qsize 1\n",
      "2020-03-31 22:01:55,372 : INFO : EPOCH 13 - PROGRESS: at 82.90% examples, 1194373 words/s, in_qsize 16, out_qsize 0\n",
      "2020-03-31 22:01:56,382 : INFO : EPOCH 13 - PROGRESS: at 86.32% examples, 1195008 words/s, in_qsize 15, out_qsize 0\n",
      "2020-03-31 22:01:57,390 : INFO : EPOCH 13 - PROGRESS: at 89.33% examples, 1194026 words/s, in_qsize 16, out_qsize 0\n",
      "2020-03-31 22:01:58,386 : INFO : EPOCH 13 - PROGRESS: at 93.06% examples, 1194341 words/s, in_qsize 14, out_qsize 1\n",
      "2020-03-31 22:01:59,392 : INFO : EPOCH 13 - PROGRESS: at 96.80% examples, 1194569 words/s, in_qsize 15, out_qsize 0\n",
      "2020-03-31 22:02:00,137 : INFO : worker thread finished; awaiting finish of 7 more threads\n",
      "2020-03-31 22:02:00,155 : INFO : worker thread finished; awaiting finish of 6 more threads\n",
      "2020-03-31 22:02:00,161 : INFO : worker thread finished; awaiting finish of 5 more threads\n",
      "2020-03-31 22:02:00,181 : INFO : worker thread finished; awaiting finish of 4 more threads\n",
      "2020-03-31 22:02:00,181 : INFO : worker thread finished; awaiting finish of 3 more threads\n",
      "2020-03-31 22:02:00,181 : INFO : worker thread finished; awaiting finish of 2 more threads\n",
      "2020-03-31 22:02:00,198 : INFO : worker thread finished; awaiting finish of 1 more threads\n",
      "2020-03-31 22:02:00,202 : INFO : worker thread finished; awaiting finish of 0 more threads\n",
      "2020-03-31 22:02:00,202 : INFO : EPOCH - 13 : training on 44832010 raw words (34706986 effective words) took 29.1s, 1194115 effective words/s\n",
      "2020-03-31 22:02:01,211 : INFO : EPOCH 14 - PROGRESS: at 3.45% examples, 1234333 words/s, in_qsize 15, out_qsize 0\n",
      "2020-03-31 22:02:02,223 : INFO : EPOCH 14 - PROGRESS: at 7.12% examples, 1230395 words/s, in_qsize 15, out_qsize 0\n",
      "2020-03-31 22:02:03,240 : INFO : EPOCH 14 - PROGRESS: at 10.50% examples, 1222535 words/s, in_qsize 15, out_qsize 0\n",
      "2020-03-31 22:02:04,250 : INFO : EPOCH 14 - PROGRESS: at 14.24% examples, 1219319 words/s, in_qsize 15, out_qsize 0\n",
      "2020-03-31 22:02:05,273 : INFO : EPOCH 14 - PROGRESS: at 17.66% examples, 1208642 words/s, in_qsize 13, out_qsize 2\n",
      "2020-03-31 22:02:06,274 : INFO : EPOCH 14 - PROGRESS: at 21.07% examples, 1203192 words/s, in_qsize 14, out_qsize 1\n",
      "2020-03-31 22:02:07,297 : INFO : EPOCH 14 - PROGRESS: at 24.68% examples, 1203166 words/s, in_qsize 15, out_qsize 0\n",
      "2020-03-31 22:02:08,298 : INFO : EPOCH 14 - PROGRESS: at 27.96% examples, 1197656 words/s, in_qsize 15, out_qsize 0\n",
      "2020-03-31 22:02:09,307 : INFO : EPOCH 14 - PROGRESS: at 31.01% examples, 1193524 words/s, in_qsize 14, out_qsize 1\n",
      "2020-03-31 22:02:10,315 : INFO : EPOCH 14 - PROGRESS: at 34.66% examples, 1190579 words/s, in_qsize 15, out_qsize 0\n",
      "2020-03-31 22:02:11,323 : INFO : EPOCH 14 - PROGRESS: at 38.15% examples, 1186658 words/s, in_qsize 14, out_qsize 1\n",
      "2020-03-31 22:02:12,348 : INFO : EPOCH 14 - PROGRESS: at 41.60% examples, 1186927 words/s, in_qsize 14, out_qsize 1\n",
      "2020-03-31 22:02:13,341 : INFO : EPOCH 14 - PROGRESS: at 44.87% examples, 1188089 words/s, in_qsize 14, out_qsize 1\n",
      "2020-03-31 22:02:14,349 : INFO : EPOCH 14 - PROGRESS: at 48.52% examples, 1187451 words/s, in_qsize 14, out_qsize 1\n",
      "2020-03-31 22:02:15,368 : INFO : EPOCH 14 - PROGRESS: at 51.89% examples, 1187682 words/s, in_qsize 13, out_qsize 2\n",
      "2020-03-31 22:02:16,374 : INFO : EPOCH 14 - PROGRESS: at 55.42% examples, 1189017 words/s, in_qsize 14, out_qsize 1\n",
      "2020-03-31 22:02:17,376 : INFO : EPOCH 14 - PROGRESS: at 58.52% examples, 1188516 words/s, in_qsize 13, out_qsize 2\n",
      "2020-03-31 22:02:18,380 : INFO : EPOCH 14 - PROGRESS: at 61.76% examples, 1189293 words/s, in_qsize 15, out_qsize 0\n",
      "2020-03-31 22:02:19,401 : INFO : EPOCH 14 - PROGRESS: at 65.34% examples, 1187624 words/s, in_qsize 13, out_qsize 2\n",
      "2020-03-31 22:02:20,407 : INFO : EPOCH 14 - PROGRESS: at 68.69% examples, 1187780 words/s, in_qsize 13, out_qsize 2\n",
      "2020-03-31 22:02:21,421 : INFO : EPOCH 14 - PROGRESS: at 72.17% examples, 1187380 words/s, in_qsize 14, out_qsize 1\n",
      "2020-03-31 22:02:22,422 : INFO : EPOCH 14 - PROGRESS: at 75.33% examples, 1186663 words/s, in_qsize 15, out_qsize 0\n",
      "2020-03-31 22:02:23,427 : INFO : EPOCH 14 - PROGRESS: at 78.70% examples, 1186154 words/s, in_qsize 15, out_qsize 0\n",
      "2020-03-31 22:02:24,426 : INFO : EPOCH 14 - PROGRESS: at 82.36% examples, 1186595 words/s, in_qsize 14, out_qsize 1\n",
      "2020-03-31 22:02:25,427 : INFO : EPOCH 14 - PROGRESS: at 85.60% examples, 1186960 words/s, in_qsize 14, out_qsize 1\n",
      "2020-03-31 22:02:26,441 : INFO : EPOCH 14 - PROGRESS: at 88.81% examples, 1186375 words/s, in_qsize 16, out_qsize 0\n",
      "2020-03-31 22:02:27,433 : INFO : EPOCH 14 - PROGRESS: at 92.38% examples, 1188133 words/s, in_qsize 15, out_qsize 0\n",
      "2020-03-31 22:02:28,443 : INFO : EPOCH 14 - PROGRESS: at 96.21% examples, 1188883 words/s, in_qsize 15, out_qsize 0\n"
     ]
    },
    {
     "name": "stderr",
     "output_type": "stream",
     "text": [
      "2020-03-31 22:02:29,400 : INFO : worker thread finished; awaiting finish of 7 more threads\n",
      "2020-03-31 22:02:29,400 : INFO : worker thread finished; awaiting finish of 6 more threads\n",
      "2020-03-31 22:02:29,400 : INFO : worker thread finished; awaiting finish of 5 more threads\n",
      "2020-03-31 22:02:29,411 : INFO : worker thread finished; awaiting finish of 4 more threads\n",
      "2020-03-31 22:02:29,411 : INFO : worker thread finished; awaiting finish of 3 more threads\n",
      "2020-03-31 22:02:29,415 : INFO : worker thread finished; awaiting finish of 2 more threads\n",
      "2020-03-31 22:02:29,415 : INFO : worker thread finished; awaiting finish of 1 more threads\n",
      "2020-03-31 22:02:29,421 : INFO : worker thread finished; awaiting finish of 0 more threads\n",
      "2020-03-31 22:02:29,421 : INFO : EPOCH - 14 : training on 44832010 raw words (34705883 effective words) took 29.2s, 1188092 effective words/s\n",
      "2020-03-31 22:02:30,440 : INFO : EPOCH 15 - PROGRESS: at 3.38% examples, 1207527 words/s, in_qsize 15, out_qsize 0\n",
      "2020-03-31 22:02:31,446 : INFO : EPOCH 15 - PROGRESS: at 7.11% examples, 1225733 words/s, in_qsize 15, out_qsize 0\n",
      "2020-03-31 22:02:32,458 : INFO : EPOCH 15 - PROGRESS: at 10.42% examples, 1209046 words/s, in_qsize 15, out_qsize 0\n",
      "2020-03-31 22:02:33,482 : INFO : EPOCH 15 - PROGRESS: at 13.99% examples, 1194866 words/s, in_qsize 14, out_qsize 1\n",
      "2020-03-31 22:02:34,491 : INFO : EPOCH 15 - PROGRESS: at 17.55% examples, 1199404 words/s, in_qsize 14, out_qsize 1\n",
      "2020-03-31 22:02:35,498 : INFO : EPOCH 15 - PROGRESS: at 20.98% examples, 1197735 words/s, in_qsize 13, out_qsize 2\n",
      "2020-03-31 22:02:36,509 : INFO : EPOCH 15 - PROGRESS: at 24.52% examples, 1194381 words/s, in_qsize 15, out_qsize 0\n",
      "2020-03-31 22:02:37,509 : INFO : EPOCH 15 - PROGRESS: at 27.73% examples, 1190086 words/s, in_qsize 14, out_qsize 1\n",
      "2020-03-31 22:02:38,505 : INFO : EPOCH 15 - PROGRESS: at 30.92% examples, 1190917 words/s, in_qsize 14, out_qsize 1\n",
      "2020-03-31 22:02:39,515 : INFO : EPOCH 15 - PROGRESS: at 34.59% examples, 1190365 words/s, in_qsize 14, out_qsize 1\n",
      "2020-03-31 22:02:40,544 : INFO : EPOCH 15 - PROGRESS: at 38.25% examples, 1189869 words/s, in_qsize 12, out_qsize 3\n",
      "2020-03-31 22:02:41,541 : INFO : EPOCH 15 - PROGRESS: at 41.58% examples, 1189060 words/s, in_qsize 15, out_qsize 0\n",
      "2020-03-31 22:02:42,547 : INFO : EPOCH 15 - PROGRESS: at 44.89% examples, 1190859 words/s, in_qsize 15, out_qsize 0\n",
      "2020-03-31 22:02:43,545 : INFO : EPOCH 15 - PROGRESS: at 48.60% examples, 1191936 words/s, in_qsize 14, out_qsize 1\n",
      "2020-03-31 22:02:44,562 : INFO : EPOCH 15 - PROGRESS: at 51.96% examples, 1191575 words/s, in_qsize 16, out_qsize 0\n",
      "2020-03-31 22:02:45,569 : INFO : EPOCH 15 - PROGRESS: at 55.46% examples, 1191214 words/s, in_qsize 14, out_qsize 1\n",
      "2020-03-31 22:02:46,575 : INFO : EPOCH 15 - PROGRESS: at 58.52% examples, 1190119 words/s, in_qsize 14, out_qsize 1\n",
      "2020-03-31 22:02:47,570 : INFO : EPOCH 15 - PROGRESS: at 61.75% examples, 1191207 words/s, in_qsize 14, out_qsize 1\n",
      "2020-03-31 22:02:48,586 : INFO : EPOCH 15 - PROGRESS: at 65.39% examples, 1190970 words/s, in_qsize 14, out_qsize 1\n",
      "2020-03-31 22:02:49,589 : INFO : EPOCH 15 - PROGRESS: at 68.75% examples, 1191116 words/s, in_qsize 16, out_qsize 0\n",
      "2020-03-31 22:02:50,614 : INFO : EPOCH 15 - PROGRESS: at 72.37% examples, 1191755 words/s, in_qsize 14, out_qsize 1\n",
      "2020-03-31 22:02:51,627 : INFO : EPOCH 15 - PROGRESS: at 75.50% examples, 1191796 words/s, in_qsize 15, out_qsize 0\n",
      "2020-03-31 22:02:52,619 : INFO : EPOCH 15 - PROGRESS: at 79.20% examples, 1192993 words/s, in_qsize 12, out_qsize 3\n",
      "2020-03-31 22:02:53,625 : INFO : EPOCH 15 - PROGRESS: at 82.70% examples, 1192681 words/s, in_qsize 14, out_qsize 1\n",
      "2020-03-31 22:02:54,634 : INFO : EPOCH 15 - PROGRESS: at 85.99% examples, 1192894 words/s, in_qsize 14, out_qsize 1\n",
      "2020-03-31 22:02:55,635 : INFO : EPOCH 15 - PROGRESS: at 89.09% examples, 1192257 words/s, in_qsize 14, out_qsize 1\n",
      "2020-03-31 22:02:56,659 : INFO : EPOCH 15 - PROGRESS: at 92.90% examples, 1193673 words/s, in_qsize 16, out_qsize 0\n",
      "2020-03-31 22:02:57,666 : INFO : EPOCH 15 - PROGRESS: at 96.71% examples, 1194482 words/s, in_qsize 16, out_qsize 1\n",
      "2020-03-31 22:02:58,429 : INFO : worker thread finished; awaiting finish of 7 more threads\n",
      "2020-03-31 22:02:58,445 : INFO : worker thread finished; awaiting finish of 6 more threads\n",
      "2020-03-31 22:02:58,445 : INFO : worker thread finished; awaiting finish of 5 more threads\n",
      "2020-03-31 22:02:58,458 : INFO : worker thread finished; awaiting finish of 4 more threads\n",
      "2020-03-31 22:02:58,462 : INFO : worker thread finished; awaiting finish of 3 more threads\n",
      "2020-03-31 22:02:58,462 : INFO : worker thread finished; awaiting finish of 2 more threads\n",
      "2020-03-31 22:02:58,468 : INFO : worker thread finished; awaiting finish of 1 more threads\n",
      "2020-03-31 22:02:58,468 : INFO : worker thread finished; awaiting finish of 0 more threads\n",
      "2020-03-31 22:02:58,468 : INFO : EPOCH - 15 : training on 44832010 raw words (34705132 effective words) took 29.0s, 1195110 effective words/s\n",
      "2020-03-31 22:02:59,471 : INFO : EPOCH 16 - PROGRESS: at 3.44% examples, 1231407 words/s, in_qsize 14, out_qsize 1\n",
      "2020-03-31 22:03:00,478 : INFO : EPOCH 16 - PROGRESS: at 7.00% examples, 1221379 words/s, in_qsize 13, out_qsize 2\n",
      "2020-03-31 22:03:01,488 : INFO : EPOCH 16 - PROGRESS: at 10.25% examples, 1202718 words/s, in_qsize 14, out_qsize 1\n",
      "2020-03-31 22:03:02,487 : INFO : EPOCH 16 - PROGRESS: at 13.86% examples, 1195646 words/s, in_qsize 14, out_qsize 1\n",
      "2020-03-31 22:03:03,493 : INFO : EPOCH 16 - PROGRESS: at 17.41% examples, 1201160 words/s, in_qsize 15, out_qsize 0\n",
      "2020-03-31 22:03:04,515 : INFO : EPOCH 16 - PROGRESS: at 20.73% examples, 1193216 words/s, in_qsize 15, out_qsize 0\n",
      "2020-03-31 22:03:05,512 : INFO : EPOCH 16 - PROGRESS: at 24.49% examples, 1199805 words/s, in_qsize 15, out_qsize 0\n",
      "2020-03-31 22:03:06,520 : INFO : EPOCH 16 - PROGRESS: at 27.73% examples, 1195796 words/s, in_qsize 13, out_qsize 2\n",
      "2020-03-31 22:03:07,522 : INFO : EPOCH 16 - PROGRESS: at 30.99% examples, 1198878 words/s, in_qsize 15, out_qsize 0\n",
      "2020-03-31 22:03:08,527 : INFO : EPOCH 16 - PROGRESS: at 34.54% examples, 1193838 words/s, in_qsize 14, out_qsize 1\n",
      "2020-03-31 22:03:09,519 : INFO : EPOCH 16 - PROGRESS: at 37.97% examples, 1190733 words/s, in_qsize 15, out_qsize 0\n",
      "2020-03-31 22:03:10,526 : INFO : EPOCH 16 - PROGRESS: at 41.38% examples, 1190318 words/s, in_qsize 14, out_qsize 1\n",
      "2020-03-31 22:03:11,538 : INFO : EPOCH 16 - PROGRESS: at 44.56% examples, 1188243 words/s, in_qsize 15, out_qsize 0\n",
      "2020-03-31 22:03:12,562 : INFO : EPOCH 16 - PROGRESS: at 48.25% examples, 1186501 words/s, in_qsize 14, out_qsize 1\n",
      "2020-03-31 22:03:13,553 : INFO : EPOCH 16 - PROGRESS: at 51.69% examples, 1188312 words/s, in_qsize 13, out_qsize 2\n",
      "2020-03-31 22:03:14,578 : INFO : EPOCH 16 - PROGRESS: at 55.13% examples, 1186818 words/s, in_qsize 14, out_qsize 1\n",
      "2020-03-31 22:03:15,600 : INFO : EPOCH 16 - PROGRESS: at 58.30% examples, 1186828 words/s, in_qsize 14, out_qsize 1\n",
      "2020-03-31 22:03:16,616 : INFO : EPOCH 16 - PROGRESS: at 61.60% examples, 1189063 words/s, in_qsize 15, out_qsize 0\n",
      "2020-03-31 22:03:17,615 : INFO : EPOCH 16 - PROGRESS: at 65.25% examples, 1188833 words/s, in_qsize 16, out_qsize 2\n",
      "2020-03-31 22:03:18,622 : INFO : EPOCH 16 - PROGRESS: at 68.59% examples, 1188960 words/s, in_qsize 14, out_qsize 1\n",
      "2020-03-31 22:03:19,633 : INFO : EPOCH 16 - PROGRESS: at 72.04% examples, 1188600 words/s, in_qsize 12, out_qsize 3\n",
      "2020-03-31 22:03:20,638 : INFO : EPOCH 16 - PROGRESS: at 75.26% examples, 1187425 words/s, in_qsize 13, out_qsize 2\n",
      "2020-03-31 22:03:21,664 : INFO : EPOCH 16 - PROGRESS: at 78.65% examples, 1187431 words/s, in_qsize 15, out_qsize 0\n",
      "2020-03-31 22:03:22,667 : INFO : EPOCH 16 - PROGRESS: at 82.25% examples, 1186362 words/s, in_qsize 15, out_qsize 0\n",
      "2020-03-31 22:03:23,657 : INFO : EPOCH 16 - PROGRESS: at 85.46% examples, 1186867 words/s, in_qsize 13, out_qsize 2\n",
      "2020-03-31 22:03:24,671 : INFO : EPOCH 16 - PROGRESS: at 88.77% examples, 1187106 words/s, in_qsize 14, out_qsize 1\n",
      "2020-03-31 22:03:25,699 : INFO : EPOCH 16 - PROGRESS: at 92.31% examples, 1187722 words/s, in_qsize 15, out_qsize 0\n",
      "2020-03-31 22:03:26,711 : INFO : EPOCH 16 - PROGRESS: at 95.99% examples, 1186077 words/s, in_qsize 13, out_qsize 2\n"
     ]
    },
    {
     "name": "stderr",
     "output_type": "stream",
     "text": [
      "2020-03-31 22:03:27,663 : INFO : worker thread finished; awaiting finish of 7 more threads\n",
      "2020-03-31 22:03:27,678 : INFO : worker thread finished; awaiting finish of 6 more threads\n",
      "2020-03-31 22:03:27,685 : INFO : worker thread finished; awaiting finish of 5 more threads\n",
      "2020-03-31 22:03:27,694 : INFO : worker thread finished; awaiting finish of 4 more threads\n",
      "2020-03-31 22:03:27,694 : INFO : worker thread finished; awaiting finish of 3 more threads\n",
      "2020-03-31 22:03:27,694 : INFO : worker thread finished; awaiting finish of 2 more threads\n",
      "2020-03-31 22:03:27,703 : INFO : worker thread finished; awaiting finish of 1 more threads\n",
      "2020-03-31 22:03:27,703 : INFO : worker thread finished; awaiting finish of 0 more threads\n",
      "2020-03-31 22:03:27,703 : INFO : EPOCH - 16 : training on 44832010 raw words (34708092 effective words) took 29.2s, 1187515 effective words/s\n",
      "2020-03-31 22:03:28,718 : INFO : EPOCH 17 - PROGRESS: at 3.40% examples, 1209157 words/s, in_qsize 14, out_qsize 1\n",
      "2020-03-31 22:03:29,725 : INFO : EPOCH 17 - PROGRESS: at 7.00% examples, 1219449 words/s, in_qsize 13, out_qsize 2\n",
      "2020-03-31 22:03:30,726 : INFO : EPOCH 17 - PROGRESS: at 10.36% examples, 1210643 words/s, in_qsize 15, out_qsize 0\n",
      "2020-03-31 22:03:31,728 : INFO : EPOCH 17 - PROGRESS: at 13.91% examples, 1199692 words/s, in_qsize 14, out_qsize 1\n",
      "2020-03-31 22:03:32,735 : INFO : EPOCH 17 - PROGRESS: at 17.42% examples, 1203298 words/s, in_qsize 15, out_qsize 2\n",
      "2020-03-31 22:03:33,749 : INFO : EPOCH 17 - PROGRESS: at 21.01% examples, 1205923 words/s, in_qsize 16, out_qsize 0\n",
      "2020-03-31 22:03:34,767 : INFO : EPOCH 17 - PROGRESS: at 24.57% examples, 1201677 words/s, in_qsize 13, out_qsize 2\n",
      "2020-03-31 22:03:35,772 : INFO : EPOCH 17 - PROGRESS: at 27.94% examples, 1200245 words/s, in_qsize 14, out_qsize 1\n",
      "2020-03-31 22:03:36,776 : INFO : EPOCH 17 - PROGRESS: at 31.03% examples, 1197218 words/s, in_qsize 12, out_qsize 3\n",
      "2020-03-31 22:03:37,787 : INFO : EPOCH 17 - PROGRESS: at 34.66% examples, 1193350 words/s, in_qsize 15, out_qsize 0\n",
      "2020-03-31 22:03:38,806 : INFO : EPOCH 17 - PROGRESS: at 38.34% examples, 1195309 words/s, in_qsize 14, out_qsize 1\n",
      "2020-03-31 22:03:39,811 : INFO : EPOCH 17 - PROGRESS: at 41.64% examples, 1192455 words/s, in_qsize 14, out_qsize 1\n",
      "2020-03-31 22:03:40,817 : INFO : EPOCH 17 - PROGRESS: at 44.93% examples, 1193550 words/s, in_qsize 15, out_qsize 0\n",
      "2020-03-31 22:03:41,826 : INFO : EPOCH 17 - PROGRESS: at 48.60% examples, 1192973 words/s, in_qsize 12, out_qsize 3\n",
      "2020-03-31 22:03:42,814 : INFO : EPOCH 17 - PROGRESS: at 52.05% examples, 1195965 words/s, in_qsize 14, out_qsize 1\n",
      "2020-03-31 22:03:43,829 : INFO : EPOCH 17 - PROGRESS: at 55.68% examples, 1196510 words/s, in_qsize 15, out_qsize 0\n",
      "2020-03-31 22:03:44,827 : INFO : EPOCH 17 - PROGRESS: at 58.69% examples, 1195882 words/s, in_qsize 14, out_qsize 1\n",
      "2020-03-31 22:03:45,851 : INFO : EPOCH 17 - PROGRESS: at 62.00% examples, 1196255 words/s, in_qsize 16, out_qsize 1\n",
      "2020-03-31 22:03:46,844 : INFO : EPOCH 17 - PROGRESS: at 65.63% examples, 1196689 words/s, in_qsize 12, out_qsize 3\n",
      "2020-03-31 22:03:47,853 : INFO : EPOCH 17 - PROGRESS: at 69.09% examples, 1196824 words/s, in_qsize 14, out_qsize 1\n",
      "2020-03-31 22:03:48,852 : INFO : EPOCH 17 - PROGRESS: at 72.53% examples, 1196958 words/s, in_qsize 15, out_qsize 0\n",
      "2020-03-31 22:03:49,876 : INFO : EPOCH 17 - PROGRESS: at 75.70% examples, 1196157 words/s, in_qsize 15, out_qsize 0\n",
      "2020-03-31 22:03:50,885 : INFO : EPOCH 17 - PROGRESS: at 79.34% examples, 1196109 words/s, in_qsize 13, out_qsize 2\n",
      "2020-03-31 22:03:51,894 : INFO : EPOCH 17 - PROGRESS: at 82.76% examples, 1194727 words/s, in_qsize 13, out_qsize 2\n",
      "2020-03-31 22:03:52,906 : INFO : EPOCH 17 - PROGRESS: at 86.04% examples, 1194383 words/s, in_qsize 15, out_qsize 0\n",
      "2020-03-31 22:03:53,914 : INFO : EPOCH 17 - PROGRESS: at 89.14% examples, 1193235 words/s, in_qsize 14, out_qsize 1\n",
      "2020-03-31 22:03:54,915 : INFO : EPOCH 17 - PROGRESS: at 92.78% examples, 1193266 words/s, in_qsize 15, out_qsize 0\n",
      "2020-03-31 22:03:55,944 : INFO : EPOCH 17 - PROGRESS: at 96.60% examples, 1192847 words/s, in_qsize 11, out_qsize 4\n",
      "2020-03-31 22:03:56,755 : INFO : worker thread finished; awaiting finish of 7 more threads\n",
      "2020-03-31 22:03:56,755 : INFO : worker thread finished; awaiting finish of 6 more threads\n",
      "2020-03-31 22:03:56,767 : INFO : worker thread finished; awaiting finish of 5 more threads\n",
      "2020-03-31 22:03:56,773 : INFO : worker thread finished; awaiting finish of 4 more threads\n",
      "2020-03-31 22:03:56,786 : INFO : worker thread finished; awaiting finish of 3 more threads\n",
      "2020-03-31 22:03:56,786 : INFO : worker thread finished; awaiting finish of 2 more threads\n",
      "2020-03-31 22:03:56,790 : INFO : worker thread finished; awaiting finish of 1 more threads\n",
      "2020-03-31 22:03:56,798 : INFO : worker thread finished; awaiting finish of 0 more threads\n",
      "2020-03-31 22:03:56,802 : INFO : EPOCH - 17 : training on 44832010 raw words (34709397 effective words) took 29.1s, 1193168 effective words/s\n",
      "2020-03-31 22:03:57,823 : INFO : EPOCH 18 - PROGRESS: at 3.30% examples, 1177991 words/s, in_qsize 16, out_qsize 1\n",
      "2020-03-31 22:03:58,834 : INFO : EPOCH 18 - PROGRESS: at 6.85% examples, 1189328 words/s, in_qsize 14, out_qsize 1\n",
      "2020-03-31 22:03:59,844 : INFO : EPOCH 18 - PROGRESS: at 10.17% examples, 1179497 words/s, in_qsize 14, out_qsize 1\n",
      "2020-03-31 22:04:00,870 : INFO : EPOCH 18 - PROGRESS: at 13.82% examples, 1182102 words/s, in_qsize 15, out_qsize 0\n",
      "2020-03-31 22:04:01,880 : INFO : EPOCH 18 - PROGRESS: at 17.40% examples, 1191467 words/s, in_qsize 15, out_qsize 0\n",
      "2020-03-31 22:04:02,874 : INFO : EPOCH 18 - PROGRESS: at 20.82% examples, 1188982 words/s, in_qsize 14, out_qsize 1\n",
      "2020-03-31 22:04:03,888 : INFO : EPOCH 18 - PROGRESS: at 24.44% examples, 1189588 words/s, in_qsize 14, out_qsize 1\n",
      "2020-03-31 22:04:04,884 : INFO : EPOCH 18 - PROGRESS: at 27.80% examples, 1191613 words/s, in_qsize 15, out_qsize 0\n",
      "2020-03-31 22:04:05,889 : INFO : EPOCH 18 - PROGRESS: at 30.99% examples, 1192815 words/s, in_qsize 14, out_qsize 1\n",
      "2020-03-31 22:04:06,897 : INFO : EPOCH 18 - PROGRESS: at 34.67% examples, 1192591 words/s, in_qsize 13, out_qsize 2\n",
      "2020-03-31 22:04:07,918 : INFO : EPOCH 18 - PROGRESS: at 38.22% examples, 1189721 words/s, in_qsize 15, out_qsize 0\n",
      "2020-03-31 22:04:08,924 : INFO : EPOCH 18 - PROGRESS: at 41.49% examples, 1187296 words/s, in_qsize 14, out_qsize 1\n",
      "2020-03-31 22:04:09,941 : INFO : EPOCH 18 - PROGRESS: at 44.74% examples, 1186346 words/s, in_qsize 15, out_qsize 0\n",
      "2020-03-31 22:04:10,944 : INFO : EPOCH 18 - PROGRESS: at 48.38% examples, 1184979 words/s, in_qsize 15, out_qsize 0\n",
      "2020-03-31 22:04:11,960 : INFO : EPOCH 18 - PROGRESS: at 51.75% examples, 1184937 words/s, in_qsize 16, out_qsize 0\n",
      "2020-03-31 22:04:12,975 : INFO : EPOCH 18 - PROGRESS: at 55.29% examples, 1186153 words/s, in_qsize 16, out_qsize 2\n",
      "2020-03-31 22:04:13,982 : INFO : EPOCH 18 - PROGRESS: at 58.46% examples, 1186643 words/s, in_qsize 15, out_qsize 0\n",
      "2020-03-31 22:04:14,993 : INFO : EPOCH 18 - PROGRESS: at 61.63% examples, 1185904 words/s, in_qsize 12, out_qsize 3\n",
      "2020-03-31 22:04:16,003 : INFO : EPOCH 18 - PROGRESS: at 65.38% examples, 1188444 words/s, in_qsize 15, out_qsize 0\n",
      "2020-03-31 22:04:16,995 : INFO : EPOCH 18 - PROGRESS: at 68.69% examples, 1187747 words/s, in_qsize 15, out_qsize 2\n",
      "2020-03-31 22:04:18,022 : INFO : EPOCH 18 - PROGRESS: at 72.17% examples, 1187704 words/s, in_qsize 15, out_qsize 0\n",
      "2020-03-31 22:04:19,026 : INFO : EPOCH 18 - PROGRESS: at 75.36% examples, 1187407 words/s, in_qsize 13, out_qsize 2\n",
      "2020-03-31 22:04:20,035 : INFO : EPOCH 18 - PROGRESS: at 78.95% examples, 1188762 words/s, in_qsize 15, out_qsize 0\n",
      "2020-03-31 22:04:21,033 : INFO : EPOCH 18 - PROGRESS: at 82.42% examples, 1187801 words/s, in_qsize 14, out_qsize 1\n",
      "2020-03-31 22:04:22,031 : INFO : EPOCH 18 - PROGRESS: at 85.71% examples, 1188704 words/s, in_qsize 12, out_qsize 3\n",
      "2020-03-31 22:04:23,038 : INFO : EPOCH 18 - PROGRESS: at 89.00% examples, 1189594 words/s, in_qsize 15, out_qsize 0\n",
      "2020-03-31 22:04:24,039 : INFO : EPOCH 18 - PROGRESS: at 92.50% examples, 1189403 words/s, in_qsize 15, out_qsize 0\n",
      "2020-03-31 22:04:25,048 : INFO : EPOCH 18 - PROGRESS: at 96.34% examples, 1189973 words/s, in_qsize 15, out_qsize 0\n"
     ]
    },
    {
     "name": "stderr",
     "output_type": "stream",
     "text": [
      "2020-03-31 22:04:25,946 : INFO : worker thread finished; awaiting finish of 7 more threads\n",
      "2020-03-31 22:04:25,962 : INFO : worker thread finished; awaiting finish of 6 more threads\n",
      "2020-03-31 22:04:25,966 : INFO : worker thread finished; awaiting finish of 5 more threads\n",
      "2020-03-31 22:04:25,966 : INFO : worker thread finished; awaiting finish of 4 more threads\n",
      "2020-03-31 22:04:25,971 : INFO : worker thread finished; awaiting finish of 3 more threads\n",
      "2020-03-31 22:04:25,974 : INFO : worker thread finished; awaiting finish of 2 more threads\n",
      "2020-03-31 22:04:25,978 : INFO : worker thread finished; awaiting finish of 1 more threads\n",
      "2020-03-31 22:04:25,978 : INFO : worker thread finished; awaiting finish of 0 more threads\n",
      "2020-03-31 22:04:25,978 : INFO : EPOCH - 18 : training on 44832010 raw words (34705032 effective words) took 29.2s, 1189813 effective words/s\n",
      "2020-03-31 22:04:26,985 : INFO : EPOCH 19 - PROGRESS: at 3.26% examples, 1183779 words/s, in_qsize 16, out_qsize 0\n",
      "2020-03-31 22:04:27,993 : INFO : EPOCH 19 - PROGRESS: at 6.93% examples, 1207339 words/s, in_qsize 14, out_qsize 1\n",
      "2020-03-31 22:04:29,012 : INFO : EPOCH 19 - PROGRESS: at 10.30% examples, 1200529 words/s, in_qsize 15, out_qsize 0\n",
      "2020-03-31 22:04:30,028 : INFO : EPOCH 19 - PROGRESS: at 13.86% examples, 1189364 words/s, in_qsize 15, out_qsize 0\n",
      "2020-03-31 22:04:31,026 : INFO : EPOCH 19 - PROGRESS: at 17.34% examples, 1192386 words/s, in_qsize 14, out_qsize 0\n",
      "2020-03-31 22:04:32,031 : INFO : EPOCH 19 - PROGRESS: at 20.85% examples, 1196142 words/s, in_qsize 16, out_qsize 1\n",
      "2020-03-31 22:04:33,037 : INFO : EPOCH 19 - PROGRESS: at 24.44% examples, 1193298 words/s, in_qsize 14, out_qsize 1\n",
      "2020-03-31 22:04:34,046 : INFO : EPOCH 19 - PROGRESS: at 27.80% examples, 1194647 words/s, in_qsize 15, out_qsize 0\n",
      "2020-03-31 22:04:35,040 : INFO : EPOCH 19 - PROGRESS: at 30.90% examples, 1193025 words/s, in_qsize 14, out_qsize 1\n",
      "2020-03-31 22:04:36,071 : INFO : EPOCH 19 - PROGRESS: at 34.67% examples, 1193246 words/s, in_qsize 13, out_qsize 2\n",
      "2020-03-31 22:04:37,071 : INFO : EPOCH 19 - PROGRESS: at 38.20% examples, 1191850 words/s, in_qsize 14, out_qsize 1\n",
      "2020-03-31 22:04:38,075 : INFO : EPOCH 19 - PROGRESS: at 41.55% examples, 1191084 words/s, in_qsize 15, out_qsize 0\n",
      "2020-03-31 22:04:39,085 : INFO : EPOCH 19 - PROGRESS: at 44.71% examples, 1188521 words/s, in_qsize 16, out_qsize 3\n",
      "2020-03-31 22:04:40,089 : INFO : EPOCH 19 - PROGRESS: at 48.43% examples, 1189289 words/s, in_qsize 15, out_qsize 0\n",
      "2020-03-31 22:04:41,084 : INFO : EPOCH 19 - PROGRESS: at 51.73% examples, 1188025 words/s, in_qsize 11, out_qsize 4\n",
      "2020-03-31 22:04:42,101 : INFO : EPOCH 19 - PROGRESS: at 55.26% examples, 1189457 words/s, in_qsize 15, out_qsize 0\n",
      "2020-03-31 22:04:43,089 : INFO : EPOCH 19 - PROGRESS: at 58.38% examples, 1189212 words/s, in_qsize 14, out_qsize 1\n",
      "2020-03-31 22:04:44,094 : INFO : EPOCH 19 - PROGRESS: at 61.53% examples, 1188298 words/s, in_qsize 15, out_qsize 0\n",
      "2020-03-31 22:04:45,108 : INFO : EPOCH 19 - PROGRESS: at 65.28% examples, 1190395 words/s, in_qsize 15, out_qsize 0\n",
      "2020-03-31 22:04:46,128 : INFO : EPOCH 19 - PROGRESS: at 68.59% examples, 1188415 words/s, in_qsize 14, out_qsize 1\n",
      "2020-03-31 22:04:47,133 : INFO : EPOCH 19 - PROGRESS: at 72.09% examples, 1189549 words/s, in_qsize 15, out_qsize 0\n",
      "2020-03-31 22:04:48,143 : INFO : EPOCH 19 - PROGRESS: at 75.29% examples, 1188429 words/s, in_qsize 15, out_qsize 0\n",
      "2020-03-31 22:04:49,152 : INFO : EPOCH 19 - PROGRESS: at 78.76% examples, 1189626 words/s, in_qsize 16, out_qsize 0\n",
      "2020-03-31 22:04:50,175 : INFO : EPOCH 19 - PROGRESS: at 82.37% examples, 1188600 words/s, in_qsize 15, out_qsize 0\n",
      "2020-03-31 22:04:51,181 : INFO : EPOCH 19 - PROGRESS: at 85.63% examples, 1189009 words/s, in_qsize 15, out_qsize 0\n",
      "2020-03-31 22:04:52,196 : INFO : EPOCH 19 - PROGRESS: at 88.91% examples, 1188637 words/s, in_qsize 14, out_qsize 1\n",
      "2020-03-31 22:04:53,217 : INFO : EPOCH 19 - PROGRESS: at 92.42% examples, 1188162 words/s, in_qsize 14, out_qsize 1\n",
      "2020-03-31 22:04:54,229 : INFO : EPOCH 19 - PROGRESS: at 96.13% examples, 1187182 words/s, in_qsize 14, out_qsize 1\n",
      "2020-03-31 22:04:55,157 : INFO : worker thread finished; awaiting finish of 7 more threads\n",
      "2020-03-31 22:04:55,172 : INFO : worker thread finished; awaiting finish of 6 more threads\n",
      "2020-03-31 22:04:55,180 : INFO : worker thread finished; awaiting finish of 5 more threads\n",
      "2020-03-31 22:04:55,186 : INFO : worker thread finished; awaiting finish of 4 more threads\n",
      "2020-03-31 22:04:55,186 : INFO : worker thread finished; awaiting finish of 3 more threads\n",
      "2020-03-31 22:04:55,193 : INFO : worker thread finished; awaiting finish of 2 more threads\n",
      "2020-03-31 22:04:55,193 : INFO : worker thread finished; awaiting finish of 1 more threads\n",
      "2020-03-31 22:04:55,197 : INFO : worker thread finished; awaiting finish of 0 more threads\n",
      "2020-03-31 22:04:55,201 : INFO : EPOCH - 19 : training on 44832010 raw words (34705364 effective words) took 29.2s, 1187995 effective words/s\n",
      "2020-03-31 22:04:56,204 : INFO : EPOCH 20 - PROGRESS: at 3.34% examples, 1205488 words/s, in_qsize 15, out_qsize 0\n",
      "2020-03-31 22:04:57,224 : INFO : EPOCH 20 - PROGRESS: at 6.91% examples, 1200926 words/s, in_qsize 13, out_qsize 2\n",
      "2020-03-31 22:04:58,262 : INFO : EPOCH 20 - PROGRESS: at 10.36% examples, 1194271 words/s, in_qsize 13, out_qsize 2\n",
      "2020-03-31 22:04:59,270 : INFO : EPOCH 20 - PROGRESS: at 13.97% examples, 1192853 words/s, in_qsize 16, out_qsize 1\n",
      "2020-03-31 22:05:00,274 : INFO : EPOCH 20 - PROGRESS: at 17.57% examples, 1199896 words/s, in_qsize 15, out_qsize 0\n",
      "2020-03-31 22:05:01,283 : INFO : EPOCH 20 - PROGRESS: at 21.04% examples, 1198966 words/s, in_qsize 12, out_qsize 3\n",
      "2020-03-31 22:05:02,290 : INFO : EPOCH 20 - PROGRESS: at 24.63% examples, 1199803 words/s, in_qsize 16, out_qsize 0\n",
      "2020-03-31 22:05:03,301 : INFO : EPOCH 20 - PROGRESS: at 27.99% examples, 1198864 words/s, in_qsize 15, out_qsize 0\n",
      "2020-03-31 22:05:04,315 : INFO : EPOCH 20 - PROGRESS: at 31.16% examples, 1196797 words/s, in_qsize 14, out_qsize 1\n",
      "2020-03-31 22:05:05,321 : INFO : EPOCH 20 - PROGRESS: at 34.86% examples, 1194349 words/s, in_qsize 15, out_qsize 0\n",
      "2020-03-31 22:05:06,345 : INFO : EPOCH 20 - PROGRESS: at 38.47% examples, 1194313 words/s, in_qsize 15, out_qsize 0\n",
      "2020-03-31 22:05:07,333 : INFO : EPOCH 20 - PROGRESS: at 41.85% examples, 1194017 words/s, in_qsize 14, out_qsize 1\n",
      "2020-03-31 22:05:08,344 : INFO : EPOCH 20 - PROGRESS: at 45.06% examples, 1193748 words/s, in_qsize 14, out_qsize 1\n",
      "2020-03-31 22:05:09,341 : INFO : EPOCH 20 - PROGRESS: at 48.69% examples, 1193024 words/s, in_qsize 15, out_qsize 0\n",
      "2020-03-31 22:05:10,360 : INFO : EPOCH 20 - PROGRESS: at 52.08% examples, 1193740 words/s, in_qsize 16, out_qsize 1\n",
      "2020-03-31 22:05:11,366 : INFO : EPOCH 20 - PROGRESS: at 55.54% examples, 1190884 words/s, in_qsize 13, out_qsize 2\n",
      "2020-03-31 22:05:12,379 : INFO : EPOCH 20 - PROGRESS: at 58.61% examples, 1190152 words/s, in_qsize 14, out_qsize 1\n",
      "2020-03-31 22:05:13,407 : INFO : EPOCH 20 - PROGRESS: at 61.86% examples, 1189122 words/s, in_qsize 16, out_qsize 3\n",
      "2020-03-31 22:05:14,409 : INFO : EPOCH 20 - PROGRESS: at 65.38% examples, 1188005 words/s, in_qsize 16, out_qsize 1\n",
      "2020-03-31 22:05:15,415 : INFO : EPOCH 20 - PROGRESS: at 68.73% examples, 1187823 words/s, in_qsize 15, out_qsize 0\n",
      "2020-03-31 22:05:16,413 : INFO : EPOCH 20 - PROGRESS: at 72.27% examples, 1188898 words/s, in_qsize 15, out_qsize 0\n",
      "2020-03-31 22:05:17,422 : INFO : EPOCH 20 - PROGRESS: at 75.41% examples, 1188531 words/s, in_qsize 14, out_qsize 1\n",
      "2020-03-31 22:05:18,421 : INFO : EPOCH 20 - PROGRESS: at 78.88% examples, 1188059 words/s, in_qsize 15, out_qsize 0\n",
      "2020-03-31 22:05:19,423 : INFO : EPOCH 20 - PROGRESS: at 82.34% examples, 1186281 words/s, in_qsize 15, out_qsize 0\n",
      "2020-03-31 22:05:20,435 : INFO : EPOCH 20 - PROGRESS: at 85.59% examples, 1186744 words/s, in_qsize 15, out_qsize 1\n",
      "2020-03-31 22:05:21,445 : INFO : EPOCH 20 - PROGRESS: at 88.93% examples, 1187397 words/s, in_qsize 14, out_qsize 1\n",
      "2020-03-31 22:05:22,472 : INFO : EPOCH 20 - PROGRESS: at 92.47% examples, 1187155 words/s, in_qsize 14, out_qsize 1\n",
      "2020-03-31 22:05:23,487 : INFO : EPOCH 20 - PROGRESS: at 96.14% examples, 1186000 words/s, in_qsize 13, out_qsize 2\n"
     ]
    },
    {
     "name": "stderr",
     "output_type": "stream",
     "text": [
      "2020-03-31 22:05:24,412 : INFO : worker thread finished; awaiting finish of 7 more threads\n",
      "2020-03-31 22:05:24,433 : INFO : worker thread finished; awaiting finish of 6 more threads\n",
      "2020-03-31 22:05:24,433 : INFO : worker thread finished; awaiting finish of 5 more threads\n",
      "2020-03-31 22:05:24,433 : INFO : worker thread finished; awaiting finish of 4 more threads\n",
      "2020-03-31 22:05:24,433 : INFO : worker thread finished; awaiting finish of 3 more threads\n",
      "2020-03-31 22:05:24,439 : INFO : worker thread finished; awaiting finish of 2 more threads\n",
      "2020-03-31 22:05:24,439 : INFO : worker thread finished; awaiting finish of 1 more threads\n",
      "2020-03-31 22:05:24,455 : INFO : worker thread finished; awaiting finish of 0 more threads\n",
      "2020-03-31 22:05:24,455 : INFO : EPOCH - 20 : training on 44832010 raw words (34703823 effective words) took 29.2s, 1186514 effective words/s\n",
      "2020-03-31 22:05:25,466 : INFO : EPOCH 21 - PROGRESS: at 3.36% examples, 1205811 words/s, in_qsize 15, out_qsize 0\n",
      "2020-03-31 22:05:26,461 : INFO : EPOCH 21 - PROGRESS: at 6.96% examples, 1217269 words/s, in_qsize 15, out_qsize 0\n",
      "2020-03-31 22:05:27,476 : INFO : EPOCH 21 - PROGRESS: at 10.25% examples, 1202030 words/s, in_qsize 15, out_qsize 0\n",
      "2020-03-31 22:05:28,479 : INFO : EPOCH 21 - PROGRESS: at 13.86% examples, 1196278 words/s, in_qsize 14, out_qsize 1\n",
      "2020-03-31 22:05:29,486 : INFO : EPOCH 21 - PROGRESS: at 17.38% examples, 1200960 words/s, in_qsize 16, out_qsize 1\n",
      "2020-03-31 22:05:30,481 : INFO : EPOCH 21 - PROGRESS: at 20.70% examples, 1194232 words/s, in_qsize 14, out_qsize 1\n",
      "2020-03-31 22:05:31,509 : INFO : EPOCH 21 - PROGRESS: at 24.27% examples, 1186991 words/s, in_qsize 13, out_qsize 2\n",
      "2020-03-31 22:05:32,532 : INFO : EPOCH 21 - PROGRESS: at 27.61% examples, 1187571 words/s, in_qsize 15, out_qsize 0\n",
      "2020-03-31 22:05:33,548 : INFO : EPOCH 21 - PROGRESS: at 30.86% examples, 1187636 words/s, in_qsize 14, out_qsize 1\n",
      "2020-03-31 22:05:34,552 : INFO : EPOCH 21 - PROGRESS: at 34.52% examples, 1187571 words/s, in_qsize 15, out_qsize 0\n",
      "2020-03-31 22:05:35,572 : INFO : EPOCH 21 - PROGRESS: at 38.09% examples, 1186972 words/s, in_qsize 15, out_qsize 0\n",
      "2020-03-31 22:05:36,572 : INFO : EPOCH 21 - PROGRESS: at 41.35% examples, 1184000 words/s, in_qsize 15, out_qsize 0\n",
      "2020-03-31 22:05:37,587 : INFO : EPOCH 21 - PROGRESS: at 44.59% examples, 1183884 words/s, in_qsize 15, out_qsize 0\n",
      "2020-03-31 22:05:38,585 : INFO : EPOCH 21 - PROGRESS: at 48.32% examples, 1184659 words/s, in_qsize 14, out_qsize 1\n",
      "2020-03-31 22:05:39,616 : INFO : EPOCH 21 - PROGRESS: at 51.72% examples, 1183889 words/s, in_qsize 13, out_qsize 2\n",
      "2020-03-31 22:05:40,625 : INFO : EPOCH 21 - PROGRESS: at 55.17% examples, 1183735 words/s, in_qsize 13, out_qsize 2\n",
      "2020-03-31 22:05:41,650 : INFO : EPOCH 21 - PROGRESS: at 58.28% examples, 1181837 words/s, in_qsize 16, out_qsize 1\n",
      "2020-03-31 22:05:42,659 : INFO : EPOCH 21 - PROGRESS: at 61.57% examples, 1184133 words/s, in_qsize 14, out_qsize 1\n",
      "2020-03-31 22:05:43,668 : INFO : EPOCH 21 - PROGRESS: at 65.19% examples, 1183214 words/s, in_qsize 15, out_qsize 0\n",
      "2020-03-31 22:05:44,674 : INFO : EPOCH 21 - PROGRESS: at 68.54% examples, 1183633 words/s, in_qsize 14, out_qsize 1\n",
      "2020-03-31 22:05:45,688 : INFO : EPOCH 21 - PROGRESS: at 72.02% examples, 1184948 words/s, in_qsize 15, out_qsize 0\n",
      "2020-03-31 22:05:46,687 : INFO : EPOCH 21 - PROGRESS: at 75.30% examples, 1185196 words/s, in_qsize 15, out_qsize 0\n",
      "2020-03-31 22:05:47,699 : INFO : EPOCH 21 - PROGRESS: at 78.67% examples, 1185138 words/s, in_qsize 15, out_qsize 0\n",
      "2020-03-31 22:05:48,720 : INFO : EPOCH 21 - PROGRESS: at 82.42% examples, 1186475 words/s, in_qsize 15, out_qsize 0\n",
      "2020-03-31 22:05:49,732 : INFO : EPOCH 21 - PROGRESS: at 85.67% examples, 1185849 words/s, in_qsize 12, out_qsize 3\n",
      "2020-03-31 22:05:50,755 : INFO : EPOCH 21 - PROGRESS: at 88.96% examples, 1186169 words/s, in_qsize 13, out_qsize 2\n",
      "2020-03-31 22:05:51,766 : INFO : EPOCH 21 - PROGRESS: at 92.57% examples, 1187106 words/s, in_qsize 15, out_qsize 0\n",
      "2020-03-31 22:05:52,760 : INFO : EPOCH 21 - PROGRESS: at 96.22% examples, 1185681 words/s, in_qsize 14, out_qsize 1\n",
      "2020-03-31 22:05:53,677 : INFO : worker thread finished; awaiting finish of 7 more threads\n",
      "2020-03-31 22:05:53,693 : INFO : worker thread finished; awaiting finish of 6 more threads\n",
      "2020-03-31 22:05:53,709 : INFO : worker thread finished; awaiting finish of 5 more threads\n",
      "2020-03-31 22:05:53,729 : INFO : worker thread finished; awaiting finish of 4 more threads\n",
      "2020-03-31 22:05:53,729 : INFO : worker thread finished; awaiting finish of 3 more threads\n",
      "2020-03-31 22:05:53,729 : INFO : worker thread finished; awaiting finish of 2 more threads\n",
      "2020-03-31 22:05:53,735 : INFO : worker thread finished; awaiting finish of 1 more threads\n",
      "2020-03-31 22:05:53,739 : INFO : worker thread finished; awaiting finish of 0 more threads\n",
      "2020-03-31 22:05:53,739 : INFO : EPOCH - 21 : training on 44832010 raw words (34706864 effective words) took 29.3s, 1185437 effective words/s\n",
      "2020-03-31 22:05:54,760 : INFO : EPOCH 22 - PROGRESS: at 3.39% examples, 1212702 words/s, in_qsize 15, out_qsize 0\n",
      "2020-03-31 22:05:55,767 : INFO : EPOCH 22 - PROGRESS: at 6.90% examples, 1208186 words/s, in_qsize 15, out_qsize 0\n",
      "2020-03-31 22:05:56,767 : INFO : EPOCH 22 - PROGRESS: at 10.21% examples, 1196348 words/s, in_qsize 15, out_qsize 0\n",
      "2020-03-31 22:05:57,770 : INFO : EPOCH 22 - PROGRESS: at 13.88% examples, 1198775 words/s, in_qsize 15, out_qsize 0\n",
      "2020-03-31 22:05:58,768 : INFO : EPOCH 22 - PROGRESS: at 17.34% examples, 1197102 words/s, in_qsize 15, out_qsize 0\n",
      "2020-03-31 22:05:59,773 : INFO : EPOCH 22 - PROGRESS: at 20.76% examples, 1196638 words/s, in_qsize 15, out_qsize 0\n",
      "2020-03-31 22:06:00,779 : INFO : EPOCH 22 - PROGRESS: at 24.25% examples, 1189692 words/s, in_qsize 15, out_qsize 0\n",
      "2020-03-31 22:06:01,786 : INFO : EPOCH 22 - PROGRESS: at 27.56% examples, 1191513 words/s, in_qsize 15, out_qsize 0\n",
      "2020-03-31 22:06:02,798 : INFO : EPOCH 22 - PROGRESS: at 30.77% examples, 1189189 words/s, in_qsize 14, out_qsize 1\n",
      "2020-03-31 22:06:03,796 : INFO : EPOCH 22 - PROGRESS: at 34.47% examples, 1190493 words/s, in_qsize 15, out_qsize 0\n",
      "2020-03-31 22:06:04,806 : INFO : EPOCH 22 - PROGRESS: at 38.15% examples, 1194514 words/s, in_qsize 16, out_qsize 0\n",
      "2020-03-31 22:06:05,797 : INFO : EPOCH 22 - PROGRESS: at 41.47% examples, 1192555 words/s, in_qsize 13, out_qsize 2\n",
      "2020-03-31 22:06:06,820 : INFO : EPOCH 22 - PROGRESS: at 44.79% examples, 1193013 words/s, in_qsize 14, out_qsize 1\n",
      "2020-03-31 22:06:07,816 : INFO : EPOCH 22 - PROGRESS: at 48.33% examples, 1189852 words/s, in_qsize 15, out_qsize 0\n",
      "2020-03-31 22:06:08,822 : INFO : EPOCH 22 - PROGRESS: at 51.71% examples, 1189961 words/s, in_qsize 14, out_qsize 1\n",
      "2020-03-31 22:06:09,836 : INFO : EPOCH 22 - PROGRESS: at 55.15% examples, 1188952 words/s, in_qsize 14, out_qsize 1\n",
      "2020-03-31 22:06:10,838 : INFO : EPOCH 22 - PROGRESS: at 58.28% examples, 1188831 words/s, in_qsize 15, out_qsize 0\n",
      "2020-03-31 22:06:11,837 : INFO : EPOCH 22 - PROGRESS: at 61.42% examples, 1188052 words/s, in_qsize 15, out_qsize 0\n",
      "2020-03-31 22:06:12,854 : INFO : EPOCH 22 - PROGRESS: at 65.14% examples, 1188204 words/s, in_qsize 14, out_qsize 1\n",
      "2020-03-31 22:06:13,862 : INFO : EPOCH 22 - PROGRESS: at 68.47% examples, 1188963 words/s, in_qsize 15, out_qsize 0\n",
      "2020-03-31 22:06:14,865 : INFO : EPOCH 22 - PROGRESS: at 71.87% examples, 1188908 words/s, in_qsize 15, out_qsize 0\n",
      "2020-03-31 22:06:15,873 : INFO : EPOCH 22 - PROGRESS: at 75.24% examples, 1189709 words/s, in_qsize 14, out_qsize 1\n",
      "2020-03-31 22:06:16,885 : INFO : EPOCH 22 - PROGRESS: at 78.65% examples, 1190386 words/s, in_qsize 13, out_qsize 2\n",
      "2020-03-31 22:06:17,893 : INFO : EPOCH 22 - PROGRESS: at 82.29% examples, 1189415 words/s, in_qsize 16, out_qsize 0\n",
      "2020-03-31 22:06:18,890 : INFO : EPOCH 22 - PROGRESS: at 85.47% examples, 1189313 words/s, in_qsize 15, out_qsize 0\n",
      "2020-03-31 22:06:19,904 : INFO : EPOCH 22 - PROGRESS: at 88.84% examples, 1190612 words/s, in_qsize 15, out_qsize 0\n",
      "2020-03-31 22:06:20,912 : INFO : EPOCH 22 - PROGRESS: at 92.26% examples, 1190183 words/s, in_qsize 15, out_qsize 0\n",
      "2020-03-31 22:06:21,901 : INFO : EPOCH 22 - PROGRESS: at 95.97% examples, 1189271 words/s, in_qsize 15, out_qsize 0\n"
     ]
    },
    {
     "name": "stderr",
     "output_type": "stream",
     "text": [
      "2020-03-31 22:06:22,898 : INFO : worker thread finished; awaiting finish of 7 more threads\n",
      "2020-03-31 22:06:22,924 : INFO : EPOCH 22 - PROGRESS: at 99.81% examples, 1187794 words/s, in_qsize 5, out_qsize 3\n",
      "2020-03-31 22:06:22,940 : INFO : worker thread finished; awaiting finish of 6 more threads\n",
      "2020-03-31 22:06:22,944 : INFO : worker thread finished; awaiting finish of 5 more threads\n",
      "2020-03-31 22:06:22,944 : INFO : worker thread finished; awaiting finish of 4 more threads\n",
      "2020-03-31 22:06:22,957 : INFO : worker thread finished; awaiting finish of 3 more threads\n",
      "2020-03-31 22:06:22,957 : INFO : worker thread finished; awaiting finish of 2 more threads\n",
      "2020-03-31 22:06:22,957 : INFO : worker thread finished; awaiting finish of 1 more threads\n",
      "2020-03-31 22:06:22,963 : INFO : worker thread finished; awaiting finish of 0 more threads\n",
      "2020-03-31 22:06:22,963 : INFO : EPOCH - 22 : training on 44832010 raw words (34707346 effective words) took 29.2s, 1188173 effective words/s\n",
      "2020-03-31 22:06:23,978 : INFO : EPOCH 23 - PROGRESS: at 3.42% examples, 1224243 words/s, in_qsize 14, out_qsize 1\n",
      "2020-03-31 22:06:24,967 : INFO : EPOCH 23 - PROGRESS: at 6.91% examples, 1211936 words/s, in_qsize 14, out_qsize 1\n",
      "2020-03-31 22:06:25,984 : INFO : EPOCH 23 - PROGRESS: at 10.28% examples, 1201933 words/s, in_qsize 15, out_qsize 0\n",
      "2020-03-31 22:06:26,987 : INFO : EPOCH 23 - PROGRESS: at 13.96% examples, 1204583 words/s, in_qsize 15, out_qsize 0\n",
      "2020-03-31 22:06:27,993 : INFO : EPOCH 23 - PROGRESS: at 17.38% examples, 1199137 words/s, in_qsize 14, out_qsize 1\n",
      "2020-03-31 22:06:28,994 : INFO : EPOCH 23 - PROGRESS: at 20.82% examples, 1197367 words/s, in_qsize 14, out_qsize 1\n",
      "2020-03-31 22:06:30,007 : INFO : EPOCH 23 - PROGRESS: at 24.44% examples, 1198332 words/s, in_qsize 15, out_qsize 0\n",
      "2020-03-31 22:06:31,017 : INFO : EPOCH 23 - PROGRESS: at 27.77% examples, 1196495 words/s, in_qsize 15, out_qsize 0\n",
      "2020-03-31 22:06:32,037 : INFO : EPOCH 23 - PROGRESS: at 31.04% examples, 1199215 words/s, in_qsize 15, out_qsize 1\n",
      "2020-03-31 22:06:33,031 : INFO : EPOCH 23 - PROGRESS: at 34.69% examples, 1196653 words/s, in_qsize 15, out_qsize 0\n",
      "2020-03-31 22:06:34,040 : INFO : EPOCH 23 - PROGRESS: at 38.09% examples, 1191214 words/s, in_qsize 15, out_qsize 0\n",
      "2020-03-31 22:06:35,057 : INFO : EPOCH 23 - PROGRESS: at 41.55% examples, 1191683 words/s, in_qsize 15, out_qsize 0\n",
      "2020-03-31 22:06:36,068 : INFO : EPOCH 23 - PROGRESS: at 44.79% examples, 1190080 words/s, in_qsize 15, out_qsize 0\n",
      "2020-03-31 22:06:37,080 : INFO : EPOCH 23 - PROGRESS: at 48.43% examples, 1188907 words/s, in_qsize 13, out_qsize 2\n",
      "2020-03-31 22:06:38,082 : INFO : EPOCH 23 - PROGRESS: at 51.87% examples, 1190259 words/s, in_qsize 12, out_qsize 3\n",
      "2020-03-31 22:06:39,103 : INFO : EPOCH 23 - PROGRESS: at 55.37% examples, 1190821 words/s, in_qsize 16, out_qsize 0\n",
      "2020-03-31 22:06:40,101 : INFO : EPOCH 23 - PROGRESS: at 58.54% examples, 1191491 words/s, in_qsize 14, out_qsize 1\n",
      "2020-03-31 22:06:41,095 : INFO : EPOCH 23 - PROGRESS: at 61.72% examples, 1191638 words/s, in_qsize 15, out_qsize 0\n",
      "2020-03-31 22:06:42,102 : INFO : EPOCH 23 - PROGRESS: at 65.39% examples, 1192294 words/s, in_qsize 14, out_qsize 1\n",
      "2020-03-31 22:06:43,125 : INFO : EPOCH 23 - PROGRESS: at 68.80% examples, 1192749 words/s, in_qsize 15, out_qsize 0\n",
      "2020-03-31 22:06:44,133 : INFO : EPOCH 23 - PROGRESS: at 72.37% examples, 1193123 words/s, in_qsize 12, out_qsize 3\n",
      "2020-03-31 22:06:45,128 : INFO : EPOCH 23 - PROGRESS: at 75.54% examples, 1193889 words/s, in_qsize 13, out_qsize 2\n",
      "2020-03-31 22:06:46,141 : INFO : EPOCH 23 - PROGRESS: at 79.11% examples, 1192915 words/s, in_qsize 15, out_qsize 0\n",
      "2020-03-31 22:06:47,150 : INFO : EPOCH 23 - PROGRESS: at 82.66% examples, 1193139 words/s, in_qsize 14, out_qsize 1\n",
      "2020-03-31 22:06:48,173 : INFO : EPOCH 23 - PROGRESS: at 85.84% examples, 1191377 words/s, in_qsize 13, out_qsize 2\n",
      "2020-03-31 22:06:49,178 : INFO : EPOCH 23 - PROGRESS: at 89.08% examples, 1192287 words/s, in_qsize 15, out_qsize 0\n",
      "2020-03-31 22:06:50,183 : INFO : EPOCH 23 - PROGRESS: at 92.54% examples, 1190309 words/s, in_qsize 12, out_qsize 3\n",
      "2020-03-31 22:06:51,195 : INFO : EPOCH 23 - PROGRESS: at 96.32% examples, 1190220 words/s, in_qsize 13, out_qsize 2\n",
      "2020-03-31 22:06:52,074 : INFO : worker thread finished; awaiting finish of 7 more threads\n",
      "2020-03-31 22:06:52,105 : INFO : worker thread finished; awaiting finish of 6 more threads\n",
      "2020-03-31 22:06:52,111 : INFO : worker thread finished; awaiting finish of 5 more threads\n",
      "2020-03-31 22:06:52,111 : INFO : worker thread finished; awaiting finish of 4 more threads\n",
      "2020-03-31 22:06:52,118 : INFO : worker thread finished; awaiting finish of 3 more threads\n",
      "2020-03-31 22:06:52,118 : INFO : worker thread finished; awaiting finish of 2 more threads\n",
      "2020-03-31 22:06:52,127 : INFO : worker thread finished; awaiting finish of 1 more threads\n",
      "2020-03-31 22:06:52,127 : INFO : worker thread finished; awaiting finish of 0 more threads\n",
      "2020-03-31 22:06:52,127 : INFO : EPOCH - 23 : training on 44832010 raw words (34706223 effective words) took 29.2s, 1190293 effective words/s\n",
      "2020-03-31 22:06:53,155 : INFO : EPOCH 24 - PROGRESS: at 3.38% examples, 1188700 words/s, in_qsize 16, out_qsize 0\n",
      "2020-03-31 22:06:54,174 : INFO : EPOCH 24 - PROGRESS: at 6.99% examples, 1205026 words/s, in_qsize 15, out_qsize 0\n",
      "2020-03-31 22:06:55,190 : INFO : EPOCH 24 - PROGRESS: at 10.42% examples, 1204085 words/s, in_qsize 15, out_qsize 0\n",
      "2020-03-31 22:06:56,183 : INFO : EPOCH 24 - PROGRESS: at 13.99% examples, 1197780 words/s, in_qsize 14, out_qsize 1\n",
      "2020-03-31 22:06:57,201 : INFO : EPOCH 24 - PROGRESS: at 17.49% examples, 1196655 words/s, in_qsize 14, out_qsize 1\n",
      "2020-03-31 22:06:58,230 : INFO : EPOCH 24 - PROGRESS: at 20.88% examples, 1188763 words/s, in_qsize 14, out_qsize 1\n",
      "2020-03-31 22:06:59,236 : INFO : EPOCH 24 - PROGRESS: at 24.46% examples, 1188065 words/s, in_qsize 15, out_qsize 0\n",
      "2020-03-31 22:07:00,236 : INFO : EPOCH 24 - PROGRESS: at 27.70% examples, 1186071 words/s, in_qsize 14, out_qsize 1\n",
      "2020-03-31 22:07:01,236 : INFO : EPOCH 24 - PROGRESS: at 30.82% examples, 1184659 words/s, in_qsize 14, out_qsize 1\n",
      "2020-03-31 22:07:02,241 : INFO : EPOCH 24 - PROGRESS: at 34.48% examples, 1184670 words/s, in_qsize 16, out_qsize 0\n",
      "2020-03-31 22:07:03,265 : INFO : EPOCH 24 - PROGRESS: at 38.06% examples, 1184427 words/s, in_qsize 14, out_qsize 1\n",
      "2020-03-31 22:07:04,261 : INFO : EPOCH 24 - PROGRESS: at 41.49% examples, 1186352 words/s, in_qsize 15, out_qsize 0\n",
      "2020-03-31 22:07:05,262 : INFO : EPOCH 24 - PROGRESS: at 44.74% examples, 1185897 words/s, in_qsize 13, out_qsize 2\n",
      "2020-03-31 22:07:06,260 : INFO : EPOCH 24 - PROGRESS: at 48.40% examples, 1185935 words/s, in_qsize 15, out_qsize 0\n",
      "2020-03-31 22:07:07,280 : INFO : EPOCH 24 - PROGRESS: at 51.80% examples, 1185777 words/s, in_qsize 15, out_qsize 0\n",
      "2020-03-31 22:07:08,290 : INFO : EPOCH 24 - PROGRESS: at 55.26% examples, 1186252 words/s, in_qsize 15, out_qsize 0\n",
      "2020-03-31 22:07:09,288 : INFO : EPOCH 24 - PROGRESS: at 58.41% examples, 1186860 words/s, in_qsize 14, out_qsize 1\n",
      "2020-03-31 22:07:10,289 : INFO : EPOCH 24 - PROGRESS: at 61.59% examples, 1186906 words/s, in_qsize 14, out_qsize 1\n",
      "2020-03-31 22:07:11,291 : INFO : EPOCH 24 - PROGRESS: at 65.17% examples, 1185537 words/s, in_qsize 15, out_qsize 0\n",
      "2020-03-31 22:07:12,321 : INFO : EPOCH 24 - PROGRESS: at 68.41% examples, 1184029 words/s, in_qsize 15, out_qsize 0\n",
      "2020-03-31 22:07:13,340 : INFO : EPOCH 24 - PROGRESS: at 71.78% examples, 1182468 words/s, in_qsize 15, out_qsize 0\n",
      "2020-03-31 22:07:14,351 : INFO : EPOCH 24 - PROGRESS: at 75.15% examples, 1182701 words/s, in_qsize 14, out_qsize 1\n",
      "2020-03-31 22:07:15,361 : INFO : EPOCH 24 - PROGRESS: at 78.54% examples, 1183993 words/s, in_qsize 14, out_qsize 1\n",
      "2020-03-31 22:07:16,388 : INFO : EPOCH 24 - PROGRESS: at 82.20% examples, 1182891 words/s, in_qsize 16, out_qsize 0\n",
      "2020-03-31 22:07:17,384 : INFO : EPOCH 24 - PROGRESS: at 85.43% examples, 1183365 words/s, in_qsize 14, out_qsize 1\n",
      "2020-03-31 22:07:18,392 : INFO : EPOCH 24 - PROGRESS: at 88.60% examples, 1182611 words/s, in_qsize 16, out_qsize 0\n",
      "2020-03-31 22:07:19,381 : INFO : EPOCH 24 - PROGRESS: at 92.04% examples, 1183665 words/s, in_qsize 13, out_qsize 2\n"
     ]
    },
    {
     "name": "stderr",
     "output_type": "stream",
     "text": [
      "2020-03-31 22:07:20,393 : INFO : EPOCH 24 - PROGRESS: at 95.78% examples, 1183427 words/s, in_qsize 14, out_qsize 1\n",
      "2020-03-31 22:07:21,410 : INFO : EPOCH 24 - PROGRESS: at 99.76% examples, 1183461 words/s, in_qsize 6, out_qsize 4\n",
      "2020-03-31 22:07:21,410 : INFO : worker thread finished; awaiting finish of 7 more threads\n",
      "2020-03-31 22:07:21,443 : INFO : worker thread finished; awaiting finish of 6 more threads\n",
      "2020-03-31 22:07:21,443 : INFO : worker thread finished; awaiting finish of 5 more threads\n",
      "2020-03-31 22:07:21,455 : INFO : worker thread finished; awaiting finish of 4 more threads\n",
      "2020-03-31 22:07:21,455 : INFO : worker thread finished; awaiting finish of 3 more threads\n",
      "2020-03-31 22:07:21,459 : INFO : worker thread finished; awaiting finish of 2 more threads\n",
      "2020-03-31 22:07:21,472 : INFO : worker thread finished; awaiting finish of 1 more threads\n",
      "2020-03-31 22:07:21,475 : INFO : worker thread finished; awaiting finish of 0 more threads\n",
      "2020-03-31 22:07:21,476 : INFO : EPOCH - 24 : training on 44832010 raw words (34706735 effective words) took 29.3s, 1183040 effective words/s\n",
      "2020-03-31 22:07:22,495 : INFO : EPOCH 25 - PROGRESS: at 3.43% examples, 1211591 words/s, in_qsize 15, out_qsize 0\n",
      "2020-03-31 22:07:23,501 : INFO : EPOCH 25 - PROGRESS: at 7.00% examples, 1217327 words/s, in_qsize 15, out_qsize 0\n",
      "2020-03-31 22:07:24,492 : INFO : EPOCH 25 - PROGRESS: at 10.31% examples, 1203737 words/s, in_qsize 14, out_qsize 1\n",
      "2020-03-31 22:07:25,508 : INFO : EPOCH 25 - PROGRESS: at 13.95% examples, 1200982 words/s, in_qsize 15, out_qsize 0\n",
      "2020-03-31 22:07:26,526 : INFO : EPOCH 25 - PROGRESS: at 17.42% examples, 1198325 words/s, in_qsize 14, out_qsize 1\n",
      "2020-03-31 22:07:27,533 : INFO : EPOCH 25 - PROGRESS: at 20.96% examples, 1200279 words/s, in_qsize 15, out_qsize 0\n",
      "2020-03-31 22:07:28,556 : INFO : EPOCH 25 - PROGRESS: at 24.62% examples, 1200075 words/s, in_qsize 14, out_qsize 1\n",
      "2020-03-31 22:07:29,578 : INFO : EPOCH 25 - PROGRESS: at 27.98% examples, 1198611 words/s, in_qsize 14, out_qsize 1\n",
      "2020-03-31 22:07:30,572 : INFO : EPOCH 25 - PROGRESS: at 31.20% examples, 1200913 words/s, in_qsize 13, out_qsize 2\n",
      "2020-03-31 22:07:31,590 : INFO : EPOCH 25 - PROGRESS: at 34.89% examples, 1198622 words/s, in_qsize 15, out_qsize 0\n",
      "2020-03-31 22:07:32,591 : INFO : EPOCH 25 - PROGRESS: at 38.61% examples, 1200254 words/s, in_qsize 15, out_qsize 0\n",
      "2020-03-31 22:07:33,597 : INFO : EPOCH 25 - PROGRESS: at 41.94% examples, 1198746 words/s, in_qsize 14, out_qsize 1\n",
      "2020-03-31 22:07:34,601 : INFO : EPOCH 25 - PROGRESS: at 45.26% examples, 1199569 words/s, in_qsize 14, out_qsize 1\n",
      "2020-03-31 22:07:35,615 : INFO : EPOCH 25 - PROGRESS: at 48.95% examples, 1199276 words/s, in_qsize 14, out_qsize 1\n",
      "2020-03-31 22:07:36,621 : INFO : EPOCH 25 - PROGRESS: at 52.14% examples, 1195836 words/s, in_qsize 14, out_qsize 1\n",
      "2020-03-31 22:07:37,627 : INFO : EPOCH 25 - PROGRESS: at 55.74% examples, 1196719 words/s, in_qsize 13, out_qsize 2\n",
      "2020-03-31 22:07:38,623 : INFO : EPOCH 25 - PROGRESS: at 58.74% examples, 1195004 words/s, in_qsize 13, out_qsize 2\n",
      "2020-03-31 22:07:39,648 : INFO : EPOCH 25 - PROGRESS: at 62.03% examples, 1194959 words/s, in_qsize 15, out_qsize 0\n",
      "2020-03-31 22:07:40,662 : INFO : EPOCH 25 - PROGRESS: at 65.63% examples, 1194315 words/s, in_qsize 16, out_qsize 0\n",
      "2020-03-31 22:07:41,658 : INFO : EPOCH 25 - PROGRESS: at 69.17% examples, 1196011 words/s, in_qsize 15, out_qsize 0\n",
      "2020-03-31 22:07:42,666 : INFO : EPOCH 25 - PROGRESS: at 72.57% examples, 1195551 words/s, in_qsize 14, out_qsize 1\n",
      "2020-03-31 22:07:43,670 : INFO : EPOCH 25 - PROGRESS: at 75.78% examples, 1196213 words/s, in_qsize 14, out_qsize 1\n",
      "2020-03-31 22:07:44,688 : INFO : EPOCH 25 - PROGRESS: at 79.54% examples, 1197198 words/s, in_qsize 14, out_qsize 1\n",
      "2020-03-31 22:07:45,701 : INFO : EPOCH 25 - PROGRESS: at 82.96% examples, 1196280 words/s, in_qsize 14, out_qsize 1\n",
      "2020-03-31 22:07:46,706 : INFO : EPOCH 25 - PROGRESS: at 86.35% examples, 1196291 words/s, in_qsize 14, out_qsize 1\n",
      "2020-03-31 22:07:47,712 : INFO : EPOCH 25 - PROGRESS: at 89.47% examples, 1196580 words/s, in_qsize 14, out_qsize 1\n",
      "2020-03-31 22:07:48,720 : INFO : EPOCH 25 - PROGRESS: at 93.16% examples, 1195980 words/s, in_qsize 15, out_qsize 0\n",
      "2020-03-31 22:07:49,726 : INFO : EPOCH 25 - PROGRESS: at 96.78% examples, 1194793 words/s, in_qsize 15, out_qsize 0\n",
      "2020-03-31 22:07:50,485 : INFO : worker thread finished; awaiting finish of 7 more threads\n",
      "2020-03-31 22:07:50,511 : INFO : worker thread finished; awaiting finish of 6 more threads\n",
      "2020-03-31 22:07:50,511 : INFO : worker thread finished; awaiting finish of 5 more threads\n",
      "2020-03-31 22:07:50,511 : INFO : worker thread finished; awaiting finish of 4 more threads\n",
      "2020-03-31 22:07:50,527 : INFO : worker thread finished; awaiting finish of 3 more threads\n",
      "2020-03-31 22:07:50,529 : INFO : worker thread finished; awaiting finish of 2 more threads\n",
      "2020-03-31 22:07:50,529 : INFO : worker thread finished; awaiting finish of 1 more threads\n",
      "2020-03-31 22:07:50,529 : INFO : worker thread finished; awaiting finish of 0 more threads\n",
      "2020-03-31 22:07:50,529 : INFO : EPOCH - 25 : training on 44832010 raw words (34706360 effective words) took 29.0s, 1194826 effective words/s\n",
      "2020-03-31 22:07:51,551 : INFO : EPOCH 26 - PROGRESS: at 3.44% examples, 1217372 words/s, in_qsize 15, out_qsize 0\n",
      "2020-03-31 22:07:52,548 : INFO : EPOCH 26 - PROGRESS: at 6.96% examples, 1212056 words/s, in_qsize 14, out_qsize 1\n",
      "2020-03-31 22:07:53,568 : INFO : EPOCH 26 - PROGRESS: at 10.34% examples, 1203010 words/s, in_qsize 15, out_qsize 0\n",
      "2020-03-31 22:07:54,564 : INFO : EPOCH 26 - PROGRESS: at 13.90% examples, 1197611 words/s, in_qsize 15, out_qsize 0\n",
      "2020-03-31 22:07:55,565 : INFO : EPOCH 26 - PROGRESS: at 17.35% examples, 1193385 words/s, in_qsize 12, out_qsize 3\n",
      "2020-03-31 22:07:56,568 : INFO : EPOCH 26 - PROGRESS: at 20.74% examples, 1191975 words/s, in_qsize 13, out_qsize 2\n",
      "2020-03-31 22:07:57,577 : INFO : EPOCH 26 - PROGRESS: at 24.44% examples, 1195612 words/s, in_qsize 14, out_qsize 1\n",
      "2020-03-31 22:07:58,577 : INFO : EPOCH 26 - PROGRESS: at 27.73% examples, 1194681 words/s, in_qsize 14, out_qsize 1\n",
      "2020-03-31 22:07:59,596 : INFO : EPOCH 26 - PROGRESS: at 30.88% examples, 1192408 words/s, in_qsize 14, out_qsize 1\n",
      "2020-03-31 22:08:00,597 : INFO : EPOCH 26 - PROGRESS: at 34.52% examples, 1190923 words/s, in_qsize 15, out_qsize 0\n",
      "2020-03-31 22:08:01,599 : INFO : EPOCH 26 - PROGRESS: at 37.95% examples, 1187105 words/s, in_qsize 15, out_qsize 0\n",
      "2020-03-31 22:08:02,600 : INFO : EPOCH 26 - PROGRESS: at 41.30% examples, 1187015 words/s, in_qsize 14, out_qsize 1\n",
      "2020-03-31 22:08:03,607 : INFO : EPOCH 26 - PROGRESS: at 44.39% examples, 1183036 words/s, in_qsize 16, out_qsize 2\n",
      "2020-03-31 22:08:04,615 : INFO : EPOCH 26 - PROGRESS: at 48.17% examples, 1184076 words/s, in_qsize 15, out_qsize 0\n",
      "2020-03-31 22:08:05,616 : INFO : EPOCH 26 - PROGRESS: at 51.42% examples, 1181825 words/s, in_qsize 13, out_qsize 2\n",
      "2020-03-31 22:08:06,631 : INFO : EPOCH 26 - PROGRESS: at 54.81% examples, 1181407 words/s, in_qsize 15, out_qsize 0\n",
      "2020-03-31 22:08:07,641 : INFO : EPOCH 26 - PROGRESS: at 57.93% examples, 1179414 words/s, in_qsize 15, out_qsize 1\n",
      "2020-03-31 22:08:08,630 : INFO : EPOCH 26 - PROGRESS: at 61.06% examples, 1179736 words/s, in_qsize 14, out_qsize 1\n",
      "2020-03-31 22:08:09,644 : INFO : EPOCH 26 - PROGRESS: at 64.58% examples, 1179086 words/s, in_qsize 14, out_qsize 1\n",
      "2020-03-31 22:08:10,646 : INFO : EPOCH 26 - PROGRESS: at 68.01% examples, 1179380 words/s, in_qsize 15, out_qsize 0\n",
      "2020-03-31 22:08:11,648 : INFO : EPOCH 26 - PROGRESS: at 71.39% examples, 1180067 words/s, in_qsize 14, out_qsize 1\n",
      "2020-03-31 22:08:12,675 : INFO : EPOCH 26 - PROGRESS: at 74.67% examples, 1179507 words/s, in_qsize 15, out_qsize 0\n",
      "2020-03-31 22:08:13,684 : INFO : EPOCH 26 - PROGRESS: at 78.01% examples, 1180234 words/s, in_qsize 15, out_qsize 0\n",
      "2020-03-31 22:08:14,687 : INFO : EPOCH 26 - PROGRESS: at 81.69% examples, 1179718 words/s, in_qsize 15, out_qsize 0\n",
      "2020-03-31 22:08:15,714 : INFO : EPOCH 26 - PROGRESS: at 84.93% examples, 1180022 words/s, in_qsize 14, out_qsize 1\n",
      "2020-03-31 22:08:16,726 : INFO : EPOCH 26 - PROGRESS: at 88.20% examples, 1180169 words/s, in_qsize 16, out_qsize 2\n"
     ]
    },
    {
     "name": "stderr",
     "output_type": "stream",
     "text": [
      "2020-03-31 22:08:17,716 : INFO : EPOCH 26 - PROGRESS: at 91.63% examples, 1181255 words/s, in_qsize 15, out_qsize 0\n",
      "2020-03-31 22:08:18,733 : INFO : EPOCH 26 - PROGRESS: at 95.49% examples, 1182427 words/s, in_qsize 14, out_qsize 1\n",
      "2020-03-31 22:08:19,732 : INFO : EPOCH 26 - PROGRESS: at 99.34% examples, 1182146 words/s, in_qsize 13, out_qsize 2\n",
      "2020-03-31 22:08:19,832 : INFO : worker thread finished; awaiting finish of 7 more threads\n",
      "2020-03-31 22:08:19,855 : INFO : worker thread finished; awaiting finish of 6 more threads\n",
      "2020-03-31 22:08:19,870 : INFO : worker thread finished; awaiting finish of 5 more threads\n",
      "2020-03-31 22:08:19,882 : INFO : worker thread finished; awaiting finish of 4 more threads\n",
      "2020-03-31 22:08:19,890 : INFO : worker thread finished; awaiting finish of 3 more threads\n",
      "2020-03-31 22:08:19,894 : INFO : worker thread finished; awaiting finish of 2 more threads\n",
      "2020-03-31 22:08:19,894 : INFO : worker thread finished; awaiting finish of 1 more threads\n",
      "2020-03-31 22:08:19,902 : INFO : worker thread finished; awaiting finish of 0 more threads\n",
      "2020-03-31 22:08:19,902 : INFO : EPOCH - 26 : training on 44832010 raw words (34702936 effective words) took 29.4s, 1181791 effective words/s\n",
      "2020-03-31 22:08:20,922 : INFO : EPOCH 27 - PROGRESS: at 3.32% examples, 1183672 words/s, in_qsize 15, out_qsize 0\n",
      "2020-03-31 22:08:21,930 : INFO : EPOCH 27 - PROGRESS: at 6.97% examples, 1211016 words/s, in_qsize 15, out_qsize 0\n",
      "2020-03-31 22:08:22,931 : INFO : EPOCH 27 - PROGRESS: at 10.29% examples, 1197606 words/s, in_qsize 14, out_qsize 1\n",
      "2020-03-31 22:08:23,954 : INFO : EPOCH 27 - PROGRESS: at 13.88% examples, 1191572 words/s, in_qsize 16, out_qsize 0\n",
      "2020-03-31 22:08:24,964 : INFO : EPOCH 27 - PROGRESS: at 17.55% examples, 1200317 words/s, in_qsize 14, out_qsize 1\n",
      "2020-03-31 22:08:25,995 : INFO : EPOCH 27 - PROGRESS: at 21.05% examples, 1197847 words/s, in_qsize 16, out_qsize 1\n",
      "2020-03-31 22:08:26,994 : INFO : EPOCH 27 - PROGRESS: at 24.65% examples, 1201016 words/s, in_qsize 15, out_qsize 0\n",
      "2020-03-31 22:08:28,015 : INFO : EPOCH 27 - PROGRESS: at 27.99% examples, 1197537 words/s, in_qsize 15, out_qsize 0\n",
      "2020-03-31 22:08:29,003 : INFO : EPOCH 27 - PROGRESS: at 31.20% examples, 1199173 words/s, in_qsize 15, out_qsize 0\n",
      "2020-03-31 22:08:30,016 : INFO : EPOCH 27 - PROGRESS: at 34.88% examples, 1197297 words/s, in_qsize 14, out_qsize 1\n",
      "2020-03-31 22:08:31,036 : INFO : EPOCH 27 - PROGRESS: at 38.50% examples, 1195793 words/s, in_qsize 15, out_qsize 0\n",
      "2020-03-31 22:08:32,048 : INFO : EPOCH 27 - PROGRESS: at 41.84% examples, 1192898 words/s, in_qsize 15, out_qsize 0\n",
      "2020-03-31 22:08:33,056 : INFO : EPOCH 27 - PROGRESS: at 45.04% examples, 1191899 words/s, in_qsize 15, out_qsize 0\n",
      "2020-03-31 22:08:34,063 : INFO : EPOCH 27 - PROGRESS: at 48.58% examples, 1188706 words/s, in_qsize 14, out_qsize 1\n",
      "2020-03-31 22:08:35,073 : INFO : EPOCH 27 - PROGRESS: at 51.90% examples, 1187843 words/s, in_qsize 13, out_qsize 2\n",
      "2020-03-31 22:08:36,070 : INFO : EPOCH 27 - PROGRESS: at 55.54% examples, 1190759 words/s, in_qsize 15, out_qsize 0\n",
      "2020-03-31 22:08:37,081 : INFO : EPOCH 27 - PROGRESS: at 58.60% examples, 1190203 words/s, in_qsize 14, out_qsize 1\n",
      "2020-03-31 22:08:38,094 : INFO : EPOCH 27 - PROGRESS: at 61.90% examples, 1190772 words/s, in_qsize 14, out_qsize 1\n",
      "2020-03-31 22:08:39,105 : INFO : EPOCH 27 - PROGRESS: at 65.53% examples, 1191454 words/s, in_qsize 15, out_qsize 0\n",
      "2020-03-31 22:08:40,121 : INFO : EPOCH 27 - PROGRESS: at 69.10% examples, 1192526 words/s, in_qsize 13, out_qsize 2\n",
      "2020-03-31 22:08:41,145 : INFO : EPOCH 27 - PROGRESS: at 72.58% examples, 1192750 words/s, in_qsize 14, out_qsize 1\n",
      "2020-03-31 22:08:42,164 : INFO : EPOCH 27 - PROGRESS: at 75.75% examples, 1192343 words/s, in_qsize 14, out_qsize 1\n",
      "2020-03-31 22:08:43,171 : INFO : EPOCH 27 - PROGRESS: at 79.35% examples, 1191516 words/s, in_qsize 13, out_qsize 2\n",
      "2020-03-31 22:08:44,161 : INFO : EPOCH 27 - PROGRESS: at 82.83% examples, 1191921 words/s, in_qsize 15, out_qsize 0\n",
      "2020-03-31 22:08:45,179 : INFO : EPOCH 27 - PROGRESS: at 86.13% examples, 1191610 words/s, in_qsize 13, out_qsize 2\n",
      "2020-03-31 22:08:46,194 : INFO : EPOCH 27 - PROGRESS: at 89.24% examples, 1191106 words/s, in_qsize 13, out_qsize 2\n",
      "2020-03-31 22:08:47,196 : INFO : EPOCH 27 - PROGRESS: at 92.85% examples, 1190843 words/s, in_qsize 16, out_qsize 1\n",
      "2020-03-31 22:08:48,197 : INFO : EPOCH 27 - PROGRESS: at 96.54% examples, 1190272 words/s, in_qsize 15, out_qsize 0\n",
      "2020-03-31 22:08:49,029 : INFO : worker thread finished; awaiting finish of 7 more threads\n",
      "2020-03-31 22:08:49,046 : INFO : worker thread finished; awaiting finish of 6 more threads\n",
      "2020-03-31 22:08:49,072 : INFO : worker thread finished; awaiting finish of 5 more threads\n",
      "2020-03-31 22:08:49,072 : INFO : worker thread finished; awaiting finish of 4 more threads\n",
      "2020-03-31 22:08:49,072 : INFO : worker thread finished; awaiting finish of 3 more threads\n",
      "2020-03-31 22:08:49,072 : INFO : worker thread finished; awaiting finish of 2 more threads\n",
      "2020-03-31 22:08:49,075 : INFO : worker thread finished; awaiting finish of 1 more threads\n",
      "2020-03-31 22:08:49,087 : INFO : worker thread finished; awaiting finish of 0 more threads\n",
      "2020-03-31 22:08:49,087 : INFO : EPOCH - 27 : training on 44832010 raw words (34705687 effective words) took 29.2s, 1189436 effective words/s\n",
      "2020-03-31 22:08:50,095 : INFO : EPOCH 28 - PROGRESS: at 3.33% examples, 1206153 words/s, in_qsize 14, out_qsize 1\n",
      "2020-03-31 22:08:51,098 : INFO : EPOCH 28 - PROGRESS: at 7.04% examples, 1223868 words/s, in_qsize 15, out_qsize 0\n",
      "2020-03-31 22:08:52,136 : INFO : EPOCH 28 - PROGRESS: at 10.31% examples, 1197375 words/s, in_qsize 16, out_qsize 3\n",
      "2020-03-31 22:08:53,167 : INFO : EPOCH 28 - PROGRESS: at 14.11% examples, 1203163 words/s, in_qsize 16, out_qsize 2\n",
      "2020-03-31 22:08:54,159 : INFO : EPOCH 28 - PROGRESS: at 17.80% examples, 1218448 words/s, in_qsize 14, out_qsize 1\n",
      "2020-03-31 22:08:55,166 : INFO : EPOCH 28 - PROGRESS: at 21.30% examples, 1215580 words/s, in_qsize 15, out_qsize 0\n",
      "2020-03-31 22:08:56,172 : INFO : EPOCH 28 - PROGRESS: at 24.90% examples, 1217467 words/s, in_qsize 15, out_qsize 0\n",
      "2020-03-31 22:08:57,185 : INFO : EPOCH 28 - PROGRESS: at 28.37% examples, 1213892 words/s, in_qsize 15, out_qsize 0\n",
      "2020-03-31 22:08:58,216 : INFO : EPOCH 28 - PROGRESS: at 31.46% examples, 1207378 words/s, in_qsize 15, out_qsize 0\n",
      "2020-03-31 22:08:59,222 : INFO : EPOCH 28 - PROGRESS: at 35.03% examples, 1200533 words/s, in_qsize 14, out_qsize 1\n",
      "2020-03-31 22:09:00,222 : INFO : EPOCH 28 - PROGRESS: at 38.71% examples, 1200392 words/s, in_qsize 14, out_qsize 1\n",
      "2020-03-31 22:09:01,240 : INFO : EPOCH 28 - PROGRESS: at 41.98% examples, 1197381 words/s, in_qsize 14, out_qsize 1\n",
      "2020-03-31 22:09:02,251 : INFO : EPOCH 28 - PROGRESS: at 45.09% examples, 1192880 words/s, in_qsize 16, out_qsize 3\n",
      "2020-03-31 22:09:03,265 : INFO : EPOCH 28 - PROGRESS: at 48.71% examples, 1191431 words/s, in_qsize 14, out_qsize 1\n",
      "2020-03-31 22:09:04,275 : INFO : EPOCH 28 - PROGRESS: at 51.96% examples, 1188131 words/s, in_qsize 15, out_qsize 0\n",
      "2020-03-31 22:09:05,271 : INFO : EPOCH 28 - PROGRESS: at 55.28% examples, 1184827 words/s, in_qsize 13, out_qsize 2\n",
      "2020-03-31 22:09:06,277 : INFO : EPOCH 28 - PROGRESS: at 58.42% examples, 1184356 words/s, in_qsize 14, out_qsize 1\n",
      "2020-03-31 22:09:07,319 : INFO : EPOCH 28 - PROGRESS: at 61.65% examples, 1184399 words/s, in_qsize 12, out_qsize 3\n",
      "2020-03-31 22:09:08,327 : INFO : EPOCH 28 - PROGRESS: at 65.30% examples, 1184309 words/s, in_qsize 14, out_qsize 1\n",
      "2020-03-31 22:09:09,325 : INFO : EPOCH 28 - PROGRESS: at 68.47% examples, 1181879 words/s, in_qsize 14, out_qsize 1\n",
      "2020-03-31 22:09:10,323 : INFO : EPOCH 28 - PROGRESS: at 71.87% examples, 1182436 words/s, in_qsize 14, out_qsize 1\n",
      "2020-03-31 22:09:11,331 : INFO : EPOCH 28 - PROGRESS: at 75.21% examples, 1183144 words/s, in_qsize 14, out_qsize 0\n",
      "2020-03-31 22:09:12,331 : INFO : EPOCH 28 - PROGRESS: at 78.59% examples, 1183907 words/s, in_qsize 15, out_qsize 0\n",
      "2020-03-31 22:09:13,358 : INFO : EPOCH 28 - PROGRESS: at 82.32% examples, 1184090 words/s, in_qsize 15, out_qsize 0\n",
      "2020-03-31 22:09:14,359 : INFO : EPOCH 28 - PROGRESS: at 85.51% examples, 1184048 words/s, in_qsize 15, out_qsize 0\n"
     ]
    },
    {
     "name": "stderr",
     "output_type": "stream",
     "text": [
      "2020-03-31 22:09:15,350 : INFO : EPOCH 28 - PROGRESS: at 88.80% examples, 1184410 words/s, in_qsize 15, out_qsize 0\n",
      "2020-03-31 22:09:16,375 : INFO : EPOCH 28 - PROGRESS: at 92.28% examples, 1184934 words/s, in_qsize 13, out_qsize 2\n",
      "2020-03-31 22:09:17,379 : INFO : EPOCH 28 - PROGRESS: at 95.96% examples, 1183707 words/s, in_qsize 14, out_qsize 1\n",
      "2020-03-31 22:09:18,381 : INFO : worker thread finished; awaiting finish of 7 more threads\n",
      "2020-03-31 22:09:18,381 : INFO : EPOCH 28 - PROGRESS: at 99.84% examples, 1183211 words/s, in_qsize 3, out_qsize 7\n",
      "2020-03-31 22:09:18,393 : INFO : worker thread finished; awaiting finish of 6 more threads\n",
      "2020-03-31 22:09:18,393 : INFO : worker thread finished; awaiting finish of 5 more threads\n",
      "2020-03-31 22:09:18,397 : INFO : worker thread finished; awaiting finish of 4 more threads\n",
      "2020-03-31 22:09:18,397 : INFO : worker thread finished; awaiting finish of 3 more threads\n",
      "2020-03-31 22:09:18,397 : INFO : worker thread finished; awaiting finish of 2 more threads\n",
      "2020-03-31 22:09:18,409 : INFO : worker thread finished; awaiting finish of 1 more threads\n",
      "2020-03-31 22:09:18,409 : INFO : worker thread finished; awaiting finish of 0 more threads\n",
      "2020-03-31 22:09:18,409 : INFO : EPOCH - 28 : training on 44832010 raw words (34704410 effective words) took 29.3s, 1183947 effective words/s\n",
      "2020-03-31 22:09:19,412 : INFO : EPOCH 29 - PROGRESS: at 3.33% examples, 1192683 words/s, in_qsize 15, out_qsize 0\n",
      "2020-03-31 22:09:20,443 : INFO : EPOCH 29 - PROGRESS: at 6.88% examples, 1190747 words/s, in_qsize 13, out_qsize 2\n",
      "2020-03-31 22:09:21,454 : INFO : EPOCH 29 - PROGRESS: at 10.33% examples, 1200151 words/s, in_qsize 15, out_qsize 0\n",
      "2020-03-31 22:09:22,460 : INFO : EPOCH 29 - PROGRESS: at 13.95% examples, 1196704 words/s, in_qsize 13, out_qsize 2\n",
      "2020-03-31 22:09:23,462 : INFO : EPOCH 29 - PROGRESS: at 17.47% examples, 1199720 words/s, in_qsize 15, out_qsize 0\n",
      "2020-03-31 22:09:24,468 : INFO : EPOCH 29 - PROGRESS: at 20.90% examples, 1196607 words/s, in_qsize 14, out_qsize 1\n",
      "2020-03-31 22:09:25,465 : INFO : EPOCH 29 - PROGRESS: at 24.59% examples, 1202311 words/s, in_qsize 15, out_qsize 0\n",
      "2020-03-31 22:09:26,495 : INFO : EPOCH 29 - PROGRESS: at 27.84% examples, 1194420 words/s, in_qsize 16, out_qsize 1\n",
      "2020-03-31 22:09:27,492 : INFO : EPOCH 29 - PROGRESS: at 30.94% examples, 1192992 words/s, in_qsize 13, out_qsize 2\n",
      "2020-03-31 22:09:28,502 : INFO : EPOCH 29 - PROGRESS: at 34.59% examples, 1190967 words/s, in_qsize 16, out_qsize 3\n",
      "2020-03-31 22:09:29,502 : INFO : EPOCH 29 - PROGRESS: at 38.19% examples, 1190661 words/s, in_qsize 14, out_qsize 1\n",
      "2020-03-31 22:09:30,510 : INFO : EPOCH 29 - PROGRESS: at 41.41% examples, 1187504 words/s, in_qsize 15, out_qsize 0\n",
      "2020-03-31 22:09:31,523 : INFO : EPOCH 29 - PROGRESS: at 44.61% examples, 1186314 words/s, in_qsize 13, out_qsize 2\n",
      "2020-03-31 22:09:32,524 : INFO : EPOCH 29 - PROGRESS: at 48.38% examples, 1187564 words/s, in_qsize 14, out_qsize 1\n",
      "2020-03-31 22:09:33,520 : INFO : EPOCH 29 - PROGRESS: at 51.74% examples, 1187203 words/s, in_qsize 14, out_qsize 1\n",
      "2020-03-31 22:09:34,529 : INFO : EPOCH 29 - PROGRESS: at 55.15% examples, 1186806 words/s, in_qsize 13, out_qsize 2\n",
      "2020-03-31 22:09:35,541 : INFO : EPOCH 29 - PROGRESS: at 58.33% examples, 1186581 words/s, in_qsize 15, out_qsize 0\n",
      "2020-03-31 22:09:36,556 : INFO : EPOCH 29 - PROGRESS: at 61.53% examples, 1187234 words/s, in_qsize 14, out_qsize 1\n",
      "2020-03-31 22:09:37,561 : INFO : EPOCH 29 - PROGRESS: at 65.19% examples, 1187302 words/s, in_qsize 12, out_qsize 3\n",
      "2020-03-31 22:09:38,566 : INFO : EPOCH 29 - PROGRESS: at 68.62% examples, 1188885 words/s, in_qsize 14, out_qsize 1\n",
      "2020-03-31 22:09:39,575 : INFO : EPOCH 29 - PROGRESS: at 72.06% examples, 1188950 words/s, in_qsize 14, out_qsize 1\n",
      "2020-03-31 22:09:40,593 : INFO : EPOCH 29 - PROGRESS: at 75.24% examples, 1186929 words/s, in_qsize 16, out_qsize 1\n",
      "2020-03-31 22:09:41,583 : INFO : EPOCH 29 - PROGRESS: at 78.70% examples, 1188458 words/s, in_qsize 15, out_qsize 0\n",
      "2020-03-31 22:09:42,594 : INFO : EPOCH 29 - PROGRESS: at 82.30% examples, 1187998 words/s, in_qsize 14, out_qsize 1\n",
      "2020-03-31 22:09:43,592 : INFO : EPOCH 29 - PROGRESS: at 85.63% examples, 1189831 words/s, in_qsize 14, out_qsize 1\n",
      "2020-03-31 22:09:44,606 : INFO : EPOCH 29 - PROGRESS: at 88.86% examples, 1188923 words/s, in_qsize 16, out_qsize 0\n",
      "2020-03-31 22:09:45,615 : INFO : EPOCH 29 - PROGRESS: at 92.17% examples, 1187561 words/s, in_qsize 14, out_qsize 1\n",
      "2020-03-31 22:09:46,616 : INFO : EPOCH 29 - PROGRESS: at 95.98% examples, 1187599 words/s, in_qsize 14, out_qsize 1\n",
      "2020-03-31 22:09:47,588 : INFO : worker thread finished; awaiting finish of 7 more threads\n",
      "2020-03-31 22:09:47,618 : INFO : EPOCH 29 - PROGRESS: at 99.83% examples, 1187082 words/s, in_qsize 3, out_qsize 7\n",
      "2020-03-31 22:09:47,618 : INFO : worker thread finished; awaiting finish of 6 more threads\n",
      "2020-03-31 22:09:47,618 : INFO : worker thread finished; awaiting finish of 5 more threads\n",
      "2020-03-31 22:09:47,622 : INFO : worker thread finished; awaiting finish of 4 more threads\n",
      "2020-03-31 22:09:47,622 : INFO : worker thread finished; awaiting finish of 3 more threads\n",
      "2020-03-31 22:09:47,622 : INFO : worker thread finished; awaiting finish of 2 more threads\n",
      "2020-03-31 22:09:47,626 : INFO : worker thread finished; awaiting finish of 1 more threads\n",
      "2020-03-31 22:09:47,626 : INFO : worker thread finished; awaiting finish of 0 more threads\n",
      "2020-03-31 22:09:47,626 : INFO : EPOCH - 29 : training on 44832010 raw words (34707282 effective words) took 29.2s, 1188242 effective words/s\n",
      "2020-03-31 22:09:48,632 : INFO : EPOCH 30 - PROGRESS: at 3.40% examples, 1210578 words/s, in_qsize 14, out_qsize 1\n",
      "2020-03-31 22:09:49,646 : INFO : EPOCH 30 - PROGRESS: at 7.06% examples, 1226853 words/s, in_qsize 15, out_qsize 0\n",
      "2020-03-31 22:09:50,659 : INFO : EPOCH 30 - PROGRESS: at 10.28% examples, 1199201 words/s, in_qsize 15, out_qsize 0\n",
      "2020-03-31 22:09:51,657 : INFO : EPOCH 30 - PROGRESS: at 13.88% examples, 1194390 words/s, in_qsize 14, out_qsize 1\n",
      "2020-03-31 22:09:52,658 : INFO : EPOCH 30 - PROGRESS: at 17.34% examples, 1192607 words/s, in_qsize 15, out_qsize 0\n",
      "2020-03-31 22:09:53,682 : INFO : EPOCH 30 - PROGRESS: at 20.82% examples, 1193712 words/s, in_qsize 14, out_qsize 1\n",
      "2020-03-31 22:09:54,699 : INFO : EPOCH 30 - PROGRESS: at 24.47% examples, 1194395 words/s, in_qsize 14, out_qsize 1\n",
      "2020-03-31 22:09:55,712 : INFO : EPOCH 30 - PROGRESS: at 27.79% examples, 1191777 words/s, in_qsize 13, out_qsize 2\n",
      "2020-03-31 22:09:56,720 : INFO : EPOCH 30 - PROGRESS: at 30.99% examples, 1193715 words/s, in_qsize 14, out_qsize 1\n",
      "2020-03-31 22:09:57,713 : INFO : EPOCH 30 - PROGRESS: at 34.71% examples, 1194744 words/s, in_qsize 15, out_qsize 0\n",
      "2020-03-31 22:09:58,717 : INFO : EPOCH 30 - PROGRESS: at 38.26% examples, 1193627 words/s, in_qsize 15, out_qsize 0\n",
      "2020-03-31 22:09:59,725 : INFO : EPOCH 30 - PROGRESS: at 41.63% examples, 1193097 words/s, in_qsize 13, out_qsize 2\n",
      "2020-03-31 22:10:00,731 : INFO : EPOCH 30 - PROGRESS: at 44.80% examples, 1191281 words/s, in_qsize 15, out_qsize 0\n",
      "2020-03-31 22:10:01,738 : INFO : EPOCH 30 - PROGRESS: at 48.42% examples, 1189029 words/s, in_qsize 14, out_qsize 1\n",
      "2020-03-31 22:10:02,743 : INFO : EPOCH 30 - PROGRESS: at 51.89% examples, 1191337 words/s, in_qsize 15, out_qsize 0\n",
      "2020-03-31 22:10:03,748 : INFO : EPOCH 30 - PROGRESS: at 55.33% examples, 1190300 words/s, in_qsize 14, out_qsize 1\n",
      "2020-03-31 22:10:04,756 : INFO : EPOCH 30 - PROGRESS: at 58.51% examples, 1190572 words/s, in_qsize 13, out_qsize 2\n",
      "2020-03-31 22:10:05,785 : INFO : EPOCH 30 - PROGRESS: at 61.70% examples, 1190013 words/s, in_qsize 14, out_qsize 1\n",
      "2020-03-31 22:10:06,786 : INFO : EPOCH 30 - PROGRESS: at 65.34% examples, 1189789 words/s, in_qsize 13, out_qsize 2\n",
      "2020-03-31 22:10:07,802 : INFO : EPOCH 30 - PROGRESS: at 68.61% examples, 1187499 words/s, in_qsize 14, out_qsize 1\n",
      "2020-03-31 22:10:08,815 : INFO : EPOCH 30 - PROGRESS: at 72.15% examples, 1189042 words/s, in_qsize 15, out_qsize 0\n",
      "2020-03-31 22:10:09,811 : INFO : EPOCH 30 - PROGRESS: at 75.26% examples, 1186967 words/s, in_qsize 15, out_qsize 0\n",
      "2020-03-31 22:10:10,815 : INFO : EPOCH 30 - PROGRESS: at 78.57% examples, 1186442 words/s, in_qsize 14, out_qsize 1\n"
     ]
    },
    {
     "name": "stderr",
     "output_type": "stream",
     "text": [
      "2020-03-31 22:10:11,836 : INFO : EPOCH 30 - PROGRESS: at 82.22% examples, 1185381 words/s, in_qsize 14, out_qsize 1\n",
      "2020-03-31 22:10:12,859 : INFO : EPOCH 30 - PROGRESS: at 85.46% examples, 1185415 words/s, in_qsize 15, out_qsize 4\n",
      "2020-03-31 22:10:13,856 : INFO : EPOCH 30 - PROGRESS: at 88.83% examples, 1186864 words/s, in_qsize 15, out_qsize 0\n",
      "2020-03-31 22:10:14,859 : INFO : EPOCH 30 - PROGRESS: at 92.35% examples, 1188082 words/s, in_qsize 15, out_qsize 0\n",
      "2020-03-31 22:10:15,870 : INFO : EPOCH 30 - PROGRESS: at 96.03% examples, 1186092 words/s, in_qsize 13, out_qsize 2\n",
      "2020-03-31 22:10:16,821 : INFO : worker thread finished; awaiting finish of 7 more threads\n",
      "2020-03-31 22:10:16,853 : INFO : worker thread finished; awaiting finish of 6 more threads\n",
      "2020-03-31 22:10:16,867 : INFO : worker thread finished; awaiting finish of 5 more threads\n",
      "2020-03-31 22:10:16,872 : INFO : worker thread finished; awaiting finish of 4 more threads\n",
      "2020-03-31 22:10:16,879 : INFO : worker thread finished; awaiting finish of 3 more threads\n",
      "2020-03-31 22:10:16,879 : INFO : worker thread finished; awaiting finish of 2 more threads\n",
      "2020-03-31 22:10:16,883 : INFO : EPOCH 30 - PROGRESS: at 99.98% examples, 1186366 words/s, in_qsize 1, out_qsize 1\n",
      "2020-03-31 22:10:16,883 : INFO : worker thread finished; awaiting finish of 1 more threads\n",
      "2020-03-31 22:10:16,887 : INFO : worker thread finished; awaiting finish of 0 more threads\n",
      "2020-03-31 22:10:16,887 : INFO : EPOCH - 30 : training on 44832010 raw words (34707716 effective words) took 29.3s, 1186411 effective words/s\n",
      "2020-03-31 22:10:17,892 : INFO : EPOCH 31 - PROGRESS: at 3.38% examples, 1218299 words/s, in_qsize 14, out_qsize 1\n",
      "2020-03-31 22:10:18,925 : INFO : EPOCH 31 - PROGRESS: at 6.86% examples, 1187527 words/s, in_qsize 11, out_qsize 4\n",
      "2020-03-31 22:10:19,921 : INFO : EPOCH 31 - PROGRESS: at 10.36% examples, 1202622 words/s, in_qsize 15, out_qsize 0\n",
      "2020-03-31 22:10:20,946 : INFO : EPOCH 31 - PROGRESS: at 13.83% examples, 1185216 words/s, in_qsize 14, out_qsize 1\n",
      "2020-03-31 22:10:21,946 : INFO : EPOCH 31 - PROGRESS: at 17.36% examples, 1192143 words/s, in_qsize 13, out_qsize 2\n",
      "2020-03-31 22:10:22,945 : INFO : EPOCH 31 - PROGRESS: at 20.76% examples, 1190621 words/s, in_qsize 12, out_qsize 3\n",
      "2020-03-31 22:10:23,965 : INFO : EPOCH 31 - PROGRESS: at 24.44% examples, 1191535 words/s, in_qsize 14, out_qsize 1\n",
      "2020-03-31 22:10:24,972 : INFO : EPOCH 31 - PROGRESS: at 27.71% examples, 1189601 words/s, in_qsize 15, out_qsize 0\n",
      "2020-03-31 22:10:25,981 : INFO : EPOCH 31 - PROGRESS: at 30.95% examples, 1192257 words/s, in_qsize 15, out_qsize 0\n",
      "2020-03-31 22:10:26,978 : INFO : EPOCH 31 - PROGRESS: at 34.52% examples, 1188627 words/s, in_qsize 14, out_qsize 1\n",
      "2020-03-31 22:10:27,981 : INFO : EPOCH 31 - PROGRESS: at 38.18% examples, 1190983 words/s, in_qsize 15, out_qsize 0\n",
      "2020-03-31 22:10:28,980 : INFO : EPOCH 31 - PROGRESS: at 41.41% examples, 1187825 words/s, in_qsize 15, out_qsize 0\n",
      "2020-03-31 22:10:29,988 : INFO : EPOCH 31 - PROGRESS: at 44.64% examples, 1187653 words/s, in_qsize 15, out_qsize 0\n",
      "2020-03-31 22:10:30,989 : INFO : EPOCH 31 - PROGRESS: at 48.35% examples, 1187904 words/s, in_qsize 15, out_qsize 0\n",
      "2020-03-31 22:10:31,998 : INFO : EPOCH 31 - PROGRESS: at 51.73% examples, 1187440 words/s, in_qsize 14, out_qsize 1\n",
      "2020-03-31 22:10:33,006 : INFO : EPOCH 31 - PROGRESS: at 55.07% examples, 1184814 words/s, in_qsize 16, out_qsize 0\n",
      "2020-03-31 22:10:34,028 : INFO : EPOCH 31 - PROGRESS: at 58.24% examples, 1184986 words/s, in_qsize 15, out_qsize 0\n",
      "2020-03-31 22:10:35,049 : INFO : EPOCH 31 - PROGRESS: at 61.44% examples, 1184778 words/s, in_qsize 14, out_qsize 1\n",
      "2020-03-31 22:10:36,053 : INFO : EPOCH 31 - PROGRESS: at 65.21% examples, 1186614 words/s, in_qsize 15, out_qsize 0\n",
      "2020-03-31 22:10:37,058 : INFO : EPOCH 31 - PROGRESS: at 68.53% examples, 1186381 words/s, in_qsize 15, out_qsize 0\n",
      "2020-03-31 22:10:38,069 : INFO : EPOCH 31 - PROGRESS: at 72.10% examples, 1188487 words/s, in_qsize 15, out_qsize 0\n",
      "2020-03-31 22:10:39,096 : INFO : EPOCH 31 - PROGRESS: at 75.35% examples, 1188243 words/s, in_qsize 16, out_qsize 2\n",
      "2020-03-31 22:10:40,105 : INFO : EPOCH 31 - PROGRESS: at 78.93% examples, 1188926 words/s, in_qsize 14, out_qsize 1\n",
      "2020-03-31 22:10:41,114 : INFO : EPOCH 31 - PROGRESS: at 82.47% examples, 1188751 words/s, in_qsize 16, out_qsize 1\n",
      "2020-03-31 22:10:42,116 : INFO : EPOCH 31 - PROGRESS: at 85.73% examples, 1189187 words/s, in_qsize 15, out_qsize 0\n",
      "2020-03-31 22:10:43,139 : INFO : EPOCH 31 - PROGRESS: at 89.06% examples, 1190262 words/s, in_qsize 15, out_qsize 0\n",
      "2020-03-31 22:10:44,140 : INFO : EPOCH 31 - PROGRESS: at 92.63% examples, 1190455 words/s, in_qsize 15, out_qsize 0\n",
      "2020-03-31 22:10:45,157 : INFO : EPOCH 31 - PROGRESS: at 96.43% examples, 1190058 words/s, in_qsize 14, out_qsize 1\n",
      "2020-03-31 22:10:46,037 : INFO : worker thread finished; awaiting finish of 7 more threads\n",
      "2020-03-31 22:10:46,054 : INFO : worker thread finished; awaiting finish of 6 more threads\n",
      "2020-03-31 22:10:46,060 : INFO : worker thread finished; awaiting finish of 5 more threads\n",
      "2020-03-31 22:10:46,066 : INFO : worker thread finished; awaiting finish of 4 more threads\n",
      "2020-03-31 22:10:46,066 : INFO : worker thread finished; awaiting finish of 3 more threads\n",
      "2020-03-31 22:10:46,070 : INFO : worker thread finished; awaiting finish of 2 more threads\n",
      "2020-03-31 22:10:46,070 : INFO : worker thread finished; awaiting finish of 1 more threads\n",
      "2020-03-31 22:10:46,078 : INFO : worker thread finished; awaiting finish of 0 more threads\n",
      "2020-03-31 22:10:46,082 : INFO : EPOCH - 31 : training on 44832010 raw words (34704391 effective words) took 29.2s, 1189150 effective words/s\n",
      "2020-03-31 22:10:47,101 : INFO : EPOCH 32 - PROGRESS: at 3.39% examples, 1219641 words/s, in_qsize 15, out_qsize 0\n",
      "2020-03-31 22:10:48,129 : INFO : EPOCH 32 - PROGRESS: at 7.05% examples, 1214198 words/s, in_qsize 14, out_qsize 1\n",
      "2020-03-31 22:10:49,133 : INFO : EPOCH 32 - PROGRESS: at 10.42% examples, 1209857 words/s, in_qsize 15, out_qsize 0\n",
      "2020-03-31 22:10:50,160 : INFO : EPOCH 32 - PROGRESS: at 14.04% examples, 1200166 words/s, in_qsize 14, out_qsize 1\n",
      "2020-03-31 22:10:51,150 : INFO : EPOCH 32 - PROGRESS: at 17.49% examples, 1197989 words/s, in_qsize 12, out_qsize 3\n",
      "2020-03-31 22:10:52,158 : INFO : EPOCH 32 - PROGRESS: at 20.89% examples, 1195669 words/s, in_qsize 15, out_qsize 0\n",
      "2020-03-31 22:10:53,158 : INFO : EPOCH 32 - PROGRESS: at 24.52% examples, 1197873 words/s, in_qsize 14, out_qsize 1\n",
      "2020-03-31 22:10:54,179 : INFO : EPOCH 32 - PROGRESS: at 27.80% examples, 1192366 words/s, in_qsize 15, out_qsize 0\n",
      "2020-03-31 22:10:55,200 : INFO : EPOCH 32 - PROGRESS: at 31.03% examples, 1193802 words/s, in_qsize 14, out_qsize 1\n",
      "2020-03-31 22:10:56,197 : INFO : EPOCH 32 - PROGRESS: at 34.67% examples, 1192253 words/s, in_qsize 15, out_qsize 0\n",
      "2020-03-31 22:10:57,196 : INFO : EPOCH 32 - PROGRESS: at 38.12% examples, 1188215 words/s, in_qsize 15, out_qsize 0\n",
      "2020-03-31 22:10:58,205 : INFO : EPOCH 32 - PROGRESS: at 41.53% examples, 1189056 words/s, in_qsize 15, out_qsize 0\n",
      "2020-03-31 22:10:59,214 : INFO : EPOCH 32 - PROGRESS: at 44.67% examples, 1186100 words/s, in_qsize 13, out_qsize 2\n",
      "2020-03-31 22:11:00,212 : INFO : EPOCH 32 - PROGRESS: at 48.38% examples, 1186723 words/s, in_qsize 15, out_qsize 0\n",
      "2020-03-31 22:11:01,225 : INFO : EPOCH 32 - PROGRESS: at 51.68% examples, 1185007 words/s, in_qsize 15, out_qsize 0\n",
      "2020-03-31 22:11:02,227 : INFO : EPOCH 32 - PROGRESS: at 55.12% examples, 1185757 words/s, in_qsize 15, out_qsize 0\n",
      "2020-03-31 22:11:03,225 : INFO : EPOCH 32 - PROGRESS: at 58.21% examples, 1183829 words/s, in_qsize 15, out_qsize 0\n",
      "2020-03-31 22:11:04,241 : INFO : EPOCH 32 - PROGRESS: at 61.33% examples, 1183767 words/s, in_qsize 15, out_qsize 0\n",
      "2020-03-31 22:11:05,254 : INFO : EPOCH 32 - PROGRESS: at 65.06% examples, 1184125 words/s, in_qsize 15, out_qsize 0\n",
      "2020-03-31 22:11:06,246 : INFO : EPOCH 32 - PROGRESS: at 68.28% examples, 1182973 words/s, in_qsize 14, out_qsize 1\n",
      "2020-03-31 22:11:07,259 : INFO : EPOCH 32 - PROGRESS: at 71.74% examples, 1184377 words/s, in_qsize 15, out_qsize 0\n",
      "2020-03-31 22:11:08,258 : INFO : EPOCH 32 - PROGRESS: at 75.15% examples, 1185230 words/s, in_qsize 14, out_qsize 1\n"
     ]
    },
    {
     "name": "stderr",
     "output_type": "stream",
     "text": [
      "2020-03-31 22:11:09,271 : INFO : EPOCH 32 - PROGRESS: at 78.38% examples, 1184615 words/s, in_qsize 15, out_qsize 0\n",
      "2020-03-31 22:11:10,281 : INFO : EPOCH 32 - PROGRESS: at 82.07% examples, 1184596 words/s, in_qsize 15, out_qsize 0\n",
      "2020-03-31 22:11:11,281 : INFO : EPOCH 32 - PROGRESS: at 85.22% examples, 1184179 words/s, in_qsize 15, out_qsize 0\n",
      "2020-03-31 22:11:12,291 : INFO : EPOCH 32 - PROGRESS: at 88.43% examples, 1183157 words/s, in_qsize 16, out_qsize 0\n",
      "2020-03-31 22:11:13,288 : INFO : EPOCH 32 - PROGRESS: at 91.85% examples, 1183841 words/s, in_qsize 15, out_qsize 0\n",
      "2020-03-31 22:11:14,297 : INFO : EPOCH 32 - PROGRESS: at 95.62% examples, 1184034 words/s, in_qsize 14, out_qsize 1\n",
      "2020-03-31 22:11:15,294 : INFO : EPOCH 32 - PROGRESS: at 99.51% examples, 1183740 words/s, in_qsize 13, out_qsize 2\n",
      "2020-03-31 22:11:15,369 : INFO : worker thread finished; awaiting finish of 7 more threads\n",
      "2020-03-31 22:11:15,388 : INFO : worker thread finished; awaiting finish of 6 more threads\n",
      "2020-03-31 22:11:15,388 : INFO : worker thread finished; awaiting finish of 5 more threads\n",
      "2020-03-31 22:11:15,388 : INFO : worker thread finished; awaiting finish of 4 more threads\n",
      "2020-03-31 22:11:15,392 : INFO : worker thread finished; awaiting finish of 3 more threads\n",
      "2020-03-31 22:11:15,399 : INFO : worker thread finished; awaiting finish of 2 more threads\n",
      "2020-03-31 22:11:15,403 : INFO : worker thread finished; awaiting finish of 1 more threads\n",
      "2020-03-31 22:11:15,407 : INFO : worker thread finished; awaiting finish of 0 more threads\n",
      "2020-03-31 22:11:15,407 : INFO : EPOCH - 32 : training on 44832010 raw words (34709161 effective words) took 29.3s, 1184403 effective words/s\n",
      "2020-03-31 22:11:15,407 : INFO : training on a 1434624320 raw words (1110607167 effective words) took 937.9s, 1184147 effective words/s\n"
     ]
    },
    {
     "name": "stdout",
     "output_type": "stream",
     "text": [
      "Wall time: 15min 37s\n"
     ]
    },
    {
     "data": {
      "text/plain": [
       "(1110607167, 1434624320)"
      ]
     },
     "execution_count": 66,
     "metadata": {},
     "output_type": "execute_result"
    }
   ],
   "source": [
    "%%time\n",
    "w2v_model.train(documents, total_examples=len(documents), epochs=W2V_EPOCH) ##?"
   ]
  },
  {
   "cell_type": "code",
   "execution_count": 6,
   "metadata": {},
   "outputs": [
    {
     "name": "stderr",
     "output_type": "stream",
     "text": [
      "C:\\Users\\Lingshu\\.conda\\envs\\my_env\\lib\\site-packages\\ipykernel_launcher.py:1: DeprecationWarning: Call to deprecated `most_similar` (Method will be removed in 4.0.0, use self.wv.most_similar() instead).\n",
      "  \"\"\"Entry point for launching an IPython kernel.\n"
     ]
    },
    {
     "data": {
      "text/plain": [
       "[('obama', 0.7887888550758362),\n",
       " ('realdonaldtrump', 0.7770068645477295),\n",
       " ('trump,', 0.7487262487411499),\n",
       " ('trumpâ\\x80\\x99s', 0.747697114944458),\n",
       " (\"trump's\", 0.7245928645133972),\n",
       " ('trump.', 0.6838891506195068),\n",
       " ('â\\x80\\x9ctrump', 0.6275421380996704),\n",
       " ('trump\"', 0.6249473094940186),\n",
       " ('trump.â\\x80\\x9d', 0.6008265614509583),\n",
       " ('realdonaldtrumpâ\\x80\\x99s', 0.5898858308792114)]"
      ]
     },
     "execution_count": 6,
     "metadata": {},
     "output_type": "execute_result"
    }
   ],
   "source": [
    "w2v_model.most_similar(\"trump\")"
   ]
  },
  {
   "cell_type": "code",
   "execution_count": 103,
   "metadata": {},
   "outputs": [
    {
     "name": "stderr",
     "output_type": "stream",
     "text": [
      "2020-03-19 10:18:17,823 : INFO : saving Word2Vec object under model.w2v, separately None\n",
      "2020-03-19 10:18:17,838 : INFO : storing np array 'vectors' to model.w2v.wv.vectors.npy\n",
      "2020-03-19 10:18:18,454 : INFO : not storing attribute vectors_norm\n",
      "2020-03-19 10:18:18,454 : INFO : storing np array 'syn1neg' to model.w2v.trainables.syn1neg.npy\n",
      "2020-03-19 10:18:19,054 : INFO : not storing attribute cum_table\n",
      "2020-03-19 10:18:19,735 : INFO : saved model.w2v\n"
     ]
    }
   ],
   "source": [
    "w2v_model.save(WORD2VEC_MODEL)"
   ]
  },
  {
   "cell_type": "markdown",
   "metadata": {},
   "source": [
    "## Tokenization\n",
    "Tokenize Text\n",
    "https://machinelearningmastery.com/prepare-text-data-deep-learning-keras/\n",
    "explained how keras tokenize texts"
   ]
  },
  {
   "cell_type": "code",
   "execution_count": 9,
   "metadata": {},
   "outputs": [
    {
     "name": "stdout",
     "output_type": "stream",
     "text": [
      "[('the', 1), ('to', 2), ('and', 3), ('of', 4), ('in', 5), ('for', 6), ('a', 7), ('\\r', 8), ('on', 9), ('is', 10)]\n",
      "Total words 417707\n",
      "Wall time: 41.1 s\n"
     ]
    }
   ],
   "source": [
    "%%time\n",
    "## use all words\n",
    "tokenizer = Tokenizer()\n",
    "tokenizer.fit_on_texts(df_train.text)\n",
    "print(list(tokenizer.word_index.items())[0:10])\n",
    "\n",
    "vocab_size = len(tokenizer.word_index) + 1\n",
    "print(\"Total words\", vocab_size)"
   ]
  },
  {
   "cell_type": "code",
   "execution_count": 16,
   "metadata": {},
   "outputs": [
    {
     "name": "stdout",
     "output_type": "stream",
     "text": [
      "['Given', 'the', 'news', 'of', 'criminal', 'acts', 'committed', 'by', 'the', \"President's\", 'closest', 'advisers,', 'it', 'is', 'more', 'important', 'than', 'ever', 'that', 'we', 'have', 'access', 'to', 'all', 'of', 'Judge', 'Kavanaughâ\\x80\\x99s', 'records,', 'especially', 'those', 'relating', 'to', 'checks', 'on', 'the', 'Presidentâ\\x80\\x99s', 'power.', 'Until', 'then', 'his', 'hearings', 'should', 'not', 'move', 'forward.']\n",
      "80\n"
     ]
    }
   ],
   "source": [
    "def longestlist(lst):\n",
    "    maxList = max(lst, key = lambda i: len(i))\n",
    "    maxLength = len(maxList)\n",
    "    return(maxLength)\n",
    "\n",
    "documents = [_text.split() for _text in df_train.text] ## what's the purpose here?\n",
    "print(documents[0])\n",
    "\n",
    "SEQUENCE_LENGTH = longestlist(tokenizer.texts_to_sequences(documents))+1\n",
    "print(SEQUENCE_LENGTH)"
   ]
  },
  {
   "cell_type": "code",
   "execution_count": 93,
   "metadata": {},
   "outputs": [],
   "source": [
    "SEQUENCE_LENGTH = 80"
   ]
  },
  {
   "cell_type": "code",
   "execution_count": 70,
   "metadata": {},
   "outputs": [
    {
     "name": "stdout",
     "output_type": "stream",
     "text": [
      "[\"Given the news of criminal act committed by the President's closest advisers, it is more important than ever that we have access to all of Judge Kavanaugh’s records, especially those relating to check on the President’s power. Until then his hearing should not move forward.\", 'In 2016, Russia launched a massive cyber-attack against the US to undermine faith in our democracy, yet Trump &amp; the GOP Congress refuse to # FollowTheFacts on Russia. It’s time for Congress to get serious about securing our future elections:', 'Below is my statement in response to President Trump’s comment on the U.S. nuclear arsenal.', 'The immigrant I know, including my mother-in-law, are the people most disgusted by Rep. Omar’s ingratitude to the nation who rescued her family from an African refugee camp and gave her the equivalent of a lottery ticket to come to the USA.', 'Rep. Griffith speaking to Washington and Lee law student about law and public service. @ wlunews']\n",
      "[[1163, 1, 196, 4, 1002, 64, 712, 27, 1, 1210, 5068, 22399, 20, 9, 29, 152, 103, 442, 16, 13, 25, 233, 2, 30, 4, 593, 3431, 5465, 867, 119, 9963, 2, 252, 8, 1, 865, 291, 411, 497, 40, 174, 91, 34, 562, 161], [6, 706, 634, 2549, 5, 1514, 1971, 321, 139, 1, 121, 2, 1592, 1148, 6, 10, 404, 464, 55, 12, 1, 202, 60, 1367, 2, 5177, 8, 634, 102, 46, 7, 60, 2, 77, 799, 31, 2261, 10, 217, 1090], [855, 9, 21, 293, 6, 669, 2, 52, 432, 1335, 8, 1, 39, 112, 901, 8167], [1, 681, 14, 123, 347, 21, 1300, 6, 120, 19, 1, 44, 206, 9108, 27, 209, 21321, 102527, 2, 1, 188, 32, 11795, 132, 59, 24, 38, 1299, 1656, 2397, 3, 914, 132, 1, 9689, 4, 5, 8455, 2171, 2, 183, 2, 1, 1520], [209, 6544, 402, 2, 230, 3, 2423, 120, 154, 31, 120, 3, 155, 133, 128371]]\n",
      "[[     2    252      8      1    865    291    411    497     40    174\n",
      "      91     34    562    161]\n",
      " [     8    634    102     46      7     60      2     77    799     31\n",
      "    2261     10    217   1090]\n",
      " [    21    293      6    669      2     52    432   1335      8      1\n",
      "      39    112    901   8167]\n",
      " [     3    914    132      1   9689      4      5   8455   2171      2\n",
      "     183      2      1   1520]\n",
      " [  6544    402      2    230      3   2423    120    154     31    120\n",
      "       3    155    133 128371]]\n",
      "Wall time: 1min 53s\n"
     ]
    }
   ],
   "source": [
    "%%time\n",
    "print(list(df_train.text)[0:5])\n",
    "print(tokenizer.texts_to_sequences(df_train.text)[0:5]) # transform to numerical labels\n",
    "\n",
    "x_try = pad_sequences(tokenizer.texts_to_sequences(df_train.text)[0:5], maxlen=14)\n",
    "x_train = pad_sequences(tokenizer.texts_to_sequences(df_train.text), maxlen=SEQUENCE_LENGTH) # pad a window to a same lenght\n",
    "x_test = pad_sequences(tokenizer.texts_to_sequences(df_test.text), maxlen=SEQUENCE_LENGTH)\n",
    "print(x_try)"
   ]
  },
  {
   "cell_type": "markdown",
   "metadata": {},
   "source": [
    "Label Encoder"
   ]
  },
  {
   "cell_type": "code",
   "execution_count": 71,
   "metadata": {},
   "outputs": [
    {
     "name": "stdout",
     "output_type": "stream",
     "text": [
      "{0, 1}\n",
      "[[0]\n",
      " [0]\n",
      " [0]\n",
      " [1]\n",
      " [1]]\n",
      "y_train (1437548, 1)\n",
      "y_test (359388, 1)\n"
     ]
    }
   ],
   "source": [
    "encoder = LabelEncoder()\n",
    "encoder.fit(df_train.party.tolist())\n",
    "\n",
    "y_train = encoder.transform(df_train.party.tolist()) # transform non-numerical data to numerical labels\n",
    "y_test = encoder.transform(df_test.party.tolist())\n",
    "\n",
    "ylist = list(y_train)\n",
    "print(set(ylist))\n",
    "\n",
    "y_train = y_train.reshape(-1,1) # -1 means unknown\n",
    "y_test = y_test.reshape(-1,1)\n",
    "\n",
    "print(y_train[0:5])\n",
    "print(\"y_train\",y_train.shape)\n",
    "print(\"y_test\",y_test.shape)"
   ]
  },
  {
   "cell_type": "code",
   "execution_count": 42,
   "metadata": {},
   "outputs": [
    {
     "name": "stdout",
     "output_type": "stream",
     "text": [
      "x_train (1439882, 80)\n",
      "y_train (1439882, 1)\n",
      "\n",
      "x_test (359971, 80)\n",
      "y_test (359971, 1)\n"
     ]
    }
   ],
   "source": [
    "print(\"x_train\", x_train.shape)\n",
    "print(\"y_train\", y_train.shape)\n",
    "print()\n",
    "print(\"x_test\", x_test.shape)\n",
    "print(\"y_test\", y_test.shape)"
   ]
  },
  {
   "cell_type": "markdown",
   "metadata": {},
   "source": [
    "## Using word2vector"
   ]
  },
  {
   "cell_type": "code",
   "execution_count": 72,
   "metadata": {},
   "outputs": [
    {
     "name": "stdout",
     "output_type": "stream",
     "text": [
      "(398571, 200)\n",
      "200\n"
     ]
    }
   ],
   "source": [
    "## word2vector\n",
    "embedding_matrix = np.zeros((vocab_size, W2V_SIZE)) #Return a new array of given shape and type, filled with zeros.\n",
    "for word, i in tokenizer.word_index.items():\n",
    "  if word in w2v_model.wv:\n",
    "    embedding_matrix[i] = w2v_model.wv[word]\n",
    "print(embedding_matrix.shape)\n",
    "print(len(embedding_matrix[0]))"
   ]
  },
  {
   "cell_type": "code",
   "execution_count": 73,
   "metadata": {},
   "outputs": [],
   "source": [
    "embedding_layer = Embedding(vocab_size, W2V_SIZE, weights=[embedding_matrix], input_length=SEQUENCE_LENGTH, trainable=False)\n",
    "#print(embedding_layer)\n",
    "#embedding_layer2 = Embedding(vocab_size, W2V_SIZE, input_length=SEQUENCE_LENGTH, trainable=True)"
   ]
  },
  {
   "cell_type": "markdown",
   "metadata": {},
   "source": [
    "## Using Glove"
   ]
  },
  {
   "cell_type": "code",
   "execution_count": 14,
   "metadata": {},
   "outputs": [
    {
     "name": "stdout",
     "output_type": "stream",
     "text": [
      "Found 1193515 word vectors.\n"
     ]
    }
   ],
   "source": [
    "#https://www.kaggle.com/hamishdickson/bidirectional-lstm-in-keras-with-glove-embeddings\n",
    "\n",
    "embeddings_index = {}\n",
    "f = open(os.path.join('../sentiment', 'glove.twitter.27B.200d.txt'), encoding='UTF-8')\n",
    "for line in f:\n",
    "    values = line.split()\n",
    "    word = values[0] ## The first entry is the word\n",
    "    coefs = np.asarray(values[1:], dtype='float32') ## These are the vecotrs representing the embedding for the word\n",
    "    embeddings_index[word] = coefs\n",
    "f.close()\n",
    "\n",
    "print('Found %s word vectors.' % len(embeddings_index))"
   ]
  },
  {
   "cell_type": "code",
   "execution_count": 198,
   "metadata": {},
   "outputs": [
    {
     "data": {
      "text/plain": [
       "array([ 2.1029e-02,  2.8791e-01, -7.9057e-02,  3.1641e-02, -2.6023e-01,\n",
       "       -2.8955e-01,  1.1771e-01, -5.5799e-01,  3.0617e-01,  4.1906e-02,\n",
       "        3.3540e-01,  2.0255e-01, -4.1535e-01, -8.5584e-01,  5.7185e-01,\n",
       "       -5.1751e-02, -3.2837e-01, -2.9743e-01, -3.6705e-02, -6.5912e-01,\n",
       "       -2.0230e-01, -6.5695e-01, -2.1094e-01,  3.3028e-02, -6.0669e-01,\n",
       "        6.5900e-01,  6.9085e-01,  7.9976e-02, -5.7360e-01, -7.9711e-02,\n",
       "        2.5549e-02,  6.8055e-02, -3.5121e-03, -2.8734e-03,  2.2158e-02,\n",
       "        5.9357e-01, -1.0038e-01,  9.4816e-02,  8.1303e-02, -3.3232e-02,\n",
       "        1.2195e+00,  1.9462e-01,  4.1903e-01, -2.4182e-01,  6.3098e-01,\n",
       "        2.9016e-01, -1.0378e-01,  6.5760e-02, -5.8168e-01,  4.6773e-02,\n",
       "       -8.5296e-03, -5.1105e-01, -3.9337e-01,  3.4598e-01,  3.2132e-01,\n",
       "       -1.4982e-01,  2.7564e-01, -1.5406e-01, -1.0758e-01, -3.7673e-01,\n",
       "        1.9479e-01,  1.1258e-01, -2.3032e-01, -9.4143e-01,  9.7007e-02,\n",
       "        6.7448e-02,  3.8313e-01, -2.4903e-01, -2.2953e-01,  5.7654e-01,\n",
       "       -3.8470e-01, -1.4333e-01, -1.2235e-01, -7.0449e-01, -2.5640e-02,\n",
       "       -7.1163e-02, -1.9201e-01,  7.8459e-01, -2.2221e-01,  2.9917e-01,\n",
       "        2.5085e-01, -8.0743e-02,  2.7241e-01,  4.7442e-01, -2.7567e-01,\n",
       "       -1.4205e-02, -1.6989e-01, -2.8230e-01,  1.9163e-01,  1.9159e-01,\n",
       "       -7.2026e-02, -1.0022e-01,  2.6686e-01, -2.1434e-01,  1.2803e-01,\n",
       "        1.4091e-01, -3.1816e-01, -3.2092e-01, -1.9113e-01, -2.8300e-01,\n",
       "        4.3255e-02, -7.8163e-02,  1.4219e-01,  1.7864e-01,  1.9635e-01,\n",
       "       -4.5056e-01, -8.3904e-01,  4.9986e-01, -4.2132e-01,  2.6740e-01,\n",
       "       -2.6637e-01,  1.7485e-01,  1.7479e-01, -1.7320e-01, -5.0134e-01,\n",
       "        2.2386e-01,  4.4339e-01, -1.1019e+00, -3.7288e-01, -1.0991e-01,\n",
       "        1.3058e-01,  4.6184e-02,  1.9473e-01,  1.0403e-01, -1.4280e-01,\n",
       "       -3.9085e-01, -1.2736e-01, -7.0863e-01,  5.1008e-01,  1.8955e-01,\n",
       "        1.6355e-01, -4.6440e-01,  2.4124e-03, -4.8944e-01,  1.7671e-03,\n",
       "        4.3718e-03,  1.9383e-03,  2.6307e-01,  6.2109e-01,  1.3476e-01,\n",
       "        3.2770e-01, -3.3213e-01, -2.6354e-01,  3.3648e-01,  4.5169e-01,\n",
       "       -2.4766e-01,  1.0924e-01, -4.4212e-01, -5.1448e-01,  3.1886e-01,\n",
       "        2.3336e-01,  1.7402e-01, -1.5982e+00,  1.0550e-01,  4.0103e-01,\n",
       "        7.1420e-02, -3.1185e-02, -6.9928e-02,  5.6605e-02, -1.6643e-01,\n",
       "       -5.2315e-01,  6.1731e-01,  4.6558e-02, -4.2779e-01,  4.8839e-01,\n",
       "        2.7081e-01,  3.6387e-01, -1.4051e-01, -3.0563e-01,  3.3504e-01,\n",
       "       -1.5621e-01, -6.1885e-01, -2.3324e-02,  8.2539e-01, -2.2982e-02,\n",
       "       -6.7141e-04, -3.7157e-01, -1.3743e-02,  5.4912e-01,  7.4807e-02,\n",
       "       -5.6944e-01, -4.5131e-01,  2.8086e-01, -5.7156e-01,  5.9554e-01,\n",
       "        5.0527e-01, -2.4828e-01,  4.3755e-02,  2.2337e-02,  1.6369e-02,\n",
       "        1.0592e+00,  2.2661e-01,  9.1947e-02, -2.0095e-01, -1.8117e-01,\n",
       "        3.1987e-01,  1.1399e+00,  7.7637e-01, -4.5524e-01, -6.8148e-01],\n",
       "      dtype=float32)"
      ]
     },
     "execution_count": 198,
     "metadata": {},
     "output_type": "execute_result"
    }
   ],
   "source": [
    "embeddings_index.get('trump')"
   ]
  },
  {
   "cell_type": "code",
   "execution_count": 199,
   "metadata": {},
   "outputs": [],
   "source": [
    "#max_features = 50000\n",
    "max_features = vocab_size - 1\n",
    "num_words = min(max_features, vocab_size - 1) + 1\n",
    "#print(num_words)\n",
    "\n",
    "embedding_dim = 200\n",
    "\n",
    "# first create a matrix of zeros, this is our embedding matrix\n",
    "embedding_matrix = np.zeros((num_words, embedding_dim))\n",
    "\n",
    "# for each word in out tokenizer lets try to find that work in our w2v model\n",
    "for word, i in tokenizer.word_index.items():\n",
    "    if i > max_features:\n",
    "        continue\n",
    "    embedding_vector = embeddings_index.get(word)\n",
    "    if embedding_vector is not None:\n",
    "        # we found the word - add that words vector to the matrix\n",
    "        embedding_matrix[i] = embedding_vector\n",
    "    #else:\n",
    "        # doesn't exist, assign a random vector\n",
    "    #    embedding_matrix[i] = np.random.randn(embedding_dim)"
   ]
  },
  {
   "cell_type": "code",
   "execution_count": 200,
   "metadata": {},
   "outputs": [],
   "source": [
    "embedding_layer = Embedding(num_words, W2V_SIZE, weights=[embedding_matrix], input_length=SEQUENCE_LENGTH, trainable=False)\n",
    "#print(embedding_layer)\n",
    "#embedding_layer2 = Embedding(vocab_size, W2V_SIZE, input_length=SEQUENCE_LENGTH, trainable=True)"
   ]
  },
  {
   "cell_type": "markdown",
   "metadata": {},
   "source": [
    "## Model building\n",
    "\n",
    "https://keras.io/getting-started/sequential-model-guide/\n",
    "\n",
    "https://zhuanlan.zhihu.com/p/29201491"
   ]
  },
  {
   "cell_type": "code",
   "execution_count": 196,
   "metadata": {
    "scrolled": true
   },
   "outputs": [
    {
     "name": "stdout",
     "output_type": "stream",
     "text": [
      "Model: \"model_12\"\n",
      "_________________________________________________________________\n",
      "Layer (type)                 Output Shape              Param #   \n",
      "=================================================================\n",
      "input_12 (InputLayer)        (None, 80)                0         \n",
      "_________________________________________________________________\n",
      "embedding_6 (Embedding)      (None, 80, 200)           84169000  \n",
      "_________________________________________________________________\n",
      "dropout_12 (Dropout)         (None, 80, 200)           0         \n",
      "_________________________________________________________________\n",
      "bidirectional_16 (Bidirectio (None, 200)               240800    \n",
      "_________________________________________________________________\n",
      "dense_23 (Dense)             (None, 32)                6432      \n",
      "_________________________________________________________________\n",
      "dense_24 (Dense)             (None, 1)                 33        \n",
      "=================================================================\n",
      "Total params: 84,416,265\n",
      "Trainable params: 247,265\n",
      "Non-trainable params: 84,169,000\n",
      "_________________________________________________________________\n"
     ]
    }
   ],
   "source": [
    "main_input = Input(shape=(SEQUENCE_LENGTH,), dtype='float64')\n",
    "embed = embedding_layer(main_input)\n",
    "drop = Dropout(0.3)(embed)\n",
    "rnn1 = Bidirectional(LSTM(100, return_sequences = True, dropout=0.2, recurrent_dropout=0.1))(drop)\n",
    "rnn2 = Bidirectional(LSTM(100, dropout=0.2, recurrent_dropout=0.1))(drop)\n",
    "dense = Dense(32)(rnn2)\n",
    "main_output = Dense(1, activation='sigmoid')(dense)\n",
    "model = Model(inputs = main_input, outputs = main_output)\n",
    "model.summary()\n",
    "\n",
    "model.compile(loss='binary_crossentropy',\n",
    "              optimizer=\"adam\",\n",
    "              metrics=['accuracy'])"
   ]
  },
  {
   "cell_type": "code",
   "execution_count": null,
   "metadata": {},
   "outputs": [],
   "source": [
    "#Improved LSTM baseline\n",
    "#https://www.kaggle.com/jhoward/improved-lstm-baseline-glove-dropout"
   ]
  },
  {
   "cell_type": "code",
   "execution_count": 74,
   "metadata": {},
   "outputs": [
    {
     "name": "stdout",
     "output_type": "stream",
     "text": [
      "Model: \"model_1\"\n",
      "_________________________________________________________________\n",
      "Layer (type)                 Output Shape              Param #   \n",
      "=================================================================\n",
      "input_1 (InputLayer)         (None, 80)                0         \n",
      "_________________________________________________________________\n",
      "embedding_1 (Embedding)      (None, 80, 200)           79714200  \n",
      "_________________________________________________________________\n",
      "bidirectional_1 (Bidirection (None, 80, 200)           240800    \n",
      "_________________________________________________________________\n",
      "bidirectional_2 (Bidirection (None, 80, 200)           240800    \n",
      "_________________________________________________________________\n",
      "global_max_pooling1d_1 (Glob (None, 200)               0         \n",
      "_________________________________________________________________\n",
      "dense_1 (Dense)              (None, 50)                10050     \n",
      "_________________________________________________________________\n",
      "dropout_1 (Dropout)          (None, 50)                0         \n",
      "_________________________________________________________________\n",
      "dense_2 (Dense)              (None, 1)                 51        \n",
      "=================================================================\n",
      "Total params: 80,205,901\n",
      "Trainable params: 491,701\n",
      "Non-trainable params: 79,714,200\n",
      "_________________________________________________________________\n"
     ]
    }
   ],
   "source": [
    "from keras.layers import GlobalMaxPool1D\n",
    "inp = Input(shape=(SEQUENCE_LENGTH,))\n",
    "x = embedding_layer(inp)\n",
    "x = Bidirectional(LSTM(100, return_sequences=True, dropout=0.1, recurrent_dropout=0.1))(x)\n",
    "x = Bidirectional(LSTM(100, return_sequences=True, dropout=0.1, recurrent_dropout=0.1))(x)\n",
    "x = GlobalMaxPool1D()(x)\n",
    "x = Dense(50, activation=\"relu\")(x)\n",
    "x = Dropout(0.1)(x)\n",
    "x = Dense(1, activation=\"sigmoid\")(x)\n",
    "model = Model(inputs=inp, outputs=x)\n",
    "model.summary()\n",
    "model.compile(loss='binary_crossentropy', optimizer='adam', metrics=['accuracy'])"
   ]
  },
  {
   "cell_type": "markdown",
   "metadata": {},
   "source": [
    "Callbacks"
   ]
  },
  {
   "cell_type": "code",
   "execution_count": 75,
   "metadata": {},
   "outputs": [],
   "source": [
    "callbacks = [ ReduceLROnPlateau(monitor='val_loss', patience=5, cooldown=0),\n",
    "              EarlyStopping(monitor='val_accuracy', min_delta=1e-4, patience=5)]\n",
    "##not sure the purpose here"
   ]
  },
  {
   "cell_type": "code",
   "execution_count": 3,
   "metadata": {},
   "outputs": [
    {
     "ename": "NameError",
     "evalue": "name 'y_train' is not defined",
     "output_type": "error",
     "traceback": [
      "\u001b[1;31m---------------------------------------------------------------------------\u001b[0m",
      "\u001b[1;31mNameError\u001b[0m                                 Traceback (most recent call last)",
      "\u001b[1;32m<ipython-input-3-bd81b5f12c98>\u001b[0m in \u001b[0;36m<module>\u001b[1;34m\u001b[0m\n\u001b[1;32m----> 1\u001b[1;33m \u001b[0mprint\u001b[0m\u001b[1;33m(\u001b[0m\u001b[0my_train\u001b[0m\u001b[1;33m)\u001b[0m\u001b[1;33m\u001b[0m\u001b[1;33m\u001b[0m\u001b[0m\n\u001b[0m",
      "\u001b[1;31mNameError\u001b[0m: name 'y_train' is not defined"
     ]
    }
   ],
   "source": [
    "print(y_train)"
   ]
  },
  {
   "cell_type": "markdown",
   "metadata": {},
   "source": [
    "Time"
   ]
  },
  {
   "cell_type": "code",
   "execution_count": 231,
   "metadata": {},
   "outputs": [
    {
     "name": "stdout",
     "output_type": "stream",
     "text": [
      "Train on 1293793 samples, validate on 143755 samples\n",
      "Epoch 1/64\n",
      "1293793/1293793 [==============================] - 1161s 897us/step - loss: 0.2964 - accuracy: 0.8590 - val_loss: 0.2897 - val_accuracy: 0.8629\n",
      "Epoch 2/64\n",
      "1293793/1293793 [==============================] - 1162s 898us/step - loss: 0.2884 - accuracy: 0.8630 - val_loss: 0.2844 - val_accuracy: 0.8658\n",
      "Epoch 3/64\n",
      "1293793/1293793 [==============================] - 1159s 896us/step - loss: 0.2822 - accuracy: 0.8660 - val_loss: 0.2831 - val_accuracy: 0.8653\n",
      "Epoch 4/64\n",
      "1293793/1293793 [==============================] - 1158s 895us/step - loss: 0.2773 - accuracy: 0.8688 - val_loss: 0.2788 - val_accuracy: 0.8674\n",
      "Epoch 5/64\n",
      "1293793/1293793 [==============================] - 1155s 893us/step - loss: 0.2739 - accuracy: 0.8704 - val_loss: 0.2775 - val_accuracy: 0.8687\n",
      "Epoch 6/64\n",
      "1293793/1293793 [==============================] - 1160s 896us/step - loss: 0.2706 - accuracy: 0.8722 - val_loss: 0.2772 - val_accuracy: 0.8698\n",
      "Epoch 7/64\n",
      "1293793/1293793 [==============================] - 1160s 896us/step - loss: 0.2681 - accuracy: 0.8739 - val_loss: 0.2763 - val_accuracy: 0.8701\n",
      "Epoch 8/64\n",
      "1293793/1293793 [==============================] - 1161s 897us/step - loss: 0.2658 - accuracy: 0.8744 - val_loss: 0.2748 - val_accuracy: 0.8708\n",
      "Epoch 9/64\n",
      "1293793/1293793 [==============================] - 1160s 896us/step - loss: 0.2640 - accuracy: 0.8755 - val_loss: 0.2754 - val_accuracy: 0.8706\n",
      "Epoch 10/64\n",
      "1293793/1293793 [==============================] - 1161s 897us/step - loss: 0.2623 - accuracy: 0.8763 - val_loss: 0.2736 - val_accuracy: 0.8712\n",
      "Epoch 11/64\n",
      "1293793/1293793 [==============================] - 1161s 898us/step - loss: 0.2606 - accuracy: 0.8771 - val_loss: 0.2750 - val_accuracy: 0.8718\n",
      "Epoch 12/64\n",
      "1293793/1293793 [==============================] - 1161s 897us/step - loss: 0.2590 - accuracy: 0.8784 - val_loss: 0.2748 - val_accuracy: 0.8714\n",
      "Epoch 13/64\n",
      "1293793/1293793 [==============================] - 1160s 896us/step - loss: 0.2578 - accuracy: 0.8789 - val_loss: 0.2741 - val_accuracy: 0.8714\n",
      "Epoch 14/64\n",
      "1293793/1293793 [==============================] - 1161s 897us/step - loss: 0.2566 - accuracy: 0.8794 - val_loss: 0.2715 - val_accuracy: 0.8732\n",
      "Epoch 15/64\n",
      "1293793/1293793 [==============================] - 1161s 898us/step - loss: 0.2556 - accuracy: 0.8798 - val_loss: 0.2733 - val_accuracy: 0.8730\n",
      "Epoch 16/64\n",
      "1293793/1293793 [==============================] - 1161s 898us/step - loss: 0.2547 - accuracy: 0.8805 - val_loss: 0.2718 - val_accuracy: 0.8730\n",
      "Epoch 17/64\n",
      "1293793/1293793 [==============================] - 1161s 897us/step - loss: 0.2541 - accuracy: 0.8807 - val_loss: 0.2724 - val_accuracy: 0.8736\n",
      "Epoch 18/64\n",
      "1293793/1293793 [==============================] - 1161s 898us/step - loss: 0.2531 - accuracy: 0.8810 - val_loss: 0.2719 - val_accuracy: 0.8733\n",
      "Epoch 19/64\n",
      "1293793/1293793 [==============================] - 1162s 898us/step - loss: 0.2524 - accuracy: 0.8817 - val_loss: 0.2706 - val_accuracy: 0.8735\n",
      "Epoch 20/64\n",
      "1293793/1293793 [==============================] - 1162s 898us/step - loss: 0.2517 - accuracy: 0.8821 - val_loss: 0.2729 - val_accuracy: 0.8731\n",
      "Epoch 21/64\n",
      "1293793/1293793 [==============================] - 1162s 898us/step - loss: 0.2511 - accuracy: 0.8822 - val_loss: 0.2715 - val_accuracy: 0.8741\n",
      "Epoch 22/64\n",
      "1293793/1293793 [==============================] - 1163s 899us/step - loss: 0.2503 - accuracy: 0.8832 - val_loss: 0.2715 - val_accuracy: 0.8740\n",
      "Epoch 23/64\n",
      "1293793/1293793 [==============================] - 1162s 898us/step - loss: 0.2498 - accuracy: 0.8830 - val_loss: 0.2723 - val_accuracy: 0.8742\n",
      "Epoch 24/64\n",
      "1293793/1293793 [==============================] - 1164s 900us/step - loss: 0.2491 - accuracy: 0.8836 - val_loss: 0.2702 - val_accuracy: 0.8739\n",
      "Epoch 25/64\n",
      "1293793/1293793 [==============================] - 1161s 898us/step - loss: 0.2488 - accuracy: 0.8834 - val_loss: 0.2696 - val_accuracy: 0.8750\n",
      "Epoch 26/64\n",
      "1293793/1293793 [==============================] - 1164s 900us/step - loss: 0.2485 - accuracy: 0.8840 - val_loss: 0.2712 - val_accuracy: 0.8751\n",
      "Epoch 27/64\n",
      "1293793/1293793 [==============================] - 1163s 899us/step - loss: 0.2479 - accuracy: 0.8841 - val_loss: 0.2704 - val_accuracy: 0.8750\n",
      "Epoch 28/64\n",
      "1293793/1293793 [==============================] - 1165s 900us/step - loss: 0.2474 - accuracy: 0.8844 - val_loss: 0.2712 - val_accuracy: 0.8748\n",
      "Epoch 29/64\n",
      "1293793/1293793 [==============================] - 1162s 898us/step - loss: 0.2467 - accuracy: 0.8844 - val_loss: 0.2678 - val_accuracy: 0.8753\n",
      "Epoch 30/64\n",
      "1293793/1293793 [==============================] - 1164s 900us/step - loss: 0.2465 - accuracy: 0.8847 - val_loss: 0.2708 - val_accuracy: 0.8752\n",
      "Epoch 31/64\n",
      "1293793/1293793 [==============================] - 1162s 898us/step - loss: 0.2459 - accuracy: 0.8850 - val_loss: 0.2702 - val_accuracy: 0.8748\n",
      "Epoch 32/64\n",
      "1293793/1293793 [==============================] - 1163s 899us/step - loss: 0.2461 - accuracy: 0.8848 - val_loss: 0.2705 - val_accuracy: 0.8758\n",
      "Epoch 33/64\n",
      "1293793/1293793 [==============================] - 1162s 898us/step - loss: 0.2451 - accuracy: 0.8853 - val_loss: 0.2697 - val_accuracy: 0.8750\n",
      "Epoch 34/64\n",
      "1293793/1293793 [==============================] - 1164s 900us/step - loss: 0.2450 - accuracy: 0.8856 - val_loss: 0.2697 - val_accuracy: 0.8761\n",
      "Epoch 35/64\n",
      "1293793/1293793 [==============================] - 1163s 899us/step - loss: 0.2396 - accuracy: 0.8883 - val_loss: 0.2688 - val_accuracy: 0.8764\n",
      "Epoch 36/64\n",
      "1293793/1293793 [==============================] - 1163s 899us/step - loss: 0.2372 - accuracy: 0.8896 - val_loss: 0.2699 - val_accuracy: 0.8769\n",
      "Epoch 37/64\n",
      "1293793/1293793 [==============================] - 1163s 899us/step - loss: 0.2358 - accuracy: 0.8901 - val_loss: 0.2695 - val_accuracy: 0.8770\n",
      "Epoch 38/64\n",
      "1293793/1293793 [==============================] - 1166s 901us/step - loss: 0.2342 - accuracy: 0.8910 - val_loss: 0.2688 - val_accuracy: 0.8770\n",
      "Epoch 39/64\n",
      "1293793/1293793 [==============================] - 1166s 901us/step - loss: 0.2331 - accuracy: 0.8915 - val_loss: 0.2693 - val_accuracy: 0.8778\n",
      "Epoch 40/64\n",
      "1293793/1293793 [==============================] - 1165s 900us/step - loss: 0.2323 - accuracy: 0.8916 - val_loss: 0.2695 - val_accuracy: 0.8776\n",
      "Epoch 41/64\n",
      "1293793/1293793 [==============================] - 1164s 899us/step - loss: 0.2321 - accuracy: 0.8919 - val_loss: 0.2693 - val_accuracy: 0.8776\n",
      "Epoch 42/64\n",
      "1293793/1293793 [==============================] - 1163s 899us/step - loss: 0.2321 - accuracy: 0.8919 - val_loss: 0.2695 - val_accuracy: 0.8775\n",
      "Epoch 43/64\n",
      "1293793/1293793 [==============================] - 1164s 899us/step - loss: 0.2320 - accuracy: 0.8920 - val_loss: 0.2692 - val_accuracy: 0.8776\n",
      "Epoch 44/64\n",
      "1293793/1293793 [==============================] - 1163s 899us/step - loss: 0.2318 - accuracy: 0.8921 - val_loss: 0.2693 - val_accuracy: 0.8776\n",
      "Wall time: 14h 12min 6s\n"
     ]
    }
   ],
   "source": [
    "%%time\n",
    "history = model.fit(x_train, y_train,\n",
    "                    batch_size=BATCH_SIZE,\n",
    "                    epochs = 64,\n",
    "                    validation_split=0.1,\n",
    "                    verbose=1,\n",
    "                    callbacks=callbacks)"
   ]
  },
  {
   "cell_type": "code",
   "execution_count": 232,
   "metadata": {},
   "outputs": [],
   "source": [
    "model.save(\"model_political_affiliation_w2v_2lstm_maxpool.h5\")\n",
    "#w2v_model.save(WORD2VEC_MODEL)\n",
    "pickle.dump(tokenizer, open(TOKENIZER_MODEL, \"wb\"), protocol=0)\n",
    "pickle.dump(encoder, open(ENCODER_MODEL, \"wb\"), protocol=0)"
   ]
  },
  {
   "cell_type": "markdown",
   "metadata": {},
   "source": [
    "Evaluate"
   ]
  },
  {
   "cell_type": "code",
   "execution_count": 233,
   "metadata": {},
   "outputs": [
    {
     "name": "stdout",
     "output_type": "stream",
     "text": [
      "359388/359388 [==============================] - 66s 185us/step\n",
      "\n",
      "ACCURACY: 0.8753185868263245\n",
      "LOSS: 0.27220170618162365\n",
      "Wall time: 1min 6s\n"
     ]
    }
   ],
   "source": [
    "%%time\n",
    "score = model.evaluate(x_test, y_test, batch_size=BATCH_SIZE)\n",
    "print()\n",
    "print(\"ACCURACY:\",score[1])\n",
    "print(\"LOSS:\",score[0])"
   ]
  },
  {
   "cell_type": "code",
   "execution_count": 235,
   "metadata": {
    "scrolled": true
   },
   "outputs": [
    {
     "data": {
      "image/png": "[encoded data removed]",
      "text/plain": [
       "<Figure size 432x288 with 1 Axes>"
      ]
     },
     "metadata": {
      "needs_background": "light"
     },
     "output_type": "display_data"
    },
    {
     "data": {
      "image/png": "[encoded data removed]",
      "text/plain": [
       "<Figure size 432x288 with 1 Axes>"
      ]
     },
     "metadata": {
      "needs_background": "light"
     },
     "output_type": "display_data"
    }
   ],
   "source": [
    "acc = history.history['accuracy']\n",
    "val_acc = history.history['val_accuracy']\n",
    "loss = history.history['loss']\n",
    "val_loss = history.history['val_loss']\n",
    " \n",
    "epochs = range(len(acc))\n",
    "plt.plot(acc, 'b', label='Training acc')\n",
    "plt.plot(val_acc, 'r', label='Validation acc')\n",
    "plt.title('Training and validation accuracy')\n",
    "plt.legend()\n",
    " \n",
    "plt.figure()\n",
    "\n",
    "plt.plot(epochs, loss, 'b', label='Training loss')\n",
    "plt.plot(epochs, val_loss, 'r', label='Validation loss')\n",
    "plt.title('Training and validation loss')\n",
    "plt.legend()\n",
    " \n",
    "plt.show()"
   ]
  },
  {
   "cell_type": "markdown",
   "metadata": {},
   "source": [
    "ROC curves\n",
    "https://www.dlology.com/blog/simple-guide-on-how-to-generate-roc-plot-for-keras-classifier/"
   ]
  },
  {
   "cell_type": "code",
   "execution_count": 238,
   "metadata": {},
   "outputs": [
    {
     "name": "stdout",
     "output_type": "stream",
     "text": [
      "359388/359388 [==============================] - 27s 77us/step\n"
     ]
    },
    {
     "name": "stderr",
     "output_type": "stream",
     "text": [
      "C:\\Users\\Lingshu\\.conda\\envs\\my_env\\lib\\site-packages\\ipykernel_launcher.py:12: DataConversionWarning: A column-vector y was passed when a 1d array was expected. Please change the shape of y to (n_samples,), for example using ravel().\n",
      "  if sys.path[0] == '':\n"
     ]
    }
   ],
   "source": [
    "from sklearn.metrics import roc_curve\n",
    "y_pred = model.predict(x_test, verbose=1, batch_size=8000)\n",
    "y_pred_keras = y_pred.ravel()\n",
    "fpr_keras, tpr_keras, thresholds_keras = roc_curve(y_test, y_pred_keras)\n",
    "\n",
    "from sklearn.metrics import auc\n",
    "auc_keras = auc(fpr_keras, tpr_keras)\n",
    "\n",
    "from sklearn.ensemble import RandomForestClassifier\n",
    "# Supervised transformation based on random forests\n",
    "rf = RandomForestClassifier(max_depth=3, n_estimators=10)\n",
    "rf.fit(x_train, y_train)\n",
    "\n",
    "y_pred_rf = rf.predict_proba(x_test)[:, 1]\n",
    "fpr_rf, tpr_rf, thresholds_rf = roc_curve(y_test, y_pred_rf)\n",
    "auc_rf = auc(fpr_rf, tpr_rf)"
   ]
  },
  {
   "cell_type": "code",
   "execution_count": 239,
   "metadata": {},
   "outputs": [
    {
     "data": {
      "image/png": "[encoded data removed]",
      "text/plain": [
       "<Figure size 432x288 with 1 Axes>"
      ]
     },
     "metadata": {
      "needs_background": "light"
     },
     "output_type": "display_data"
    }
   ],
   "source": [
    "plt.figure(1)\n",
    "plt.plot([0, 1], [0, 1], 'k--')\n",
    "plt.plot(fpr_keras, tpr_keras, label='RNN (area = {:.3f})'.format(auc_keras))\n",
    "plt.plot(fpr_rf, tpr_rf, label='RF (area = {:.3f})'.format(auc_rf))\n",
    "plt.xlabel('False positive rate')\n",
    "plt.ylabel('True positive rate')\n",
    "plt.title('ROC curve')\n",
    "plt.legend(loc='best')\n",
    "plt.savefig(\"neg_exp_lstm2.png\")\n",
    "plt.show()\n"
   ]
  },
  {
   "cell_type": "markdown",
   "metadata": {},
   "source": [
    "## Predict tweets data"
   ]
  },
  {
   "cell_type": "code",
   "execution_count": 10,
   "metadata": {},
   "outputs": [],
   "source": [
    "from keras.models import load_model\n",
    "model = load_model(\"model_political_affiliation_w2v_2lstm_maxpool.h5\")"
   ]
  },
  {
   "cell_type": "code",
   "execution_count": 11,
   "metadata": {},
   "outputs": [
    {
     "name": "stdout",
     "output_type": "stream",
     "text": [
      "     user_id             status_id           created_at screen_name  \\\n",
      "0  x22679832  x1246531096386457602  2020-04-04 20:12:27      Linora   \n",
      "1  x22679832  x1246530919441272832  2020-04-04 20:11:45      Linora   \n",
      "2  x22679832  x1246530162386186245  2020-04-04 20:08:44      Linora   \n",
      "3  x22679832  x1246530084703526914  2020-04-04 20:08:26      Linora   \n",
      "4  x22679832  x1246529890293252096  2020-04-04 20:07:39      Linora   \n",
      "\n",
      "                                                text  \n",
      "0  Our new leader is @Keir_Starmer the architect ...  \n",
      "1  You are very being lied to. \\n\\nThis controver...  \n",
      "2  Capitalism means I get charged $125 to cancel ...  \n",
      "3  Now #Germany, #France and #Canada know what it...  \n",
      "4  Please please does anyone have any or know any...  \n"
     ]
    }
   ],
   "source": [
    "## open tweets data\n",
    "#df_tweets = pd.read_csv('C:/R_work/coronavirus/data/covid_users20tweets_usa_jan24-mar20_21pm-23pm_onesixth_5.csv', encoding =DATASET_ENCODING)\n",
    "#df.iloc[0:5] = df.head(5)\n",
    "df_tweets = pd.read_csv('C:/R_work/coronavirus/data/china_aid/china_aid_us_3-4_users_tweets.csv', encoding =DATASET_ENCODING)\n",
    "print(df_tweets.head(5))\n"
   ]
  },
  {
   "cell_type": "code",
   "execution_count": 12,
   "metadata": {},
   "outputs": [],
   "source": [
    "## remove https\n",
    "df_tweets.text = df_tweets.text.apply(lambda x: preprocess(x))"
   ]
  },
  {
   "cell_type": "code",
   "execution_count": 13,
   "metadata": {},
   "outputs": [
    {
     "name": "stdout",
     "output_type": "stream",
     "text": [
      "     user_id             status_id           created_at screen_name  \\\n",
      "0  x22679832  x1246531096386457602  2020-04-04 20:12:27      Linora   \n",
      "1  x22679832  x1246530919441272832  2020-04-04 20:11:45      Linora   \n",
      "2  x22679832  x1246530162386186245  2020-04-04 20:08:44      Linora   \n",
      "3  x22679832  x1246530084703526914  2020-04-04 20:08:26      Linora   \n",
      "4  x22679832  x1246529890293252096  2020-04-04 20:07:39      Linora   \n",
      "\n",
      "                                                text  \n",
      "0  our new leader is @ keir_starmer the architect...  \n",
      "1  you are very being lied to. \\n\\nthis controver...  \n",
      "2  capitalism means i get charged $125 to cancel ...  \n",
      "3  now # germany, # france and # canada know what...  \n",
      "4  please please does anyone have any or know any...  \n"
     ]
    }
   ],
   "source": [
    "print(df_tweets.head(5))\n",
    "tweets_text = pad_sequences(tokenizer.texts_to_sequences(df_tweets.text), maxlen=80)"
   ]
  },
  {
   "cell_type": "code",
   "execution_count": 14,
   "metadata": {},
   "outputs": [
    {
     "name": "stdout",
     "output_type": "stream",
     "text": [
      "Wall time: 22min 56s\n"
     ]
    }
   ],
   "source": [
    "%%time\n",
    "tweets_pred = model.predict(tweets_text)"
   ]
  },
  {
   "cell_type": "code",
   "execution_count": 15,
   "metadata": {},
   "outputs": [
    {
     "name": "stdout",
     "output_type": "stream",
     "text": [
      "[[0.59190226]\n",
      " [0.00194884]\n",
      " [0.35679352]\n",
      " [0.7392552 ]]\n"
     ]
    }
   ],
   "source": [
    "print(tweets_pred[1:5])\n",
    "df_tweets_pred = pd.DataFrame(data=tweets_pred)\n",
    "df_tweets_pred.columns = ['party']\n",
    "#df_tweets_pred.to_csv('C:/R_work/coronavirus/data/covid_users20tweets_usa_jan24-mar20_21pm-23pm_onesixth_partypred_5.csv', index = False)"
   ]
  },
  {
   "cell_type": "code",
   "execution_count": 16,
   "metadata": {},
   "outputs": [
    {
     "data": {
      "text/plain": [
       "['user_id', 'status_id', 'created_at', 'screen_name', 'text', 'party']"
      ]
     },
     "execution_count": 16,
     "metadata": {},
     "output_type": "execute_result"
    }
   ],
   "source": [
    "df_tweets = pd.concat([df_tweets, df_tweets_pred], axis=1)\n",
    "list(df_tweets.columns) "
   ]
  },
  {
   "cell_type": "code",
   "execution_count": 17,
   "metadata": {},
   "outputs": [],
   "source": [
    "df_tweets['word_counts'] = df_tweets.text.apply(lambda x: len(str(x).split()))"
   ]
  },
  {
   "cell_type": "code",
   "execution_count": 18,
   "metadata": {},
   "outputs": [],
   "source": [
    "user_sent = df_tweets.groupby('user_id')['party'].mean()\n",
    "user_sent = pd.DataFrame(user_sent).reset_index()\n",
    "user_sent = user_sent.rename(columns = {'party': 'user_party'})"
   ]
  },
  {
   "cell_type": "code",
   "execution_count": 19,
   "metadata": {},
   "outputs": [],
   "source": [
    "df_tweets = df_tweets.merge(user_sent, how = 'left', on = 'user_id')"
   ]
  },
  {
   "cell_type": "code",
   "execution_count": 20,
   "metadata": {},
   "outputs": [
    {
     "data": {
      "text/html": [
       "<div>\n",
       "<style scoped>\n",
       "    .dataframe tbody tr th:only-of-type {\n",
       "        vertical-align: middle;\n",
       "    }\n",
       "\n",
       "    .dataframe tbody tr th {\n",
       "        vertical-align: top;\n",
       "    }\n",
       "\n",
       "    .dataframe thead th {\n",
       "        text-align: right;\n",
       "    }\n",
       "</style>\n",
       "<table border=\"1\" class=\"dataframe\">\n",
       "  <thead>\n",
       "    <tr style=\"text-align: right;\">\n",
       "      <th></th>\n",
       "      <th>user_id</th>\n",
       "      <th>status_id</th>\n",
       "      <th>created_at</th>\n",
       "      <th>screen_name</th>\n",
       "      <th>text</th>\n",
       "      <th>party</th>\n",
       "      <th>word_counts</th>\n",
       "      <th>user_party</th>\n",
       "    </tr>\n",
       "  </thead>\n",
       "  <tbody>\n",
       "    <tr>\n",
       "      <th>0</th>\n",
       "      <td>x22679832</td>\n",
       "      <td>x1246531096386457602</td>\n",
       "      <td>2020-04-04 20:12:27</td>\n",
       "      <td>Linora</td>\n",
       "      <td>our new leader is @ keir_starmer the architect...</td>\n",
       "      <td>0.000164</td>\n",
       "      <td>43</td>\n",
       "      <td>0.3659</td>\n",
       "    </tr>\n",
       "    <tr>\n",
       "      <th>1</th>\n",
       "      <td>x22679832</td>\n",
       "      <td>x1246530919441272832</td>\n",
       "      <td>2020-04-04 20:11:45</td>\n",
       "      <td>Linora</td>\n",
       "      <td>you are very being lied to. \\n\\nthis controver...</td>\n",
       "      <td>0.591902</td>\n",
       "      <td>39</td>\n",
       "      <td>0.3659</td>\n",
       "    </tr>\n",
       "    <tr>\n",
       "      <th>2</th>\n",
       "      <td>x22679832</td>\n",
       "      <td>x1246530162386186245</td>\n",
       "      <td>2020-04-04 20:08:44</td>\n",
       "      <td>Linora</td>\n",
       "      <td>capitalism means i get charged $125 to cancel ...</td>\n",
       "      <td>0.001949</td>\n",
       "      <td>22</td>\n",
       "      <td>0.3659</td>\n",
       "    </tr>\n",
       "    <tr>\n",
       "      <th>3</th>\n",
       "      <td>x22679832</td>\n",
       "      <td>x1246530084703526914</td>\n",
       "      <td>2020-04-04 20:08:26</td>\n",
       "      <td>Linora</td>\n",
       "      <td>now # germany, # france and # canada know what...</td>\n",
       "      <td>0.356794</td>\n",
       "      <td>28</td>\n",
       "      <td>0.3659</td>\n",
       "    </tr>\n",
       "    <tr>\n",
       "      <th>4</th>\n",
       "      <td>x22679832</td>\n",
       "      <td>x1246529890293252096</td>\n",
       "      <td>2020-04-04 20:07:39</td>\n",
       "      <td>Linora</td>\n",
       "      <td>please please does anyone have any or know any...</td>\n",
       "      <td>0.739255</td>\n",
       "      <td>52</td>\n",
       "      <td>0.3659</td>\n",
       "    </tr>\n",
       "  </tbody>\n",
       "</table>\n",
       "</div>"
      ],
      "text/plain": [
       "     user_id             status_id           created_at screen_name  \\\n",
       "0  x22679832  x1246531096386457602  2020-04-04 20:12:27      Linora   \n",
       "1  x22679832  x1246530919441272832  2020-04-04 20:11:45      Linora   \n",
       "2  x22679832  x1246530162386186245  2020-04-04 20:08:44      Linora   \n",
       "3  x22679832  x1246530084703526914  2020-04-04 20:08:26      Linora   \n",
       "4  x22679832  x1246529890293252096  2020-04-04 20:07:39      Linora   \n",
       "\n",
       "                                                text     party  word_counts  \\\n",
       "0  our new leader is @ keir_starmer the architect...  0.000164           43   \n",
       "1  you are very being lied to. \\n\\nthis controver...  0.591902           39   \n",
       "2  capitalism means i get charged $125 to cancel ...  0.001949           22   \n",
       "3  now # germany, # france and # canada know what...  0.356794           28   \n",
       "4  please please does anyone have any or know any...  0.739255           52   \n",
       "\n",
       "   user_party  \n",
       "0      0.3659  \n",
       "1      0.3659  \n",
       "2      0.3659  \n",
       "3      0.3659  \n",
       "4      0.3659  "
      ]
     },
     "execution_count": 20,
     "metadata": {},
     "output_type": "execute_result"
    }
   ],
   "source": [
    "df_tweets.head()"
   ]
  },
  {
   "cell_type": "code",
   "execution_count": 21,
   "metadata": {},
   "outputs": [],
   "source": [
    "#df_tweets.to_csv('C:/R_work/coronavirus/data/covid_users20tweets_usa_jan24-mar20_21pm-23pm_onesixth_userparty_5.csv', index = False)\n",
    "df_tweets.to_csv('C:/R_work/coronavirus/data/china_aid/china_aid_us_3-4_users_tweets_party.csv', index = False)"
   ]
  },
  {
   "cell_type": "code",
   "execution_count": 252,
   "metadata": {},
   "outputs": [],
   "source": [
    "def decode_sentiment(score, include_neutral=False):\n",
    "    if include_neutral:        \n",
    "        label = NEUTRAL\n",
    "        if score <= SENTIMENT_THRESHOLDS[0]:\n",
    "            label = 0\n",
    "        elif score >= SENTIMENT_THRESHOLDS[1]:\n",
    "            label = 1\n",
    "\n",
    "        return label\n",
    "    else:\n",
    "        return 0 if score < 0.5 else 1"
   ]
  },
  {
   "cell_type": "code",
   "execution_count": 251,
   "metadata": {},
   "outputs": [],
   "source": [
    "def predict(text, include_neutral=True):\n",
    "    start_at = time.time()\n",
    "    # Tokenize text\n",
    "    x_test = pad_sequences(tokenizer.texts_to_sequences([text]), maxlen=SEQUENCE_LENGTH)\n",
    "    # Predict\n",
    "    score = model.predict([x_test])[0]\n",
    "    # Decode sentiment\n",
    "    label = decode_sentiment(score, include_neutral=include_neutral)\n",
    "\n",
    "    return {\"label\": label, \"score\": float(score),\n",
    "       \"elapsed_time\": time.time()-start_at}  "
   ]
  },
  {
   "cell_type": "code",
   "execution_count": 216,
   "metadata": {},
   "outputs": [
    {
     "name": "stdout",
     "output_type": "stream",
     "text": [
      "I hate the rain:  {'label': 'NEGATIVE', 'score': 0.0048685078509151936, 'elapsed_time': 0.0}\n",
      "I love the music:  {'label': 'POSITIVE', 'score': 0.9940224289894104, 'elapsed_time': 0.015594005584716797}\n",
      "i don't know what i'm doing:  {'label': 'NEGATIVE', 'score': 0.04456508904695511, 'elapsed_time': 0.0}\n",
      "I can't be any happier:  {'label': 'NEGATIVE', 'score': 0.08208955824375153, 'elapsed_time': 0.015620946884155273}\n",
      "I am not unhappy:  {'label': 'NEGATIVE', 'score': 0.3581579923629761, 'elapsed_time': 0.0}\n",
      "I could be much happier:  {'label': 'POSITIVE', 'score': 0.9099314212799072, 'elapsed_time': 0.0}\n",
      "I can't sleep. That voice is repeating in my head:  {'label': 'NEGATIVE', 'score': 0.047460030764341354, 'elapsed_time': 0.015620946884155273}\n",
      "I don't know where I'm going to in my life:  {'label': 'NEGATIVE', 'score': 0.04947482794523239, 'elapsed_time': 0.0}\n",
      "I don't know her:  {'label': 'NEGATIVE', 'score': 0.12704114615917206, 'elapsed_time': 0.015621423721313477}\n"
     ]
    }
   ],
   "source": [
    "print(\"I hate the rain: \", predict(\"I hate the rain\"), end='\\n')\n",
    "print(\"I love the music: \", predict(\"I love the music\"), end='\\n')\n",
    "print(\"i don't know what i'm doing: \", predict(\"i don't know what i'm doing\"), end='\\n')\n",
    "print(\"I can't be any happier: \", predict(\"I can't be any happier\"))\n",
    "print(\"I am not unhappy: \", predict(\"I am not unhappy\"))\n",
    "print(\"I could be much happier: \", predict(\"I could be much happier\"))\n",
    "print(\"I can't sleep. That voice is repeating in my head: \", predict(\"I can't sleep. That voice is repeating in my head.\"))\n",
    "print(\"I don't know where I'm going to in my life: \", predict(\"I don't know where I'm going to in my life\"))\n",
    "print(\"I don't know her: \", predict(\"I don't know her\"))"
   ]
  },
  {
   "cell_type": "code",
   "execution_count": 57,
   "metadata": {},
   "outputs": [
    {
     "name": "stdout",
     "output_type": "stream",
     "text": [
      "[9.208918e-06]\n"
     ]
    }
   ],
   "source": [
    "print(y_pred[0])"
   ]
  },
  {
   "cell_type": "markdown",
   "metadata": {},
   "source": [
    "Confusion Matrix"
   ]
  },
  {
   "cell_type": "code",
   "execution_count": 264,
   "metadata": {},
   "outputs": [
    {
     "name": "stderr",
     "output_type": "stream",
     "text": [
      "C:\\Users\\Lingshu\\.conda\\envs\\my_env\\lib\\site-packages\\ipykernel_launcher.py:1: SettingWithCopyWarning: \n",
      "A value is trying to be set on a copy of a slice from a DataFrame.\n",
      "Try using .loc[row_indexer,col_indexer] = value instead\n",
      "\n",
      "See the caveats in the documentation: https://pandas.pydata.org/pandas-docs/stable/user_guide/indexing.html#returning-a-view-versus-a-copy\n",
      "  \"\"\"Entry point for launching an IPython kernel.\n"
     ]
    }
   ],
   "source": [
    "df_test['party'] = df_test['party'].map({'D':0, 'R':1})"
   ]
  },
  {
   "cell_type": "code",
   "execution_count": 265,
   "metadata": {},
   "outputs": [
    {
     "name": "stdout",
     "output_type": "stream",
     "text": [
      "Wall time: 453 ms\n"
     ]
    }
   ],
   "source": [
    "%%time\n",
    "#y_pred_1d = y_pred\n",
    "y_test_1d = list(df_test.party)\n",
    "y_pred_1d = [decode_sentiment(score, include_neutral=False) for score in y_pred]"
   ]
  },
  {
   "cell_type": "code",
   "execution_count": 266,
   "metadata": {},
   "outputs": [
    {
     "data": {
      "text/plain": [
       "1"
      ]
     },
     "execution_count": 266,
     "metadata": {},
     "output_type": "execute_result"
    }
   ],
   "source": [
    "y_test_1d[1]"
   ]
  },
  {
   "cell_type": "code",
   "execution_count": 250,
   "metadata": {},
   "outputs": [],
   "source": [
    "from sklearn.metrics import confusion_matrix"
   ]
  },
  {
   "cell_type": "code",
   "execution_count": 248,
   "metadata": {},
   "outputs": [],
   "source": [
    "def plot_confusion_matrix(cm, classes,\n",
    "                          title='Confusion matrix',\n",
    "                          cmap=plt.cm.Blues):\n",
    "    \"\"\"\n",
    "    This function prints and plots the confusion matrix.\n",
    "    Normalization can be applied by setting `normalize=True`.\n",
    "    \"\"\"\n",
    "\n",
    "    cm = cm.astype('float') / cm.sum(axis=1)[:, np.newaxis]\n",
    "\n",
    "    plt.imshow(cm, interpolation='nearest', cmap=cmap)\n",
    "    plt.title(title, fontsize=22)\n",
    "    plt.colorbar()\n",
    "    tick_marks = np.arange(len(classes))\n",
    "    plt.xticks(tick_marks, classes, rotation=90, fontsize=20)\n",
    "    plt.yticks(tick_marks, classes, fontsize=20)\n",
    "\n",
    "    fmt = '.2f'\n",
    "    thresh = cm.max() / 2.\n",
    "    for i, j in itertools.product(range(cm.shape[0]), range(cm.shape[1])):\n",
    "        plt.text(j, i, format(cm[i, j], fmt), fontsize=18,\n",
    "                 horizontalalignment=\"center\",\n",
    "                 color=\"white\" if cm[i, j] > thresh else \"black\")\n",
    "\n",
    "    plt.ylabel('True label', fontsize=20)\n",
    "    plt.xlabel('Predicted label', fontsize=20)"
   ]
  },
  {
   "cell_type": "code",
   "execution_count": 267,
   "metadata": {},
   "outputs": [
    {
     "data": {
      "image/png": "[encoded data removed]",
      "text/plain": [
       "<Figure size 432x432 with 2 Axes>"
      ]
     },
     "metadata": {
      "needs_background": "light"
     },
     "output_type": "display_data"
    },
    {
     "name": "stdout",
     "output_type": "stream",
     "text": [
      "Wall time: 625 ms\n"
     ]
    }
   ],
   "source": [
    "%%time\n",
    "\n",
    "cnf_matrix = confusion_matrix(y_test_1d, y_pred_1d)\n",
    "plt.figure(figsize=(6,6))\n",
    "plot_confusion_matrix(cnf_matrix, classes=df_train.party.unique(), title=\"Confusion matrix\")\n",
    "plt.show()"
   ]
  },
  {
   "cell_type": "code",
   "execution_count": 268,
   "metadata": {},
   "outputs": [
    {
     "data": {
      "text/plain": [
       "array([[174265,  24173],\n",
       "       [ 20636, 140314]], dtype=int64)"
      ]
     },
     "execution_count": 268,
     "metadata": {},
     "output_type": "execute_result"
    }
   ],
   "source": [
    "cnf_matrix"
   ]
  },
  {
   "cell_type": "code",
   "execution_count": 269,
   "metadata": {},
   "outputs": [
    {
     "data": {
      "text/plain": [
       "0.8781836140255395"
      ]
     },
     "execution_count": 269,
     "metadata": {},
     "output_type": "execute_result"
    }
   ],
   "source": [
    "174265/(174265+24173)"
   ]
  },
  {
   "cell_type": "markdown",
   "metadata": {},
   "source": [
    "Classification Report"
   ]
  },
  {
   "cell_type": "code",
   "execution_count": 33,
   "metadata": {},
   "outputs": [
    {
     "name": "stdout",
     "output_type": "stream",
     "text": [
      "              precision    recall  f1-score   support\n",
      "\n",
      "    NEGATIVE       0.79      0.80      0.80    159494\n",
      "    POSITIVE       0.80      0.79      0.80    160506\n",
      "\n",
      "   micro avg       0.80      0.80      0.80    320000\n",
      "   macro avg       0.80      0.80      0.80    320000\n",
      "weighted avg       0.80      0.80      0.80    320000\n",
      "\n"
     ]
    }
   ],
   "source": [
    "print(classification_report(y_test_1d, y_pred_1d))"
   ]
  },
  {
   "cell_type": "markdown",
   "metadata": {},
   "source": [
    "Accuracy Score"
   ]
  },
  {
   "cell_type": "code",
   "execution_count": 34,
   "metadata": {},
   "outputs": [
    {
     "data": {
      "text/plain": [
       "0.79530625"
      ]
     },
     "execution_count": 34,
     "metadata": {},
     "output_type": "execute_result"
    }
   ],
   "source": [
    "accuracy_score(y_test_1d, y_pred_1d)"
   ]
  },
  {
   "cell_type": "markdown",
   "metadata": {},
   "source": [
    "Save model"
   ]
  },
  {
   "cell_type": "code",
   "execution_count": 30,
   "metadata": {},
   "outputs": [],
   "source": [
    "model.save(\"model_glove_lstm.h5\")\n",
    "#w2v_model.save(WORD2VEC_MODEL)\n",
    "pickle.dump(tokenizer, open(TOKENIZER_MODEL, \"wb\"), protocol=0)\n",
    "pickle.dump(encoder, open(ENCODER_MODEL, \"wb\"), protocol=0)"
   ]
  },
  {
   "cell_type": "code",
   "execution_count": 8,
   "metadata": {},
   "outputs": [],
   "source": [
    "#read splitted dataset\n",
    "df_train = pd.read_csv(\"df_train.csv\", encoding =\"ISO-8859-1\")\n",
    "df_test = pd.read_csv(\"df_test.csv\", encoding =\"ISO-8859-1\")\n",
    "df_train['text'] = df_train['text'].astype(str)\n",
    "df_test['text'] = df_test['text'].astype(str)"
   ]
  },
  {
   "cell_type": "code",
   "execution_count": 9,
   "metadata": {},
   "outputs": [],
   "source": [
    "encoder = LabelEncoder()\n",
    "encoder.fit(df_train.target.tolist())\n",
    "y_test = encoder.transform(df_test.target.tolist())\n",
    "y_test = y_test.reshape(-1,1)"
   ]
  },
  {
   "cell_type": "code",
   "execution_count": 11,
   "metadata": {},
   "outputs": [
    {
     "name": "stdout",
     "output_type": "stream",
     "text": [
      "(320000, 1)\n"
     ]
    }
   ],
   "source": [
    "print(y_test.shape)"
   ]
  },
  {
   "cell_type": "code",
   "execution_count": 5,
   "metadata": {},
   "outputs": [
    {
     "name": "stdout",
     "output_type": "stream",
     "text": [
      "320000/320000 [==============================] - 5755s 18ms/step\n"
     ]
    },
    {
     "ename": "NameError",
     "evalue": "name 'roc_curve' is not defined",
     "output_type": "error",
     "traceback": [
      "\u001b[1;31m---------------------------------------------------------------------------\u001b[0m",
      "\u001b[1;31mNameError\u001b[0m                                 Traceback (most recent call last)",
      "\u001b[1;32m<ipython-input-5-13c67810f97f>\u001b[0m in \u001b[0;36m<module>\u001b[1;34m\u001b[0m\n\u001b[0;32m      7\u001b[0m \u001b[0my_pred_lstm\u001b[0m \u001b[1;33m=\u001b[0m \u001b[0mmodel_lstm\u001b[0m\u001b[1;33m.\u001b[0m\u001b[0mpredict\u001b[0m\u001b[1;33m(\u001b[0m\u001b[0mx_test_lstm\u001b[0m\u001b[1;33m,\u001b[0m \u001b[0mverbose\u001b[0m\u001b[1;33m=\u001b[0m\u001b[1;36m1\u001b[0m\u001b[1;33m,\u001b[0m \u001b[0mbatch_size\u001b[0m\u001b[1;33m=\u001b[0m\u001b[1;36m8000\u001b[0m\u001b[1;33m)\u001b[0m\u001b[1;33m\u001b[0m\u001b[1;33m\u001b[0m\u001b[0m\n\u001b[0;32m      8\u001b[0m \u001b[0my_pred_keras_lstm\u001b[0m \u001b[1;33m=\u001b[0m \u001b[0my_pred_lstm\u001b[0m\u001b[1;33m.\u001b[0m\u001b[0mravel\u001b[0m\u001b[1;33m(\u001b[0m\u001b[1;33m)\u001b[0m\u001b[1;33m\u001b[0m\u001b[1;33m\u001b[0m\u001b[0m\n\u001b[1;32m----> 9\u001b[1;33m \u001b[0mfpr_keras_lstm\u001b[0m\u001b[1;33m,\u001b[0m \u001b[0mtpr_keras_lstm\u001b[0m\u001b[1;33m,\u001b[0m \u001b[0mthresholds_keras_lstm\u001b[0m \u001b[1;33m=\u001b[0m \u001b[0mroc_curve\u001b[0m\u001b[1;33m(\u001b[0m\u001b[0my_test\u001b[0m\u001b[1;33m,\u001b[0m \u001b[0my_pred_keras_lstm\u001b[0m\u001b[1;33m)\u001b[0m\u001b[1;33m\u001b[0m\u001b[1;33m\u001b[0m\u001b[0m\n\u001b[0m\u001b[0;32m     10\u001b[0m \u001b[1;33m\u001b[0m\u001b[0m\n\u001b[0;32m     11\u001b[0m \u001b[1;33m\u001b[0m\u001b[0m\n",
      "\u001b[1;31mNameError\u001b[0m: name 'roc_curve' is not defined"
     ]
    }
   ],
   "source": [
    "from keras.models import load_model\n",
    "model_lstm = load_model(\"model_LSTM.h5\")\n",
    "\n",
    "from sklearn.metrics import roc_curve\n",
    "tokenizer = Tokenizer()\n",
    "x_test_lstm = pad_sequences(tokenizer.texts_to_sequences(df_test.text), maxlen=300)\n",
    "y_pred_lstm = model_lstm.predict(x_test_lstm, verbose=1, batch_size=8000)\n",
    "y_pred_keras_lstm = y_pred_lstm.ravel()\n",
    "fpr_keras_lstm, tpr_keras_lstm, thresholds_keras_lstm = roc_curve(y_test, y_pred_keras_lstm)\n",
    "\n",
    "\n"
   ]
  },
  {
   "cell_type": "code",
   "execution_count": 10,
   "metadata": {},
   "outputs": [],
   "source": [
    "np.save(\"fpr_lstm.npy\", fpr_keras_lstm)\n",
    "np.save(\"tpr_lstm.npy\", tpr_keras_lstm)"
   ]
  },
  {
   "cell_type": "code",
   "execution_count": 40,
   "metadata": {},
   "outputs": [
    {
     "name": "stdout",
     "output_type": "stream",
     "text": [
      "320000/320000 [==============================] - 237s 739us/step\n"
     ]
    }
   ],
   "source": [
    "from keras.models import load_model\n",
    "model_cnnrnn = load_model(\"model_cnn&rnn.h5\")\n",
    "\n",
    "from sklearn.metrics import roc_curve\n",
    "tokenizer = Tokenizer()\n",
    "tokenizer.fit_on_texts(df_train.text)\n",
    "x_test_cnnrnn = pad_sequences(tokenizer.texts_to_sequences(df_test.text), maxlen=56)\n",
    "y_pred_cnnrnn = model_cnnrnn.predict(x_test_cnnrnn, verbose=1, batch_size=8000)\n",
    "y_pred_keras_cnnrnn = y_pred_cnnrnn.ravel()\n",
    "\n",
    "\n",
    "fpr_keras, tpr_keras, thresholds_keras = roc_curve(y_test, y_pred_keras_cnnrnn)\n",
    "\n",
    "#np.save(\"fpr_sqcnn.npy\", fpr_keras_sqcnn)\n",
    "#np.save(\"tpr_sqcnn.npy\", tpr_keras_sqcnn)"
   ]
  },
  {
   "cell_type": "code",
   "execution_count": 22,
   "metadata": {},
   "outputs": [],
   "source": [
    "y_pred_keras = y_pred_cnnrnn.ravel()"
   ]
  },
  {
   "cell_type": "code",
   "execution_count": 44,
   "metadata": {
    "scrolled": true
   },
   "outputs": [
    {
     "name": "stdout",
     "output_type": "stream",
     "text": [
      "(113124,)\n"
     ]
    }
   ],
   "source": [
    "print(fpr_keras_sqcnn.shape)"
   ]
  },
  {
   "cell_type": "code",
   "execution_count": 43,
   "metadata": {},
   "outputs": [
    {
     "name": "stdout",
     "output_type": "stream",
     "text": [
      "320000/320000 [==============================] - 237s 740us/step\n"
     ]
    }
   ],
   "source": [
    "from keras.models import load_model\n",
    "model_sqcnn = load_model(\"model_sequentialCNN.h5\")\n",
    "\n",
    "from sklearn.metrics import roc_curve\n",
    "tokenizer = Tokenizer()\n",
    "tokenizer.fit_on_texts(df_train.text)\n",
    "x_test_sqcnn = pad_sequences(tokenizer.texts_to_sequences(df_test.text), maxlen=300)\n",
    "y_pred_sqcnn = model_sqcnn.predict(x_test_sqcnn, verbose=1, batch_size=8000)\n",
    "y_pred_keras_sqcnn = y_pred_sqcnn.ravel()\n",
    "\n",
    "\n",
    "fpr_keras_sqcnn, tpr_keras_sqcnn, thresholds_keras_sqcnn = roc_curve(y_test, y_pred_keras_sqcnn)\n",
    "\n",
    "np.save(\"fpr_sqcnn.npy\", fpr_keras_sqcnn)\n",
    "np.save(\"tpr_sqcnn.npy\", tpr_keras_sqcnn)"
   ]
  },
  {
   "cell_type": "code",
   "execution_count": null,
   "metadata": {},
   "outputs": [
    {
     "name": "stdout",
     "output_type": "stream",
     "text": [
      "WARNING:tensorflow:From C:\\Users\\lings\\.conda\\envs\\sentiment\\lib\\site-packages\\tensorflow\\python\\framework\\op_def_library.py:263: colocate_with (from tensorflow.python.framework.ops) is deprecated and will be removed in a future version.\n",
      "Instructions for updating:\n",
      "Colocations handled automatically by placer.\n"
     ]
    },
    {
     "name": "stderr",
     "output_type": "stream",
     "text": [
      "2019-05-14 23:00:25,408 : WARNING : From C:\\Users\\lings\\.conda\\envs\\sentiment\\lib\\site-packages\\tensorflow\\python\\framework\\op_def_library.py:263: colocate_with (from tensorflow.python.framework.ops) is deprecated and will be removed in a future version.\n",
      "Instructions for updating:\n",
      "Colocations handled automatically by placer.\n"
     ]
    },
    {
     "name": "stdout",
     "output_type": "stream",
     "text": [
      "WARNING:tensorflow:From C:\\Users\\lings\\.conda\\envs\\sentiment\\lib\\site-packages\\keras\\backend\\tensorflow_backend.py:3445: calling dropout (from tensorflow.python.ops.nn_ops) with keep_prob is deprecated and will be removed in a future version.\n",
      "Instructions for updating:\n",
      "Please use `rate` instead of `keep_prob`. Rate should be set to `rate = 1 - keep_prob`.\n"
     ]
    },
    {
     "name": "stderr",
     "output_type": "stream",
     "text": [
      "2019-05-14 23:00:26,089 : WARNING : From C:\\Users\\lings\\.conda\\envs\\sentiment\\lib\\site-packages\\keras\\backend\\tensorflow_backend.py:3445: calling dropout (from tensorflow.python.ops.nn_ops) with keep_prob is deprecated and will be removed in a future version.\n",
      "Instructions for updating:\n",
      "Please use `rate` instead of `keep_prob`. Rate should be set to `rate = 1 - keep_prob`.\n"
     ]
    },
    {
     "name": "stdout",
     "output_type": "stream",
     "text": [
      "WARNING:tensorflow:From C:\\Users\\lings\\.conda\\envs\\sentiment\\lib\\site-packages\\tensorflow\\python\\ops\\math_ops.py:3066: to_int32 (from tensorflow.python.ops.math_ops) is deprecated and will be removed in a future version.\n",
      "Instructions for updating:\n",
      "Use tf.cast instead.\n"
     ]
    },
    {
     "name": "stderr",
     "output_type": "stream",
     "text": [
      "2019-05-14 23:00:27,527 : WARNING : From C:\\Users\\lings\\.conda\\envs\\sentiment\\lib\\site-packages\\tensorflow\\python\\ops\\math_ops.py:3066: to_int32 (from tensorflow.python.ops.math_ops) is deprecated and will be removed in a future version.\n",
      "Instructions for updating:\n",
      "Use tf.cast instead.\n"
     ]
    }
   ],
   "source": [
    "from keras.models import load_model\n",
    "model_textcnn = load_model(\"model_textcnn2.h5\")\n",
    "\n",
    "from sklearn.metrics import roc_curve\n",
    "tokenizer = Tokenizer()\n",
    "x_test_textcnn = pad_sequences(tokenizer.texts_to_sequences(df_test.text), maxlen=300)\n",
    "y_pred_textcnn = model_textcnn.predict(x_test_textcnn, verbose=1, batch_size=8000)\n",
    "y_pred_keras_textcnn = y_pred_textcnn.ravel()\n",
    "\n",
    "\n",
    "fpr_keras_textcnn, tpr_keras_textcnn, thresholds_keras_textcnn = roc_curve(y_test, y_pred_keras_textcnn)\n",
    "\n",
    "np.save(\"fpr_textcnn.npy\", fpr_keras_textcnn)\n",
    "np.save(\"tpr_textcnn.npy\", tpr_keras_textcnn)"
   ]
  },
  {
   "cell_type": "code",
   "execution_count": 49,
   "metadata": {},
   "outputs": [],
   "source": [
    "fpr_keras_cnnrnn = np.load(\"./fprtpr/fpr_cnnrnn.npy\")\n",
    "tpr_keras_cnnrnn = np.load(\"./fprtpr/tpr_cnnrnn.npy\")\n",
    "\n",
    "fpr_keras_lstm = np.load(\"./fprtpr/fpr_lstm.npy\")\n",
    "tpr_keras_lstm = np.load(\"./fprtpr/tpr_lstm.npy\")"
   ]
  },
  {
   "cell_type": "code",
   "execution_count": 51,
   "metadata": {
    "scrolled": true
   },
   "outputs": [
    {
     "data": {
      "image/png": "[encoded data removed]",
      "text/plain": [
       "<Figure size 432x288 with 1 Axes>"
      ]
     },
     "metadata": {
      "needs_background": "light"
     },
     "output_type": "display_data"
    }
   ],
   "source": [
    "from sklearn.metrics import roc_curve\n",
    "from sklearn.metrics import auc\n",
    "auc_keras_sqcnn = auc(fpr_keras_sqcnn, tpr_keras_sqcnn)\n",
    "auc_keras_cnnrnn = auc(fpr_keras_cnnrnn, tpr_keras_cnnrnn)\n",
    "auc_keras_lstm = auc(fpr_keras_lstm, tpr_keras_lstm)\n",
    "plt.figure(1)\n",
    "plt.plot([0, 1], [0, 1], 'k--')\n",
    "plt.plot(fpr_keras_sqcnn, tpr_keras_sqcnn, label='sqcnn_Keras (area = {:.3f})'.format(auc_keras_sqcnn))\n",
    "plt.plot(fpr_keras_cnnrnn, tpr_keras_cnnrnn, label='cnnrnn_Keras (area = {:.3f})'.format(auc_keras_cnnrnn))\n",
    "plt.plot(fpr_keras_lstm, tpr_keras_lstm, label='lstm_Keras (area = {:.3f})'.format(auc_keras_lstm))\n",
    "#plt.plot(fpr_rf, tpr_rf, label='RF (area = {:.3f})'.format(auc_rf))\n",
    "plt.xlabel('False positive rate')\n",
    "plt.ylabel('True positive rate')\n",
    "plt.title('ROC curve')\n",
    "plt.legend(loc='best')\n",
    "plt.show()"
   ]
  },
  {
   "cell_type": "code",
   "execution_count": null,
   "metadata": {},
   "outputs": [],
   "source": []
  }
 ],
 "metadata": {
  "kernelspec": {
   "display_name": "Python 3",
   "language": "python",
   "name": "python3"
  },
  "language_info": {
   "codemirror_mode": {
    "name": "ipython",
    "version": 3
   },
   "file_extension": ".py",
   "mimetype": "text/x-python",
   "name": "python",
   "nbconvert_exporter": "python",
   "pygments_lexer": "ipython3",
   "version": "3.7.5"
  }
 },
 "nbformat": 4,
 "nbformat_minor": 2
}
