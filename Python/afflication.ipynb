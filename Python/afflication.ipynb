{
 "cells": [
  {
   "cell_type": "code",
   "execution_count": 1,
   "metadata": {},
   "outputs": [
    {
     "name": "stderr",
     "output_type": "stream",
     "text": [
      "Using TensorFlow backend.\n"
     ]
    }
   ],
   "source": [
    "# DataFrame\n",
    "import pandas as pd\n",
    "\n",
    "# Matplot\n",
    "import matplotlib.pyplot as plt\n",
    "%matplotlib inline\n",
    "\n",
    "# Scikit-learn\n",
    "from sklearn.model_selection import train_test_split\n",
    "from sklearn.preprocessing import LabelEncoder\n",
    "from sklearn.metrics import confusion_matrix, classification_report, accuracy_score\n",
    "from sklearn.manifold import TSNE\n",
    "from sklearn.feature_extraction.text import TfidfVectorizer\n",
    "\n",
    "# Keras\n",
    "from keras.preprocessing.text import Tokenizer\n",
    "from keras.preprocessing.sequence import pad_sequences\n",
    "from keras.models import Sequential, Model\n",
    "from keras.layers import Activation, Dense, Dropout, Embedding, Flatten, Convolution1D, MaxPooling1D, LSTM\n",
    "from keras.layers import Input, Conv1D, MaxPool1D, Bidirectional, GRU\n",
    "from keras.layers.merge import concatenate\n",
    "from keras import utils\n",
    "from keras.callbacks import ReduceLROnPlateau, EarlyStopping\n",
    "\n",
    "# nltk\n",
    "import nltk\n",
    "from nltk.corpus import stopwords\n",
    "from  nltk.stem import SnowballStemmer\n",
    "\n",
    "# Word2vec\n",
    "import gensim\n",
    "\n",
    "# Utility\n",
    "import re\n",
    "import numpy as np\n",
    "import os\n",
    "from collections import Counter\n",
    "import logging\n",
    "import time\n",
    "import pickle\n",
    "import itertools\n",
    "\n",
    "# Set log\n",
    "logging.basicConfig(format='%(asctime)s : %(levelname)s : %(message)s', level=logging.INFO)"
   ]
  },
  {
   "cell_type": "code",
   "execution_count": 2,
   "metadata": {},
   "outputs": [],
   "source": [
    "# DATASET\n",
    "#DATASET_COLUMNS = [\"target\", \"ids\", \"date\", \"flag\", \"user\", \"text\"]\n",
    "DATASET_ENCODING = \"ISO-8859-1\"\n",
    "TRAIN_SIZE = 0.8\n",
    "\n",
    "# TEXT CLENAING\n",
    "TEXT_CLEANING_RE = \"https?:\\S+|http?:\\S\"\n",
    "\n",
    "# WORD2VEC \n",
    "W2V_SIZE = 200\n",
    "W2V_WINDOW = 7\n",
    "W2V_EPOCH = 32\n",
    "W2V_MIN_COUNT = 5\n",
    "\n",
    "# KERAS\n",
    "SEQUENCE_LENGTH = 50\n",
    "EPOCHS = 32\n",
    "BATCH_SIZE = 256\n",
    "\n",
    "# SENTIMENT\n",
    "POSITIVE = \"POSITIVE\"\n",
    "NEGATIVE = \"NEGATIVE\"\n",
    "NEUTRAL = \"NEUTRAL\"\n",
    "SENTIMENT_THRESHOLDS = (0.4, 0.7)\n",
    "\n",
    "# EXPORT\n",
    "KERAS_MODEL = \"model.h5\"\n",
    "WORD2VEC_MODEL = \"model.w2v\"\n",
    "TOKENIZER_MODEL = \"tokenizer.pkl\"\n",
    "ENCODER_MODEL = \"encoder.pkl\""
   ]
  },
  {
   "cell_type": "code",
   "execution_count": 3,
   "metadata": {},
   "outputs": [
    {
     "name": "stdout",
     "output_type": "stream",
     "text": [
      "Open file: ./data/cong_politician_tweets.csv\n"
     ]
    },
    {
     "name": "stderr",
     "output_type": "stream",
     "text": [
      "/home/lingshu/anaconda3/envs/my_env/lib/python3.7/site-packages/IPython/core/interactiveshell.py:3051: DtypeWarning: Columns (17,62,63,64,65,66,67,96) have mixed types. Specify dtype option on import or set low_memory=False.\n",
      "  interactivity=interactivity, compiler=compiler, result=result)\n"
     ]
    },
    {
     "name": "stdout",
     "output_type": "stream",
     "text": [
      "       user_id             status_id           created_at screen_name  \\\n",
      "0  x1262017122  x1235708269060075523  2020-03-05 23:26:24   Abby4Iowa   \n",
      "1  x1262017122  x1235648562320609280  2020-03-05 19:29:09   Abby4Iowa   \n",
      "2  x1262017122  x1235630185359323136  2020-03-05 18:16:07   Abby4Iowa   \n",
      "3  x1262017122  x1235598400097116161  2020-03-05 16:09:49   Abby4Iowa   \n",
      "4  x1262017122  x1235597648272470023  2020-03-05 16:06:50   Abby4Iowa   \n",
      "\n",
      "                                                text              source  \\\n",
      "0  Iâve lived with Stage 4 endometriosis for ye...  Twitter for iPhone   \n",
      "1  \"To be a woman, talking about what disadvantag...  Twitter for iPhone   \n",
      "2  <U+2764><U+FE0F> Heâs my best friend and weâ...  Twitter for iPhone   \n",
      "3  1 in 10 women suffer from endometriosis.\\r\\n\\r...  Twitter for iPhone   \n",
      "4  Good morning to @Abby4Iowa who's inspiring me ...  Twitter for iPhone   \n",
      "\n",
      "   display_text_width reply_to_status_id reply_to_user_id  \\\n",
      "0                 139                NaN              NaN   \n",
      "1                 140                NaN              NaN   \n",
      "2                 154                NaN              NaN   \n",
      "3                 140                NaN              NaN   \n",
      "4                 139                NaN              NaN   \n",
      "\n",
      "  reply_to_screen_name  ...  \\\n",
      "0                  NaN  ...   \n",
      "1                  NaN  ...   \n",
      "2                  NaN  ...   \n",
      "3                  NaN  ...   \n",
      "4                  NaN  ...   \n",
      "\n",
      "                                  profile_banner_url  \\\n",
      "0  https://pbs.twimg.com/profile_banners/12620171...   \n",
      "1  https://pbs.twimg.com/profile_banners/12620171...   \n",
      "2  https://pbs.twimg.com/profile_banners/12620171...   \n",
      "3  https://pbs.twimg.com/profile_banners/12620171...   \n",
      "4  https://pbs.twimg.com/profile_banners/12620171...   \n",
      "\n",
      "                             profile_background_url  \\\n",
      "0  http://abs.twimg.com/images/themes/theme1/bg.png   \n",
      "1  http://abs.twimg.com/images/themes/theme1/bg.png   \n",
      "2  http://abs.twimg.com/images/themes/theme1/bg.png   \n",
      "3  http://abs.twimg.com/images/themes/theme1/bg.png   \n",
      "4  http://abs.twimg.com/images/themes/theme1/bg.png   \n",
      "\n",
      "                                   profile_image_url  Ã¯..bioguide  \\\n",
      "0  http://pbs.twimg.com/profile_images/8504171267...       F000467   \n",
      "1  http://pbs.twimg.com/profile_images/8504171267...       F000467   \n",
      "2  http://pbs.twimg.com/profile_images/8504171267...       F000467   \n",
      "3  http://pbs.twimg.com/profile_images/8504171267...       F000467   \n",
      "4  http://pbs.twimg.com/profile_images/8504171267...       F000467   \n",
      "\n",
      "         full_name  chamber party state state_full district  \n",
      "0  Abby Finkenauer    House     D    IA       Iowa      1st  \n",
      "1  Abby Finkenauer    House     D    IA       Iowa      1st  \n",
      "2  Abby Finkenauer    House     D    IA       Iowa      1st  \n",
      "3  Abby Finkenauer    House     D    IA       Iowa      1st  \n",
      "4  Abby Finkenauer    House     D    IA       Iowa      1st  \n",
      "\n",
      "[5 rows x 97 columns]\n"
     ]
    }
   ],
   "source": [
    "# read dataset\n",
    "dataset_filename = os.listdir(\"./data\")[0]\n",
    "dataset_path = os.path.join(\".\",\"data\",\"cong_politician_tweets.csv\")\n",
    "print(\"Open file:\", dataset_path)\n",
    "df = pd.read_csv(dataset_path, encoding =DATASET_ENCODING)\n",
    "print(df.head(5))"
   ]
  },
  {
   "cell_type": "code",
   "execution_count": 5,
   "metadata": {},
   "outputs": [],
   "source": [
    "df = df.sample(30000, random_state=123)\n",
    "df.to_csv(\"./data/cong_politician_tweets30000.csv\")"
   ]
  },
  {
   "cell_type": "code",
   "execution_count": 8,
   "metadata": {},
   "outputs": [],
   "source": [
    "df = df.sample(200000, random_state=123)\n",
    "df.to_csv(\"./data/cong_politician_tweets200000.csv\")"
   ]
  },
  {
   "cell_type": "code",
   "execution_count": 3,
   "metadata": {},
   "outputs": [
    {
     "name": "stderr",
     "output_type": "stream",
     "text": [
      "/home/lingshu/anaconda3/envs/my_env/lib/python3.7/site-packages/IPython/core/interactiveshell.py:3051: DtypeWarning: Columns (0,7,11,12,14,15,16,18,77,78,79,80,81,84,87) have mixed types. Specify dtype option on import or set low_memory=False.\n",
      "  interactivity=interactivity, compiler=compiler, result=result)\n"
     ]
    }
   ],
   "source": [
    "df = pd.read_csv(\"./data/cong_politician_tweets200000.csv\", encoding = \"ISO-8859-1\")"
   ]
  },
  {
   "cell_type": "code",
   "execution_count": 3,
   "metadata": {},
   "outputs": [
    {
     "name": "stderr",
     "output_type": "stream",
     "text": [
      "/home/lingshu/anaconda3/envs/my_env/lib/python3.7/site-packages/IPython/core/interactiveshell.py:3051: DtypeWarning: Columns (0,2,3,4,5,6,7,8,9,10,11,12,13,14,15,16,17,18,19,20,21,22,23,24,28,30,31,32,33,34,35,36,37,39,40,41,42,43,44,45,46,47,48,49,50,51,54,55,56,60,61,62,63,64,65,66,67,68,69,70,71,72,73,74,75,76,77,78,79,80,81,83,84,85,86,87,88,89,90,91,92,93,94,95,96,97) have mixed types. Specify dtype option on import or set low_memory=False.\n",
      "  interactivity=interactivity, compiler=compiler, result=result)\n"
     ]
    }
   ],
   "source": [
    "df = pd.read_csv(\"./data/cong_politician_tweets500000.csv\", encoding = \"ISO-8859-1\")"
   ]
  },
  {
   "cell_type": "code",
   "execution_count": 4,
   "metadata": {},
   "outputs": [],
   "source": [
    "df['party'] = df['party'].map({'D':0, 'R':1})"
   ]
  },
  {
   "cell_type": "code",
   "execution_count": 6,
   "metadata": {},
   "outputs": [
    {
     "name": "stdout",
     "output_type": "stream",
     "text": [
      "Republican\n",
      "Democratic\n",
      "1\n"
     ]
    }
   ],
   "source": [
    "decode_map = {0: \"Democratic\", 3: \"NEUTRAL\", 1: \"Republican\"}\n",
    "def decode_sentiment(label):\n",
    "    return decode_map[int(label)]\n",
    "print(decode_sentiment(1))\n",
    "print(decode_map[0])\n",
    "print(int(1))"
   ]
  },
  {
   "cell_type": "code",
   "execution_count": 7,
   "metadata": {},
   "outputs": [
    {
     "ename": "ValueError",
     "evalue": "cannot convert float NaN to integer",
     "output_type": "error",
     "traceback": [
      "\u001b[0;31m---------------------------------------------------------------------------\u001b[0m",
      "\u001b[0;31mValueError\u001b[0m                                Traceback (most recent call last)",
      "\u001b[0;32m<timed exec>\u001b[0m in \u001b[0;36m<module>\u001b[0;34m\u001b[0m\n",
      "\u001b[0;32m~/anaconda3/envs/my_env/lib/python3.7/site-packages/pandas/core/series.py\u001b[0m in \u001b[0;36mapply\u001b[0;34m(self, func, convert_dtype, args, **kwds)\u001b[0m\n\u001b[1;32m   4043\u001b[0m             \u001b[0;32melse\u001b[0m\u001b[0;34m:\u001b[0m\u001b[0;34m\u001b[0m\u001b[0;34m\u001b[0m\u001b[0m\n\u001b[1;32m   4044\u001b[0m                 \u001b[0mvalues\u001b[0m \u001b[0;34m=\u001b[0m \u001b[0mself\u001b[0m\u001b[0;34m.\u001b[0m\u001b[0mastype\u001b[0m\u001b[0;34m(\u001b[0m\u001b[0mobject\u001b[0m\u001b[0;34m)\u001b[0m\u001b[0;34m.\u001b[0m\u001b[0mvalues\u001b[0m\u001b[0;34m\u001b[0m\u001b[0;34m\u001b[0m\u001b[0m\n\u001b[0;32m-> 4045\u001b[0;31m                 \u001b[0mmapped\u001b[0m \u001b[0;34m=\u001b[0m \u001b[0mlib\u001b[0m\u001b[0;34m.\u001b[0m\u001b[0mmap_infer\u001b[0m\u001b[0;34m(\u001b[0m\u001b[0mvalues\u001b[0m\u001b[0;34m,\u001b[0m \u001b[0mf\u001b[0m\u001b[0;34m,\u001b[0m \u001b[0mconvert\u001b[0m\u001b[0;34m=\u001b[0m\u001b[0mconvert_dtype\u001b[0m\u001b[0;34m)\u001b[0m\u001b[0;34m\u001b[0m\u001b[0;34m\u001b[0m\u001b[0m\n\u001b[0m\u001b[1;32m   4046\u001b[0m \u001b[0;34m\u001b[0m\u001b[0m\n\u001b[1;32m   4047\u001b[0m         \u001b[0;32mif\u001b[0m \u001b[0mlen\u001b[0m\u001b[0;34m(\u001b[0m\u001b[0mmapped\u001b[0m\u001b[0;34m)\u001b[0m \u001b[0;32mand\u001b[0m \u001b[0misinstance\u001b[0m\u001b[0;34m(\u001b[0m\u001b[0mmapped\u001b[0m\u001b[0;34m[\u001b[0m\u001b[0;36m0\u001b[0m\u001b[0;34m]\u001b[0m\u001b[0;34m,\u001b[0m \u001b[0mSeries\u001b[0m\u001b[0;34m)\u001b[0m\u001b[0;34m:\u001b[0m\u001b[0;34m\u001b[0m\u001b[0;34m\u001b[0m\u001b[0m\n",
      "\u001b[0;32mpandas/_libs/lib.pyx\u001b[0m in \u001b[0;36mpandas._libs.lib.map_infer\u001b[0;34m()\u001b[0m\n",
      "\u001b[0;32m<timed exec>\u001b[0m in \u001b[0;36m<lambda>\u001b[0;34m(x)\u001b[0m\n",
      "\u001b[0;32m<ipython-input-6-181b27139d02>\u001b[0m in \u001b[0;36mdecode_sentiment\u001b[0;34m(label)\u001b[0m\n\u001b[1;32m      1\u001b[0m \u001b[0mdecode_map\u001b[0m \u001b[0;34m=\u001b[0m \u001b[0;34m{\u001b[0m\u001b[0;36m0\u001b[0m\u001b[0;34m:\u001b[0m \u001b[0;34m\"Democratic\"\u001b[0m\u001b[0;34m,\u001b[0m \u001b[0;36m3\u001b[0m\u001b[0;34m:\u001b[0m \u001b[0;34m\"NEUTRAL\"\u001b[0m\u001b[0;34m,\u001b[0m \u001b[0;36m1\u001b[0m\u001b[0;34m:\u001b[0m \u001b[0;34m\"Republican\"\u001b[0m\u001b[0;34m}\u001b[0m\u001b[0;34m\u001b[0m\u001b[0;34m\u001b[0m\u001b[0m\n\u001b[1;32m      2\u001b[0m \u001b[0;32mdef\u001b[0m \u001b[0mdecode_sentiment\u001b[0m\u001b[0;34m(\u001b[0m\u001b[0mlabel\u001b[0m\u001b[0;34m)\u001b[0m\u001b[0;34m:\u001b[0m\u001b[0;34m\u001b[0m\u001b[0;34m\u001b[0m\u001b[0m\n\u001b[0;32m----> 3\u001b[0;31m     \u001b[0;32mreturn\u001b[0m \u001b[0mdecode_map\u001b[0m\u001b[0;34m[\u001b[0m\u001b[0mint\u001b[0m\u001b[0;34m(\u001b[0m\u001b[0mlabel\u001b[0m\u001b[0;34m)\u001b[0m\u001b[0;34m]\u001b[0m\u001b[0;34m\u001b[0m\u001b[0;34m\u001b[0m\u001b[0m\n\u001b[0m\u001b[1;32m      4\u001b[0m \u001b[0mprint\u001b[0m\u001b[0;34m(\u001b[0m\u001b[0mdecode_sentiment\u001b[0m\u001b[0;34m(\u001b[0m\u001b[0;36m1\u001b[0m\u001b[0;34m)\u001b[0m\u001b[0;34m)\u001b[0m\u001b[0;34m\u001b[0m\u001b[0;34m\u001b[0m\u001b[0m\n\u001b[1;32m      5\u001b[0m \u001b[0mprint\u001b[0m\u001b[0;34m(\u001b[0m\u001b[0mdecode_map\u001b[0m\u001b[0;34m[\u001b[0m\u001b[0;36m0\u001b[0m\u001b[0;34m]\u001b[0m\u001b[0;34m)\u001b[0m\u001b[0;34m\u001b[0m\u001b[0;34m\u001b[0m\u001b[0m\n",
      "\u001b[0;31mValueError\u001b[0m: cannot convert float NaN to integer"
     ]
    }
   ],
   "source": [
    "%%time\n",
    "df.party = df.party.apply(lambda x: decode_sentiment(x))"
   ]
  },
  {
   "cell_type": "code",
   "execution_count": 5,
   "metadata": {},
   "outputs": [
    {
     "data": {
      "text/plain": [
       "Text(0.5, 1.0, 'Dataset labels distribuition')"
      ]
     },
     "execution_count": 5,
     "metadata": {},
     "output_type": "execute_result"
    },
    {
     "data": {
      "image/png": "[encoded data removed]",
      "text/plain": [
       "<Figure size 216x288 with 1 Axes>"
      ]
     },
     "metadata": {
      "needs_background": "light"
     },
     "output_type": "display_data"
    }
   ],
   "source": [
    "target_cnt = Counter(df.party)\n",
    "\n",
    "plt.figure(figsize=(3,4))\n",
    "plt.bar(target_cnt.keys(), target_cnt.values())\n",
    "plt.title(\"Dataset labels distribuition\")"
   ]
  },
  {
   "cell_type": "markdown",
   "metadata": {},
   "source": [
    "Pre-Process dataset"
   ]
  },
  {
   "cell_type": "code",
   "execution_count": 6,
   "metadata": {},
   "outputs": [],
   "source": [
    "## do not remove stop words\n",
    "def preprocess(text, stem=False):\n",
    "    # Remove link\n",
    "    text = re.sub(TEXT_CLEANING_RE, ' ', str(text)).strip()\n",
    "    # remove @\n",
    "    text = re.sub(\"@|#\", ' ', text)\n",
    "    return(text)"
   ]
  },
  {
   "cell_type": "code",
   "execution_count": 7,
   "metadata": {},
   "outputs": [
    {
     "name": "stdout",
     "output_type": "stream",
     "text": [
      "CPU times: user 5.97 s, sys: 103 ms, total: 6.07 s\n",
      "Wall time: 6.08 s\n"
     ]
    }
   ],
   "source": [
    "%%time\n",
    "df.text = df.text.apply(lambda x: preprocess(x))"
   ]
  },
  {
   "cell_type": "code",
   "execution_count": 8,
   "metadata": {},
   "outputs": [
    {
     "data": {
      "text/plain": [
       "0          Iâve lived with Stage 4 endometriosis for ye...\n",
       "1          \"To be a woman, talking about what disadvantag...\n",
       "2          <U+2764><U+FE0F> Heâs my best friend and weâ...\n",
       "3          1 in 10 women suffer from endometriosis.\\r\\n\\r...\n",
       "4          Good morning to  Abby4Iowa who's inspiring me ...\n",
       "                                 ...                        \n",
       "1799848    MT  vkritzer: I'm proud to have helped elect  ...\n",
       "1799849    To help in the fight to end the  NSA's mass su...\n",
       "1799850    Here's Becca in the stadium waiting for the ra...\n",
       "1799851    Happy 21st anniversary to the  FMLA! By helpin...\n",
       "1799852    Marshawn Lynch is sitting on the hood of the f...\n",
       "Name: text, Length: 1799853, dtype: object"
      ]
     },
     "execution_count": 8,
     "metadata": {},
     "output_type": "execute_result"
    }
   ],
   "source": [
    "df.text"
   ]
  },
  {
   "cell_type": "code",
   "execution_count": 37,
   "metadata": {},
   "outputs": [
    {
     "data": {
      "text/html": [
       "<div>\n",
       "<style scoped>\n",
       "    .dataframe tbody tr th:only-of-type {\n",
       "        vertical-align: middle;\n",
       "    }\n",
       "\n",
       "    .dataframe tbody tr th {\n",
       "        vertical-align: top;\n",
       "    }\n",
       "\n",
       "    .dataframe thead th {\n",
       "        text-align: right;\n",
       "    }\n",
       "</style>\n",
       "<table border=\"1\" class=\"dataframe\">\n",
       "  <thead>\n",
       "    <tr style=\"text-align: right;\">\n",
       "      <th></th>\n",
       "      <th>Unnamed: 0</th>\n",
       "      <th>user_id</th>\n",
       "      <th>status_id</th>\n",
       "      <th>created_at</th>\n",
       "      <th>screen_name</th>\n",
       "      <th>text</th>\n",
       "      <th>source</th>\n",
       "      <th>display_text_width</th>\n",
       "      <th>reply_to_status_id</th>\n",
       "      <th>reply_to_user_id</th>\n",
       "      <th>...</th>\n",
       "      <th>profile_banner_url</th>\n",
       "      <th>profile_background_url</th>\n",
       "      <th>profile_image_url</th>\n",
       "      <th>ÃÂ¯..bioguide</th>\n",
       "      <th>full_name</th>\n",
       "      <th>chamber</th>\n",
       "      <th>party</th>\n",
       "      <th>state</th>\n",
       "      <th>state_full</th>\n",
       "      <th>district</th>\n",
       "    </tr>\n",
       "  </thead>\n",
       "  <tbody>\n",
       "    <tr>\n",
       "      <th>0</th>\n",
       "      <td>1215640</td>\n",
       "      <td>x303633791</td>\n",
       "      <td>x927908226993131525</td>\n",
       "      <td>2017-11-07 14:38:55</td>\n",
       "      <td>Nanette4CA</td>\n",
       "      <td>Millennials/youth: Did you know the @GOP tax p...</td>\n",
       "      <td>Twitter for iPhone</td>\n",
       "      <td>139</td>\n",
       "      <td>NaN</td>\n",
       "      <td>NaN</td>\n",
       "      <td>...</td>\n",
       "      <td>https://pbs.twimg.com/profile_banners/30363379...</td>\n",
       "      <td>http://abs.twimg.com/images/themes/theme4/bg.gif</td>\n",
       "      <td>http://pbs.twimg.com/profile_images/1038887786...</td>\n",
       "      <td>B001300</td>\n",
       "      <td>Nanette BarragÃÂÃÂ¡n</td>\n",
       "      <td>House</td>\n",
       "      <td>0.0</td>\n",
       "      <td>CA</td>\n",
       "      <td>California</td>\n",
       "      <td>44th</td>\n",
       "    </tr>\n",
       "    <tr>\n",
       "      <th>1</th>\n",
       "      <td>1542909</td>\n",
       "      <td>x389840566</td>\n",
       "      <td>x1086050203755520002</td>\n",
       "      <td>2019-01-17 23:58:41</td>\n",
       "      <td>RepHorsford</td>\n",
       "      <td>I ran for Congress to fight to lower prescript...</td>\n",
       "      <td>Twitter Web Client</td>\n",
       "      <td>221</td>\n",
       "      <td>NaN</td>\n",
       "      <td>NaN</td>\n",
       "      <td>...</td>\n",
       "      <td>https://pbs.twimg.com/profile_banners/38984056...</td>\n",
       "      <td>http://abs.twimg.com/images/themes/theme1/bg.png</td>\n",
       "      <td>http://pbs.twimg.com/profile_images/1228726807...</td>\n",
       "      <td>H001066</td>\n",
       "      <td>Steven Horsford</td>\n",
       "      <td>House</td>\n",
       "      <td>0.0</td>\n",
       "      <td>NV</td>\n",
       "      <td>Nevada</td>\n",
       "      <td>4th</td>\n",
       "    </tr>\n",
       "    <tr>\n",
       "      <th>2</th>\n",
       "      <td>249665</td>\n",
       "      <td>x47747074</td>\n",
       "      <td>x1161447053399998464</td>\n",
       "      <td>2019-08-14 01:18:50</td>\n",
       "      <td>brianschatz</td>\n",
       "      <td>@saraphudson He lost</td>\n",
       "      <td>Twitter for iPhone</td>\n",
       "      <td>7</td>\n",
       "      <td>x1161446553669779458</td>\n",
       "      <td>x247841565</td>\n",
       "      <td>...</td>\n",
       "      <td>https://pbs.twimg.com/profile_banners/47747074...</td>\n",
       "      <td>http://abs.twimg.com/images/themes/theme5/bg.gif</td>\n",
       "      <td>http://pbs.twimg.com/profile_images/8401792854...</td>\n",
       "      <td>S001194</td>\n",
       "      <td>Brian Schatz</td>\n",
       "      <td>Senate</td>\n",
       "      <td>0.0</td>\n",
       "      <td>HI</td>\n",
       "      <td>Hawaii</td>\n",
       "      <td>NaN</td>\n",
       "    </tr>\n",
       "    <tr>\n",
       "      <th>3</th>\n",
       "      <td>1720160</td>\n",
       "      <td>x4424118432</td>\n",
       "      <td>x693567671472930817</td>\n",
       "      <td>2016-01-30 22:53:13</td>\n",
       "      <td>Vicentecongress</td>\n",
       "      <td>I posted 3 photos on Facebook in the album \"20...</td>\n",
       "      <td>Facebook</td>\n",
       "      <td>93</td>\n",
       "      <td>NaN</td>\n",
       "      <td>NaN</td>\n",
       "      <td>...</td>\n",
       "      <td>https://pbs.twimg.com/profile_banners/44241184...</td>\n",
       "      <td>http://abs.twimg.com/images/themes/theme1/bg.png</td>\n",
       "      <td>http://pbs.twimg.com/profile_images/6717986931...</td>\n",
       "      <td>G000581</td>\n",
       "      <td>Vicente Gonzalez</td>\n",
       "      <td>House</td>\n",
       "      <td>0.0</td>\n",
       "      <td>TX</td>\n",
       "      <td>Texas</td>\n",
       "      <td>15th</td>\n",
       "    </tr>\n",
       "    <tr>\n",
       "      <th>4</th>\n",
       "      <td>1514867</td>\n",
       "      <td>x310310133</td>\n",
       "      <td>x1111724805680709638</td>\n",
       "      <td>2019-03-29 20:20:23</td>\n",
       "      <td>RepStephenLynch</td>\n",
       "      <td>Over 2.7 million men and women served during t...</td>\n",
       "      <td>Twitter Web Client</td>\n",
       "      <td>146</td>\n",
       "      <td>NaN</td>\n",
       "      <td>NaN</td>\n",
       "      <td>...</td>\n",
       "      <td>https://pbs.twimg.com/profile_banners/31031013...</td>\n",
       "      <td>http://abs.twimg.com/images/themes/theme1/bg.png</td>\n",
       "      <td>http://pbs.twimg.com/profile_images/5231215301...</td>\n",
       "      <td>L000562</td>\n",
       "      <td>Stephen F. Lynch</td>\n",
       "      <td>House</td>\n",
       "      <td>0.0</td>\n",
       "      <td>MA</td>\n",
       "      <td>Massachusetts</td>\n",
       "      <td>8th</td>\n",
       "    </tr>\n",
       "  </tbody>\n",
       "</table>\n",
       "<p>5 rows × 98 columns</p>\n",
       "</div>"
      ],
      "text/plain": [
       "  Unnamed: 0      user_id             status_id           created_at  \\\n",
       "0    1215640   x303633791   x927908226993131525  2017-11-07 14:38:55   \n",
       "1    1542909   x389840566  x1086050203755520002  2019-01-17 23:58:41   \n",
       "2     249665    x47747074  x1161447053399998464  2019-08-14 01:18:50   \n",
       "3    1720160  x4424118432   x693567671472930817  2016-01-30 22:53:13   \n",
       "4    1514867   x310310133  x1111724805680709638  2019-03-29 20:20:23   \n",
       "\n",
       "       screen_name                                               text  \\\n",
       "0       Nanette4CA  Millennials/youth: Did you know the @GOP tax p...   \n",
       "1      RepHorsford  I ran for Congress to fight to lower prescript...   \n",
       "2      brianschatz                               @saraphudson He lost   \n",
       "3  Vicentecongress  I posted 3 photos on Facebook in the album \"20...   \n",
       "4  RepStephenLynch  Over 2.7 million men and women served during t...   \n",
       "\n",
       "               source display_text_width    reply_to_status_id  \\\n",
       "0  Twitter for iPhone                139                   NaN   \n",
       "1  Twitter Web Client                221                   NaN   \n",
       "2  Twitter for iPhone                  7  x1161446553669779458   \n",
       "3            Facebook                 93                   NaN   \n",
       "4  Twitter Web Client                146                   NaN   \n",
       "\n",
       "  reply_to_user_id  ...                                 profile_banner_url  \\\n",
       "0              NaN  ...  https://pbs.twimg.com/profile_banners/30363379...   \n",
       "1              NaN  ...  https://pbs.twimg.com/profile_banners/38984056...   \n",
       "2       x247841565  ...  https://pbs.twimg.com/profile_banners/47747074...   \n",
       "3              NaN  ...  https://pbs.twimg.com/profile_banners/44241184...   \n",
       "4              NaN  ...  https://pbs.twimg.com/profile_banners/31031013...   \n",
       "\n",
       "                             profile_background_url  \\\n",
       "0  http://abs.twimg.com/images/themes/theme4/bg.gif   \n",
       "1  http://abs.twimg.com/images/themes/theme1/bg.png   \n",
       "2  http://abs.twimg.com/images/themes/theme5/bg.gif   \n",
       "3  http://abs.twimg.com/images/themes/theme1/bg.png   \n",
       "4  http://abs.twimg.com/images/themes/theme1/bg.png   \n",
       "\n",
       "                                   profile_image_url ÃÂ¯..bioguide  \\\n",
       "0  http://pbs.twimg.com/profile_images/1038887786...        B001300   \n",
       "1  http://pbs.twimg.com/profile_images/1228726807...        H001066   \n",
       "2  http://pbs.twimg.com/profile_images/8401792854...        S001194   \n",
       "3  http://pbs.twimg.com/profile_images/6717986931...        G000581   \n",
       "4  http://pbs.twimg.com/profile_images/5231215301...        L000562   \n",
       "\n",
       "                 full_name chamber party state     state_full district  \n",
       "0  Nanette BarragÃÂÃÂ¡n   House   0.0    CA     California     44th  \n",
       "1          Steven Horsford   House   0.0    NV         Nevada      4th  \n",
       "2             Brian Schatz  Senate   0.0    HI         Hawaii      NaN  \n",
       "3         Vicente Gonzalez   House   0.0    TX          Texas     15th  \n",
       "4         Stephen F. Lynch   House   0.0    MA  Massachusetts      8th  \n",
       "\n",
       "[5 rows x 98 columns]"
      ]
     },
     "execution_count": 37,
     "metadata": {},
     "output_type": "execute_result"
    }
   ],
   "source": [
    "df.head()"
   ]
  },
  {
   "cell_type": "code",
   "execution_count": 9,
   "metadata": {},
   "outputs": [],
   "source": [
    "df = df[df.party.notna()]"
   ]
  },
  {
   "cell_type": "markdown",
   "metadata": {},
   "source": [
    "Split train and test"
   ]
  },
  {
   "cell_type": "code",
   "execution_count": 10,
   "metadata": {},
   "outputs": [
    {
     "name": "stdout",
     "output_type": "stream",
     "text": [
      "TRAIN size: 1439882\n",
      "TEST size: 359971\n"
     ]
    }
   ],
   "source": [
    "df_train, df_test = train_test_split(df, test_size=1-TRAIN_SIZE, random_state=42)\n",
    "print(\"TRAIN size:\", len(df_train))\n",
    "print(\"TEST size:\", len(df_test))"
   ]
  },
  {
   "cell_type": "markdown",
   "metadata": {},
   "source": [
    "Word2Vec"
   ]
  },
  {
   "cell_type": "code",
   "execution_count": 57,
   "metadata": {},
   "outputs": [],
   "source": [
    "#w2v_model = gensim.models.Word2Vec.load(\"model.w2v\")"
   ]
  },
  {
   "cell_type": "code",
   "execution_count": 58,
   "metadata": {},
   "outputs": [
    {
     "name": "stdout",
     "output_type": "stream",
     "text": [
      "['Proud', 'to', 'announce', 'the', 'endorsement', 'of', 'my', 'dear', 'friend', 'RubenGallego', 'LD24', 'Ruben', 'and', 'I', 'have', 'been', 'working', 'in', 'the', 'trenches', 'together', 'for', 'almost', 'a', 'decade.']\n",
      "CPU times: user 775 ms, sys: 35.8 ms, total: 811 ms\n",
      "Wall time: 828 ms\n"
     ]
    }
   ],
   "source": [
    "%%time\n",
    "documents = [_text.split() for _text in df_train.text] ## what's the purpose here?\n",
    "print(documents[0])"
   ]
  },
  {
   "cell_type": "code",
   "execution_count": 59,
   "metadata": {},
   "outputs": [],
   "source": [
    "w2v_model = gensim.models.word2vec.Word2Vec(size=W2V_SIZE, \n",
    "                                            window=W2V_WINDOW, \n",
    "                                            min_count=W2V_MIN_COUNT, \n",
    "                                            workers=8)"
   ]
  },
  {
   "cell_type": "code",
   "execution_count": 60,
   "metadata": {
    "scrolled": true
   },
   "outputs": [
    {
     "name": "stderr",
     "output_type": "stream",
     "text": [
      "2020-03-15 19:45:14,088 : INFO : collecting all words and their counts\n",
      "2020-03-15 19:45:14,091 : INFO : PROGRESS: at sentence #0, processed 0 words, keeping 0 word types\n",
      "2020-03-15 19:45:14,134 : INFO : PROGRESS: at sentence #10000, processed 236803 words, keeping 39362 word types\n",
      "2020-03-15 19:45:14,177 : INFO : PROGRESS: at sentence #20000, processed 473291 words, keeping 61553 word types\n",
      "2020-03-15 19:45:14,219 : INFO : PROGRESS: at sentence #30000, processed 712791 words, keeping 80089 word types\n",
      "2020-03-15 19:45:14,260 : INFO : PROGRESS: at sentence #40000, processed 951145 words, keeping 96024 word types\n",
      "2020-03-15 19:45:14,304 : INFO : PROGRESS: at sentence #50000, processed 1188451 words, keeping 110694 word types\n",
      "2020-03-15 19:45:14,344 : INFO : PROGRESS: at sentence #60000, processed 1425045 words, keeping 124405 word types\n",
      "2020-03-15 19:45:14,388 : INFO : PROGRESS: at sentence #70000, processed 1665706 words, keeping 137219 word types\n",
      "2020-03-15 19:45:14,436 : INFO : PROGRESS: at sentence #80000, processed 1901140 words, keeping 149479 word types\n",
      "2020-03-15 19:45:14,481 : INFO : PROGRESS: at sentence #90000, processed 2139019 words, keeping 161019 word types\n",
      "2020-03-15 19:45:14,526 : INFO : PROGRESS: at sentence #100000, processed 2377010 words, keeping 172026 word types\n",
      "2020-03-15 19:45:14,574 : INFO : PROGRESS: at sentence #110000, processed 2614431 words, keeping 182734 word types\n",
      "2020-03-15 19:45:14,620 : INFO : PROGRESS: at sentence #120000, processed 2851268 words, keeping 193017 word types\n",
      "2020-03-15 19:45:14,667 : INFO : PROGRESS: at sentence #130000, processed 3087217 words, keeping 203029 word types\n",
      "2020-03-15 19:45:14,713 : INFO : PROGRESS: at sentence #140000, processed 3325782 words, keeping 212612 word types\n",
      "2020-03-15 19:45:14,759 : INFO : PROGRESS: at sentence #150000, processed 3563659 words, keeping 222029 word types\n",
      "2020-03-15 19:45:14,808 : INFO : collected 231475 word types from a corpus of 3799769 raw words and 159997 sentences\n",
      "2020-03-15 19:45:14,809 : INFO : Loading a fresh vocabulary\n",
      "2020-03-15 19:45:14,910 : INFO : effective_min_count=5 retains 38188 unique words (16% of original 231475, drops 193287)\n",
      "2020-03-15 19:45:14,911 : INFO : effective_min_count=5 leaves 3529967 word corpus (92% of original 3799769, drops 269802)\n",
      "2020-03-15 19:45:14,996 : INFO : deleting the raw counts dictionary of 231475 items\n",
      "2020-03-15 19:45:14,999 : INFO : sample=0.001 downsamples 36 most-common words\n",
      "2020-03-15 19:45:15,000 : INFO : downsampling leaves estimated 2870316 word corpus (81.3% of prior 3529967)\n",
      "2020-03-15 19:45:15,080 : INFO : estimated required memory for 38188 words and 200 dimensions: 80194800 bytes\n",
      "2020-03-15 19:45:15,081 : INFO : resetting layer weights\n"
     ]
    }
   ],
   "source": [
    "w2v_model.build_vocab(documents)"
   ]
  },
  {
   "cell_type": "code",
   "execution_count": 61,
   "metadata": {},
   "outputs": [
    {
     "name": "stdout",
     "output_type": "stream",
     "text": [
      "Vocab size 38188\n"
     ]
    }
   ],
   "source": [
    "words_w = w2v_model.wv.vocab.keys()\n",
    "#print(len(w2v_model.wv[\"u\"]))\n",
    "#print(list(w2v_model.wv.vocab.items())[0:5])\n",
    "vocab_size = len(words_w)\n",
    "print(\"Vocab size\", vocab_size)"
   ]
  },
  {
   "cell_type": "code",
   "execution_count": 62,
   "metadata": {},
   "outputs": [
    {
     "name": "stderr",
     "output_type": "stream",
     "text": [
      "2020-03-15 19:45:28,952 : INFO : training model with 8 workers on 38188 vocabulary and 200 features, using sg=0 hs=0 sample=0.001 negative=5 window=7\n",
      "2020-03-15 19:45:29,961 : INFO : EPOCH 1 - PROGRESS: at 37.84% examples, 1085164 words/s, in_qsize 16, out_qsize 1\n",
      "2020-03-15 19:45:30,973 : INFO : EPOCH 1 - PROGRESS: at 80.96% examples, 1154113 words/s, in_qsize 15, out_qsize 0\n",
      "2020-03-15 19:45:31,362 : INFO : worker thread finished; awaiting finish of 7 more threads\n",
      "2020-03-15 19:45:31,363 : INFO : worker thread finished; awaiting finish of 6 more threads\n",
      "2020-03-15 19:45:31,379 : INFO : worker thread finished; awaiting finish of 5 more threads\n",
      "2020-03-15 19:45:31,380 : INFO : worker thread finished; awaiting finish of 4 more threads\n",
      "2020-03-15 19:45:31,383 : INFO : worker thread finished; awaiting finish of 3 more threads\n",
      "2020-03-15 19:45:31,389 : INFO : worker thread finished; awaiting finish of 2 more threads\n",
      "2020-03-15 19:45:31,394 : INFO : worker thread finished; awaiting finish of 1 more threads\n",
      "2020-03-15 19:45:31,399 : INFO : worker thread finished; awaiting finish of 0 more threads\n",
      "2020-03-15 19:45:31,400 : INFO : EPOCH - 1 : training on 3799769 raw words (2870472 effective words) took 2.4s, 1176407 effective words/s\n",
      "2020-03-15 19:45:32,415 : INFO : EPOCH 2 - PROGRESS: at 44.05% examples, 1260455 words/s, in_qsize 15, out_qsize 0\n",
      "2020-03-15 19:45:33,418 : INFO : EPOCH 2 - PROGRESS: at 83.57% examples, 1194417 words/s, in_qsize 15, out_qsize 0\n",
      "2020-03-15 19:45:33,777 : INFO : worker thread finished; awaiting finish of 7 more threads\n",
      "2020-03-15 19:45:33,784 : INFO : worker thread finished; awaiting finish of 6 more threads\n",
      "2020-03-15 19:45:33,793 : INFO : worker thread finished; awaiting finish of 5 more threads\n",
      "2020-03-15 19:45:33,803 : INFO : worker thread finished; awaiting finish of 4 more threads\n",
      "2020-03-15 19:45:33,803 : INFO : worker thread finished; awaiting finish of 3 more threads\n",
      "2020-03-15 19:45:33,816 : INFO : worker thread finished; awaiting finish of 2 more threads\n",
      "2020-03-15 19:45:33,817 : INFO : worker thread finished; awaiting finish of 1 more threads\n",
      "2020-03-15 19:45:33,818 : INFO : worker thread finished; awaiting finish of 0 more threads\n",
      "2020-03-15 19:45:33,818 : INFO : EPOCH - 2 : training on 3799769 raw words (2870331 effective words) took 2.4s, 1191932 effective words/s\n",
      "2020-03-15 19:45:34,830 : INFO : EPOCH 3 - PROGRESS: at 43.81% examples, 1253861 words/s, in_qsize 15, out_qsize 0\n",
      "2020-03-15 19:45:35,836 : INFO : EPOCH 3 - PROGRESS: at 85.12% examples, 1215691 words/s, in_qsize 13, out_qsize 2\n",
      "2020-03-15 19:45:36,145 : INFO : worker thread finished; awaiting finish of 7 more threads\n",
      "2020-03-15 19:45:36,146 : INFO : worker thread finished; awaiting finish of 6 more threads\n",
      "2020-03-15 19:45:36,149 : INFO : worker thread finished; awaiting finish of 5 more threads\n",
      "2020-03-15 19:45:36,151 : INFO : worker thread finished; awaiting finish of 4 more threads\n",
      "2020-03-15 19:45:36,157 : INFO : worker thread finished; awaiting finish of 3 more threads\n",
      "2020-03-15 19:45:36,166 : INFO : worker thread finished; awaiting finish of 2 more threads\n",
      "2020-03-15 19:45:36,169 : INFO : worker thread finished; awaiting finish of 1 more threads\n",
      "2020-03-15 19:45:36,170 : INFO : worker thread finished; awaiting finish of 0 more threads\n",
      "2020-03-15 19:45:36,170 : INFO : EPOCH - 3 : training on 3799769 raw words (2870177 effective words) took 2.3s, 1224005 effective words/s\n",
      "2020-03-15 19:45:37,186 : INFO : EPOCH 4 - PROGRESS: at 43.80% examples, 1249980 words/s, in_qsize 15, out_qsize 0\n",
      "2020-03-15 19:45:38,193 : INFO : EPOCH 4 - PROGRESS: at 88.82% examples, 1266137 words/s, in_qsize 15, out_qsize 0\n",
      "2020-03-15 19:45:38,395 : INFO : worker thread finished; awaiting finish of 7 more threads\n",
      "2020-03-15 19:45:38,409 : INFO : worker thread finished; awaiting finish of 6 more threads\n",
      "2020-03-15 19:45:38,410 : INFO : worker thread finished; awaiting finish of 5 more threads\n",
      "2020-03-15 19:45:38,422 : INFO : worker thread finished; awaiting finish of 4 more threads\n",
      "2020-03-15 19:45:38,423 : INFO : worker thread finished; awaiting finish of 3 more threads\n",
      "2020-03-15 19:45:38,424 : INFO : worker thread finished; awaiting finish of 2 more threads\n",
      "2020-03-15 19:45:38,424 : INFO : worker thread finished; awaiting finish of 1 more threads\n",
      "2020-03-15 19:45:38,426 : INFO : worker thread finished; awaiting finish of 0 more threads\n",
      "2020-03-15 19:45:38,426 : INFO : EPOCH - 4 : training on 3799769 raw words (2870685 effective words) took 2.2s, 1277224 effective words/s\n",
      "2020-03-15 19:45:39,435 : INFO : EPOCH 5 - PROGRESS: at 43.56% examples, 1249481 words/s, in_qsize 16, out_qsize 0\n",
      "2020-03-15 19:45:40,443 : INFO : EPOCH 5 - PROGRESS: at 86.96% examples, 1242721 words/s, in_qsize 15, out_qsize 0\n",
      "2020-03-15 19:45:40,674 : INFO : worker thread finished; awaiting finish of 7 more threads\n",
      "2020-03-15 19:45:40,683 : INFO : worker thread finished; awaiting finish of 6 more threads\n",
      "2020-03-15 19:45:40,695 : INFO : worker thread finished; awaiting finish of 5 more threads\n",
      "2020-03-15 19:45:40,705 : INFO : worker thread finished; awaiting finish of 4 more threads\n",
      "2020-03-15 19:45:40,707 : INFO : worker thread finished; awaiting finish of 3 more threads\n",
      "2020-03-15 19:45:40,709 : INFO : worker thread finished; awaiting finish of 2 more threads\n",
      "2020-03-15 19:45:40,717 : INFO : worker thread finished; awaiting finish of 1 more threads\n",
      "2020-03-15 19:45:40,724 : INFO : worker thread finished; awaiting finish of 0 more threads\n",
      "2020-03-15 19:45:40,725 : INFO : EPOCH - 5 : training on 3799769 raw words (2870371 effective words) took 2.3s, 1252565 effective words/s\n",
      "2020-03-15 19:45:41,737 : INFO : EPOCH 6 - PROGRESS: at 44.05% examples, 1265543 words/s, in_qsize 15, out_qsize 0\n",
      "2020-03-15 19:45:42,743 : INFO : EPOCH 6 - PROGRESS: at 88.28% examples, 1262740 words/s, in_qsize 16, out_qsize 0\n",
      "2020-03-15 19:45:42,964 : INFO : worker thread finished; awaiting finish of 7 more threads\n",
      "2020-03-15 19:45:42,970 : INFO : worker thread finished; awaiting finish of 6 more threads\n",
      "2020-03-15 19:45:42,971 : INFO : worker thread finished; awaiting finish of 5 more threads\n",
      "2020-03-15 19:45:42,982 : INFO : worker thread finished; awaiting finish of 4 more threads\n",
      "2020-03-15 19:45:42,993 : INFO : worker thread finished; awaiting finish of 3 more threads\n",
      "2020-03-15 19:45:43,000 : INFO : worker thread finished; awaiting finish of 2 more threads\n",
      "2020-03-15 19:45:43,009 : INFO : worker thread finished; awaiting finish of 1 more threads\n",
      "2020-03-15 19:45:43,009 : INFO : worker thread finished; awaiting finish of 0 more threads\n",
      "2020-03-15 19:45:43,010 : INFO : EPOCH - 6 : training on 3799769 raw words (2870981 effective words) took 2.3s, 1262415 effective words/s\n",
      "2020-03-15 19:45:44,018 : INFO : EPOCH 7 - PROGRESS: at 43.80% examples, 1258724 words/s, in_qsize 15, out_qsize 0\n",
      "2020-03-15 19:45:45,018 : INFO : EPOCH 7 - PROGRESS: at 88.28% examples, 1266729 words/s, in_qsize 15, out_qsize 0\n",
      "2020-03-15 19:45:45,251 : INFO : worker thread finished; awaiting finish of 7 more threads\n",
      "2020-03-15 19:45:45,266 : INFO : worker thread finished; awaiting finish of 6 more threads\n",
      "2020-03-15 19:45:45,278 : INFO : worker thread finished; awaiting finish of 5 more threads\n",
      "2020-03-15 19:45:45,279 : INFO : worker thread finished; awaiting finish of 4 more threads\n",
      "2020-03-15 19:45:45,280 : INFO : worker thread finished; awaiting finish of 3 more threads\n",
      "2020-03-15 19:45:45,280 : INFO : worker thread finished; awaiting finish of 2 more threads\n",
      "2020-03-15 19:45:45,281 : INFO : worker thread finished; awaiting finish of 1 more threads\n",
      "2020-03-15 19:45:45,294 : INFO : worker thread finished; awaiting finish of 0 more threads\n",
      "2020-03-15 19:45:45,295 : INFO : EPOCH - 7 : training on 3799769 raw words (2870266 effective words) took 2.3s, 1260306 effective words/s\n",
      "2020-03-15 19:45:46,302 : INFO : EPOCH 8 - PROGRESS: at 43.55% examples, 1251751 words/s, in_qsize 16, out_qsize 0\n",
      "2020-03-15 19:45:47,307 : INFO : EPOCH 8 - PROGRESS: at 88.01% examples, 1260211 words/s, in_qsize 16, out_qsize 0\n",
      "2020-03-15 19:45:47,536 : INFO : worker thread finished; awaiting finish of 7 more threads\n",
      "2020-03-15 19:45:47,559 : INFO : worker thread finished; awaiting finish of 6 more threads\n"
     ]
    },
    {
     "name": "stderr",
     "output_type": "stream",
     "text": [
      "2020-03-15 19:45:47,562 : INFO : worker thread finished; awaiting finish of 5 more threads\n",
      "2020-03-15 19:45:47,564 : INFO : worker thread finished; awaiting finish of 4 more threads\n",
      "2020-03-15 19:45:47,566 : INFO : worker thread finished; awaiting finish of 3 more threads\n",
      "2020-03-15 19:45:47,568 : INFO : worker thread finished; awaiting finish of 2 more threads\n",
      "2020-03-15 19:45:47,569 : INFO : worker thread finished; awaiting finish of 1 more threads\n",
      "2020-03-15 19:45:47,572 : INFO : worker thread finished; awaiting finish of 0 more threads\n",
      "2020-03-15 19:45:47,573 : INFO : EPOCH - 8 : training on 3799769 raw words (2869952 effective words) took 2.3s, 1263764 effective words/s\n",
      "2020-03-15 19:45:48,581 : INFO : EPOCH 9 - PROGRESS: at 44.85% examples, 1287929 words/s, in_qsize 16, out_qsize 0\n",
      "2020-03-15 19:45:49,582 : INFO : EPOCH 9 - PROGRESS: at 89.86% examples, 1288545 words/s, in_qsize 15, out_qsize 0\n",
      "2020-03-15 19:45:49,762 : INFO : worker thread finished; awaiting finish of 7 more threads\n",
      "2020-03-15 19:45:49,767 : INFO : worker thread finished; awaiting finish of 6 more threads\n",
      "2020-03-15 19:45:49,785 : INFO : worker thread finished; awaiting finish of 5 more threads\n",
      "2020-03-15 19:45:49,788 : INFO : worker thread finished; awaiting finish of 4 more threads\n",
      "2020-03-15 19:45:49,795 : INFO : worker thread finished; awaiting finish of 3 more threads\n",
      "2020-03-15 19:45:49,800 : INFO : worker thread finished; awaiting finish of 2 more threads\n",
      "2020-03-15 19:45:49,800 : INFO : worker thread finished; awaiting finish of 1 more threads\n",
      "2020-03-15 19:45:49,806 : INFO : worker thread finished; awaiting finish of 0 more threads\n",
      "2020-03-15 19:45:49,807 : INFO : EPOCH - 9 : training on 3799769 raw words (2870367 effective words) took 2.2s, 1288553 effective words/s\n",
      "2020-03-15 19:45:50,827 : INFO : EPOCH 10 - PROGRESS: at 43.55% examples, 1235711 words/s, in_qsize 15, out_qsize 0\n",
      "2020-03-15 19:45:51,846 : INFO : EPOCH 10 - PROGRESS: at 87.76% examples, 1239979 words/s, in_qsize 14, out_qsize 5\n",
      "2020-03-15 19:45:52,056 : INFO : worker thread finished; awaiting finish of 7 more threads\n",
      "2020-03-15 19:45:52,063 : INFO : worker thread finished; awaiting finish of 6 more threads\n",
      "2020-03-15 19:45:52,064 : INFO : worker thread finished; awaiting finish of 5 more threads\n",
      "2020-03-15 19:45:52,072 : INFO : worker thread finished; awaiting finish of 4 more threads\n",
      "2020-03-15 19:45:52,081 : INFO : worker thread finished; awaiting finish of 3 more threads\n",
      "2020-03-15 19:45:52,087 : INFO : worker thread finished; awaiting finish of 2 more threads\n",
      "2020-03-15 19:45:52,096 : INFO : worker thread finished; awaiting finish of 1 more threads\n",
      "2020-03-15 19:45:52,097 : INFO : worker thread finished; awaiting finish of 0 more threads\n",
      "2020-03-15 19:45:52,097 : INFO : EPOCH - 10 : training on 3799769 raw words (2870750 effective words) took 2.3s, 1257049 effective words/s\n",
      "2020-03-15 19:45:53,109 : INFO : EPOCH 11 - PROGRESS: at 42.75% examples, 1221715 words/s, in_qsize 15, out_qsize 0\n",
      "2020-03-15 19:45:54,110 : INFO : EPOCH 11 - PROGRESS: at 88.04% examples, 1259540 words/s, in_qsize 15, out_qsize 0\n",
      "2020-03-15 19:45:54,333 : INFO : worker thread finished; awaiting finish of 7 more threads\n",
      "2020-03-15 19:45:54,334 : INFO : worker thread finished; awaiting finish of 6 more threads\n",
      "2020-03-15 19:45:54,352 : INFO : worker thread finished; awaiting finish of 5 more threads\n",
      "2020-03-15 19:45:54,355 : INFO : worker thread finished; awaiting finish of 4 more threads\n",
      "2020-03-15 19:45:54,356 : INFO : worker thread finished; awaiting finish of 3 more threads\n",
      "2020-03-15 19:45:54,366 : INFO : worker thread finished; awaiting finish of 2 more threads\n",
      "2020-03-15 19:45:54,370 : INFO : worker thread finished; awaiting finish of 1 more threads\n",
      "2020-03-15 19:45:54,380 : INFO : worker thread finished; awaiting finish of 0 more threads\n",
      "2020-03-15 19:45:54,380 : INFO : EPOCH - 11 : training on 3799769 raw words (2870451 effective words) took 2.3s, 1260737 effective words/s\n",
      "2020-03-15 19:45:55,387 : INFO : EPOCH 12 - PROGRESS: at 43.54% examples, 1251088 words/s, in_qsize 16, out_qsize 0\n",
      "2020-03-15 19:45:56,393 : INFO : EPOCH 12 - PROGRESS: at 88.55% examples, 1266760 words/s, in_qsize 16, out_qsize 1\n",
      "2020-03-15 19:45:56,619 : INFO : worker thread finished; awaiting finish of 7 more threads\n",
      "2020-03-15 19:45:56,619 : INFO : worker thread finished; awaiting finish of 6 more threads\n",
      "2020-03-15 19:45:56,621 : INFO : worker thread finished; awaiting finish of 5 more threads\n",
      "2020-03-15 19:45:56,633 : INFO : worker thread finished; awaiting finish of 4 more threads\n",
      "2020-03-15 19:45:56,636 : INFO : worker thread finished; awaiting finish of 3 more threads\n",
      "2020-03-15 19:45:56,637 : INFO : worker thread finished; awaiting finish of 2 more threads\n",
      "2020-03-15 19:45:56,638 : INFO : worker thread finished; awaiting finish of 1 more threads\n",
      "2020-03-15 19:45:56,650 : INFO : worker thread finished; awaiting finish of 0 more threads\n",
      "2020-03-15 19:45:56,650 : INFO : EPOCH - 12 : training on 3799769 raw words (2870115 effective words) took 2.3s, 1268085 effective words/s\n",
      "2020-03-15 19:45:57,668 : INFO : EPOCH 13 - PROGRESS: at 44.58% examples, 1267567 words/s, in_qsize 14, out_qsize 1\n",
      "2020-03-15 19:45:58,678 : INFO : EPOCH 13 - PROGRESS: at 89.86% examples, 1275813 words/s, in_qsize 14, out_qsize 1\n",
      "2020-03-15 19:45:58,870 : INFO : worker thread finished; awaiting finish of 7 more threads\n",
      "2020-03-15 19:45:58,871 : INFO : worker thread finished; awaiting finish of 6 more threads\n",
      "2020-03-15 19:45:58,873 : INFO : worker thread finished; awaiting finish of 5 more threads\n",
      "2020-03-15 19:45:58,875 : INFO : worker thread finished; awaiting finish of 4 more threads\n",
      "2020-03-15 19:45:58,890 : INFO : worker thread finished; awaiting finish of 3 more threads\n",
      "2020-03-15 19:45:58,892 : INFO : worker thread finished; awaiting finish of 2 more threads\n",
      "2020-03-15 19:45:58,893 : INFO : worker thread finished; awaiting finish of 1 more threads\n",
      "2020-03-15 19:45:58,896 : INFO : worker thread finished; awaiting finish of 0 more threads\n",
      "2020-03-15 19:45:58,896 : INFO : EPOCH - 13 : training on 3799769 raw words (2868879 effective words) took 2.2s, 1281015 effective words/s\n",
      "2020-03-15 19:45:59,906 : INFO : EPOCH 14 - PROGRESS: at 43.80% examples, 1256751 words/s, in_qsize 16, out_qsize 1\n",
      "2020-03-15 19:46:00,909 : INFO : EPOCH 14 - PROGRESS: at 88.30% examples, 1263787 words/s, in_qsize 15, out_qsize 0\n",
      "2020-03-15 19:46:01,126 : INFO : worker thread finished; awaiting finish of 7 more threads\n",
      "2020-03-15 19:46:01,127 : INFO : worker thread finished; awaiting finish of 6 more threads\n",
      "2020-03-15 19:46:01,144 : INFO : worker thread finished; awaiting finish of 5 more threads\n",
      "2020-03-15 19:46:01,152 : INFO : worker thread finished; awaiting finish of 4 more threads\n",
      "2020-03-15 19:46:01,155 : INFO : worker thread finished; awaiting finish of 3 more threads\n",
      "2020-03-15 19:46:01,155 : INFO : worker thread finished; awaiting finish of 2 more threads\n",
      "2020-03-15 19:46:01,156 : INFO : worker thread finished; awaiting finish of 1 more threads\n",
      "2020-03-15 19:46:01,163 : INFO : worker thread finished; awaiting finish of 0 more threads\n",
      "2020-03-15 19:46:01,163 : INFO : EPOCH - 14 : training on 3799769 raw words (2869906 effective words) took 2.3s, 1269826 effective words/s\n",
      "2020-03-15 19:46:02,172 : INFO : EPOCH 15 - PROGRESS: at 42.23% examples, 1210185 words/s, in_qsize 15, out_qsize 0\n",
      "2020-03-15 19:46:03,181 : INFO : EPOCH 15 - PROGRESS: at 87.49% examples, 1248558 words/s, in_qsize 15, out_qsize 0\n",
      "2020-03-15 19:46:03,432 : INFO : worker thread finished; awaiting finish of 7 more threads\n",
      "2020-03-15 19:46:03,440 : INFO : worker thread finished; awaiting finish of 6 more threads\n",
      "2020-03-15 19:46:03,441 : INFO : worker thread finished; awaiting finish of 5 more threads\n",
      "2020-03-15 19:46:03,441 : INFO : worker thread finished; awaiting finish of 4 more threads\n",
      "2020-03-15 19:46:03,442 : INFO : worker thread finished; awaiting finish of 3 more threads\n",
      "2020-03-15 19:46:03,444 : INFO : worker thread finished; awaiting finish of 2 more threads\n",
      "2020-03-15 19:46:03,457 : INFO : worker thread finished; awaiting finish of 1 more threads\n",
      "2020-03-15 19:46:03,460 : INFO : worker thread finished; awaiting finish of 0 more threads\n"
     ]
    },
    {
     "name": "stderr",
     "output_type": "stream",
     "text": [
      "2020-03-15 19:46:03,460 : INFO : EPOCH - 15 : training on 3799769 raw words (2869504 effective words) took 2.3s, 1252304 effective words/s\n",
      "2020-03-15 19:46:04,468 : INFO : EPOCH 16 - PROGRESS: at 43.27% examples, 1242870 words/s, in_qsize 15, out_qsize 0\n",
      "2020-03-15 19:46:05,490 : INFO : EPOCH 16 - PROGRESS: at 89.34% examples, 1268236 words/s, in_qsize 16, out_qsize 1\n",
      "2020-03-15 19:46:05,677 : INFO : worker thread finished; awaiting finish of 7 more threads\n",
      "2020-03-15 19:46:05,683 : INFO : worker thread finished; awaiting finish of 6 more threads\n",
      "2020-03-15 19:46:05,696 : INFO : worker thread finished; awaiting finish of 5 more threads\n",
      "2020-03-15 19:46:05,702 : INFO : worker thread finished; awaiting finish of 4 more threads\n",
      "2020-03-15 19:46:05,708 : INFO : worker thread finished; awaiting finish of 3 more threads\n",
      "2020-03-15 19:46:05,714 : INFO : worker thread finished; awaiting finish of 2 more threads\n",
      "2020-03-15 19:46:05,717 : INFO : worker thread finished; awaiting finish of 1 more threads\n",
      "2020-03-15 19:46:05,724 : INFO : worker thread finished; awaiting finish of 0 more threads\n",
      "2020-03-15 19:46:05,724 : INFO : EPOCH - 16 : training on 3799769 raw words (2870682 effective words) took 2.3s, 1271582 effective words/s\n",
      "2020-03-15 19:46:06,737 : INFO : EPOCH 17 - PROGRESS: at 44.57% examples, 1275841 words/s, in_qsize 15, out_qsize 0\n",
      "2020-03-15 19:46:07,746 : INFO : EPOCH 17 - PROGRESS: at 90.12% examples, 1284380 words/s, in_qsize 15, out_qsize 0\n",
      "2020-03-15 19:46:07,922 : INFO : worker thread finished; awaiting finish of 7 more threads\n",
      "2020-03-15 19:46:07,931 : INFO : worker thread finished; awaiting finish of 6 more threads\n",
      "2020-03-15 19:46:07,941 : INFO : worker thread finished; awaiting finish of 5 more threads\n",
      "2020-03-15 19:46:07,944 : INFO : worker thread finished; awaiting finish of 4 more threads\n",
      "2020-03-15 19:46:07,952 : INFO : worker thread finished; awaiting finish of 3 more threads\n",
      "2020-03-15 19:46:07,954 : INFO : worker thread finished; awaiting finish of 2 more threads\n",
      "2020-03-15 19:46:07,957 : INFO : worker thread finished; awaiting finish of 1 more threads\n",
      "2020-03-15 19:46:07,958 : INFO : worker thread finished; awaiting finish of 0 more threads\n",
      "2020-03-15 19:46:07,958 : INFO : EPOCH - 17 : training on 3799769 raw words (2870492 effective words) took 2.2s, 1289058 effective words/s\n",
      "2020-03-15 19:46:08,978 : INFO : EPOCH 18 - PROGRESS: at 44.86% examples, 1273384 words/s, in_qsize 15, out_qsize 0\n",
      "2020-03-15 19:46:09,981 : INFO : EPOCH 18 - PROGRESS: at 89.89% examples, 1280117 words/s, in_qsize 15, out_qsize 0\n",
      "2020-03-15 19:46:10,147 : INFO : worker thread finished; awaiting finish of 7 more threads\n",
      "2020-03-15 19:46:10,170 : INFO : worker thread finished; awaiting finish of 6 more threads\n",
      "2020-03-15 19:46:10,181 : INFO : worker thread finished; awaiting finish of 5 more threads\n",
      "2020-03-15 19:46:10,182 : INFO : worker thread finished; awaiting finish of 4 more threads\n",
      "2020-03-15 19:46:10,185 : INFO : worker thread finished; awaiting finish of 3 more threads\n",
      "2020-03-15 19:46:10,188 : INFO : worker thread finished; awaiting finish of 2 more threads\n",
      "2020-03-15 19:46:10,192 : INFO : worker thread finished; awaiting finish of 1 more threads\n",
      "2020-03-15 19:46:10,195 : INFO : worker thread finished; awaiting finish of 0 more threads\n",
      "2020-03-15 19:46:10,196 : INFO : EPOCH - 18 : training on 3799769 raw words (2870328 effective words) took 2.2s, 1286835 effective words/s\n",
      "2020-03-15 19:46:11,202 : INFO : EPOCH 19 - PROGRESS: at 44.59% examples, 1281778 words/s, in_qsize 16, out_qsize 0\n",
      "2020-03-15 19:46:12,205 : INFO : EPOCH 19 - PROGRESS: at 89.86% examples, 1288209 words/s, in_qsize 15, out_qsize 0\n",
      "2020-03-15 19:46:12,392 : INFO : worker thread finished; awaiting finish of 7 more threads\n",
      "2020-03-15 19:46:12,397 : INFO : worker thread finished; awaiting finish of 6 more threads\n",
      "2020-03-15 19:46:12,408 : INFO : worker thread finished; awaiting finish of 5 more threads\n",
      "2020-03-15 19:46:12,414 : INFO : worker thread finished; awaiting finish of 4 more threads\n",
      "2020-03-15 19:46:12,418 : INFO : worker thread finished; awaiting finish of 3 more threads\n",
      "2020-03-15 19:46:12,427 : INFO : worker thread finished; awaiting finish of 2 more threads\n",
      "2020-03-15 19:46:12,428 : INFO : worker thread finished; awaiting finish of 1 more threads\n",
      "2020-03-15 19:46:12,428 : INFO : worker thread finished; awaiting finish of 0 more threads\n",
      "2020-03-15 19:46:12,429 : INFO : EPOCH - 19 : training on 3799769 raw words (2870204 effective words) took 2.2s, 1289087 effective words/s\n",
      "2020-03-15 19:46:13,436 : INFO : EPOCH 20 - PROGRESS: at 42.75% examples, 1229234 words/s, in_qsize 10, out_qsize 5\n",
      "2020-03-15 19:46:14,440 : INFO : EPOCH 20 - PROGRESS: at 88.28% examples, 1264321 words/s, in_qsize 16, out_qsize 0\n",
      "2020-03-15 19:46:14,664 : INFO : worker thread finished; awaiting finish of 7 more threads\n",
      "2020-03-15 19:46:14,669 : INFO : worker thread finished; awaiting finish of 6 more threads\n",
      "2020-03-15 19:46:14,684 : INFO : worker thread finished; awaiting finish of 5 more threads\n",
      "2020-03-15 19:46:14,691 : INFO : worker thread finished; awaiting finish of 4 more threads\n",
      "2020-03-15 19:46:14,696 : INFO : worker thread finished; awaiting finish of 3 more threads\n",
      "2020-03-15 19:46:14,700 : INFO : worker thread finished; awaiting finish of 2 more threads\n",
      "2020-03-15 19:46:14,705 : INFO : worker thread finished; awaiting finish of 1 more threads\n",
      "2020-03-15 19:46:14,706 : INFO : worker thread finished; awaiting finish of 0 more threads\n",
      "2020-03-15 19:46:14,706 : INFO : EPOCH - 20 : training on 3799769 raw words (2870129 effective words) took 2.3s, 1263934 effective words/s\n",
      "2020-03-15 19:46:15,721 : INFO : EPOCH 21 - PROGRESS: at 44.59% examples, 1276811 words/s, in_qsize 15, out_qsize 0\n",
      "2020-03-15 19:46:16,724 : INFO : EPOCH 21 - PROGRESS: at 89.88% examples, 1284801 words/s, in_qsize 14, out_qsize 1\n",
      "2020-03-15 19:46:16,890 : INFO : worker thread finished; awaiting finish of 7 more threads\n",
      "2020-03-15 19:46:16,901 : INFO : worker thread finished; awaiting finish of 6 more threads\n",
      "2020-03-15 19:46:16,913 : INFO : worker thread finished; awaiting finish of 5 more threads\n",
      "2020-03-15 19:46:16,917 : INFO : worker thread finished; awaiting finish of 4 more threads\n",
      "2020-03-15 19:46:16,918 : INFO : worker thread finished; awaiting finish of 3 more threads\n",
      "2020-03-15 19:46:16,927 : INFO : worker thread finished; awaiting finish of 2 more threads\n",
      "2020-03-15 19:46:16,928 : INFO : worker thread finished; awaiting finish of 1 more threads\n",
      "2020-03-15 19:46:16,932 : INFO : worker thread finished; awaiting finish of 0 more threads\n",
      "2020-03-15 19:46:16,933 : INFO : EPOCH - 21 : training on 3799769 raw words (2870914 effective words) took 2.2s, 1295065 effective words/s\n",
      "2020-03-15 19:46:17,941 : INFO : EPOCH 22 - PROGRESS: at 45.37% examples, 1304484 words/s, in_qsize 15, out_qsize 0\n",
      "2020-03-15 19:46:18,944 : INFO : EPOCH 22 - PROGRESS: at 90.38% examples, 1295375 words/s, in_qsize 15, out_qsize 0\n",
      "2020-03-15 19:46:19,117 : INFO : worker thread finished; awaiting finish of 7 more threads\n",
      "2020-03-15 19:46:19,131 : INFO : worker thread finished; awaiting finish of 6 more threads\n",
      "2020-03-15 19:46:19,134 : INFO : worker thread finished; awaiting finish of 5 more threads\n",
      "2020-03-15 19:46:19,136 : INFO : worker thread finished; awaiting finish of 4 more threads\n",
      "2020-03-15 19:46:19,138 : INFO : worker thread finished; awaiting finish of 3 more threads\n",
      "2020-03-15 19:46:19,144 : INFO : worker thread finished; awaiting finish of 2 more threads\n",
      "2020-03-15 19:46:19,146 : INFO : worker thread finished; awaiting finish of 1 more threads\n",
      "2020-03-15 19:46:19,153 : INFO : worker thread finished; awaiting finish of 0 more threads\n",
      "2020-03-15 19:46:19,154 : INFO : EPOCH - 22 : training on 3799769 raw words (2870191 effective words) took 2.2s, 1296940 effective words/s\n",
      "2020-03-15 19:46:20,164 : INFO : EPOCH 23 - PROGRESS: at 44.57% examples, 1279084 words/s, in_qsize 15, out_qsize 0\n",
      "2020-03-15 19:46:21,168 : INFO : EPOCH 23 - PROGRESS: at 90.39% examples, 1293080 words/s, in_qsize 15, out_qsize 0\n",
      "2020-03-15 19:46:21,342 : INFO : worker thread finished; awaiting finish of 7 more threads\n",
      "2020-03-15 19:46:21,359 : INFO : worker thread finished; awaiting finish of 6 more threads\n"
     ]
    },
    {
     "name": "stderr",
     "output_type": "stream",
     "text": [
      "2020-03-15 19:46:21,364 : INFO : worker thread finished; awaiting finish of 5 more threads\n",
      "2020-03-15 19:46:21,375 : INFO : worker thread finished; awaiting finish of 4 more threads\n",
      "2020-03-15 19:46:21,376 : INFO : worker thread finished; awaiting finish of 3 more threads\n",
      "2020-03-15 19:46:21,380 : INFO : worker thread finished; awaiting finish of 2 more threads\n",
      "2020-03-15 19:46:21,382 : INFO : worker thread finished; awaiting finish of 1 more threads\n",
      "2020-03-15 19:46:21,383 : INFO : worker thread finished; awaiting finish of 0 more threads\n",
      "2020-03-15 19:46:21,384 : INFO : EPOCH - 23 : training on 3799769 raw words (2870458 effective words) took 2.2s, 1291263 effective words/s\n",
      "2020-03-15 19:46:22,390 : INFO : EPOCH 24 - PROGRESS: at 44.85% examples, 1289282 words/s, in_qsize 14, out_qsize 0\n",
      "2020-03-15 19:46:23,391 : INFO : EPOCH 24 - PROGRESS: at 89.33% examples, 1281367 words/s, in_qsize 15, out_qsize 0\n",
      "2020-03-15 19:46:23,578 : INFO : worker thread finished; awaiting finish of 7 more threads\n",
      "2020-03-15 19:46:23,600 : INFO : worker thread finished; awaiting finish of 6 more threads\n",
      "2020-03-15 19:46:23,606 : INFO : worker thread finished; awaiting finish of 5 more threads\n",
      "2020-03-15 19:46:23,608 : INFO : worker thread finished; awaiting finish of 4 more threads\n",
      "2020-03-15 19:46:23,610 : INFO : worker thread finished; awaiting finish of 3 more threads\n",
      "2020-03-15 19:46:23,616 : INFO : worker thread finished; awaiting finish of 2 more threads\n",
      "2020-03-15 19:46:23,617 : INFO : worker thread finished; awaiting finish of 1 more threads\n",
      "2020-03-15 19:46:23,627 : INFO : worker thread finished; awaiting finish of 0 more threads\n",
      "2020-03-15 19:46:23,628 : INFO : EPOCH - 24 : training on 3799769 raw words (2869867 effective words) took 2.2s, 1282170 effective words/s\n",
      "2020-03-15 19:46:24,640 : INFO : EPOCH 25 - PROGRESS: at 44.31% examples, 1267548 words/s, in_qsize 15, out_qsize 0\n",
      "2020-03-15 19:46:25,646 : INFO : EPOCH 25 - PROGRESS: at 88.81% examples, 1267868 words/s, in_qsize 14, out_qsize 1\n",
      "2020-03-15 19:46:25,835 : INFO : worker thread finished; awaiting finish of 7 more threads\n",
      "2020-03-15 19:46:25,844 : INFO : worker thread finished; awaiting finish of 6 more threads\n",
      "2020-03-15 19:46:25,856 : INFO : worker thread finished; awaiting finish of 5 more threads\n",
      "2020-03-15 19:46:25,861 : INFO : worker thread finished; awaiting finish of 4 more threads\n",
      "2020-03-15 19:46:25,863 : INFO : worker thread finished; awaiting finish of 3 more threads\n",
      "2020-03-15 19:46:25,864 : INFO : worker thread finished; awaiting finish of 2 more threads\n",
      "2020-03-15 19:46:25,866 : INFO : worker thread finished; awaiting finish of 1 more threads\n",
      "2020-03-15 19:46:25,876 : INFO : worker thread finished; awaiting finish of 0 more threads\n",
      "2020-03-15 19:46:25,876 : INFO : EPOCH - 25 : training on 3799769 raw words (2870642 effective words) took 2.2s, 1280406 effective words/s\n",
      "2020-03-15 19:46:26,885 : INFO : EPOCH 26 - PROGRESS: at 44.33% examples, 1272977 words/s, in_qsize 15, out_qsize 0\n",
      "2020-03-15 19:46:27,886 : INFO : EPOCH 26 - PROGRESS: at 89.07% examples, 1277173 words/s, in_qsize 14, out_qsize 1\n",
      "2020-03-15 19:46:28,086 : INFO : worker thread finished; awaiting finish of 7 more threads\n",
      "2020-03-15 19:46:28,088 : INFO : worker thread finished; awaiting finish of 6 more threads\n",
      "2020-03-15 19:46:28,092 : INFO : worker thread finished; awaiting finish of 5 more threads\n",
      "2020-03-15 19:46:28,093 : INFO : worker thread finished; awaiting finish of 4 more threads\n",
      "2020-03-15 19:46:28,094 : INFO : worker thread finished; awaiting finish of 3 more threads\n",
      "2020-03-15 19:46:28,094 : INFO : worker thread finished; awaiting finish of 2 more threads\n",
      "2020-03-15 19:46:28,097 : INFO : worker thread finished; awaiting finish of 1 more threads\n",
      "2020-03-15 19:46:28,098 : INFO : worker thread finished; awaiting finish of 0 more threads\n",
      "2020-03-15 19:46:28,099 : INFO : EPOCH - 26 : training on 3799769 raw words (2870731 effective words) took 2.2s, 1295848 effective words/s\n",
      "2020-03-15 19:46:29,110 : INFO : EPOCH 27 - PROGRESS: at 44.31% examples, 1269933 words/s, in_qsize 15, out_qsize 0\n",
      "2020-03-15 19:46:30,126 : INFO : EPOCH 27 - PROGRESS: at 89.86% examples, 1277207 words/s, in_qsize 15, out_qsize 0\n",
      "2020-03-15 19:46:30,300 : INFO : worker thread finished; awaiting finish of 7 more threads\n",
      "2020-03-15 19:46:30,317 : INFO : worker thread finished; awaiting finish of 6 more threads\n",
      "2020-03-15 19:46:30,318 : INFO : worker thread finished; awaiting finish of 5 more threads\n",
      "2020-03-15 19:46:30,323 : INFO : worker thread finished; awaiting finish of 4 more threads\n",
      "2020-03-15 19:46:30,323 : INFO : worker thread finished; awaiting finish of 3 more threads\n",
      "2020-03-15 19:46:30,326 : INFO : worker thread finished; awaiting finish of 2 more threads\n",
      "2020-03-15 19:46:30,338 : INFO : worker thread finished; awaiting finish of 1 more threads\n",
      "2020-03-15 19:46:30,341 : INFO : worker thread finished; awaiting finish of 0 more threads\n",
      "2020-03-15 19:46:30,342 : INFO : EPOCH - 27 : training on 3799769 raw words (2870364 effective words) took 2.2s, 1283819 effective words/s\n",
      "2020-03-15 19:46:31,359 : INFO : EPOCH 28 - PROGRESS: at 43.54% examples, 1237013 words/s, in_qsize 15, out_qsize 0\n",
      "2020-03-15 19:46:32,362 : INFO : EPOCH 28 - PROGRESS: at 88.55% examples, 1262097 words/s, in_qsize 16, out_qsize 0\n",
      "2020-03-15 19:46:32,595 : INFO : worker thread finished; awaiting finish of 7 more threads\n",
      "2020-03-15 19:46:32,596 : INFO : worker thread finished; awaiting finish of 6 more threads\n",
      "2020-03-15 19:46:32,606 : INFO : worker thread finished; awaiting finish of 5 more threads\n",
      "2020-03-15 19:46:32,607 : INFO : worker thread finished; awaiting finish of 4 more threads\n",
      "2020-03-15 19:46:32,609 : INFO : worker thread finished; awaiting finish of 3 more threads\n",
      "2020-03-15 19:46:32,610 : INFO : worker thread finished; awaiting finish of 2 more threads\n",
      "2020-03-15 19:46:32,614 : INFO : worker thread finished; awaiting finish of 1 more threads\n",
      "2020-03-15 19:46:32,615 : INFO : worker thread finished; awaiting finish of 0 more threads\n",
      "2020-03-15 19:46:32,615 : INFO : EPOCH - 28 : training on 3799769 raw words (2870024 effective words) took 2.3s, 1265416 effective words/s\n",
      "2020-03-15 19:46:33,623 : INFO : EPOCH 29 - PROGRESS: at 44.84% examples, 1287982 words/s, in_qsize 16, out_qsize 2\n",
      "2020-03-15 19:46:34,623 : INFO : EPOCH 29 - PROGRESS: at 89.59% examples, 1285246 words/s, in_qsize 16, out_qsize 0\n",
      "2020-03-15 19:46:34,815 : INFO : worker thread finished; awaiting finish of 7 more threads\n",
      "2020-03-15 19:46:34,831 : INFO : worker thread finished; awaiting finish of 6 more threads\n",
      "2020-03-15 19:46:34,836 : INFO : worker thread finished; awaiting finish of 5 more threads\n",
      "2020-03-15 19:46:34,841 : INFO : worker thread finished; awaiting finish of 4 more threads\n",
      "2020-03-15 19:46:34,847 : INFO : worker thread finished; awaiting finish of 3 more threads\n",
      "2020-03-15 19:46:34,848 : INFO : worker thread finished; awaiting finish of 2 more threads\n",
      "2020-03-15 19:46:34,848 : INFO : worker thread finished; awaiting finish of 1 more threads\n",
      "2020-03-15 19:46:34,852 : INFO : worker thread finished; awaiting finish of 0 more threads\n",
      "2020-03-15 19:46:34,853 : INFO : EPOCH - 29 : training on 3799769 raw words (2870440 effective words) took 2.2s, 1286307 effective words/s\n",
      "2020-03-15 19:46:35,863 : INFO : EPOCH 30 - PROGRESS: at 43.82% examples, 1255953 words/s, in_qsize 16, out_qsize 0\n",
      "2020-03-15 19:46:36,864 : INFO : EPOCH 30 - PROGRESS: at 89.32% examples, 1280062 words/s, in_qsize 15, out_qsize 0\n",
      "2020-03-15 19:46:37,057 : INFO : worker thread finished; awaiting finish of 7 more threads\n",
      "2020-03-15 19:46:37,066 : INFO : worker thread finished; awaiting finish of 6 more threads\n",
      "2020-03-15 19:46:37,067 : INFO : worker thread finished; awaiting finish of 5 more threads\n",
      "2020-03-15 19:46:37,078 : INFO : worker thread finished; awaiting finish of 4 more threads\n",
      "2020-03-15 19:46:37,083 : INFO : worker thread finished; awaiting finish of 3 more threads\n",
      "2020-03-15 19:46:37,086 : INFO : worker thread finished; awaiting finish of 2 more threads\n",
      "2020-03-15 19:46:37,091 : INFO : worker thread finished; awaiting finish of 1 more threads\n",
      "2020-03-15 19:46:37,099 : INFO : worker thread finished; awaiting finish of 0 more threads\n"
     ]
    },
    {
     "name": "stderr",
     "output_type": "stream",
     "text": [
      "2020-03-15 19:46:37,100 : INFO : EPOCH - 30 : training on 3799769 raw words (2870283 effective words) took 2.2s, 1281412 effective words/s\n",
      "2020-03-15 19:46:38,107 : INFO : EPOCH 31 - PROGRESS: at 44.06% examples, 1265541 words/s, in_qsize 16, out_qsize 0\n",
      "2020-03-15 19:46:39,118 : INFO : EPOCH 31 - PROGRESS: at 89.60% examples, 1278830 words/s, in_qsize 14, out_qsize 1\n",
      "2020-03-15 19:46:39,307 : INFO : worker thread finished; awaiting finish of 7 more threads\n",
      "2020-03-15 19:46:39,311 : INFO : worker thread finished; awaiting finish of 6 more threads\n",
      "2020-03-15 19:46:39,311 : INFO : worker thread finished; awaiting finish of 5 more threads\n",
      "2020-03-15 19:46:39,313 : INFO : worker thread finished; awaiting finish of 4 more threads\n",
      "2020-03-15 19:46:39,320 : INFO : worker thread finished; awaiting finish of 3 more threads\n",
      "2020-03-15 19:46:39,324 : INFO : worker thread finished; awaiting finish of 2 more threads\n",
      "2020-03-15 19:46:39,325 : INFO : worker thread finished; awaiting finish of 1 more threads\n",
      "2020-03-15 19:46:39,331 : INFO : worker thread finished; awaiting finish of 0 more threads\n",
      "2020-03-15 19:46:39,332 : INFO : EPOCH - 31 : training on 3799769 raw words (2869848 effective words) took 2.2s, 1289665 effective words/s\n",
      "2020-03-15 19:46:40,339 : INFO : EPOCH 32 - PROGRESS: at 44.06% examples, 1266860 words/s, in_qsize 15, out_qsize 0\n",
      "2020-03-15 19:46:41,340 : INFO : EPOCH 32 - PROGRESS: at 88.55% examples, 1270376 words/s, in_qsize 15, out_qsize 0\n",
      "2020-03-15 19:46:41,547 : INFO : worker thread finished; awaiting finish of 7 more threads\n",
      "2020-03-15 19:46:41,577 : INFO : worker thread finished; awaiting finish of 6 more threads\n",
      "2020-03-15 19:46:41,578 : INFO : worker thread finished; awaiting finish of 5 more threads\n",
      "2020-03-15 19:46:41,580 : INFO : worker thread finished; awaiting finish of 4 more threads\n",
      "2020-03-15 19:46:41,581 : INFO : worker thread finished; awaiting finish of 3 more threads\n",
      "2020-03-15 19:46:41,583 : INFO : worker thread finished; awaiting finish of 2 more threads\n",
      "2020-03-15 19:46:41,583 : INFO : worker thread finished; awaiting finish of 1 more threads\n",
      "2020-03-15 19:46:41,586 : INFO : worker thread finished; awaiting finish of 0 more threads\n",
      "2020-03-15 19:46:41,587 : INFO : EPOCH - 32 : training on 3799769 raw words (2870792 effective words) took 2.2s, 1276911 effective words/s\n",
      "2020-03-15 19:46:41,589 : INFO : training on a 121592608 raw words (91849596 effective words) took 72.6s, 1264545 effective words/s\n"
     ]
    },
    {
     "name": "stdout",
     "output_type": "stream",
     "text": [
      "CPU times: user 4min 2s, sys: 949 ms, total: 4min 2s\n",
      "Wall time: 1min 12s\n"
     ]
    },
    {
     "data": {
      "text/plain": [
       "(91849596, 121592608)"
      ]
     },
     "execution_count": 62,
     "metadata": {},
     "output_type": "execute_result"
    }
   ],
   "source": [
    "%%time\n",
    "w2v_model.train(documents, total_examples=len(documents), epochs=W2V_EPOCH) ##?"
   ]
  },
  {
   "cell_type": "code",
   "execution_count": 63,
   "metadata": {},
   "outputs": [
    {
     "name": "stderr",
     "output_type": "stream",
     "text": [
      "/home/lingshu/anaconda3/envs/my_env/lib/python3.7/site-packages/ipykernel_launcher.py:1: DeprecationWarning: Call to deprecated `most_similar` (Method will be removed in 4.0.0, use self.wv.most_similar() instead).\n",
      "  \"\"\"Entry point for launching an IPython kernel.\n",
      "2020-03-15 19:46:51,182 : INFO : precomputing L2-norms of word weight vectors\n"
     ]
    },
    {
     "data": {
      "text/plain": [
       "[('love.', 0.5123016834259033),\n",
       " ('love,', 0.5002260804176331),\n",
       " ('appreciate', 0.47751158475875854),\n",
       " ('loves', 0.4660755395889282),\n",
       " ('admire', 0.46238261461257935),\n",
       " ('cherish', 0.45935869216918945),\n",
       " ('<U+2764><U+FE0F>', 0.43780699372291565),\n",
       " ('pride', 0.42830556631088257),\n",
       " ('pray', 0.4216599762439728),\n",
       " ('wish', 0.41725432872772217)]"
      ]
     },
     "execution_count": 63,
     "metadata": {},
     "output_type": "execute_result"
    }
   ],
   "source": [
    "w2v_model.most_similar(\"love\")"
   ]
  },
  {
   "cell_type": "markdown",
   "metadata": {},
   "source": [
    "Tokenize Text\n",
    "https://machinelearningmastery.com/prepare-text-data-deep-learning-keras/\n",
    "explained how keras tokenize texts"
   ]
  },
  {
   "cell_type": "code",
   "execution_count": 11,
   "metadata": {},
   "outputs": [
    {
     "name": "stdout",
     "output_type": "stream",
     "text": [
      "[('the', 1), ('to', 2), ('and', 3), ('of', 4), ('in', 5), ('for', 6), ('a', 7), ('\\r', 8), ('on', 9), ('is', 10)]\n",
      "Total words 417465\n",
      "CPU times: user 35.6 s, sys: 27 ms, total: 35.6 s\n",
      "Wall time: 35.6 s\n"
     ]
    }
   ],
   "source": [
    "%%time\n",
    "tokenizer = Tokenizer()\n",
    "tokenizer.fit_on_texts(df_train.text)\n",
    "print(list(tokenizer.word_index.items())[0:10])\n",
    "\n",
    "vocab_size = len(tokenizer.word_index) + 1\n",
    "print(\"Total words\", vocab_size)"
   ]
  },
  {
   "cell_type": "code",
   "execution_count": 12,
   "metadata": {},
   "outputs": [
    {
     "name": "stdout",
     "output_type": "stream",
     "text": [
      "['I signed a letter to House leadership to support our service members of  NationalService within the disaster relief fund.  LetUsServe', \"I joined health care professionals, activists &amp; law enforcement in Hartford to discuss the staggering number of opioid overdoses. We need action not more rhetoric. That's why colleagues &amp; I've introduced the CARE Act to provide federal resources to confront &amp; combat this epidemic\", 'Senator Inhofe: U.S. may not win if attacked by one of two world powers', 'RT  usrepjoewilson: Grateful for  RepMikeTurner and his efforts to strengthen measures addressing sexual assault and misconduct within...', 'Roberts: We must focus on program integrity and commonsense investments to strengthen our nutrition programs to ensure the pathway to long-term success of those in need of assistance.  farmbill18']\n",
      "[[15, 526, 7, 480, 2, 50, 253, 2, 57, 11, 155, 190, 4, 11193, 1857, 1, 811, 762, 665, 66740], [15, 295, 70, 87, 2594, 2625, 13, 140, 621, 5, 6112, 2, 194, 1, 7669, 850, 4, 640, 7213, 14, 60, 250, 37, 32, 2417, 499, 124, 283, 13, 818, 434, 1, 87, 65, 2, 373, 146, 439, 2, 3503, 13, 728, 12, 791], [308, 3026, 17, 110, 327, 37, 341, 71, 2982, 29, 74, 4, 304, 205, 2153], [285, 107689, 428, 6, 5186, 3, 42, 328, 2, 891, 2050, 1486, 974, 1006, 3, 4007, 1857], [3301, 14, 69, 1126, 9, 320, 1682, 3, 1936, 1582, 2, 891, 11, 3259, 478, 2, 229, 1, 4786, 2, 274, 859, 962, 4, 116, 5, 60, 4, 739, 6881]]\n",
      "[[  253     2    57    11   155   190     4 11193  1857     1   811   762\n",
      "    665 66740]\n",
      " [  434     1    87    65     2   373   146   439     2  3503    13   728\n",
      "     12   791]\n",
      " [ 3026    17   110   327    37   341    71  2982    29    74     4   304\n",
      "    205  2153]\n",
      " [    6  5186     3    42   328     2   891  2050  1486   974  1006     3\n",
      "   4007  1857]\n",
      " [  229     1  4786     2   274   859   962     4   116     5    60     4\n",
      "    739  6881]]\n",
      "CPU times: user 1min 38s, sys: 321 ms, total: 1min 39s\n",
      "Wall time: 1min 38s\n"
     ]
    }
   ],
   "source": [
    "%%time\n",
    "print(list(df_train.text)[0:5])\n",
    "print(tokenizer.texts_to_sequences(df_train.text)[0:5]) # transform to numerical labels\n",
    "\n",
    "x_try = pad_sequences(tokenizer.texts_to_sequences(df_train.text)[0:5], maxlen=14)\n",
    "x_train = pad_sequences(tokenizer.texts_to_sequences(df_train.text), maxlen=SEQUENCE_LENGTH) # pad a window to a same lenght\n",
    "x_test = pad_sequences(tokenizer.texts_to_sequences(df_test.text), maxlen=SEQUENCE_LENGTH)\n",
    "print(x_try)"
   ]
  },
  {
   "cell_type": "code",
   "execution_count": 29,
   "metadata": {},
   "outputs": [
    {
     "ename": "NameError",
     "evalue": "name 'y' is not defined",
     "output_type": "error",
     "traceback": [
      "\u001b[0;31m---------------------------------------------------------------------------\u001b[0m",
      "\u001b[0;31mNameError\u001b[0m                                 Traceback (most recent call last)",
      "\u001b[0;32m<ipython-input-29-2494831cc518>\u001b[0m in \u001b[0;36m<module>\u001b[0;34m\u001b[0m\n\u001b[0;32m----> 1\u001b[0;31m \u001b[0my\u001b[0m\u001b[0;34m[\u001b[0m\u001b[0my\u001b[0m\u001b[0;34m.\u001b[0m\u001b[0misna\u001b[0m\u001b[0;34m(\u001b[0m\u001b[0;34m)\u001b[0m\u001b[0;34m]\u001b[0m\u001b[0;34m\u001b[0m\u001b[0;34m\u001b[0m\u001b[0m\n\u001b[0m",
      "\u001b[0;31mNameError\u001b[0m: name 'y' is not defined"
     ]
    }
   ],
   "source": [
    "y[y.isna()]"
   ]
  },
  {
   "cell_type": "markdown",
   "metadata": {},
   "source": [
    "Label Encoder"
   ]
  },
  {
   "cell_type": "code",
   "execution_count": 13,
   "metadata": {},
   "outputs": [
    {
     "name": "stdout",
     "output_type": "stream",
     "text": [
      "[0, 1]\n"
     ]
    },
    {
     "data": {
      "text/plain": [
       "[0, 1, 'NEUTRAL']"
      ]
     },
     "execution_count": 13,
     "metadata": {},
     "output_type": "execute_result"
    }
   ],
   "source": [
    "labels = df_train.party.unique().tolist() # tolist() make pandas series to a list\n",
    "print(labels)\n",
    "labels.append(NEUTRAL)\n",
    "labels"
   ]
  },
  {
   "cell_type": "code",
   "execution_count": 14,
   "metadata": {},
   "outputs": [
    {
     "name": "stdout",
     "output_type": "stream",
     "text": [
      "{0, 1}\n",
      "[[0]\n",
      " [0]\n",
      " [1]\n",
      " [1]\n",
      " [1]]\n",
      "y_train (1439882, 1)\n",
      "y_test (359971, 1)\n"
     ]
    }
   ],
   "source": [
    "encoder = LabelEncoder()\n",
    "encoder.fit(df_train.party.tolist())\n",
    "\n",
    "y_train = encoder.transform(df_train.party.tolist()) # transform non-numerical data to numerical labels\n",
    "y_test = encoder.transform(df_test.party.tolist())\n",
    "\n",
    "ylist = list(y_train)\n",
    "print(set(ylist))\n",
    "\n",
    "y_train = y_train.reshape(-1,1) # -1 means unknown\n",
    "y_test = y_test.reshape(-1,1)\n",
    "\n",
    "print(y_train[0:5])\n",
    "print(\"y_train\",y_train.shape)\n",
    "print(\"y_test\",y_test.shape)"
   ]
  },
  {
   "cell_type": "code",
   "execution_count": 15,
   "metadata": {},
   "outputs": [
    {
     "name": "stdout",
     "output_type": "stream",
     "text": [
      "x_train (1439882, 50)\n",
      "y_train (1439882, 1)\n",
      "\n",
      "x_test (359971, 50)\n",
      "y_test (359971, 1)\n"
     ]
    }
   ],
   "source": [
    "print(\"x_train\", x_train.shape)\n",
    "print(\"y_train\", y_train.shape)\n",
    "print()\n",
    "print(\"x_test\", x_test.shape)\n",
    "print(\"y_test\", y_test.shape)"
   ]
  },
  {
   "cell_type": "markdown",
   "metadata": {},
   "source": [
    "Embedding layer"
   ]
  },
  {
   "cell_type": "code",
   "execution_count": 68,
   "metadata": {},
   "outputs": [
    {
     "name": "stdout",
     "output_type": "stream",
     "text": [
      "(120997, 200)\n",
      "200\n"
     ]
    }
   ],
   "source": [
    "## word2vector\n",
    "embedding_matrix = np.zeros((vocab_size, W2V_SIZE)) #Return a new array of given shape and type, filled with zeros.\n",
    "for word, i in tokenizer.word_index.items():\n",
    "  if word in w2v_model.wv:\n",
    "    embedding_matrix[i] = w2v_model.wv[word]\n",
    "print(embedding_matrix.shape)\n",
    "print(len(embedding_matrix[0]))"
   ]
  },
  {
   "cell_type": "code",
   "execution_count": 14,
   "metadata": {},
   "outputs": [],
   "source": [
    "## load glove\n",
    "#import pandas as pd\n",
    "import csv\n",
    "\n",
    "words = pd.read_csv(\"../sentiment/glove.twitter.27B.200d.txt\", sep=\" \", index_col=0, header=None, quoting=csv.QUOTE_NONE)"
   ]
  },
  {
   "cell_type": "code",
   "execution_count": null,
   "metadata": {},
   "outputs": [],
   "source": [
    "#https://www.kaggle.com/hamishdickson/bidirectional-lstm-in-keras-with-glove-embeddings"
   ]
  },
  {
   "cell_type": "code",
   "execution_count": 16,
   "metadata": {},
   "outputs": [
    {
     "name": "stdout",
     "output_type": "stream",
     "text": [
      "Found 1193515 word vectors.\n"
     ]
    }
   ],
   "source": [
    "embeddings_index = {}\n",
    "f = open(os.path.join('../sentiment', 'glove.twitter.27B.200d.txt'))\n",
    "for line in f:\n",
    "    values = line.split()\n",
    "    word = values[0]\n",
    "    coefs = np.asarray(values[1:], dtype='float32')\n",
    "    embeddings_index[word] = coefs\n",
    "f.close()\n",
    "\n",
    "print('Found %s word vectors.' % len(embeddings_index))"
   ]
  },
  {
   "cell_type": "code",
   "execution_count": 17,
   "metadata": {},
   "outputs": [
    {
     "name": "stdout",
     "output_type": "stream",
     "text": [
      "Found 417464 unique tokens.\n"
     ]
    }
   ],
   "source": [
    "\n",
    "\n",
    "word_index = tokenizer.word_index\n",
    "print('Found %s unique tokens.' % len(word_index))"
   ]
  },
  {
   "cell_type": "code",
   "execution_count": 18,
   "metadata": {},
   "outputs": [],
   "source": [
    "#num_words = min(max_features, len(word_index)) + 1\n",
    "#print(num_words)\n",
    "\n",
    "embedding_dim = 200\n",
    "\n",
    "# first create a matrix of zeros, this is our embedding matrix\n",
    "embedding_matrix = np.zeros((vocab_size, embedding_dim))\n",
    "\n",
    "# for each word in out tokenizer lets try to find that work in our w2v model\n",
    "for word, i in word_index.items():\n",
    "    if i > vocab_size:\n",
    "        continue\n",
    "    embedding_vector = embeddings_index.get(word)\n",
    "    if embedding_vector is not None:\n",
    "        # we found the word - add that words vector to the matrix\n",
    "        embedding_matrix[i] = embedding_vector\n",
    "    #else:\n",
    "        # doesn't exist, assign a random vector\n",
    "    #    embedding_matrix[i] = np.random.randn(embedding_dim)"
   ]
  },
  {
   "cell_type": "code",
   "execution_count": 1,
   "metadata": {},
   "outputs": [
    {
     "ename": "AttributeError",
     "evalue": "module 'tensorflow' has no attribute 'VERSION'",
     "output_type": "error",
     "traceback": [
      "\u001b[0;31m---------------------------------------------------------------------------\u001b[0m",
      "\u001b[0;31mAttributeError\u001b[0m                            Traceback (most recent call last)",
      "\u001b[0;32m<ipython-input-1-cdbbd254a368>\u001b[0m in \u001b[0;36m<module>\u001b[0;34m\u001b[0m\n\u001b[1;32m      1\u001b[0m \u001b[0;32mimport\u001b[0m \u001b[0mtensorflow\u001b[0m \u001b[0;32mas\u001b[0m \u001b[0mtf\u001b[0m\u001b[0;34m\u001b[0m\u001b[0;34m\u001b[0m\u001b[0m\n\u001b[0;32m----> 2\u001b[0;31m \u001b[0mtf\u001b[0m\u001b[0;34m.\u001b[0m\u001b[0mVERSION\u001b[0m\u001b[0;34m\u001b[0m\u001b[0;34m\u001b[0m\u001b[0m\n\u001b[0m",
      "\u001b[0;31mAttributeError\u001b[0m: module 'tensorflow' has no attribute 'VERSION'"
     ]
    }
   ],
   "source": [
    "import tensorflow as tf\n",
    "tf.VERSION"
   ]
  },
  {
   "cell_type": "code",
   "execution_count": 15,
   "metadata": {},
   "outputs": [
    {
     "name": "stdout",
     "output_type": "stream",
     "text": [
      "<class 'list'>\n"
     ]
    }
   ],
   "source": [
    "words.index[1000:1010]\n",
    "glove_words = list(words.index)\n",
    "\n",
    "print(type(glove_words))"
   ]
  },
  {
   "cell_type": "code",
   "execution_count": 73,
   "metadata": {},
   "outputs": [
    {
     "name": "stdout",
     "output_type": "stream",
     "text": [
      "(120997, 200)\n",
      "200\n",
      "[ 0.38137    0.36436    0.25135    0.13976    0.026781   0.54802\n",
      " -0.27403    0.21689    0.051641   0.49758   -0.21304    0.072604\n",
      "  0.34352    0.6266    -0.36796    0.086403   0.12861    0.020455\n",
      " -0.26107    0.38813   -0.15925   -0.29614    0.6932    -0.039932\n",
      "  0.10526   -0.093233  -0.47551   -0.33683    0.45248    0.031655\n",
      " -0.26894   -0.43397    0.052248   0.56947    0.032317  -0.17017\n",
      "  0.56397   -0.16769   -0.62177    0.19929   -1.1045     0.78062\n",
      "  0.71575    0.33675   -0.018591  -0.43137    0.31747   -0.65064\n",
      "  0.24694   -0.14051    0.29169   -0.28342    0.076483   0.0528\n",
      "  0.79835   -0.15685   -0.37934   -0.20088    0.43994   -0.33123\n",
      " -0.66478   -0.30476    0.34128    0.11896    0.20665    0.11174\n",
      " -0.42675   -0.04833   -0.045714   0.44196   -0.12676   -0.35255\n",
      "  0.39638   -0.47312   -0.40433    0.59931   -0.088971  -0.1241\n",
      "  0.2348     0.17748    0.044289   0.20437   -0.41906    0.088639\n",
      " -0.18172    0.30573   -1.0968    -0.03048    0.050779   0.52375\n",
      "  0.45713   -0.18128   -0.44154    0.24853    0.032015   0.016074\n",
      " -0.68107   -0.11957    0.36347   -0.34522    0.039919  -0.08302\n",
      " -0.45178    0.022524  -0.25824    0.16355    0.22219    0.16436\n",
      " -0.36757    0.38381    0.068158   0.20573    0.42787   -0.010458\n",
      "  0.12847   -0.13155   -0.38242   -0.22395   -0.25484    0.24552\n",
      " -0.77926   -0.27729    0.13459   -0.09831    0.13196   -0.42749\n",
      " -0.12393    0.62782   -0.6815     0.34073   -0.06722    0.20524\n",
      " -0.077863   0.1422     0.091845  -0.37651    0.05967   -0.4967\n",
      "  0.43125    0.045863   0.40181   -0.077079  -0.75512    0.72433\n",
      " -0.5202     0.18569    0.012518  -0.0093411 -0.58897   -0.15978\n",
      " -0.21404    0.19719   -5.4238     0.58913    0.29233    0.3427\n",
      "  0.07966    0.22217   -0.45116   -0.35446   -0.33688   -0.84106\n",
      "  0.040892  -0.36404   -0.17525    0.0087668  0.7487    -0.095012\n",
      " -0.36447   -0.18472   -0.029695  -0.22851    0.43446   -0.13622\n",
      " -0.85376    0.12888    0.28261   -0.26237   -0.014318  -0.085683\n",
      "  0.094566  -0.46278    0.19761    0.16038    0.6602     0.080392\n",
      "  0.07885    0.25978    0.33763    0.11641   -0.15412    0.38628\n",
      " -0.51188    0.35251    0.18108    0.048748   0.26133   -0.59035\n",
      "  0.46119    0.52284  ]\n"
     ]
    }
   ],
   "source": [
    "## glove\n",
    "embedding_matrix = np.zeros((vocab_size, W2V_SIZE)) #Return a new array of given shape and type, filled with zeros.\n",
    "for word, i in tokenizer.word_index.items():\n",
    "  if word in glove_words:\n",
    "    embedding_matrix[i] = words.loc[word]\n",
    "print(embedding_matrix.shape)\n",
    "print(len(embedding_matrix[0]))\n",
    "print(embedding_matrix[17,])"
   ]
  },
  {
   "cell_type": "code",
   "execution_count": 19,
   "metadata": {},
   "outputs": [],
   "source": [
    "embedding_layer = Embedding(vocab_size, W2V_SIZE, weights=[embedding_matrix], input_length=SEQUENCE_LENGTH, trainable=False)\n",
    "#print(embedding_layer)\n",
    "#embedding_layer2 = Embedding(vocab_size, W2V_SIZE, input_length=SEQUENCE_LENGTH, trainable=True)"
   ]
  },
  {
   "cell_type": "code",
   "execution_count": 89,
   "metadata": {},
   "outputs": [
    {
     "ename": "NameError",
     "evalue": "name 'df_liwc' is not defined",
     "output_type": "error",
     "traceback": [
      "\u001b[1;31m---------------------------------------------------------------------------\u001b[0m",
      "\u001b[1;31mNameError\u001b[0m                                 Traceback (most recent call last)",
      "\u001b[1;32m<ipython-input-89-223f9e0f4501>\u001b[0m in \u001b[0;36m<module>\u001b[1;34m\u001b[0m\n\u001b[1;32m----> 1\u001b[1;33m \u001b[0mprint\u001b[0m\u001b[1;33m(\u001b[0m\u001b[0mdf_liwc\u001b[0m\u001b[1;33m.\u001b[0m\u001b[0mcolumns\u001b[0m\u001b[1;33m)\u001b[0m\u001b[1;33m\u001b[0m\u001b[1;33m\u001b[0m\u001b[0m\n\u001b[0m\u001b[0;32m      2\u001b[0m \u001b[0mprint\u001b[0m\u001b[1;33m(\u001b[0m\u001b[0mdf_liwc\u001b[0m\u001b[1;33m[\u001b[0m\u001b[1;33m[\u001b[0m\u001b[1;34m'Tone'\u001b[0m\u001b[1;33m,\u001b[0m\u001b[1;34m'affect'\u001b[0m\u001b[1;33m,\u001b[0m \u001b[1;34m'posemo'\u001b[0m\u001b[1;33m,\u001b[0m \u001b[1;34m'negemo'\u001b[0m\u001b[1;33m,\u001b[0m \u001b[1;34m'anx'\u001b[0m\u001b[1;33m,\u001b[0m \u001b[1;34m'anger'\u001b[0m\u001b[1;33m,\u001b[0m \u001b[1;34m'sad'\u001b[0m\u001b[1;33m,\u001b[0m  \u001b[1;34m'swear'\u001b[0m\u001b[1;33m]\u001b[0m\u001b[1;33m]\u001b[0m\u001b[1;33m)\u001b[0m\u001b[1;33m\u001b[0m\u001b[1;33m\u001b[0m\u001b[0m\n",
      "\u001b[1;31mNameError\u001b[0m: name 'df_liwc' is not defined"
     ]
    }
   ],
   "source": [
    "print(df_liwc.columns)\n",
    "print(df_liwc[['Tone','affect', 'posemo', 'negemo', 'anx', 'anger', 'sad',  'swear']])"
   ]
  },
  {
   "cell_type": "markdown",
   "metadata": {},
   "source": [
    "Model building\n",
    "https://keras.io/getting-started/sequential-model-guide/\n",
    "\n",
    "https://zhuanlan.zhihu.com/p/29201491"
   ]
  },
  {
   "cell_type": "code",
   "execution_count": 20,
   "metadata": {
    "scrolled": true
   },
   "outputs": [
    {
     "name": "stdout",
     "output_type": "stream",
     "text": [
      "Model: \"model_1\"\n",
      "_________________________________________________________________\n",
      "Layer (type)                 Output Shape              Param #   \n",
      "=================================================================\n",
      "input_1 (InputLayer)         (None, 50)                0         \n",
      "_________________________________________________________________\n",
      "embedding_1 (Embedding)      (None, 50, 200)           83493000  \n",
      "_________________________________________________________________\n",
      "dropout_1 (Dropout)          (None, 50, 200)           0         \n",
      "_________________________________________________________________\n",
      "bidirectional_1 (Bidirection (None, 200)               240800    \n",
      "_________________________________________________________________\n",
      "dense_1 (Dense)              (None, 32)                6432      \n",
      "_________________________________________________________________\n",
      "dense_2 (Dense)              (None, 1)                 33        \n",
      "=================================================================\n",
      "Total params: 83,740,265\n",
      "Trainable params: 247,265\n",
      "Non-trainable params: 83,493,000\n",
      "_________________________________________________________________\n"
     ]
    }
   ],
   "source": [
    "main_input = Input(shape=(SEQUENCE_LENGTH,), dtype='float64')\n",
    "embed = embedding_layer(main_input)\n",
    "drop = Dropout(0.3)(embed)\n",
    "rnn2 = Bidirectional(LSTM(100, dropout=0.2, recurrent_dropout=0.1))(drop)\n",
    "dense = Dense(32)(rnn2)\n",
    "main_output = Dense(1, activation='sigmoid')(dense)\n",
    "model = Model(inputs = main_input, outputs = main_output)\n",
    "model.summary()"
   ]
  },
  {
   "cell_type": "markdown",
   "metadata": {},
   "source": [
    "Compile model"
   ]
  },
  {
   "cell_type": "code",
   "execution_count": 21,
   "metadata": {},
   "outputs": [],
   "source": [
    "model.compile(loss='binary_crossentropy',\n",
    "              optimizer=\"adam\",\n",
    "              metrics=['accuracy'])"
   ]
  },
  {
   "cell_type": "markdown",
   "metadata": {},
   "source": [
    "Callbacks"
   ]
  },
  {
   "cell_type": "code",
   "execution_count": 22,
   "metadata": {},
   "outputs": [],
   "source": [
    "callbacks = [ ReduceLROnPlateau(monitor='val_loss', patience=5, cooldown=0),\n",
    "              EarlyStopping(monitor='val_acc', min_delta=1e-4, patience=5)]\n",
    "##not sure the purpose here"
   ]
  },
  {
   "cell_type": "markdown",
   "metadata": {},
   "source": [
    "Time"
   ]
  },
  {
   "cell_type": "code",
   "execution_count": 23,
   "metadata": {},
   "outputs": [
    {
     "name": "stdout",
     "output_type": "stream",
     "text": [
      "Train on 1295893 samples, validate on 143989 samples\n",
      "Epoch 1/64\n",
      "1295893/1295893 [==============================] - 226s 174us/step - loss: 0.5627 - accuracy: 0.6939 - val_loss: 0.4844 - val_accuracy: 0.7537\n",
      "Epoch 2/64\n",
      "    512/1295893 [..............................] - ETA: 5:07 - loss: 0.5073 - accuracy: 0.7461"
     ]
    },
    {
     "name": "stderr",
     "output_type": "stream",
     "text": [
      "/home/lingshu/anaconda3/envs/my_env/lib/python3.7/site-packages/keras/callbacks/callbacks.py:846: RuntimeWarning: Early stopping conditioned on metric `val_acc` which is not available. Available metrics are: val_loss,val_accuracy,loss,accuracy,lr\n",
      "  (self.monitor, ','.join(list(logs.keys()))), RuntimeWarning\n"
     ]
    },
    {
     "name": "stdout",
     "output_type": "stream",
     "text": [
      "1295893/1295893 [==============================] - 222s 172us/step - loss: 0.5084 - accuracy: 0.7356 - val_loss: 0.4580 - val_accuracy: 0.7708\n",
      "Epoch 3/64\n",
      "1295893/1295893 [==============================] - 222s 172us/step - loss: 0.4895 - accuracy: 0.7479 - val_loss: 0.4474 - val_accuracy: 0.7776\n",
      "Epoch 4/64\n",
      "1295893/1295893 [==============================] - 223s 172us/step - loss: 0.4784 - accuracy: 0.7552 - val_loss: 0.4379 - val_accuracy: 0.7823\n",
      "Epoch 5/64\n",
      "1295893/1295893 [==============================] - 223s 172us/step - loss: 0.4713 - accuracy: 0.7600 - val_loss: 0.4318 - val_accuracy: 0.7856\n",
      "Epoch 6/64\n",
      "1295893/1295893 [==============================] - 223s 172us/step - loss: 0.4661 - accuracy: 0.7627 - val_loss: 0.4296 - val_accuracy: 0.7864\n",
      "Epoch 7/64\n",
      "1295893/1295893 [==============================] - 224s 173us/step - loss: 0.4620 - accuracy: 0.7657 - val_loss: 0.4254 - val_accuracy: 0.7912\n",
      "Epoch 8/64\n",
      "1295893/1295893 [==============================] - 224s 173us/step - loss: 0.4589 - accuracy: 0.7676 - val_loss: 0.4227 - val_accuracy: 0.7924\n",
      "Epoch 9/64\n",
      "1295893/1295893 [==============================] - 224s 173us/step - loss: 0.4563 - accuracy: 0.7692 - val_loss: 0.4209 - val_accuracy: 0.7921\n",
      "Epoch 10/64\n",
      "1295893/1295893 [==============================] - 224s 173us/step - loss: 0.4544 - accuracy: 0.7709 - val_loss: 0.4176 - val_accuracy: 0.7949\n",
      "Epoch 11/64\n",
      "1295893/1295893 [==============================] - 225s 174us/step - loss: 0.4526 - accuracy: 0.7717 - val_loss: 0.4175 - val_accuracy: 0.7947\n",
      "Epoch 12/64\n",
      "1295893/1295893 [==============================] - 226s 175us/step - loss: 0.4509 - accuracy: 0.7730 - val_loss: 0.4163 - val_accuracy: 0.7955\n",
      "Epoch 13/64\n",
      "1295893/1295893 [==============================] - 226s 174us/step - loss: 0.4496 - accuracy: 0.7735 - val_loss: 0.4151 - val_accuracy: 0.7971\n",
      "Epoch 14/64\n",
      "1295893/1295893 [==============================] - 227s 175us/step - loss: 0.4488 - accuracy: 0.7742 - val_loss: 0.4138 - val_accuracy: 0.7973\n",
      "Epoch 15/64\n",
      "1295893/1295893 [==============================] - 227s 176us/step - loss: 0.4475 - accuracy: 0.7748 - val_loss: 0.4133 - val_accuracy: 0.7977\n",
      "Epoch 16/64\n",
      "1295893/1295893 [==============================] - 228s 176us/step - loss: 0.4464 - accuracy: 0.7752 - val_loss: 0.4118 - val_accuracy: 0.7980\n",
      "Epoch 17/64\n",
      "1295893/1295893 [==============================] - 230s 178us/step - loss: 0.4452 - accuracy: 0.7763 - val_loss: 0.4115 - val_accuracy: 0.7981\n",
      "Epoch 18/64\n",
      "1295893/1295893 [==============================] - 230s 177us/step - loss: 0.4453 - accuracy: 0.7761 - val_loss: 0.4104 - val_accuracy: 0.7980\n",
      "Epoch 19/64\n",
      "1295893/1295893 [==============================] - 231s 178us/step - loss: 0.4442 - accuracy: 0.7770 - val_loss: 0.4090 - val_accuracy: 0.7991\n",
      "Epoch 20/64\n",
      "1295893/1295893 [==============================] - 231s 178us/step - loss: 0.4436 - accuracy: 0.7777 - val_loss: 0.4095 - val_accuracy: 0.7993\n",
      "Epoch 21/64\n",
      "1295893/1295893 [==============================] - 230s 178us/step - loss: 0.4430 - accuracy: 0.7776 - val_loss: 0.4092 - val_accuracy: 0.7990\n",
      "Epoch 22/64\n",
      "1295893/1295893 [==============================] - 231s 178us/step - loss: 0.4425 - accuracy: 0.7780 - val_loss: 0.4081 - val_accuracy: 0.7995\n",
      "Epoch 23/64\n",
      "1295893/1295893 [==============================] - 231s 178us/step - loss: 0.4421 - accuracy: 0.7787 - val_loss: 0.4091 - val_accuracy: 0.8003\n",
      "Epoch 24/64\n",
      "1295893/1295893 [==============================] - 230s 177us/step - loss: 0.4417 - accuracy: 0.7787 - val_loss: 0.4082 - val_accuracy: 0.7995\n",
      "Epoch 25/64\n",
      "1295893/1295893 [==============================] - 229s 177us/step - loss: 0.4412 - accuracy: 0.7788 - val_loss: 0.4065 - val_accuracy: 0.8005\n",
      "Epoch 26/64\n",
      "1295893/1295893 [==============================] - 228s 176us/step - loss: 0.4410 - accuracy: 0.7785 - val_loss: 0.4068 - val_accuracy: 0.8011\n",
      "Epoch 27/64\n",
      "1295893/1295893 [==============================] - 228s 176us/step - loss: 0.4404 - accuracy: 0.7793 - val_loss: 0.4069 - val_accuracy: 0.8010\n",
      "Epoch 28/64\n",
      "1295893/1295893 [==============================] - 229s 177us/step - loss: 0.4397 - accuracy: 0.7797 - val_loss: 0.4075 - val_accuracy: 0.7995\n",
      "Epoch 29/64\n",
      "1295893/1295893 [==============================] - 230s 177us/step - loss: 0.4393 - accuracy: 0.7798 - val_loss: 0.4082 - val_accuracy: 0.8005\n",
      "Epoch 30/64\n",
      "1295893/1295893 [==============================] - 231s 178us/step - loss: 0.4387 - accuracy: 0.7801 - val_loss: 0.4072 - val_accuracy: 0.8001\n",
      "Epoch 31/64\n",
      "1295893/1295893 [==============================] - 231s 178us/step - loss: 0.4352 - accuracy: 0.7831 - val_loss: 0.4047 - val_accuracy: 0.8024\n",
      "Epoch 32/64\n",
      "1295893/1295893 [==============================] - 232s 179us/step - loss: 0.4335 - accuracy: 0.7835 - val_loss: 0.4043 - val_accuracy: 0.8025\n",
      "Epoch 33/64\n",
      "1295893/1295893 [==============================] - 228s 176us/step - loss: 0.4327 - accuracy: 0.7841 - val_loss: 0.4046 - val_accuracy: 0.8022\n",
      "Epoch 34/64\n",
      "1295893/1295893 [==============================] - 227s 175us/step - loss: 0.4317 - accuracy: 0.7845 - val_loss: 0.4044 - val_accuracy: 0.8024\n",
      "Epoch 35/64\n",
      " 132096/1295893 [==>...........................] - ETA: 3:18 - loss: 0.4321 - accuracy: 0.7844"
     ]
    },
    {
     "ename": "KeyboardInterrupt",
     "evalue": "",
     "output_type": "error",
     "traceback": [
      "\u001b[0;31m---------------------------------------------------------------------------\u001b[0m",
      "\u001b[0;31mKeyboardInterrupt\u001b[0m                         Traceback (most recent call last)",
      "\u001b[0;32m<timed exec>\u001b[0m in \u001b[0;36m<module>\u001b[0;34m\u001b[0m\n",
      "\u001b[0;32m~/anaconda3/envs/my_env/lib/python3.7/site-packages/keras/engine/training.py\u001b[0m in \u001b[0;36mfit\u001b[0;34m(self, x, y, batch_size, epochs, verbose, callbacks, validation_split, validation_data, shuffle, class_weight, sample_weight, initial_epoch, steps_per_epoch, validation_steps, validation_freq, max_queue_size, workers, use_multiprocessing, **kwargs)\u001b[0m\n\u001b[1;32m   1237\u001b[0m                                         \u001b[0msteps_per_epoch\u001b[0m\u001b[0;34m=\u001b[0m\u001b[0msteps_per_epoch\u001b[0m\u001b[0;34m,\u001b[0m\u001b[0;34m\u001b[0m\u001b[0;34m\u001b[0m\u001b[0m\n\u001b[1;32m   1238\u001b[0m                                         \u001b[0mvalidation_steps\u001b[0m\u001b[0;34m=\u001b[0m\u001b[0mvalidation_steps\u001b[0m\u001b[0;34m,\u001b[0m\u001b[0;34m\u001b[0m\u001b[0;34m\u001b[0m\u001b[0m\n\u001b[0;32m-> 1239\u001b[0;31m                                         validation_freq=validation_freq)\n\u001b[0m\u001b[1;32m   1240\u001b[0m \u001b[0;34m\u001b[0m\u001b[0m\n\u001b[1;32m   1241\u001b[0m     def evaluate(self,\n",
      "\u001b[0;32m~/anaconda3/envs/my_env/lib/python3.7/site-packages/keras/engine/training_arrays.py\u001b[0m in \u001b[0;36mfit_loop\u001b[0;34m(model, fit_function, fit_inputs, out_labels, batch_size, epochs, verbose, callbacks, val_function, val_inputs, shuffle, initial_epoch, steps_per_epoch, validation_steps, validation_freq)\u001b[0m\n\u001b[1;32m    194\u001b[0m                     \u001b[0mins_batch\u001b[0m\u001b[0;34m[\u001b[0m\u001b[0mi\u001b[0m\u001b[0;34m]\u001b[0m \u001b[0;34m=\u001b[0m \u001b[0mins_batch\u001b[0m\u001b[0;34m[\u001b[0m\u001b[0mi\u001b[0m\u001b[0;34m]\u001b[0m\u001b[0;34m.\u001b[0m\u001b[0mtoarray\u001b[0m\u001b[0;34m(\u001b[0m\u001b[0;34m)\u001b[0m\u001b[0;34m\u001b[0m\u001b[0;34m\u001b[0m\u001b[0m\n\u001b[1;32m    195\u001b[0m \u001b[0;34m\u001b[0m\u001b[0m\n\u001b[0;32m--> 196\u001b[0;31m                 \u001b[0mouts\u001b[0m \u001b[0;34m=\u001b[0m \u001b[0mfit_function\u001b[0m\u001b[0;34m(\u001b[0m\u001b[0mins_batch\u001b[0m\u001b[0;34m)\u001b[0m\u001b[0;34m\u001b[0m\u001b[0;34m\u001b[0m\u001b[0m\n\u001b[0m\u001b[1;32m    197\u001b[0m                 \u001b[0mouts\u001b[0m \u001b[0;34m=\u001b[0m \u001b[0mto_list\u001b[0m\u001b[0;34m(\u001b[0m\u001b[0mouts\u001b[0m\u001b[0;34m)\u001b[0m\u001b[0;34m\u001b[0m\u001b[0;34m\u001b[0m\u001b[0m\n\u001b[1;32m    198\u001b[0m                 \u001b[0;32mfor\u001b[0m \u001b[0ml\u001b[0m\u001b[0;34m,\u001b[0m \u001b[0mo\u001b[0m \u001b[0;32min\u001b[0m \u001b[0mzip\u001b[0m\u001b[0;34m(\u001b[0m\u001b[0mout_labels\u001b[0m\u001b[0;34m,\u001b[0m \u001b[0mouts\u001b[0m\u001b[0;34m)\u001b[0m\u001b[0;34m:\u001b[0m\u001b[0;34m\u001b[0m\u001b[0;34m\u001b[0m\u001b[0m\n",
      "\u001b[0;32m~/anaconda3/envs/my_env/lib/python3.7/site-packages/tensorflow_core/python/keras/backend.py\u001b[0m in \u001b[0;36m__call__\u001b[0;34m(self, inputs)\u001b[0m\n\u001b[1;32m   3738\u001b[0m         \u001b[0mvalue\u001b[0m \u001b[0;34m=\u001b[0m \u001b[0mmath_ops\u001b[0m\u001b[0;34m.\u001b[0m\u001b[0mcast\u001b[0m\u001b[0;34m(\u001b[0m\u001b[0mvalue\u001b[0m\u001b[0;34m,\u001b[0m \u001b[0mtensor\u001b[0m\u001b[0;34m.\u001b[0m\u001b[0mdtype\u001b[0m\u001b[0;34m)\u001b[0m\u001b[0;34m\u001b[0m\u001b[0;34m\u001b[0m\u001b[0m\n\u001b[1;32m   3739\u001b[0m       \u001b[0mconverted_inputs\u001b[0m\u001b[0;34m.\u001b[0m\u001b[0mappend\u001b[0m\u001b[0;34m(\u001b[0m\u001b[0mvalue\u001b[0m\u001b[0;34m)\u001b[0m\u001b[0;34m\u001b[0m\u001b[0;34m\u001b[0m\u001b[0m\n\u001b[0;32m-> 3740\u001b[0;31m     \u001b[0moutputs\u001b[0m \u001b[0;34m=\u001b[0m \u001b[0mself\u001b[0m\u001b[0;34m.\u001b[0m\u001b[0m_graph_fn\u001b[0m\u001b[0;34m(\u001b[0m\u001b[0;34m*\u001b[0m\u001b[0mconverted_inputs\u001b[0m\u001b[0;34m)\u001b[0m\u001b[0;34m\u001b[0m\u001b[0;34m\u001b[0m\u001b[0m\n\u001b[0m\u001b[1;32m   3741\u001b[0m \u001b[0;34m\u001b[0m\u001b[0m\n\u001b[1;32m   3742\u001b[0m     \u001b[0;31m# EagerTensor.numpy() will often make a copy to ensure memory safety.\u001b[0m\u001b[0;34m\u001b[0m\u001b[0;34m\u001b[0m\u001b[0;34m\u001b[0m\u001b[0m\n",
      "\u001b[0;32m~/anaconda3/envs/my_env/lib/python3.7/site-packages/tensorflow_core/python/eager/function.py\u001b[0m in \u001b[0;36m__call__\u001b[0;34m(self, *args, **kwargs)\u001b[0m\n\u001b[1;32m   1079\u001b[0m       \u001b[0mTypeError\u001b[0m\u001b[0;34m:\u001b[0m \u001b[0mFor\u001b[0m \u001b[0minvalid\u001b[0m \u001b[0mpositional\u001b[0m\u001b[0;34m/\u001b[0m\u001b[0mkeyword\u001b[0m \u001b[0margument\u001b[0m \u001b[0mcombinations\u001b[0m\u001b[0;34m.\u001b[0m\u001b[0;34m\u001b[0m\u001b[0;34m\u001b[0m\u001b[0m\n\u001b[1;32m   1080\u001b[0m     \"\"\"\n\u001b[0;32m-> 1081\u001b[0;31m     \u001b[0;32mreturn\u001b[0m \u001b[0mself\u001b[0m\u001b[0;34m.\u001b[0m\u001b[0m_call_impl\u001b[0m\u001b[0;34m(\u001b[0m\u001b[0margs\u001b[0m\u001b[0;34m,\u001b[0m \u001b[0mkwargs\u001b[0m\u001b[0;34m)\u001b[0m\u001b[0;34m\u001b[0m\u001b[0;34m\u001b[0m\u001b[0m\n\u001b[0m\u001b[1;32m   1082\u001b[0m \u001b[0;34m\u001b[0m\u001b[0m\n\u001b[1;32m   1083\u001b[0m   \u001b[0;32mdef\u001b[0m \u001b[0m_call_impl\u001b[0m\u001b[0;34m(\u001b[0m\u001b[0mself\u001b[0m\u001b[0;34m,\u001b[0m \u001b[0margs\u001b[0m\u001b[0;34m,\u001b[0m \u001b[0mkwargs\u001b[0m\u001b[0;34m,\u001b[0m \u001b[0mcancellation_manager\u001b[0m\u001b[0;34m=\u001b[0m\u001b[0;32mNone\u001b[0m\u001b[0;34m)\u001b[0m\u001b[0;34m:\u001b[0m\u001b[0;34m\u001b[0m\u001b[0;34m\u001b[0m\u001b[0m\n",
      "\u001b[0;32m~/anaconda3/envs/my_env/lib/python3.7/site-packages/tensorflow_core/python/eager/function.py\u001b[0m in \u001b[0;36m_call_impl\u001b[0;34m(self, args, kwargs, cancellation_manager)\u001b[0m\n\u001b[1;32m   1119\u001b[0m       raise TypeError(\"Keyword arguments {} unknown. Expected {}.\".format(\n\u001b[1;32m   1120\u001b[0m           list(kwargs.keys()), list(self._arg_keywords)))\n\u001b[0;32m-> 1121\u001b[0;31m     \u001b[0;32mreturn\u001b[0m \u001b[0mself\u001b[0m\u001b[0;34m.\u001b[0m\u001b[0m_call_flat\u001b[0m\u001b[0;34m(\u001b[0m\u001b[0margs\u001b[0m\u001b[0;34m,\u001b[0m \u001b[0mself\u001b[0m\u001b[0;34m.\u001b[0m\u001b[0mcaptured_inputs\u001b[0m\u001b[0;34m,\u001b[0m \u001b[0mcancellation_manager\u001b[0m\u001b[0;34m)\u001b[0m\u001b[0;34m\u001b[0m\u001b[0;34m\u001b[0m\u001b[0m\n\u001b[0m\u001b[1;32m   1122\u001b[0m \u001b[0;34m\u001b[0m\u001b[0m\n\u001b[1;32m   1123\u001b[0m   \u001b[0;32mdef\u001b[0m \u001b[0m_filtered_call\u001b[0m\u001b[0;34m(\u001b[0m\u001b[0mself\u001b[0m\u001b[0;34m,\u001b[0m \u001b[0margs\u001b[0m\u001b[0;34m,\u001b[0m \u001b[0mkwargs\u001b[0m\u001b[0;34m)\u001b[0m\u001b[0;34m:\u001b[0m\u001b[0;34m\u001b[0m\u001b[0;34m\u001b[0m\u001b[0m\n",
      "\u001b[0;32m~/anaconda3/envs/my_env/lib/python3.7/site-packages/tensorflow_core/python/eager/function.py\u001b[0m in \u001b[0;36m_call_flat\u001b[0;34m(self, args, captured_inputs, cancellation_manager)\u001b[0m\n\u001b[1;32m   1222\u001b[0m     \u001b[0;32mif\u001b[0m \u001b[0mexecuting_eagerly\u001b[0m\u001b[0;34m:\u001b[0m\u001b[0;34m\u001b[0m\u001b[0;34m\u001b[0m\u001b[0m\n\u001b[1;32m   1223\u001b[0m       flat_outputs = forward_function.call(\n\u001b[0;32m-> 1224\u001b[0;31m           ctx, args, cancellation_manager=cancellation_manager)\n\u001b[0m\u001b[1;32m   1225\u001b[0m     \u001b[0;32melse\u001b[0m\u001b[0;34m:\u001b[0m\u001b[0;34m\u001b[0m\u001b[0;34m\u001b[0m\u001b[0m\n\u001b[1;32m   1226\u001b[0m       \u001b[0mgradient_name\u001b[0m \u001b[0;34m=\u001b[0m \u001b[0mself\u001b[0m\u001b[0;34m.\u001b[0m\u001b[0m_delayed_rewrite_functions\u001b[0m\u001b[0;34m.\u001b[0m\u001b[0mregister\u001b[0m\u001b[0;34m(\u001b[0m\u001b[0;34m)\u001b[0m\u001b[0;34m\u001b[0m\u001b[0;34m\u001b[0m\u001b[0m\n",
      "\u001b[0;32m~/anaconda3/envs/my_env/lib/python3.7/site-packages/tensorflow_core/python/eager/function.py\u001b[0m in \u001b[0;36mcall\u001b[0;34m(self, ctx, args, cancellation_manager)\u001b[0m\n\u001b[1;32m    509\u001b[0m               \u001b[0minputs\u001b[0m\u001b[0;34m=\u001b[0m\u001b[0margs\u001b[0m\u001b[0;34m,\u001b[0m\u001b[0;34m\u001b[0m\u001b[0;34m\u001b[0m\u001b[0m\n\u001b[1;32m    510\u001b[0m               \u001b[0mattrs\u001b[0m\u001b[0;34m=\u001b[0m\u001b[0;34m(\u001b[0m\u001b[0;34m\"executor_type\"\u001b[0m\u001b[0;34m,\u001b[0m \u001b[0mexecutor_type\u001b[0m\u001b[0;34m,\u001b[0m \u001b[0;34m\"config_proto\"\u001b[0m\u001b[0;34m,\u001b[0m \u001b[0mconfig\u001b[0m\u001b[0;34m)\u001b[0m\u001b[0;34m,\u001b[0m\u001b[0;34m\u001b[0m\u001b[0;34m\u001b[0m\u001b[0m\n\u001b[0;32m--> 511\u001b[0;31m               ctx=ctx)\n\u001b[0m\u001b[1;32m    512\u001b[0m         \u001b[0;32melse\u001b[0m\u001b[0;34m:\u001b[0m\u001b[0;34m\u001b[0m\u001b[0;34m\u001b[0m\u001b[0m\n\u001b[1;32m    513\u001b[0m           outputs = execute.execute_with_cancellation(\n",
      "\u001b[0;32m~/anaconda3/envs/my_env/lib/python3.7/site-packages/tensorflow_core/python/eager/execute.py\u001b[0m in \u001b[0;36mquick_execute\u001b[0;34m(op_name, num_outputs, inputs, attrs, ctx, name)\u001b[0m\n\u001b[1;32m     59\u001b[0m     tensors = pywrap_tensorflow.TFE_Py_Execute(ctx._handle, device_name,\n\u001b[1;32m     60\u001b[0m                                                \u001b[0mop_name\u001b[0m\u001b[0;34m,\u001b[0m \u001b[0minputs\u001b[0m\u001b[0;34m,\u001b[0m \u001b[0mattrs\u001b[0m\u001b[0;34m,\u001b[0m\u001b[0;34m\u001b[0m\u001b[0;34m\u001b[0m\u001b[0m\n\u001b[0;32m---> 61\u001b[0;31m                                                num_outputs)\n\u001b[0m\u001b[1;32m     62\u001b[0m   \u001b[0;32mexcept\u001b[0m \u001b[0mcore\u001b[0m\u001b[0;34m.\u001b[0m\u001b[0m_NotOkStatusException\u001b[0m \u001b[0;32mas\u001b[0m \u001b[0me\u001b[0m\u001b[0;34m:\u001b[0m\u001b[0;34m\u001b[0m\u001b[0;34m\u001b[0m\u001b[0m\n\u001b[1;32m     63\u001b[0m     \u001b[0;32mif\u001b[0m \u001b[0mname\u001b[0m \u001b[0;32mis\u001b[0m \u001b[0;32mnot\u001b[0m \u001b[0;32mNone\u001b[0m\u001b[0;34m:\u001b[0m\u001b[0;34m\u001b[0m\u001b[0;34m\u001b[0m\u001b[0m\n",
      "\u001b[0;31mKeyboardInterrupt\u001b[0m: "
     ]
    }
   ],
   "source": [
    "%%time\n",
    "history = model.fit(x_train, y_train,\n",
    "                    batch_size=256,\n",
    "                    epochs=64,\n",
    "                    validation_split=0.1,\n",
    "                    verbose=1,\n",
    "                    callbacks=callbacks)"
   ]
  },
  {
   "cell_type": "code",
   "execution_count": 47,
   "metadata": {},
   "outputs": [
    {
     "ename": "FailedPreconditionError",
     "evalue": "2 root error(s) found.\n  (0) Failed precondition: Attempting to use uninitialized value embedding_1/embeddings\n\t [[node embedding_1/embeddings (defined at /home/lingshu/anaconda3/envs/my_env/lib/python3.7/site-packages/tensorflow_core/python/framework/ops.py:1748) ]]\n\t [[embedding_1/embeddings/_251]]\n  (1) Failed precondition: Attempting to use uninitialized value embedding_1/embeddings\n\t [[node embedding_1/embeddings (defined at /home/lingshu/anaconda3/envs/my_env/lib/python3.7/site-packages/tensorflow_core/python/framework/ops.py:1748) ]]\n0 successful operations.\n0 derived errors ignored.\n\nOriginal stack trace for 'embedding_1/embeddings':\n  File \"/home/lingshu/anaconda3/envs/my_env/lib/python3.7/runpy.py\", line 193, in _run_module_as_main\n    \"__main__\", mod_spec)\n  File \"/home/lingshu/anaconda3/envs/my_env/lib/python3.7/runpy.py\", line 85, in _run_code\n    exec(code, run_globals)\n  File \"/home/lingshu/anaconda3/envs/my_env/lib/python3.7/site-packages/ipykernel_launcher.py\", line 16, in <module>\n    app.launch_new_instance()\n  File \"/home/lingshu/anaconda3/envs/my_env/lib/python3.7/site-packages/traitlets/config/application.py\", line 664, in launch_instance\n    app.start()\n  File \"/home/lingshu/anaconda3/envs/my_env/lib/python3.7/site-packages/ipykernel/kernelapp.py\", line 563, in start\n    self.io_loop.start()\n  File \"/home/lingshu/anaconda3/envs/my_env/lib/python3.7/site-packages/tornado/platform/asyncio.py\", line 148, in start\n    self.asyncio_loop.run_forever()\n  File \"/home/lingshu/anaconda3/envs/my_env/lib/python3.7/asyncio/base_events.py\", line 534, in run_forever\n    self._run_once()\n  File \"/home/lingshu/anaconda3/envs/my_env/lib/python3.7/asyncio/base_events.py\", line 1771, in _run_once\n    handle._run()\n  File \"/home/lingshu/anaconda3/envs/my_env/lib/python3.7/asyncio/events.py\", line 88, in _run\n    self._context.run(self._callback, *self._args)\n  File \"/home/lingshu/anaconda3/envs/my_env/lib/python3.7/site-packages/tornado/ioloop.py\", line 690, in <lambda>\n    lambda f: self._run_callback(functools.partial(callback, future))\n  File \"/home/lingshu/anaconda3/envs/my_env/lib/python3.7/site-packages/tornado/ioloop.py\", line 743, in _run_callback\n    ret = callback()\n  File \"/home/lingshu/anaconda3/envs/my_env/lib/python3.7/site-packages/tornado/gen.py\", line 787, in inner\n    self.run()\n  File \"/home/lingshu/anaconda3/envs/my_env/lib/python3.7/site-packages/tornado/gen.py\", line 748, in run\n    yielded = self.gen.send(value)\n  File \"/home/lingshu/anaconda3/envs/my_env/lib/python3.7/site-packages/ipykernel/kernelbase.py\", line 361, in process_one\n    yield gen.maybe_future(dispatch(*args))\n  File \"/home/lingshu/anaconda3/envs/my_env/lib/python3.7/site-packages/tornado/gen.py\", line 209, in wrapper\n    yielded = next(result)\n  File \"/home/lingshu/anaconda3/envs/my_env/lib/python3.7/site-packages/ipykernel/kernelbase.py\", line 268, in dispatch_shell\n    yield gen.maybe_future(handler(stream, idents, msg))\n  File \"/home/lingshu/anaconda3/envs/my_env/lib/python3.7/site-packages/tornado/gen.py\", line 209, in wrapper\n    yielded = next(result)\n  File \"/home/lingshu/anaconda3/envs/my_env/lib/python3.7/site-packages/ipykernel/kernelbase.py\", line 541, in execute_request\n    user_expressions, allow_stdin,\n  File \"/home/lingshu/anaconda3/envs/my_env/lib/python3.7/site-packages/tornado/gen.py\", line 209, in wrapper\n    yielded = next(result)\n  File \"/home/lingshu/anaconda3/envs/my_env/lib/python3.7/site-packages/ipykernel/ipkernel.py\", line 300, in do_execute\n    res = shell.run_cell(code, store_history=store_history, silent=silent)\n  File \"/home/lingshu/anaconda3/envs/my_env/lib/python3.7/site-packages/ipykernel/zmqshell.py\", line 536, in run_cell\n    return super(ZMQInteractiveShell, self).run_cell(*args, **kwargs)\n  File \"/home/lingshu/anaconda3/envs/my_env/lib/python3.7/site-packages/IPython/core/interactiveshell.py\", line 2848, in run_cell\n    raw_cell, store_history, silent, shell_futures)\n  File \"/home/lingshu/anaconda3/envs/my_env/lib/python3.7/site-packages/IPython/core/interactiveshell.py\", line 2874, in _run_cell\n    return runner(coro)\n  File \"/home/lingshu/anaconda3/envs/my_env/lib/python3.7/site-packages/IPython/core/async_helpers.py\", line 68, in _pseudo_sync_runner\n    coro.send(None)\n  File \"/home/lingshu/anaconda3/envs/my_env/lib/python3.7/site-packages/IPython/core/interactiveshell.py\", line 3051, in run_cell_async\n    interactivity=interactivity, compiler=compiler, result=result)\n  File \"/home/lingshu/anaconda3/envs/my_env/lib/python3.7/site-packages/IPython/core/interactiveshell.py\", line 3242, in run_ast_nodes\n    if (await self.run_code(code, result,  async_=asy)):\n  File \"/home/lingshu/anaconda3/envs/my_env/lib/python3.7/site-packages/IPython/core/interactiveshell.py\", line 3319, in run_code\n    exec(code_obj, self.user_global_ns, self.user_ns)\n  File \"<ipython-input-35-01d42b1a51c2>\", line 2, in <module>\n    embed = embedding_layer(main_input)\n  File \"/home/lingshu/anaconda3/envs/my_env/lib/python3.7/site-packages/keras/engine/base_layer.py\", line 431, in __call__\n    self.build(unpack_singleton(input_shapes))\n  File \"/home/lingshu/anaconda3/envs/my_env/lib/python3.7/site-packages/keras/layers/embeddings.py\", line 109, in build\n    dtype=self.dtype)\n  File \"/home/lingshu/anaconda3/envs/my_env/lib/python3.7/site-packages/keras/legacy/interfaces.py\", line 91, in wrapper\n    return func(*args, **kwargs)\n  File \"/home/lingshu/anaconda3/envs/my_env/lib/python3.7/site-packages/keras/engine/base_layer.py\", line 252, in add_weight\n    constraint=constraint)\n  File \"/home/lingshu/anaconda3/envs/my_env/lib/python3.7/site-packages/keras/backend/tensorflow_backend.py\", line 402, in variable\n    v = tf.Variable(value, dtype=tf.as_dtype(dtype), name=name)\n  File \"/home/lingshu/anaconda3/envs/my_env/lib/python3.7/site-packages/tensorflow_core/python/ops/variables.py\", line 258, in __call__\n    return cls._variable_v1_call(*args, **kwargs)\n  File \"/home/lingshu/anaconda3/envs/my_env/lib/python3.7/site-packages/tensorflow_core/python/ops/variables.py\", line 219, in _variable_v1_call\n    shape=shape)\n  File \"/home/lingshu/anaconda3/envs/my_env/lib/python3.7/site-packages/tensorflow_core/python/ops/variables.py\", line 197, in <lambda>\n    previous_getter = lambda **kwargs: default_variable_creator(None, **kwargs)\n  File \"/home/lingshu/anaconda3/envs/my_env/lib/python3.7/site-packages/tensorflow_core/python/ops/variable_scope.py\", line 2519, in default_variable_creator\n    shape=shape)\n  File \"/home/lingshu/anaconda3/envs/my_env/lib/python3.7/site-packages/tensorflow_core/python/ops/variables.py\", line 262, in __call__\n    return super(VariableMetaclass, cls).__call__(*args, **kwargs)\n  File \"/home/lingshu/anaconda3/envs/my_env/lib/python3.7/site-packages/tensorflow_core/python/ops/variables.py\", line 1688, in __init__\n    shape=shape)\n  File \"/home/lingshu/anaconda3/envs/my_env/lib/python3.7/site-packages/tensorflow_core/python/ops/variables.py\", line 1846, in _init_from_args\n    shape, self._initial_value.dtype.base_dtype, name=name)\n  File \"/home/lingshu/anaconda3/envs/my_env/lib/python3.7/site-packages/tensorflow_core/python/ops/state_ops.py\", line 79, in variable_op_v2\n    shared_name=shared_name)\n  File \"/home/lingshu/anaconda3/envs/my_env/lib/python3.7/site-packages/tensorflow_core/python/ops/gen_state_ops.py\", line 1621, in variable_v2\n    shared_name=shared_name, name=name)\n  File \"/home/lingshu/anaconda3/envs/my_env/lib/python3.7/site-packages/tensorflow_core/python/framework/op_def_library.py\", line 794, in _apply_op_helper\n    op_def=op_def)\n  File \"/home/lingshu/anaconda3/envs/my_env/lib/python3.7/site-packages/tensorflow_core/python/util/deprecation.py\", line 507, in new_func\n    return func(*args, **kwargs)\n  File \"/home/lingshu/anaconda3/envs/my_env/lib/python3.7/site-packages/tensorflow_core/python/framework/ops.py\", line 3357, in create_op\n    attrs, op_def, compute_device)\n  File \"/home/lingshu/anaconda3/envs/my_env/lib/python3.7/site-packages/tensorflow_core/python/framework/ops.py\", line 3426, in _create_op_internal\n    op_def=op_def)\n  File \"/home/lingshu/anaconda3/envs/my_env/lib/python3.7/site-packages/tensorflow_core/python/framework/ops.py\", line 1748, in __init__\n    self._traceback = tf_stack.extract_stack()\n",
     "output_type": "error",
     "traceback": [
      "\u001b[0;31m---------------------------------------------------------------------------\u001b[0m",
      "\u001b[0;31mFailedPreconditionError\u001b[0m                   Traceback (most recent call last)",
      "\u001b[0;32m~/anaconda3/envs/my_env/lib/python3.7/site-packages/tensorflow_core/python/client/session.py\u001b[0m in \u001b[0;36m_do_call\u001b[0;34m(self, fn, *args)\u001b[0m\n\u001b[1;32m   1364\u001b[0m     \u001b[0;32mtry\u001b[0m\u001b[0;34m:\u001b[0m\u001b[0;34m\u001b[0m\u001b[0;34m\u001b[0m\u001b[0m\n\u001b[0;32m-> 1365\u001b[0;31m       \u001b[0;32mreturn\u001b[0m \u001b[0mfn\u001b[0m\u001b[0;34m(\u001b[0m\u001b[0;34m*\u001b[0m\u001b[0margs\u001b[0m\u001b[0;34m)\u001b[0m\u001b[0;34m\u001b[0m\u001b[0;34m\u001b[0m\u001b[0m\n\u001b[0m\u001b[1;32m   1366\u001b[0m     \u001b[0;32mexcept\u001b[0m \u001b[0merrors\u001b[0m\u001b[0;34m.\u001b[0m\u001b[0mOpError\u001b[0m \u001b[0;32mas\u001b[0m \u001b[0me\u001b[0m\u001b[0;34m:\u001b[0m\u001b[0;34m\u001b[0m\u001b[0;34m\u001b[0m\u001b[0m\n",
      "\u001b[0;32m~/anaconda3/envs/my_env/lib/python3.7/site-packages/tensorflow_core/python/client/session.py\u001b[0m in \u001b[0;36m_run_fn\u001b[0;34m(feed_dict, fetch_list, target_list, options, run_metadata)\u001b[0m\n\u001b[1;32m   1349\u001b[0m       return self._call_tf_sessionrun(options, feed_dict, fetch_list,\n\u001b[0;32m-> 1350\u001b[0;31m                                       target_list, run_metadata)\n\u001b[0m\u001b[1;32m   1351\u001b[0m \u001b[0;34m\u001b[0m\u001b[0m\n",
      "\u001b[0;32m~/anaconda3/envs/my_env/lib/python3.7/site-packages/tensorflow_core/python/client/session.py\u001b[0m in \u001b[0;36m_call_tf_sessionrun\u001b[0;34m(self, options, feed_dict, fetch_list, target_list, run_metadata)\u001b[0m\n\u001b[1;32m   1442\u001b[0m                                             \u001b[0mfetch_list\u001b[0m\u001b[0;34m,\u001b[0m \u001b[0mtarget_list\u001b[0m\u001b[0;34m,\u001b[0m\u001b[0;34m\u001b[0m\u001b[0;34m\u001b[0m\u001b[0m\n\u001b[0;32m-> 1443\u001b[0;31m                                             run_metadata)\n\u001b[0m\u001b[1;32m   1444\u001b[0m \u001b[0;34m\u001b[0m\u001b[0m\n",
      "\u001b[0;31mFailedPreconditionError\u001b[0m: 2 root error(s) found.\n  (0) Failed precondition: Attempting to use uninitialized value embedding_1/embeddings\n\t [[{{node embedding_1/embeddings}}]]\n\t [[embedding_1/embeddings/_251]]\n  (1) Failed precondition: Attempting to use uninitialized value embedding_1/embeddings\n\t [[{{node embedding_1/embeddings}}]]\n0 successful operations.\n0 derived errors ignored.",
      "\nDuring handling of the above exception, another exception occurred:\n",
      "\u001b[0;31mFailedPreconditionError\u001b[0m                   Traceback (most recent call last)",
      "\u001b[0;32m<ipython-input-47-d8eb8900e370>\u001b[0m in \u001b[0;36m<module>\u001b[0;34m\u001b[0m\n\u001b[0;32m----> 1\u001b[0;31m \u001b[0mmodel\u001b[0m\u001b[0;34m.\u001b[0m\u001b[0msave\u001b[0m\u001b[0;34m(\u001b[0m\u001b[0;34m\"model_glove_lstm2.h5\"\u001b[0m\u001b[0;34m)\u001b[0m\u001b[0;34m\u001b[0m\u001b[0;34m\u001b[0m\u001b[0m\n\u001b[0m\u001b[1;32m      2\u001b[0m \u001b[0;31m#w2v_model.save(WORD2VEC_MODEL)\u001b[0m\u001b[0;34m\u001b[0m\u001b[0;34m\u001b[0m\u001b[0;34m\u001b[0m\u001b[0m\n\u001b[1;32m      3\u001b[0m \u001b[0mpickle\u001b[0m\u001b[0;34m.\u001b[0m\u001b[0mdump\u001b[0m\u001b[0;34m(\u001b[0m\u001b[0mtokenizer\u001b[0m\u001b[0;34m,\u001b[0m \u001b[0mopen\u001b[0m\u001b[0;34m(\u001b[0m\u001b[0mTOKENIZER_MODEL\u001b[0m\u001b[0;34m,\u001b[0m \u001b[0;34m\"wb\"\u001b[0m\u001b[0;34m)\u001b[0m\u001b[0;34m,\u001b[0m \u001b[0mprotocol\u001b[0m\u001b[0;34m=\u001b[0m\u001b[0;36m0\u001b[0m\u001b[0;34m)\u001b[0m\u001b[0;34m\u001b[0m\u001b[0;34m\u001b[0m\u001b[0m\n\u001b[1;32m      4\u001b[0m \u001b[0mpickle\u001b[0m\u001b[0;34m.\u001b[0m\u001b[0mdump\u001b[0m\u001b[0;34m(\u001b[0m\u001b[0mencoder\u001b[0m\u001b[0;34m,\u001b[0m \u001b[0mopen\u001b[0m\u001b[0;34m(\u001b[0m\u001b[0mENCODER_MODEL\u001b[0m\u001b[0;34m,\u001b[0m \u001b[0;34m\"wb\"\u001b[0m\u001b[0;34m)\u001b[0m\u001b[0;34m,\u001b[0m \u001b[0mprotocol\u001b[0m\u001b[0;34m=\u001b[0m\u001b[0;36m0\u001b[0m\u001b[0;34m)\u001b[0m\u001b[0;34m\u001b[0m\u001b[0;34m\u001b[0m\u001b[0m\n",
      "\u001b[0;32m~/anaconda3/envs/my_env/lib/python3.7/site-packages/keras/engine/network.py\u001b[0m in \u001b[0;36msave\u001b[0;34m(self, filepath, overwrite, include_optimizer)\u001b[0m\n\u001b[1;32m   1088\u001b[0m             \u001b[0;32mraise\u001b[0m \u001b[0mNotImplementedError\u001b[0m\u001b[0;34m\u001b[0m\u001b[0;34m\u001b[0m\u001b[0m\n\u001b[1;32m   1089\u001b[0m         \u001b[0;32mfrom\u001b[0m \u001b[0;34m.\u001b[0m\u001b[0;34m.\u001b[0m\u001b[0mmodels\u001b[0m \u001b[0;32mimport\u001b[0m \u001b[0msave_model\u001b[0m\u001b[0;34m\u001b[0m\u001b[0;34m\u001b[0m\u001b[0m\n\u001b[0;32m-> 1090\u001b[0;31m         \u001b[0msave_model\u001b[0m\u001b[0;34m(\u001b[0m\u001b[0mself\u001b[0m\u001b[0;34m,\u001b[0m \u001b[0mfilepath\u001b[0m\u001b[0;34m,\u001b[0m \u001b[0moverwrite\u001b[0m\u001b[0;34m,\u001b[0m \u001b[0minclude_optimizer\u001b[0m\u001b[0;34m)\u001b[0m\u001b[0;34m\u001b[0m\u001b[0;34m\u001b[0m\u001b[0m\n\u001b[0m\u001b[1;32m   1091\u001b[0m \u001b[0;34m\u001b[0m\u001b[0m\n\u001b[1;32m   1092\u001b[0m     \u001b[0;32mdef\u001b[0m \u001b[0msave_weights\u001b[0m\u001b[0;34m(\u001b[0m\u001b[0mself\u001b[0m\u001b[0;34m,\u001b[0m \u001b[0mfilepath\u001b[0m\u001b[0;34m,\u001b[0m \u001b[0moverwrite\u001b[0m\u001b[0;34m=\u001b[0m\u001b[0;32mTrue\u001b[0m\u001b[0;34m)\u001b[0m\u001b[0;34m:\u001b[0m\u001b[0;34m\u001b[0m\u001b[0;34m\u001b[0m\u001b[0m\n",
      "\u001b[0;32m~/anaconda3/envs/my_env/lib/python3.7/site-packages/keras/engine/saving.py\u001b[0m in \u001b[0;36msave_model\u001b[0;34m(model, filepath, overwrite, include_optimizer)\u001b[0m\n\u001b[1;32m    380\u001b[0m \u001b[0;34m\u001b[0m\u001b[0m\n\u001b[1;32m    381\u001b[0m     \u001b[0;32mtry\u001b[0m\u001b[0;34m:\u001b[0m\u001b[0;34m\u001b[0m\u001b[0;34m\u001b[0m\u001b[0m\n\u001b[0;32m--> 382\u001b[0;31m         \u001b[0m_serialize_model\u001b[0m\u001b[0;34m(\u001b[0m\u001b[0mmodel\u001b[0m\u001b[0;34m,\u001b[0m \u001b[0mf\u001b[0m\u001b[0;34m,\u001b[0m \u001b[0minclude_optimizer\u001b[0m\u001b[0;34m)\u001b[0m\u001b[0;34m\u001b[0m\u001b[0;34m\u001b[0m\u001b[0m\n\u001b[0m\u001b[1;32m    383\u001b[0m     \u001b[0;32mfinally\u001b[0m\u001b[0;34m:\u001b[0m\u001b[0;34m\u001b[0m\u001b[0;34m\u001b[0m\u001b[0m\n\u001b[1;32m    384\u001b[0m         \u001b[0;32mif\u001b[0m \u001b[0mopened_new_file\u001b[0m\u001b[0;34m:\u001b[0m\u001b[0;34m\u001b[0m\u001b[0;34m\u001b[0m\u001b[0m\n",
      "\u001b[0;32m~/anaconda3/envs/my_env/lib/python3.7/site-packages/keras/engine/saving.py\u001b[0m in \u001b[0;36m_serialize_model\u001b[0;34m(model, f, include_optimizer)\u001b[0m\n\u001b[1;32m     95\u001b[0m         \u001b[0mlayer_group\u001b[0m \u001b[0;34m=\u001b[0m \u001b[0mmodel_weights_group\u001b[0m\u001b[0;34m[\u001b[0m\u001b[0mlayer\u001b[0m\u001b[0;34m.\u001b[0m\u001b[0mname\u001b[0m\u001b[0;34m]\u001b[0m\u001b[0;34m\u001b[0m\u001b[0;34m\u001b[0m\u001b[0m\n\u001b[1;32m     96\u001b[0m         \u001b[0msymbolic_weights\u001b[0m \u001b[0;34m=\u001b[0m \u001b[0mlayer\u001b[0m\u001b[0;34m.\u001b[0m\u001b[0mweights\u001b[0m\u001b[0;34m\u001b[0m\u001b[0;34m\u001b[0m\u001b[0m\n\u001b[0;32m---> 97\u001b[0;31m         \u001b[0mweight_values\u001b[0m \u001b[0;34m=\u001b[0m \u001b[0mK\u001b[0m\u001b[0;34m.\u001b[0m\u001b[0mbatch_get_value\u001b[0m\u001b[0;34m(\u001b[0m\u001b[0msymbolic_weights\u001b[0m\u001b[0;34m)\u001b[0m\u001b[0;34m\u001b[0m\u001b[0;34m\u001b[0m\u001b[0m\n\u001b[0m\u001b[1;32m     98\u001b[0m         \u001b[0mweight_names\u001b[0m \u001b[0;34m=\u001b[0m \u001b[0;34m[\u001b[0m\u001b[0;34m]\u001b[0m\u001b[0;34m\u001b[0m\u001b[0;34m\u001b[0m\u001b[0m\n\u001b[1;32m     99\u001b[0m         \u001b[0;32mfor\u001b[0m \u001b[0mi\u001b[0m\u001b[0;34m,\u001b[0m \u001b[0;34m(\u001b[0m\u001b[0mw\u001b[0m\u001b[0;34m,\u001b[0m \u001b[0mval\u001b[0m\u001b[0;34m)\u001b[0m \u001b[0;32min\u001b[0m \u001b[0menumerate\u001b[0m\u001b[0;34m(\u001b[0m\u001b[0mzip\u001b[0m\u001b[0;34m(\u001b[0m\u001b[0msymbolic_weights\u001b[0m\u001b[0;34m,\u001b[0m \u001b[0mweight_values\u001b[0m\u001b[0;34m)\u001b[0m\u001b[0;34m)\u001b[0m\u001b[0;34m:\u001b[0m\u001b[0;34m\u001b[0m\u001b[0;34m\u001b[0m\u001b[0m\n",
      "\u001b[0;32m~/anaconda3/envs/my_env/lib/python3.7/site-packages/keras/backend/tensorflow_backend.py\u001b[0m in \u001b[0;36mbatch_get_value\u001b[0;34m(ops)\u001b[0m\n\u001b[1;32m   2418\u001b[0m     \"\"\"\n\u001b[1;32m   2419\u001b[0m     \u001b[0;32mif\u001b[0m \u001b[0mops\u001b[0m\u001b[0;34m:\u001b[0m\u001b[0;34m\u001b[0m\u001b[0;34m\u001b[0m\u001b[0m\n\u001b[0;32m-> 2420\u001b[0;31m         \u001b[0;32mreturn\u001b[0m \u001b[0mget_session\u001b[0m\u001b[0;34m(\u001b[0m\u001b[0;34m)\u001b[0m\u001b[0;34m.\u001b[0m\u001b[0mrun\u001b[0m\u001b[0;34m(\u001b[0m\u001b[0mops\u001b[0m\u001b[0;34m)\u001b[0m\u001b[0;34m\u001b[0m\u001b[0;34m\u001b[0m\u001b[0m\n\u001b[0m\u001b[1;32m   2421\u001b[0m     \u001b[0;32melse\u001b[0m\u001b[0;34m:\u001b[0m\u001b[0;34m\u001b[0m\u001b[0;34m\u001b[0m\u001b[0m\n\u001b[1;32m   2422\u001b[0m         \u001b[0;32mreturn\u001b[0m \u001b[0;34m[\u001b[0m\u001b[0;34m]\u001b[0m\u001b[0;34m\u001b[0m\u001b[0;34m\u001b[0m\u001b[0m\n",
      "\u001b[0;32m~/anaconda3/envs/my_env/lib/python3.7/site-packages/tensorflow_core/python/client/session.py\u001b[0m in \u001b[0;36mrun\u001b[0;34m(self, fetches, feed_dict, options, run_metadata)\u001b[0m\n\u001b[1;32m    954\u001b[0m     \u001b[0;32mtry\u001b[0m\u001b[0;34m:\u001b[0m\u001b[0;34m\u001b[0m\u001b[0;34m\u001b[0m\u001b[0m\n\u001b[1;32m    955\u001b[0m       result = self._run(None, fetches, feed_dict, options_ptr,\n\u001b[0;32m--> 956\u001b[0;31m                          run_metadata_ptr)\n\u001b[0m\u001b[1;32m    957\u001b[0m       \u001b[0;32mif\u001b[0m \u001b[0mrun_metadata\u001b[0m\u001b[0;34m:\u001b[0m\u001b[0;34m\u001b[0m\u001b[0;34m\u001b[0m\u001b[0m\n\u001b[1;32m    958\u001b[0m         \u001b[0mproto_data\u001b[0m \u001b[0;34m=\u001b[0m \u001b[0mtf_session\u001b[0m\u001b[0;34m.\u001b[0m\u001b[0mTF_GetBuffer\u001b[0m\u001b[0;34m(\u001b[0m\u001b[0mrun_metadata_ptr\u001b[0m\u001b[0;34m)\u001b[0m\u001b[0;34m\u001b[0m\u001b[0;34m\u001b[0m\u001b[0m\n",
      "\u001b[0;32m~/anaconda3/envs/my_env/lib/python3.7/site-packages/tensorflow_core/python/client/session.py\u001b[0m in \u001b[0;36m_run\u001b[0;34m(self, handle, fetches, feed_dict, options, run_metadata)\u001b[0m\n\u001b[1;32m   1178\u001b[0m     \u001b[0;32mif\u001b[0m \u001b[0mfinal_fetches\u001b[0m \u001b[0;32mor\u001b[0m \u001b[0mfinal_targets\u001b[0m \u001b[0;32mor\u001b[0m \u001b[0;34m(\u001b[0m\u001b[0mhandle\u001b[0m \u001b[0;32mand\u001b[0m \u001b[0mfeed_dict_tensor\u001b[0m\u001b[0;34m)\u001b[0m\u001b[0;34m:\u001b[0m\u001b[0;34m\u001b[0m\u001b[0;34m\u001b[0m\u001b[0m\n\u001b[1;32m   1179\u001b[0m       results = self._do_run(handle, final_targets, final_fetches,\n\u001b[0;32m-> 1180\u001b[0;31m                              feed_dict_tensor, options, run_metadata)\n\u001b[0m\u001b[1;32m   1181\u001b[0m     \u001b[0;32melse\u001b[0m\u001b[0;34m:\u001b[0m\u001b[0;34m\u001b[0m\u001b[0;34m\u001b[0m\u001b[0m\n\u001b[1;32m   1182\u001b[0m       \u001b[0mresults\u001b[0m \u001b[0;34m=\u001b[0m \u001b[0;34m[\u001b[0m\u001b[0;34m]\u001b[0m\u001b[0;34m\u001b[0m\u001b[0;34m\u001b[0m\u001b[0m\n",
      "\u001b[0;32m~/anaconda3/envs/my_env/lib/python3.7/site-packages/tensorflow_core/python/client/session.py\u001b[0m in \u001b[0;36m_do_run\u001b[0;34m(self, handle, target_list, fetch_list, feed_dict, options, run_metadata)\u001b[0m\n\u001b[1;32m   1357\u001b[0m     \u001b[0;32mif\u001b[0m \u001b[0mhandle\u001b[0m \u001b[0;32mis\u001b[0m \u001b[0;32mNone\u001b[0m\u001b[0;34m:\u001b[0m\u001b[0;34m\u001b[0m\u001b[0;34m\u001b[0m\u001b[0m\n\u001b[1;32m   1358\u001b[0m       return self._do_call(_run_fn, feeds, fetches, targets, options,\n\u001b[0;32m-> 1359\u001b[0;31m                            run_metadata)\n\u001b[0m\u001b[1;32m   1360\u001b[0m     \u001b[0;32melse\u001b[0m\u001b[0;34m:\u001b[0m\u001b[0;34m\u001b[0m\u001b[0;34m\u001b[0m\u001b[0m\n\u001b[1;32m   1361\u001b[0m       \u001b[0;32mreturn\u001b[0m \u001b[0mself\u001b[0m\u001b[0;34m.\u001b[0m\u001b[0m_do_call\u001b[0m\u001b[0;34m(\u001b[0m\u001b[0m_prun_fn\u001b[0m\u001b[0;34m,\u001b[0m \u001b[0mhandle\u001b[0m\u001b[0;34m,\u001b[0m \u001b[0mfeeds\u001b[0m\u001b[0;34m,\u001b[0m \u001b[0mfetches\u001b[0m\u001b[0;34m)\u001b[0m\u001b[0;34m\u001b[0m\u001b[0;34m\u001b[0m\u001b[0m\n",
      "\u001b[0;32m~/anaconda3/envs/my_env/lib/python3.7/site-packages/tensorflow_core/python/client/session.py\u001b[0m in \u001b[0;36m_do_call\u001b[0;34m(self, fn, *args)\u001b[0m\n\u001b[1;32m   1382\u001b[0m                     \u001b[0;34m'\\nsession_config.graph_options.rewrite_options.'\u001b[0m\u001b[0;34m\u001b[0m\u001b[0;34m\u001b[0m\u001b[0m\n\u001b[1;32m   1383\u001b[0m                     'disable_meta_optimizer = True')\n\u001b[0;32m-> 1384\u001b[0;31m       \u001b[0;32mraise\u001b[0m \u001b[0mtype\u001b[0m\u001b[0;34m(\u001b[0m\u001b[0me\u001b[0m\u001b[0;34m)\u001b[0m\u001b[0;34m(\u001b[0m\u001b[0mnode_def\u001b[0m\u001b[0;34m,\u001b[0m \u001b[0mop\u001b[0m\u001b[0;34m,\u001b[0m \u001b[0mmessage\u001b[0m\u001b[0;34m)\u001b[0m\u001b[0;34m\u001b[0m\u001b[0;34m\u001b[0m\u001b[0m\n\u001b[0m\u001b[1;32m   1385\u001b[0m \u001b[0;34m\u001b[0m\u001b[0m\n\u001b[1;32m   1386\u001b[0m   \u001b[0;32mdef\u001b[0m \u001b[0m_extend_graph\u001b[0m\u001b[0;34m(\u001b[0m\u001b[0mself\u001b[0m\u001b[0;34m)\u001b[0m\u001b[0;34m:\u001b[0m\u001b[0;34m\u001b[0m\u001b[0;34m\u001b[0m\u001b[0m\n",
      "\u001b[0;31mFailedPreconditionError\u001b[0m: 2 root error(s) found.\n  (0) Failed precondition: Attempting to use uninitialized value embedding_1/embeddings\n\t [[node embedding_1/embeddings (defined at /home/lingshu/anaconda3/envs/my_env/lib/python3.7/site-packages/tensorflow_core/python/framework/ops.py:1748) ]]\n\t [[embedding_1/embeddings/_251]]\n  (1) Failed precondition: Attempting to use uninitialized value embedding_1/embeddings\n\t [[node embedding_1/embeddings (defined at /home/lingshu/anaconda3/envs/my_env/lib/python3.7/site-packages/tensorflow_core/python/framework/ops.py:1748) ]]\n0 successful operations.\n0 derived errors ignored.\n\nOriginal stack trace for 'embedding_1/embeddings':\n  File \"/home/lingshu/anaconda3/envs/my_env/lib/python3.7/runpy.py\", line 193, in _run_module_as_main\n    \"__main__\", mod_spec)\n  File \"/home/lingshu/anaconda3/envs/my_env/lib/python3.7/runpy.py\", line 85, in _run_code\n    exec(code, run_globals)\n  File \"/home/lingshu/anaconda3/envs/my_env/lib/python3.7/site-packages/ipykernel_launcher.py\", line 16, in <module>\n    app.launch_new_instance()\n  File \"/home/lingshu/anaconda3/envs/my_env/lib/python3.7/site-packages/traitlets/config/application.py\", line 664, in launch_instance\n    app.start()\n  File \"/home/lingshu/anaconda3/envs/my_env/lib/python3.7/site-packages/ipykernel/kernelapp.py\", line 563, in start\n    self.io_loop.start()\n  File \"/home/lingshu/anaconda3/envs/my_env/lib/python3.7/site-packages/tornado/platform/asyncio.py\", line 148, in start\n    self.asyncio_loop.run_forever()\n  File \"/home/lingshu/anaconda3/envs/my_env/lib/python3.7/asyncio/base_events.py\", line 534, in run_forever\n    self._run_once()\n  File \"/home/lingshu/anaconda3/envs/my_env/lib/python3.7/asyncio/base_events.py\", line 1771, in _run_once\n    handle._run()\n  File \"/home/lingshu/anaconda3/envs/my_env/lib/python3.7/asyncio/events.py\", line 88, in _run\n    self._context.run(self._callback, *self._args)\n  File \"/home/lingshu/anaconda3/envs/my_env/lib/python3.7/site-packages/tornado/ioloop.py\", line 690, in <lambda>\n    lambda f: self._run_callback(functools.partial(callback, future))\n  File \"/home/lingshu/anaconda3/envs/my_env/lib/python3.7/site-packages/tornado/ioloop.py\", line 743, in _run_callback\n    ret = callback()\n  File \"/home/lingshu/anaconda3/envs/my_env/lib/python3.7/site-packages/tornado/gen.py\", line 787, in inner\n    self.run()\n  File \"/home/lingshu/anaconda3/envs/my_env/lib/python3.7/site-packages/tornado/gen.py\", line 748, in run\n    yielded = self.gen.send(value)\n  File \"/home/lingshu/anaconda3/envs/my_env/lib/python3.7/site-packages/ipykernel/kernelbase.py\", line 361, in process_one\n    yield gen.maybe_future(dispatch(*args))\n  File \"/home/lingshu/anaconda3/envs/my_env/lib/python3.7/site-packages/tornado/gen.py\", line 209, in wrapper\n    yielded = next(result)\n  File \"/home/lingshu/anaconda3/envs/my_env/lib/python3.7/site-packages/ipykernel/kernelbase.py\", line 268, in dispatch_shell\n    yield gen.maybe_future(handler(stream, idents, msg))\n  File \"/home/lingshu/anaconda3/envs/my_env/lib/python3.7/site-packages/tornado/gen.py\", line 209, in wrapper\n    yielded = next(result)\n  File \"/home/lingshu/anaconda3/envs/my_env/lib/python3.7/site-packages/ipykernel/kernelbase.py\", line 541, in execute_request\n    user_expressions, allow_stdin,\n  File \"/home/lingshu/anaconda3/envs/my_env/lib/python3.7/site-packages/tornado/gen.py\", line 209, in wrapper\n    yielded = next(result)\n  File \"/home/lingshu/anaconda3/envs/my_env/lib/python3.7/site-packages/ipykernel/ipkernel.py\", line 300, in do_execute\n    res = shell.run_cell(code, store_history=store_history, silent=silent)\n  File \"/home/lingshu/anaconda3/envs/my_env/lib/python3.7/site-packages/ipykernel/zmqshell.py\", line 536, in run_cell\n    return super(ZMQInteractiveShell, self).run_cell(*args, **kwargs)\n  File \"/home/lingshu/anaconda3/envs/my_env/lib/python3.7/site-packages/IPython/core/interactiveshell.py\", line 2848, in run_cell\n    raw_cell, store_history, silent, shell_futures)\n  File \"/home/lingshu/anaconda3/envs/my_env/lib/python3.7/site-packages/IPython/core/interactiveshell.py\", line 2874, in _run_cell\n    return runner(coro)\n  File \"/home/lingshu/anaconda3/envs/my_env/lib/python3.7/site-packages/IPython/core/async_helpers.py\", line 68, in _pseudo_sync_runner\n    coro.send(None)\n  File \"/home/lingshu/anaconda3/envs/my_env/lib/python3.7/site-packages/IPython/core/interactiveshell.py\", line 3051, in run_cell_async\n    interactivity=interactivity, compiler=compiler, result=result)\n  File \"/home/lingshu/anaconda3/envs/my_env/lib/python3.7/site-packages/IPython/core/interactiveshell.py\", line 3242, in run_ast_nodes\n    if (await self.run_code(code, result,  async_=asy)):\n  File \"/home/lingshu/anaconda3/envs/my_env/lib/python3.7/site-packages/IPython/core/interactiveshell.py\", line 3319, in run_code\n    exec(code_obj, self.user_global_ns, self.user_ns)\n  File \"<ipython-input-35-01d42b1a51c2>\", line 2, in <module>\n    embed = embedding_layer(main_input)\n  File \"/home/lingshu/anaconda3/envs/my_env/lib/python3.7/site-packages/keras/engine/base_layer.py\", line 431, in __call__\n    self.build(unpack_singleton(input_shapes))\n  File \"/home/lingshu/anaconda3/envs/my_env/lib/python3.7/site-packages/keras/layers/embeddings.py\", line 109, in build\n    dtype=self.dtype)\n  File \"/home/lingshu/anaconda3/envs/my_env/lib/python3.7/site-packages/keras/legacy/interfaces.py\", line 91, in wrapper\n    return func(*args, **kwargs)\n  File \"/home/lingshu/anaconda3/envs/my_env/lib/python3.7/site-packages/keras/engine/base_layer.py\", line 252, in add_weight\n    constraint=constraint)\n  File \"/home/lingshu/anaconda3/envs/my_env/lib/python3.7/site-packages/keras/backend/tensorflow_backend.py\", line 402, in variable\n    v = tf.Variable(value, dtype=tf.as_dtype(dtype), name=name)\n  File \"/home/lingshu/anaconda3/envs/my_env/lib/python3.7/site-packages/tensorflow_core/python/ops/variables.py\", line 258, in __call__\n    return cls._variable_v1_call(*args, **kwargs)\n  File \"/home/lingshu/anaconda3/envs/my_env/lib/python3.7/site-packages/tensorflow_core/python/ops/variables.py\", line 219, in _variable_v1_call\n    shape=shape)\n  File \"/home/lingshu/anaconda3/envs/my_env/lib/python3.7/site-packages/tensorflow_core/python/ops/variables.py\", line 197, in <lambda>\n    previous_getter = lambda **kwargs: default_variable_creator(None, **kwargs)\n  File \"/home/lingshu/anaconda3/envs/my_env/lib/python3.7/site-packages/tensorflow_core/python/ops/variable_scope.py\", line 2519, in default_variable_creator\n    shape=shape)\n  File \"/home/lingshu/anaconda3/envs/my_env/lib/python3.7/site-packages/tensorflow_core/python/ops/variables.py\", line 262, in __call__\n    return super(VariableMetaclass, cls).__call__(*args, **kwargs)\n  File \"/home/lingshu/anaconda3/envs/my_env/lib/python3.7/site-packages/tensorflow_core/python/ops/variables.py\", line 1688, in __init__\n    shape=shape)\n  File \"/home/lingshu/anaconda3/envs/my_env/lib/python3.7/site-packages/tensorflow_core/python/ops/variables.py\", line 1846, in _init_from_args\n    shape, self._initial_value.dtype.base_dtype, name=name)\n  File \"/home/lingshu/anaconda3/envs/my_env/lib/python3.7/site-packages/tensorflow_core/python/ops/state_ops.py\", line 79, in variable_op_v2\n    shared_name=shared_name)\n  File \"/home/lingshu/anaconda3/envs/my_env/lib/python3.7/site-packages/tensorflow_core/python/ops/gen_state_ops.py\", line 1621, in variable_v2\n    shared_name=shared_name, name=name)\n  File \"/home/lingshu/anaconda3/envs/my_env/lib/python3.7/site-packages/tensorflow_core/python/framework/op_def_library.py\", line 794, in _apply_op_helper\n    op_def=op_def)\n  File \"/home/lingshu/anaconda3/envs/my_env/lib/python3.7/site-packages/tensorflow_core/python/util/deprecation.py\", line 507, in new_func\n    return func(*args, **kwargs)\n  File \"/home/lingshu/anaconda3/envs/my_env/lib/python3.7/site-packages/tensorflow_core/python/framework/ops.py\", line 3357, in create_op\n    attrs, op_def, compute_device)\n  File \"/home/lingshu/anaconda3/envs/my_env/lib/python3.7/site-packages/tensorflow_core/python/framework/ops.py\", line 3426, in _create_op_internal\n    op_def=op_def)\n  File \"/home/lingshu/anaconda3/envs/my_env/lib/python3.7/site-packages/tensorflow_core/python/framework/ops.py\", line 1748, in __init__\n    self._traceback = tf_stack.extract_stack()\n"
     ]
    }
   ],
   "source": [
    "model.save(\"model_glove_lstm2.h5\")\n",
    "#w2v_model.save(WORD2VEC_MODEL)\n",
    "pickle.dump(tokenizer, open(TOKENIZER_MODEL, \"wb\"), protocol=0)\n",
    "pickle.dump(encoder, open(ENCODER_MODEL, \"wb\"), protocol=0)"
   ]
  },
  {
   "cell_type": "markdown",
   "metadata": {},
   "source": [
    "Evaluate"
   ]
  },
  {
   "cell_type": "code",
   "execution_count": 78,
   "metadata": {},
   "outputs": [
    {
     "name": "stdout",
     "output_type": "stream",
     "text": [
      "40000/40000 [==============================] - 2s 62us/step\n",
      "\n",
      "ACCURACY: 0.7707250118255615\n",
      "LOSS: 0.4688954943656921\n",
      "CPU times: user 6.45 s, sys: 482 ms, total: 6.93 s\n",
      "Wall time: 2.53 s\n"
     ]
    }
   ],
   "source": [
    "%%time\n",
    "score = model.evaluate(x_test, y_test, batch_size=BATCH_SIZE)\n",
    "print()\n",
    "print(\"ACCURACY:\",score[1])\n",
    "print(\"LOSS:\",score[0])"
   ]
  },
  {
   "cell_type": "markdown",
   "metadata": {
    "scrolled": true
   },
   "source": [
    "###### acc = history.history['acc']\n",
    "val_acc = history.history['val_acc']\n",
    "loss = history.history['loss']\n",
    "val_loss = history.history['val_loss']\n",
    " \n",
    "epochs = range(len(acc))\n",
    "plt.plot(acc, 'b', label='Training acc')\n",
    "plt.plot(val_acc, 'r', label='Validation acc')\n",
    "plt.title('Training and validation accuracy')\n",
    "plt.legend()\n",
    " \n",
    "plt.figure()\n",
    "\n",
    "plt.plot(epochs, loss, 'b', label='Training loss')\n",
    "plt.plot(epochs, val_loss, 'r', label='Validation loss')\n",
    "plt.title('Training and validation loss')\n",
    "plt.legend()\n",
    " \n",
    "plt.show()"
   ]
  },
  {
   "cell_type": "markdown",
   "metadata": {},
   "source": [
    "ROC curves\n",
    "https://www.dlology.com/blog/simple-guide-on-how-to-generate-roc-plot-for-keras-classifier/"
   ]
  },
  {
   "cell_type": "code",
   "execution_count": 96,
   "metadata": {},
   "outputs": [
    {
     "name": "stdout",
     "output_type": "stream",
     "text": [
      "320000/320000 [==============================] - 203s 635us/step\n"
     ]
    },
    {
     "name": "stderr",
     "output_type": "stream",
     "text": [
      "C:\\Users\\lings\\.conda\\envs\\sentiment\\lib\\site-packages\\ipykernel_launcher.py:12: DataConversionWarning: A column-vector y was passed when a 1d array was expected. Please change the shape of y to (n_samples,), for example using ravel().\n",
      "  if sys.path[0] == '':\n"
     ]
    }
   ],
   "source": [
    "from sklearn.metrics import roc_curve\n",
    "y_pred = model.predict(x_test, verbose=1, batch_size=8000)\n",
    "y_pred_keras = y_pred.ravel()\n",
    "fpr_keras, tpr_keras, thresholds_keras = roc_curve(y_test, y_pred_keras)\n",
    "\n",
    "from sklearn.metrics import auc\n",
    "auc_keras = auc(fpr_keras, tpr_keras)\n",
    "\n",
    "from sklearn.ensemble import RandomForestClassifier\n",
    "# Supervised transformation based on random forests\n",
    "rf = RandomForestClassifier(max_depth=3, n_estimators=10)\n",
    "rf.fit(x_train, y_train)\n",
    "\n",
    "y_pred_rf = rf.predict_proba(x_test)[:, 1]\n",
    "fpr_rf, tpr_rf, thresholds_rf = roc_curve(y_test, y_pred_rf)\n",
    "auc_rf = auc(fpr_rf, tpr_rf)"
   ]
  },
  {
   "cell_type": "code",
   "execution_count": 98,
   "metadata": {},
   "outputs": [
    {
     "data": {
      "image/png": "[encoded data removed]",
      "text/plain": [
       "<Figure size 432x288 with 1 Axes>"
      ]
     },
     "metadata": {
      "needs_background": "light"
     },
     "output_type": "display_data"
    }
   ],
   "source": [
    "plt.figure(1)\n",
    "plt.plot([0, 1], [0, 1], 'k--')\n",
    "plt.plot(fpr_keras, tpr_keras, label='RNN (area = {:.3f})'.format(auc_keras))\n",
    "plt.plot(fpr_rf, tpr_rf, label='RF (area = {:.3f})'.format(auc_rf))\n",
    "plt.xlabel('False positive rate')\n",
    "plt.ylabel('True positive rate')\n",
    "plt.title('ROC curve')\n",
    "plt.legend(loc='best')\n",
    "plt.savefig(\"neg_exp_lstm2.png\")\n",
    "plt.show()\n"
   ]
  },
  {
   "cell_type": "markdown",
   "metadata": {},
   "source": [
    "Predict tweets data"
   ]
  },
  {
   "cell_type": "code",
   "execution_count": 55,
   "metadata": {},
   "outputs": [
    {
     "name": "stdout",
     "output_type": "stream",
     "text": [
      "Open file: .\\tweets_data\\movie_star_text.csv\n",
      "      user_id             status_id  \\\n",
      "0  x168508466  x1139246208608866305   \n",
      "1  x168508466  x1139245583930204161   \n",
      "2  x168508466  x1139244815022006277   \n",
      "3  x168508466  x1139244768008032262   \n",
      "4  x168508466  x1138400329802928128   \n",
      "\n",
      "                                                text  \n",
      "0  Real talk.. this woman is the ish<U+0001F525><...  \n",
      "1  @bonang_m auditioning for Idols with with judg...  \n",
      "2         @bonang_m Congrats Queen! Keep on Rising..  \n",
      "3  @bonang_m You don't know how inspiring you Are...  \n",
      "4  <U+0001F3C6> The #CarlingCup is back and the f...  \n"
     ]
    }
   ],
   "source": [
    "## open tweets data\n",
    "tweets_filename = os.listdir(\"./tweets_data\")[0]\n",
    "tweets_path = os.path.join(\".\",\"tweets_data\",\"movie_star_text.csv\")\n",
    "print(\"Open file:\", tweets_path)\n",
    "df_tweets = pd.read_csv(tweets_path, encoding =DATASET_ENCODING)\n",
    "#df.iloc[0:5] = df.head(5)\n",
    "print(df_tweets.head(5))\n"
   ]
  },
  {
   "cell_type": "code",
   "execution_count": 56,
   "metadata": {},
   "outputs": [],
   "source": [
    "## remove https\n",
    "df_tweets.text = df_tweets.text.apply(lambda x: preprocess(x))"
   ]
  },
  {
   "cell_type": "code",
   "execution_count": 57,
   "metadata": {},
   "outputs": [
    {
     "name": "stdout",
     "output_type": "stream",
     "text": [
      "      user_id             status_id  \\\n",
      "0  x168508466  x1139246208608866305   \n",
      "1  x168508466  x1139245583930204161   \n",
      "2  x168508466  x1139244815022006277   \n",
      "3  x168508466  x1139244768008032262   \n",
      "4  x168508466  x1138400329802928128   \n",
      "\n",
      "                                                text  \n",
      "0  real talk.. this woman is the ish<u+0001f525><...  \n",
      "1  @bonang_m auditioning for idols with with judg...  \n",
      "2         @bonang_m congrats queen! keep on rising..  \n",
      "3  @bonang_m you don't know how inspiring you are...  \n",
      "4  <u+0001f3c6> the #carlingcup is back and the f...  \n"
     ]
    }
   ],
   "source": [
    "print(df_tweets.head(5))\n",
    "tweets_text = pad_sequences(tokenizer.texts_to_sequences(df_tweets.text), maxlen=SEQUENCE_LENGTH)"
   ]
  },
  {
   "cell_type": "code",
   "execution_count": 58,
   "metadata": {},
   "outputs": [
    {
     "name": "stdout",
     "output_type": "stream",
     "text": [
      "Wall time: 48min 12s\n"
     ]
    }
   ],
   "source": [
    "%%time\n",
    "tweets_pred = model.predict(tweets_text)"
   ]
  },
  {
   "cell_type": "code",
   "execution_count": 59,
   "metadata": {},
   "outputs": [
    {
     "name": "stdout",
     "output_type": "stream",
     "text": [
      "[[0.92295945]\n",
      " [0.99032235]\n",
      " [0.9461758 ]\n",
      " [0.85476667]]\n"
     ]
    }
   ],
   "source": [
    "print(tweets_pred[1:5])\n",
    "df_tweets_pred = pd.DataFrame(data=tweets_pred)\n",
    "df_tweets_pred.to_csv(\"./tweets_data/movie_star_pred.csv\", index = False)"
   ]
  },
  {
   "cell_type": "code",
   "execution_count": 214,
   "metadata": {},
   "outputs": [],
   "source": [
    "def decode_sentiment(score, include_neutral=True):\n",
    "    if include_neutral:        \n",
    "        label = NEUTRAL\n",
    "        if score <= SENTIMENT_THRESHOLDS[0]:\n",
    "            label = NEGATIVE\n",
    "        elif score >= SENTIMENT_THRESHOLDS[1]:\n",
    "            label = POSITIVE\n",
    "\n",
    "        return label\n",
    "    else:\n",
    "        return NEGATIVE if score < 0.5 else POSITIVE"
   ]
  },
  {
   "cell_type": "code",
   "execution_count": 215,
   "metadata": {},
   "outputs": [],
   "source": [
    "def predict(text, include_neutral=True):\n",
    "    start_at = time.time()\n",
    "    # Tokenize text\n",
    "    x_test = pad_sequences(tokenizer.texts_to_sequences([text]), maxlen=SEQUENCE_LENGTH)\n",
    "    # Predict\n",
    "    score = model.predict([x_test])[0]\n",
    "    # Decode sentiment\n",
    "    label = decode_sentiment(score, include_neutral=include_neutral)\n",
    "\n",
    "    return {\"label\": label, \"score\": float(score),\n",
    "       \"elapsed_time\": time.time()-start_at}  "
   ]
  },
  {
   "cell_type": "code",
   "execution_count": 216,
   "metadata": {},
   "outputs": [
    {
     "name": "stdout",
     "output_type": "stream",
     "text": [
      "I hate the rain:  {'label': 'NEGATIVE', 'score': 0.0048685078509151936, 'elapsed_time': 0.0}\n",
      "I love the music:  {'label': 'POSITIVE', 'score': 0.9940224289894104, 'elapsed_time': 0.015594005584716797}\n",
      "i don't know what i'm doing:  {'label': 'NEGATIVE', 'score': 0.04456508904695511, 'elapsed_time': 0.0}\n",
      "I can't be any happier:  {'label': 'NEGATIVE', 'score': 0.08208955824375153, 'elapsed_time': 0.015620946884155273}\n",
      "I am not unhappy:  {'label': 'NEGATIVE', 'score': 0.3581579923629761, 'elapsed_time': 0.0}\n",
      "I could be much happier:  {'label': 'POSITIVE', 'score': 0.9099314212799072, 'elapsed_time': 0.0}\n",
      "I can't sleep. That voice is repeating in my head:  {'label': 'NEGATIVE', 'score': 0.047460030764341354, 'elapsed_time': 0.015620946884155273}\n",
      "I don't know where I'm going to in my life:  {'label': 'NEGATIVE', 'score': 0.04947482794523239, 'elapsed_time': 0.0}\n",
      "I don't know her:  {'label': 'NEGATIVE', 'score': 0.12704114615917206, 'elapsed_time': 0.015621423721313477}\n"
     ]
    }
   ],
   "source": [
    "print(\"I hate the rain: \", predict(\"I hate the rain\"), end='\\n')\n",
    "print(\"I love the music: \", predict(\"I love the music\"), end='\\n')\n",
    "print(\"i don't know what i'm doing: \", predict(\"i don't know what i'm doing\"), end='\\n')\n",
    "print(\"I can't be any happier: \", predict(\"I can't be any happier\"))\n",
    "print(\"I am not unhappy: \", predict(\"I am not unhappy\"))\n",
    "print(\"I could be much happier: \", predict(\"I could be much happier\"))\n",
    "print(\"I can't sleep. That voice is repeating in my head: \", predict(\"I can't sleep. That voice is repeating in my head.\"))\n",
    "print(\"I don't know where I'm going to in my life: \", predict(\"I don't know where I'm going to in my life\"))\n",
    "print(\"I don't know her: \", predict(\"I don't know her\"))"
   ]
  },
  {
   "cell_type": "code",
   "execution_count": 57,
   "metadata": {},
   "outputs": [
    {
     "name": "stdout",
     "output_type": "stream",
     "text": [
      "[9.208918e-06]\n"
     ]
    }
   ],
   "source": [
    "print(y_pred[0])"
   ]
  },
  {
   "cell_type": "markdown",
   "metadata": {},
   "source": [
    "Confusion Matrix"
   ]
  },
  {
   "cell_type": "code",
   "execution_count": 30,
   "metadata": {},
   "outputs": [
    {
     "name": "stdout",
     "output_type": "stream",
     "text": [
      "Wall time: 422 ms\n"
     ]
    }
   ],
   "source": [
    "%%time\n",
    "y_pred_1d = []\n",
    "y_test_1d = list(df_test.target)\n",
    "scores = y_pred\n",
    "y_pred_1d = [decode_sentiment(score, include_neutral=False) for score in scores]"
   ]
  },
  {
   "cell_type": "code",
   "execution_count": 31,
   "metadata": {},
   "outputs": [],
   "source": [
    "def plot_confusion_matrix(cm, classes,\n",
    "                          title='Confusion matrix',\n",
    "                          cmap=plt.cm.Blues):\n",
    "    \"\"\"\n",
    "    This function prints and plots the confusion matrix.\n",
    "    Normalization can be applied by setting `normalize=True`.\n",
    "    \"\"\"\n",
    "\n",
    "    cm = cm.astype('float') / cm.sum(axis=1)[:, np.newaxis]\n",
    "\n",
    "    plt.imshow(cm, interpolation='nearest', cmap=cmap)\n",
    "    plt.title(title, fontsize=30)\n",
    "    plt.colorbar()\n",
    "    tick_marks = np.arange(len(classes))\n",
    "    plt.xticks(tick_marks, classes, rotation=90, fontsize=22)\n",
    "    plt.yticks(tick_marks, classes, fontsize=22)\n",
    "\n",
    "    fmt = '.2f'\n",
    "    thresh = cm.max() / 2.\n",
    "    for i, j in itertools.product(range(cm.shape[0]), range(cm.shape[1])):\n",
    "        plt.text(j, i, format(cm[i, j], fmt),\n",
    "                 horizontalalignment=\"center\",\n",
    "                 color=\"white\" if cm[i, j] > thresh else \"black\")\n",
    "\n",
    "    plt.ylabel('True label', fontsize=25)\n",
    "    plt.xlabel('Predicted label', fontsize=25)"
   ]
  },
  {
   "cell_type": "code",
   "execution_count": 32,
   "metadata": {},
   "outputs": [
    {
     "data": {
      "image/png": "[encoded data removed]",
      "text/plain": [
       "<Figure size 432x432 with 2 Axes>"
      ]
     },
     "metadata": {
      "needs_background": "light"
     },
     "output_type": "display_data"
    },
    {
     "name": "stdout",
     "output_type": "stream",
     "text": [
      "Wall time: 1.02 s\n"
     ]
    }
   ],
   "source": [
    "%%time\n",
    "\n",
    "cnf_matrix = confusion_matrix(y_test_1d, y_pred_1d)\n",
    "plt.figure(figsize=(6,6))\n",
    "plot_confusion_matrix(cnf_matrix, classes=df_train.target.unique(), title=\"Confusion matrix\")\n",
    "plt.show()"
   ]
  },
  {
   "cell_type": "markdown",
   "metadata": {},
   "source": [
    "Classification Report"
   ]
  },
  {
   "cell_type": "code",
   "execution_count": 33,
   "metadata": {},
   "outputs": [
    {
     "name": "stdout",
     "output_type": "stream",
     "text": [
      "              precision    recall  f1-score   support\n",
      "\n",
      "    NEGATIVE       0.79      0.80      0.80    159494\n",
      "    POSITIVE       0.80      0.79      0.80    160506\n",
      "\n",
      "   micro avg       0.80      0.80      0.80    320000\n",
      "   macro avg       0.80      0.80      0.80    320000\n",
      "weighted avg       0.80      0.80      0.80    320000\n",
      "\n"
     ]
    }
   ],
   "source": [
    "print(classification_report(y_test_1d, y_pred_1d))"
   ]
  },
  {
   "cell_type": "markdown",
   "metadata": {},
   "source": [
    "Accuracy Score"
   ]
  },
  {
   "cell_type": "code",
   "execution_count": 34,
   "metadata": {},
   "outputs": [
    {
     "data": {
      "text/plain": [
       "0.79530625"
      ]
     },
     "execution_count": 34,
     "metadata": {},
     "output_type": "execute_result"
    }
   ],
   "source": [
    "accuracy_score(y_test_1d, y_pred_1d)"
   ]
  },
  {
   "cell_type": "markdown",
   "metadata": {},
   "source": [
    "Save model"
   ]
  },
  {
   "cell_type": "code",
   "execution_count": 30,
   "metadata": {},
   "outputs": [],
   "source": [
    "model.save(\"model_glove_lstm.h5\")\n",
    "#w2v_model.save(WORD2VEC_MODEL)\n",
    "pickle.dump(tokenizer, open(TOKENIZER_MODEL, \"wb\"), protocol=0)\n",
    "pickle.dump(encoder, open(ENCODER_MODEL, \"wb\"), protocol=0)"
   ]
  },
  {
   "cell_type": "code",
   "execution_count": 8,
   "metadata": {},
   "outputs": [],
   "source": [
    "#read splitted dataset\n",
    "df_train = pd.read_csv(\"df_train.csv\", encoding =\"ISO-8859-1\")\n",
    "df_test = pd.read_csv(\"df_test.csv\", encoding =\"ISO-8859-1\")\n",
    "df_train['text'] = df_train['text'].astype(str)\n",
    "df_test['text'] = df_test['text'].astype(str)"
   ]
  },
  {
   "cell_type": "code",
   "execution_count": 9,
   "metadata": {},
   "outputs": [],
   "source": [
    "encoder = LabelEncoder()\n",
    "encoder.fit(df_train.target.tolist())\n",
    "y_test = encoder.transform(df_test.target.tolist())\n",
    "y_test = y_test.reshape(-1,1)"
   ]
  },
  {
   "cell_type": "code",
   "execution_count": 11,
   "metadata": {},
   "outputs": [
    {
     "name": "stdout",
     "output_type": "stream",
     "text": [
      "(320000, 1)\n"
     ]
    }
   ],
   "source": [
    "print(y_test.shape)"
   ]
  },
  {
   "cell_type": "code",
   "execution_count": 5,
   "metadata": {},
   "outputs": [
    {
     "name": "stdout",
     "output_type": "stream",
     "text": [
      "320000/320000 [==============================] - 5755s 18ms/step\n"
     ]
    },
    {
     "ename": "NameError",
     "evalue": "name 'roc_curve' is not defined",
     "output_type": "error",
     "traceback": [
      "\u001b[1;31m---------------------------------------------------------------------------\u001b[0m",
      "\u001b[1;31mNameError\u001b[0m                                 Traceback (most recent call last)",
      "\u001b[1;32m<ipython-input-5-13c67810f97f>\u001b[0m in \u001b[0;36m<module>\u001b[1;34m\u001b[0m\n\u001b[0;32m      7\u001b[0m \u001b[0my_pred_lstm\u001b[0m \u001b[1;33m=\u001b[0m \u001b[0mmodel_lstm\u001b[0m\u001b[1;33m.\u001b[0m\u001b[0mpredict\u001b[0m\u001b[1;33m(\u001b[0m\u001b[0mx_test_lstm\u001b[0m\u001b[1;33m,\u001b[0m \u001b[0mverbose\u001b[0m\u001b[1;33m=\u001b[0m\u001b[1;36m1\u001b[0m\u001b[1;33m,\u001b[0m \u001b[0mbatch_size\u001b[0m\u001b[1;33m=\u001b[0m\u001b[1;36m8000\u001b[0m\u001b[1;33m)\u001b[0m\u001b[1;33m\u001b[0m\u001b[1;33m\u001b[0m\u001b[0m\n\u001b[0;32m      8\u001b[0m \u001b[0my_pred_keras_lstm\u001b[0m \u001b[1;33m=\u001b[0m \u001b[0my_pred_lstm\u001b[0m\u001b[1;33m.\u001b[0m\u001b[0mravel\u001b[0m\u001b[1;33m(\u001b[0m\u001b[1;33m)\u001b[0m\u001b[1;33m\u001b[0m\u001b[1;33m\u001b[0m\u001b[0m\n\u001b[1;32m----> 9\u001b[1;33m \u001b[0mfpr_keras_lstm\u001b[0m\u001b[1;33m,\u001b[0m \u001b[0mtpr_keras_lstm\u001b[0m\u001b[1;33m,\u001b[0m \u001b[0mthresholds_keras_lstm\u001b[0m \u001b[1;33m=\u001b[0m \u001b[0mroc_curve\u001b[0m\u001b[1;33m(\u001b[0m\u001b[0my_test\u001b[0m\u001b[1;33m,\u001b[0m \u001b[0my_pred_keras_lstm\u001b[0m\u001b[1;33m)\u001b[0m\u001b[1;33m\u001b[0m\u001b[1;33m\u001b[0m\u001b[0m\n\u001b[0m\u001b[0;32m     10\u001b[0m \u001b[1;33m\u001b[0m\u001b[0m\n\u001b[0;32m     11\u001b[0m \u001b[1;33m\u001b[0m\u001b[0m\n",
      "\u001b[1;31mNameError\u001b[0m: name 'roc_curve' is not defined"
     ]
    }
   ],
   "source": [
    "from keras.models import load_model\n",
    "model_lstm = load_model(\"model_LSTM.h5\")\n",
    "\n",
    "from sklearn.metrics import roc_curve\n",
    "tokenizer = Tokenizer()\n",
    "x_test_lstm = pad_sequences(tokenizer.texts_to_sequences(df_test.text), maxlen=300)\n",
    "y_pred_lstm = model_lstm.predict(x_test_lstm, verbose=1, batch_size=8000)\n",
    "y_pred_keras_lstm = y_pred_lstm.ravel()\n",
    "fpr_keras_lstm, tpr_keras_lstm, thresholds_keras_lstm = roc_curve(y_test, y_pred_keras_lstm)\n",
    "\n",
    "\n"
   ]
  },
  {
   "cell_type": "code",
   "execution_count": 10,
   "metadata": {},
   "outputs": [],
   "source": [
    "np.save(\"fpr_lstm.npy\", fpr_keras_lstm)\n",
    "np.save(\"tpr_lstm.npy\", tpr_keras_lstm)"
   ]
  },
  {
   "cell_type": "code",
   "execution_count": 40,
   "metadata": {},
   "outputs": [
    {
     "name": "stdout",
     "output_type": "stream",
     "text": [
      "320000/320000 [==============================] - 237s 739us/step\n"
     ]
    }
   ],
   "source": [
    "from keras.models import load_model\n",
    "model_cnnrnn = load_model(\"model_cnn&rnn.h5\")\n",
    "\n",
    "from sklearn.metrics import roc_curve\n",
    "tokenizer = Tokenizer()\n",
    "tokenizer.fit_on_texts(df_train.text)\n",
    "x_test_cnnrnn = pad_sequences(tokenizer.texts_to_sequences(df_test.text), maxlen=56)\n",
    "y_pred_cnnrnn = model_cnnrnn.predict(x_test_cnnrnn, verbose=1, batch_size=8000)\n",
    "y_pred_keras_cnnrnn = y_pred_cnnrnn.ravel()\n",
    "\n",
    "\n",
    "fpr_keras, tpr_keras, thresholds_keras = roc_curve(y_test, y_pred_keras_cnnrnn)\n",
    "\n",
    "#np.save(\"fpr_sqcnn.npy\", fpr_keras_sqcnn)\n",
    "#np.save(\"tpr_sqcnn.npy\", tpr_keras_sqcnn)"
   ]
  },
  {
   "cell_type": "code",
   "execution_count": 22,
   "metadata": {},
   "outputs": [],
   "source": [
    "y_pred_keras = y_pred_cnnrnn.ravel()"
   ]
  },
  {
   "cell_type": "code",
   "execution_count": 44,
   "metadata": {
    "scrolled": true
   },
   "outputs": [
    {
     "name": "stdout",
     "output_type": "stream",
     "text": [
      "(113124,)\n"
     ]
    }
   ],
   "source": [
    "print(fpr_keras_sqcnn.shape)"
   ]
  },
  {
   "cell_type": "code",
   "execution_count": 43,
   "metadata": {},
   "outputs": [
    {
     "name": "stdout",
     "output_type": "stream",
     "text": [
      "320000/320000 [==============================] - 237s 740us/step\n"
     ]
    }
   ],
   "source": [
    "from keras.models import load_model\n",
    "model_sqcnn = load_model(\"model_sequentialCNN.h5\")\n",
    "\n",
    "from sklearn.metrics import roc_curve\n",
    "tokenizer = Tokenizer()\n",
    "tokenizer.fit_on_texts(df_train.text)\n",
    "x_test_sqcnn = pad_sequences(tokenizer.texts_to_sequences(df_test.text), maxlen=300)\n",
    "y_pred_sqcnn = model_sqcnn.predict(x_test_sqcnn, verbose=1, batch_size=8000)\n",
    "y_pred_keras_sqcnn = y_pred_sqcnn.ravel()\n",
    "\n",
    "\n",
    "fpr_keras_sqcnn, tpr_keras_sqcnn, thresholds_keras_sqcnn = roc_curve(y_test, y_pred_keras_sqcnn)\n",
    "\n",
    "np.save(\"fpr_sqcnn.npy\", fpr_keras_sqcnn)\n",
    "np.save(\"tpr_sqcnn.npy\", tpr_keras_sqcnn)"
   ]
  },
  {
   "cell_type": "code",
   "execution_count": null,
   "metadata": {},
   "outputs": [
    {
     "name": "stdout",
     "output_type": "stream",
     "text": [
      "WARNING:tensorflow:From C:\\Users\\lings\\.conda\\envs\\sentiment\\lib\\site-packages\\tensorflow\\python\\framework\\op_def_library.py:263: colocate_with (from tensorflow.python.framework.ops) is deprecated and will be removed in a future version.\n",
      "Instructions for updating:\n",
      "Colocations handled automatically by placer.\n"
     ]
    },
    {
     "name": "stderr",
     "output_type": "stream",
     "text": [
      "2019-05-14 23:00:25,408 : WARNING : From C:\\Users\\lings\\.conda\\envs\\sentiment\\lib\\site-packages\\tensorflow\\python\\framework\\op_def_library.py:263: colocate_with (from tensorflow.python.framework.ops) is deprecated and will be removed in a future version.\n",
      "Instructions for updating:\n",
      "Colocations handled automatically by placer.\n"
     ]
    },
    {
     "name": "stdout",
     "output_type": "stream",
     "text": [
      "WARNING:tensorflow:From C:\\Users\\lings\\.conda\\envs\\sentiment\\lib\\site-packages\\keras\\backend\\tensorflow_backend.py:3445: calling dropout (from tensorflow.python.ops.nn_ops) with keep_prob is deprecated and will be removed in a future version.\n",
      "Instructions for updating:\n",
      "Please use `rate` instead of `keep_prob`. Rate should be set to `rate = 1 - keep_prob`.\n"
     ]
    },
    {
     "name": "stderr",
     "output_type": "stream",
     "text": [
      "2019-05-14 23:00:26,089 : WARNING : From C:\\Users\\lings\\.conda\\envs\\sentiment\\lib\\site-packages\\keras\\backend\\tensorflow_backend.py:3445: calling dropout (from tensorflow.python.ops.nn_ops) with keep_prob is deprecated and will be removed in a future version.\n",
      "Instructions for updating:\n",
      "Please use `rate` instead of `keep_prob`. Rate should be set to `rate = 1 - keep_prob`.\n"
     ]
    },
    {
     "name": "stdout",
     "output_type": "stream",
     "text": [
      "WARNING:tensorflow:From C:\\Users\\lings\\.conda\\envs\\sentiment\\lib\\site-packages\\tensorflow\\python\\ops\\math_ops.py:3066: to_int32 (from tensorflow.python.ops.math_ops) is deprecated and will be removed in a future version.\n",
      "Instructions for updating:\n",
      "Use tf.cast instead.\n"
     ]
    },
    {
     "name": "stderr",
     "output_type": "stream",
     "text": [
      "2019-05-14 23:00:27,527 : WARNING : From C:\\Users\\lings\\.conda\\envs\\sentiment\\lib\\site-packages\\tensorflow\\python\\ops\\math_ops.py:3066: to_int32 (from tensorflow.python.ops.math_ops) is deprecated and will be removed in a future version.\n",
      "Instructions for updating:\n",
      "Use tf.cast instead.\n"
     ]
    }
   ],
   "source": [
    "from keras.models import load_model\n",
    "model_textcnn = load_model(\"model_textcnn2.h5\")\n",
    "\n",
    "from sklearn.metrics import roc_curve\n",
    "tokenizer = Tokenizer()\n",
    "x_test_textcnn = pad_sequences(tokenizer.texts_to_sequences(df_test.text), maxlen=300)\n",
    "y_pred_textcnn = model_textcnn.predict(x_test_textcnn, verbose=1, batch_size=8000)\n",
    "y_pred_keras_textcnn = y_pred_textcnn.ravel()\n",
    "\n",
    "\n",
    "fpr_keras_textcnn, tpr_keras_textcnn, thresholds_keras_textcnn = roc_curve(y_test, y_pred_keras_textcnn)\n",
    "\n",
    "np.save(\"fpr_textcnn.npy\", fpr_keras_textcnn)\n",
    "np.save(\"tpr_textcnn.npy\", tpr_keras_textcnn)"
   ]
  },
  {
   "cell_type": "code",
   "execution_count": 49,
   "metadata": {},
   "outputs": [],
   "source": [
    "fpr_keras_cnnrnn = np.load(\"./fprtpr/fpr_cnnrnn.npy\")\n",
    "tpr_keras_cnnrnn = np.load(\"./fprtpr/tpr_cnnrnn.npy\")\n",
    "\n",
    "fpr_keras_lstm = np.load(\"./fprtpr/fpr_lstm.npy\")\n",
    "tpr_keras_lstm = np.load(\"./fprtpr/tpr_lstm.npy\")"
   ]
  },
  {
   "cell_type": "code",
   "execution_count": 51,
   "metadata": {
    "scrolled": true
   },
   "outputs": [
    {
     "data": {
      "image/png": "[encoded data removed]",
      "text/plain": [
       "<Figure size 432x288 with 1 Axes>"
      ]
     },
     "metadata": {
      "needs_background": "light"
     },
     "output_type": "display_data"
    }
   ],
   "source": [
    "from sklearn.metrics import roc_curve\n",
    "from sklearn.metrics import auc\n",
    "auc_keras_sqcnn = auc(fpr_keras_sqcnn, tpr_keras_sqcnn)\n",
    "auc_keras_cnnrnn = auc(fpr_keras_cnnrnn, tpr_keras_cnnrnn)\n",
    "auc_keras_lstm = auc(fpr_keras_lstm, tpr_keras_lstm)\n",
    "plt.figure(1)\n",
    "plt.plot([0, 1], [0, 1], 'k--')\n",
    "plt.plot(fpr_keras_sqcnn, tpr_keras_sqcnn, label='sqcnn_Keras (area = {:.3f})'.format(auc_keras_sqcnn))\n",
    "plt.plot(fpr_keras_cnnrnn, tpr_keras_cnnrnn, label='cnnrnn_Keras (area = {:.3f})'.format(auc_keras_cnnrnn))\n",
    "plt.plot(fpr_keras_lstm, tpr_keras_lstm, label='lstm_Keras (area = {:.3f})'.format(auc_keras_lstm))\n",
    "#plt.plot(fpr_rf, tpr_rf, label='RF (area = {:.3f})'.format(auc_rf))\n",
    "plt.xlabel('False positive rate')\n",
    "plt.ylabel('True positive rate')\n",
    "plt.title('ROC curve')\n",
    "plt.legend(loc='best')\n",
    "plt.show()"
   ]
  },
  {
   "cell_type": "code",
   "execution_count": null,
   "metadata": {},
   "outputs": [],
   "source": []
  }
 ],
 "metadata": {
  "kernelspec": {
   "display_name": "Python 3",
   "language": "python",
   "name": "python3"
  },
  "language_info": {
   "codemirror_mode": {
    "name": "ipython",
    "version": 3
   },
   "file_extension": ".py",
   "mimetype": "text/x-python",
   "name": "python",
   "nbconvert_exporter": "python",
   "pygments_lexer": "ipython3",
   "version": "3.7.5"
  }
 },
 "nbformat": 4,
 "nbformat_minor": 2
}
